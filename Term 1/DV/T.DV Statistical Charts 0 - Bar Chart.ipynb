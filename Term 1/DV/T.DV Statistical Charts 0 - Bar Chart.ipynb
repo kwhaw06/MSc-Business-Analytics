{
 "cells": [
  {
   "cell_type": "code",
   "execution_count": 5,
   "metadata": {
    "ExecuteTime": {
     "end_time": "2020-10-30T11:16:27.467442Z",
     "start_time": "2020-10-30T11:16:27.459335Z"
    }
   },
   "outputs": [],
   "source": [
    "# %%  libraries\n",
    "import os\n",
    "import numpy as np\n",
    "import matplotlib.pyplot as plt\n",
    "from matplotlib import rc"
   ]
  },
  {
   "cell_type": "code",
   "execution_count": 7,
   "metadata": {
    "ExecuteTime": {
     "end_time": "2020-10-30T11:16:37.984451Z",
     "start_time": "2020-10-30T11:16:37.978667Z"
    }
   },
   "outputs": [],
   "source": [
    "# %%  matplotlib viz setup\n",
    "rc('font',**{'family':'serif','serif':['Computer Modern Roman']})\n",
    "rc('text', usetex=False)"
   ]
  },
  {
   "cell_type": "code",
   "execution_count": 9,
   "metadata": {
    "ExecuteTime": {
     "end_time": "2020-10-30T11:16:46.026199Z",
     "start_time": "2020-10-30T11:16:46.016433Z"
    }
   },
   "outputs": [],
   "source": [
    "# %% fake data\n",
    "categories = ['A', 'B', 'C', 'D']\n",
    "counts = [4, 2, 6, 8]"
   ]
  },
  {
   "cell_type": "code",
   "execution_count": 10,
   "metadata": {
    "ExecuteTime": {
     "end_time": "2020-10-30T11:16:52.875434Z",
     "start_time": "2020-10-30T11:16:52.022344Z"
    }
   },
   "outputs": [
    {
     "data": {
      "image/png": "[encoded data removed]",
      "text/plain": [
       "<Figure size 360x216 with 1 Axes>"
      ]
     },
     "metadata": {
      "needs_background": "light"
     },
     "output_type": "display_data"
    }
   ],
   "source": [
    "# %% visualization\n",
    "\n",
    "# data series\n",
    "pos = np.arange(0, len(categories), 1)\n",
    "\n",
    "# figure framework\n",
    "fig = plt.figure(figsize=(5, 3), frameon=True)\n",
    "ax = fig.add_subplot(1, 1, 1)\n",
    "\n",
    "# plot data\n",
    "ax.bar(pos, counts, color='gray', edgecolor='white')\n",
    "\n",
    "# axes properties\n",
    "ax.set_xticks(pos)\n",
    "ax.set_xticklabels(categories, rotation='vertical')\n",
    "#ax.set_xlabel('Publication year')\n",
    "#ax.set_ylabel('Counts of studies')\n",
    "#ax.set_ylabel('Counts of articles')\n",
    "\n",
    "# hide the right and top spines\n",
    "ax.spines['right'].set_visible(False)\n",
    "ax.spines['top'].set_visible(False)\n",
    "ax.spines['bottom'].set_visible(False)\n",
    "ax.spines['left'].set_visible(False)\n",
    "ax.yaxis.set_ticks_position('left')\n",
    "ax.xaxis.set_ticks_position('bottom')\n",
    "\n",
    "# grid\n",
    "ax.grid(True, axis='y', ls=':', color='white')\n",
    "\n",
    "# save plot to file\n",
    "out_f = os.path.join(os.getcwd(), 'tufte_barchart.png')\n",
    "#plt.savefig(out_f,\n",
    "            transparent=True,\n",
    "            bbox_inches='tight',\n",
    "            pad_inches=0,\n",
    "            dpi=600)\n",
    "\n",
    "# show plot\n",
    "# plt.show()"
   ]
  },
  {
   "cell_type": "code",
   "execution_count": null,
   "metadata": {},
   "outputs": [],
   "source": []
  }
 ],
 "metadata": {
  "kernelspec": {
   "display_name": "Python 3",
   "language": "python",
   "name": "python3"
  },
  "language_info": {
   "codemirror_mode": {
    "name": "ipython",
    "version": 3
   },
   "file_extension": ".py",
   "mimetype": "text/x-python",
   "name": "python",
   "nbconvert_exporter": "python",
   "pygments_lexer": "ipython3",
   "version": "3.7.6"
  },
  "latex_envs": {
   "LaTeX_envs_menu_present": true,
   "autoclose": false,
   "autocomplete": true,
   "bibliofile": "biblio.bib",
   "cite_by": "apalike",
   "current_citInitial": 1,
   "eqLabelWithNumbers": true,
   "eqNumInitial": 1,
   "hotkeys": {
    "equation": "Ctrl-E",
    "itemize": "Ctrl-I"
   },
   "labels_anchors": false,
   "latex_user_defs": false,
   "report_style_numbering": false,
   "user_envs_cfg": false
  },
  "toc": {
   "base_numbering": 1,
   "nav_menu": {},
   "number_sections": true,
   "sideBar": true,
   "skip_h1_title": false,
   "title_cell": "Table of Contents",
   "title_sidebar": "Contents",
   "toc_cell": false,
   "toc_position": {},
   "toc_section_display": true,
   "toc_window_display": false
  },
  "varInspector": {
   "cols": {
    "lenName": 16,
    "lenType": 16,
    "lenVar": 40
   },
   "kernels_config": {
    "python": {
     "delete_cmd_postfix": "",
     "delete_cmd_prefix": "del ",
     "library": "var_list.py",
     "varRefreshCmd": "print(var_dic_list())"
    },
    "r": {
     "delete_cmd_postfix": ") ",
     "delete_cmd_prefix": "rm(",
     "library": "var_list.r",
     "varRefreshCmd": "cat(var_dic_list()) "
    }
   },
   "types_to_exclude": [
    "module",
    "function",
    "builtin_function_or_method",
    "instance",
    "_Feature"
   ],
   "window_display": false
  }
 },
 "nbformat": 4,
 "nbformat_minor": 4
}
