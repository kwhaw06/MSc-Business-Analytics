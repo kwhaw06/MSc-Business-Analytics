{
 "cells": [
  {
   "cell_type": "markdown",
   "metadata": {},
   "source": [
    "# Setup"
   ]
  },
  {
   "cell_type": "code",
   "execution_count": 11,
   "metadata": {
    "ExecuteTime": {
     "end_time": "2020-10-29T08:24:38.635244Z",
     "start_time": "2020-10-29T08:24:38.618259Z"
    }
   },
   "outputs": [],
   "source": [
    "import numpy as np\n",
    "import matplotlib.pyplot as plt\n",
    "import pandas as pd\n",
    "import statsmodels.api as sm\n",
    "from statsmodels.sandbox.regression.predstd import wls_prediction_std\n",
    "import os"
   ]
  },
  {
   "cell_type": "code",
   "execution_count": 3,
   "metadata": {
    "ExecuteTime": {
     "end_time": "2020-10-29T08:16:41.458329Z",
     "start_time": "2020-10-29T08:16:41.444235Z"
    }
   },
   "outputs": [],
   "source": [
    "import statsmodels.formula.api as smf"
   ]
  },
  {
   "cell_type": "code",
   "execution_count": 4,
   "metadata": {
    "ExecuteTime": {
     "end_time": "2020-10-29T08:16:42.139775Z",
     "start_time": "2020-10-29T08:16:42.130801Z"
    }
   },
   "outputs": [],
   "source": [
    "plt.style.use('fivethirtyeight')"
   ]
  },
  {
   "cell_type": "markdown",
   "metadata": {},
   "source": [
    "# Case 1: Sample estimate Vs. population value"
   ]
  },
  {
   "cell_type": "code",
   "execution_count": 10,
   "metadata": {
    "ExecuteTime": {
     "end_time": "2020-10-29T08:24:28.617230Z",
     "start_time": "2020-10-29T08:24:28.602271Z"
    }
   },
   "outputs": [
    {
     "data": {
      "text/plain": [
       "'C:\\\\Users\\\\Kar Whing\\\\Desktop\\\\Python Work Files\\\\DV'"
      ]
     },
     "execution_count": 10,
     "metadata": {},
     "output_type": "execute_result"
    }
   ],
   "source": [
    "os.getcwd()"
   ]
  },
  {
   "cell_type": "code",
   "execution_count": 16,
   "metadata": {
    "ExecuteTime": {
     "end_time": "2020-10-29T08:27:16.237281Z",
     "start_time": "2020-10-29T08:27:16.074180Z"
    }
   },
   "outputs": [],
   "source": [
    "# read data\n",
    "df = pd.read_csv('C:\\\\Users\\\\Kar Whing\\\\Desktop\\\\Python Work Files\\\\DV\\\\data\\\\killerAppData\\data.csv')"
   ]
  },
  {
   "cell_type": "code",
   "execution_count": 18,
   "metadata": {
    "ExecuteTime": {
     "end_time": "2020-10-29T08:27:36.384225Z",
     "start_time": "2020-10-29T08:27:36.346827Z"
    },
    "scrolled": true
   },
   "outputs": [
    {
     "name": "stdout",
     "output_type": "stream",
     "text": [
      "<class 'pandas.core.frame.DataFrame'>\n",
      "RangeIndex: 36349 entries, 0 to 36348\n",
      "Data columns (total 68 columns):\n",
      " #   Column         Non-Null Count  Dtype  \n",
      "---  ------         --------------  -----  \n",
      " 0   cat1           36349 non-null  int64  \n",
      " 1   cat2           36349 non-null  int64  \n",
      " 2   cat3           36349 non-null  int64  \n",
      " 3   cat4           36349 non-null  int64  \n",
      " 4   cat5           36349 non-null  int64  \n",
      " 5   cat6           36349 non-null  int64  \n",
      " 6   cat7           36349 non-null  int64  \n",
      " 7   cat8           36349 non-null  int64  \n",
      " 8   cat9           36349 non-null  int64  \n",
      " 9   cat10          36349 non-null  int64  \n",
      " 10  cat11          36349 non-null  int64  \n",
      " 11  cat12          36349 non-null  int64  \n",
      " 12  cat13          36349 non-null  int64  \n",
      " 13  cat14          36349 non-null  int64  \n",
      " 14  cat15          36349 non-null  int64  \n",
      " 15  cat16          36349 non-null  int64  \n",
      " 16  cat17          36349 non-null  int64  \n",
      " 17  cat18          36349 non-null  int64  \n",
      " 18  cat            36349 non-null  int64  \n",
      " 19  killerappgros  36349 non-null  int64  \n",
      " 20  numcomapp      36349 non-null  float64\n",
      " 21  scoreapp       36349 non-null  float64\n",
      " 22  avprice        36349 non-null  float64\n",
      " 23  avsize         36349 non-null  float64\n",
      " 24  numverapp      36349 non-null  float64\n",
      " 25  countapp       36349 non-null  float64\n",
      " 26  cohort         36349 non-null  float64\n",
      " 27  cohort1        36349 non-null  int64  \n",
      " 28  cohort2        36349 non-null  int64  \n",
      " 29  cohort3        36349 non-null  int64  \n",
      " 30  cohort4        36349 non-null  int64  \n",
      " 31  cohort5        36349 non-null  int64  \n",
      " 32  cohort6        36349 non-null  int64  \n",
      " 33  cohort7        36349 non-null  int64  \n",
      " 34  cohort8        36349 non-null  int64  \n",
      " 35  cohort9        36349 non-null  int64  \n",
      " 36  cohort10       36349 non-null  int64  \n",
      " 37  cohort11       36349 non-null  int64  \n",
      " 38  cohort12       36349 non-null  int64  \n",
      " 39  cohort13       36349 non-null  int64  \n",
      " 40  cohort14       36349 non-null  int64  \n",
      " 41  cohort15       36349 non-null  int64  \n",
      " 42  cohort16       36349 non-null  int64  \n",
      " 43  cohort17       36349 non-null  int64  \n",
      " 44  cohort18       36349 non-null  int64  \n",
      " 45  cohort19       36349 non-null  int64  \n",
      " 46  cohort20       36349 non-null  int64  \n",
      " 47  cohort21       36349 non-null  int64  \n",
      " 48  cohort22       36349 non-null  int64  \n",
      " 49  cohort23       36349 non-null  int64  \n",
      " 50  cohort24       36349 non-null  int64  \n",
      " 51  cohort25       36349 non-null  int64  \n",
      " 52  cohort26       36349 non-null  int64  \n",
      " 53  cohort27       36349 non-null  int64  \n",
      " 54  cohort28       36349 non-null  int64  \n",
      " 55  cohort29       36349 non-null  int64  \n",
      " 56  cohort30       36349 non-null  int64  \n",
      " 57  cohort31       36349 non-null  int64  \n",
      " 58  cohort32       36349 non-null  int64  \n",
      " 59  cohort33       36349 non-null  int64  \n",
      " 60  cohort34       36349 non-null  int64  \n",
      " 61  cohort35       36349 non-null  int64  \n",
      " 62  cohort36       36349 non-null  int64  \n",
      " 63  cohort37       36349 non-null  int64  \n",
      " 64  cohort38       36349 non-null  int64  \n",
      " 65  noupdates      36349 non-null  float64\n",
      " 66  avdeltatime    36349 non-null  float64\n",
      " 67  lnnumcomapp    36349 non-null  float64\n",
      "dtypes: float64(10), int64(58)\n",
      "memory usage: 18.9 MB\n"
     ]
    }
   ],
   "source": [
    "# get a random sample containing 1% of the apps in the population\n",
    "smp = df.sample(frac=0.01)\n",
    "\n",
    "# preview\n",
    "df.info()"
   ]
  },
  {
   "cell_type": "code",
   "execution_count": 19,
   "metadata": {
    "ExecuteTime": {
     "end_time": "2020-10-29T08:32:48.393131Z",
     "start_time": "2020-10-29T08:32:47.857892Z"
    }
   },
   "outputs": [
    {
     "data": {
      "image/png": "[encoded data removed]",
      "text/plain": [
       "<Figure size 288x288 with 1 Axes>"
      ]
     },
     "metadata": {},
     "output_type": "display_data"
    }
   ],
   "source": [
    "# create figure\n",
    "fig = plt.figure(figsize=(4, 4))\n",
    "\n",
    "# parms for the figure\n",
    "width = 0.25\n",
    "\n",
    "# add plot\n",
    "ax = fig.add_subplot(1, 1, 1)\n",
    "\n",
    "# get data series\n",
    "pos = (0, 1)\n",
    "labels = ('Population data', 'Sample data')\n",
    "means = (np.mean(df['avprice']), np.mean(smp['avprice']))\n",
    "err = (0, np.std(smp['avprice'])/np.sqrt(len(smp)))       # this is the black line, which shows the confidence interval\n",
    "                                                          # shows the true value could be anywhere in the black line\n",
    "# quick and dirty plot\n",
    "ax.bar(pos, means, width, yerr=err)                       # yerr = error bar = black line\n",
    "\n",
    "# labels\n",
    "ax.set_ylabel('Mean of average price')\n",
    "ax.set_yticks((1, 2))\n",
    "ax.set_title('Population Vs. Sample average price')\n",
    "ax.set_xticks(pos)\n",
    "ax.set_xticklabels(labels)\n",
    "\n",
    "# remove grid\n",
    "ax.grid(axis='x')\n",
    "\n",
    "# show plot\n",
    "plt.show()"
   ]
  },
  {
   "cell_type": "markdown",
   "metadata": {},
   "source": [
    "# Case 2: Plotting estimates from statistical models"
   ]
  },
  {
   "cell_type": "markdown",
   "metadata": {},
   "source": [
    "## OLS regression model in a nutshell\n",
    "\n",
    "Given the equation linking the endogenous (dependent) variable $y$ to the endogenous variables (predictors) $X$:\n",
    "\n",
    "$$\n",
    "    y = \\alpha + \\beta_{1} * x_{1} + \\beta_{2} * x_{2} + ... + \\beta_{k} * x_{k} + \\epsilon\n",
    "$$\n",
    "We want to find the best estimates for params $\\hat{\\beta_{i}}$. The OLS estimator 'solves'the problem by retaining the vector of parameters $\\hat{\\beta}$ that minimizes the following quantity:\n",
    "\n",
    "$$\n",
    "        RSS = \\sum_{i = 1}^{n} (y_i - \\hat{y_i})^{2}\n",
    "$$\n",
    "that is, the sum of the squares of the differences between observed values ($y_{i}$) and model predictions ($y_{i}$)"
   ]
  },
  {
   "cell_type": "markdown",
   "metadata": {},
   "source": [
    "## Estimation"
   ]
  },
  {
   "cell_type": "code",
   "execution_count": 20,
   "metadata": {
    "ExecuteTime": {
     "end_time": "2020-10-29T08:44:26.676640Z",
     "start_time": "2020-10-29T08:44:26.346938Z"
    }
   },
   "outputs": [],
   "source": [
    "\"\"\"\n",
    "Let's regress the quality of an app (i.e., the average rating)\n",
    "on as series of factors, such as:\n",
    "\n",
    "1 - the attention received by the app in the platform ('lnnumcomapp'; log transformed) # use log cuz data is extremely skewed\n",
    "2 - the complexity of the app ('avsize')\n",
    "3 - the count of previous versions of the app ('numverapp')\n",
    "4 - the experience of the entrepreneur ('countapp')\n",
    "5 - the fact that app has been updated during the timespan of the study ('noupdates')\n",
    "\"\"\"\n",
    "\n",
    "# define the regression model\n",
    "m_0 = sm.OLS(endog=df['scoreapp'],\n",
    "             exog=df[['lnnumcomapp', 'avsize', 'numverapp', 'countapp', 'noupdates']],\n",
    "             hasconst=None)"
   ]
  },
  {
   "cell_type": "code",
   "execution_count": 21,
   "metadata": {
    "ExecuteTime": {
     "end_time": "2020-10-29T08:48:59.521464Z",
     "start_time": "2020-10-29T08:48:59.258497Z"
    }
   },
   "outputs": [
    {
     "name": "stdout",
     "output_type": "stream",
     "text": [
      "                                 OLS Regression Results                                \n",
      "=======================================================================================\n",
      "Dep. Variable:               scoreapp   R-squared (uncentered):                   0.611\n",
      "Model:                            OLS   Adj. R-squared (uncentered):              0.611\n",
      "Method:                 Least Squares   F-statistic:                          1.140e+04\n",
      "Date:                Thu, 29 Oct 2020   Prob (F-statistic):                        0.00\n",
      "Time:                        16:48:59   Log-Likelihood:                         -74245.\n",
      "No. Observations:               36349   AIC:                                  1.485e+05\n",
      "Df Residuals:                   36344   BIC:                                  1.485e+05\n",
      "Df Model:                           5                                                  \n",
      "Covariance Type:            nonrobust                                                  \n",
      "===============================================================================\n",
      "                  coef    std err          t      P>|t|      [0.025      0.975]\n",
      "-------------------------------------------------------------------------------\n",
      "lnnumcomapp     1.1132      0.009    124.483      0.000       1.096       1.131\n",
      "avsize          0.0004      0.000      2.219      0.026    4.95e-05       0.001\n",
      "numverapp       0.1995      0.006     35.328      0.000       0.188       0.211\n",
      "countapp       -0.0066      0.001    -12.582      0.000      -0.008      -0.006\n",
      "noupdates       1.0563      0.013     80.981      0.000       1.031       1.082\n",
      "==============================================================================\n",
      "Omnibus:                     1501.792   Durbin-Watson:                   1.908\n",
      "Prob(Omnibus):                  0.000   Jarque-Bera (JB):             1695.358\n",
      "Skew:                           0.528   Prob(JB):                         0.00\n",
      "Kurtosis:                       2.950   Cond. No.                         71.1\n",
      "==============================================================================\n",
      "\n",
      "Warnings:\n",
      "[1] Standard Errors assume that the covariance matrix of the errors is correctly specified.\n"
     ]
    }
   ],
   "source": [
    "# now we estimate the regression by fitting the model\n",
    "# need to use fit() method\n",
    "# res = result\n",
    "m_0_res = m_0.fit()\n",
    "\n",
    "print(m_0_res.summary())"
   ]
  },
  {
   "cell_type": "markdown",
   "metadata": {},
   "source": [
    "Notes:\n",
    "\n",
    "[1] R² is computed without centering (uncentered) since the model does not contain a constant.\n",
    "\n",
    "[2] Standard Errors assume that the covariance matrix of the errors is correctly specified."
   ]
  },
  {
   "cell_type": "code",
   "execution_count": 22,
   "metadata": {
    "ExecuteTime": {
     "end_time": "2020-10-29T09:28:36.129113Z",
     "start_time": "2020-10-29T09:28:36.116718Z"
    }
   },
   "outputs": [
    {
     "ename": "TypeError",
     "evalue": "__init__() missing 1 required positional argument: 'endog'",
     "output_type": "error",
     "traceback": [
      "\u001b[1;31m---------------------------------------------------------------------------\u001b[0m",
      "\u001b[1;31mTypeError\u001b[0m                                 Traceback (most recent call last)",
      "\u001b[1;32m<ipython-input-22-6384c10f4b27>\u001b[0m in \u001b[0;36m<module>\u001b[1;34m\u001b[0m\n\u001b[0;32m      1\u001b[0m \u001b[1;31m# we can also pass a formula in natural language\u001b[0m\u001b[1;33m\u001b[0m\u001b[1;33m\u001b[0m\u001b[1;33m\u001b[0m\u001b[0m\n\u001b[1;32m----> 2\u001b[1;33m \u001b[0msm\u001b[0m\u001b[1;33m.\u001b[0m\u001b[0mOLS\u001b[0m\u001b[1;33m(\u001b[0m\u001b[1;33m)\u001b[0m\u001b[1;33m\u001b[0m\u001b[1;33m\u001b[0m\u001b[0m\n\u001b[0m\u001b[0;32m      3\u001b[0m \u001b[1;33m\u001b[0m\u001b[0m\n\u001b[0;32m      4\u001b[0m m_0 = smf.ols('scoreapp ~ lnnumcomapp + avsize + numverapp + countapp + noupdates',\n\u001b[0;32m      5\u001b[0m               data = df)\n",
      "\u001b[1;31mTypeError\u001b[0m: __init__() missing 1 required positional argument: 'endog'"
     ]
    }
   ],
   "source": [
    "# we can also pass a formula in natural language\n",
    "sm.OLS()\n",
    "\n",
    "m_0 = smf.ols('scoreapp ~ lnnumcomapp + avsize + numverapp + countapp + noupdates',\n",
    "              data = df)"
   ]
  },
  {
   "cell_type": "code",
   "execution_count": 23,
   "metadata": {
    "ExecuteTime": {
     "end_time": "2020-10-29T09:30:12.175669Z",
     "start_time": "2020-10-29T09:30:12.146691Z"
    }
   },
   "outputs": [
    {
     "name": "stdout",
     "output_type": "stream",
     "text": [
      "                                 OLS Regression Results                                \n",
      "=======================================================================================\n",
      "Dep. Variable:               scoreapp   R-squared (uncentered):                   0.611\n",
      "Model:                            OLS   Adj. R-squared (uncentered):              0.611\n",
      "Method:                 Least Squares   F-statistic:                          1.140e+04\n",
      "Date:                Thu, 29 Oct 2020   Prob (F-statistic):                        0.00\n",
      "Time:                        17:30:12   Log-Likelihood:                         -74245.\n",
      "No. Observations:               36349   AIC:                                  1.485e+05\n",
      "Df Residuals:                   36344   BIC:                                  1.485e+05\n",
      "Df Model:                           5                                                  \n",
      "Covariance Type:            nonrobust                                                  \n",
      "===============================================================================\n",
      "                  coef    std err          t      P>|t|      [0.025      0.975]\n",
      "-------------------------------------------------------------------------------\n",
      "lnnumcomapp     1.1132      0.009    124.483      0.000       1.096       1.131\n",
      "avsize          0.0004      0.000      2.219      0.026    4.95e-05       0.001\n",
      "numverapp       0.1995      0.006     35.328      0.000       0.188       0.211\n",
      "countapp       -0.0066      0.001    -12.582      0.000      -0.008      -0.006\n",
      "noupdates       1.0563      0.013     80.981      0.000       1.031       1.082\n",
      "==============================================================================\n",
      "Omnibus:                     1501.792   Durbin-Watson:                   1.908\n",
      "Prob(Omnibus):                  0.000   Jarque-Bera (JB):             1695.358\n",
      "Skew:                           0.528   Prob(JB):                         0.00\n",
      "Kurtosis:                       2.950   Cond. No.                         71.1\n",
      "==============================================================================\n",
      "\n",
      "Warnings:\n",
      "[1] Standard Errors assume that the covariance matrix of the errors is correctly specified.\n"
     ]
    },
    {
     "data": {
      "text/plain": [
       "\"\\nWarning: By default, using the 'formula' alternatives adds an intercept to the model\\n\""
      ]
     },
     "execution_count": 23,
     "metadata": {},
     "output_type": "execute_result"
    }
   ],
   "source": [
    "# fit the model\n",
    "m_0_res = m_0.fit()\n",
    "\n",
    "# print the results of the model\n",
    "print(m_0_res.summary())\n",
    "\n",
    "'''\n",
    "Warning: By default, using the 'formula' alternatives adds an intercept to the model\n",
    "'''"
   ]
  },
  {
   "cell_type": "markdown",
   "metadata": {},
   "source": [
    "Notes:\n",
    "\n",
    "[1] R² is computed without centering (uncentered) since the model does not contain a constant.\n",
    "\n",
    "[2] Standard Errors assume that the covariance matrix of the errors is correctly specified."
   ]
  },
  {
   "cell_type": "markdown",
   "metadata": {},
   "source": [
    "## Plotting individual regression slopes"
   ]
  },
  {
   "cell_type": "code",
   "execution_count": 24,
   "metadata": {
    "ExecuteTime": {
     "end_time": "2020-10-29T09:35:03.187912Z",
     "start_time": "2020-10-29T09:35:03.150576Z"
    }
   },
   "outputs": [],
   "source": [
    "# get confidence intervals\n",
    "estimates = m_0_res.conf_int(alpha = 0.05)\n",
    "\n",
    "# reindex data\n",
    "estimates.reset_index(inplace=True)\n",
    "\n",
    "# rename columns\n",
    "estimates.rename(columns={'index': 'variable',\n",
    "                          0: 'lower_bound',\n",
    "                          1: 'upper_bound'}, inplace=True)\n",
    "\n",
    "# recall and attach betas\n",
    "estimates.loc[:, 'beta'] = list(m_0_res.params)\n",
    "\n",
    "# reindex data\n",
    "estimates.set_index('variable', inplace=True)"
   ]
  },
  {
   "cell_type": "code",
   "execution_count": 25,
   "metadata": {
    "ExecuteTime": {
     "end_time": "2020-10-29T09:35:05.976033Z",
     "start_time": "2020-10-29T09:35:05.945743Z"
    },
    "scrolled": true
   },
   "outputs": [
    {
     "data": {
      "text/html": [
       "<div>\n",
       "<style scoped>\n",
       "    .dataframe tbody tr th:only-of-type {\n",
       "        vertical-align: middle;\n",
       "    }\n",
       "\n",
       "    .dataframe tbody tr th {\n",
       "        vertical-align: top;\n",
       "    }\n",
       "\n",
       "    .dataframe thead th {\n",
       "        text-align: right;\n",
       "    }\n",
       "</style>\n",
       "<table border=\"1\" class=\"dataframe\">\n",
       "  <thead>\n",
       "    <tr style=\"text-align: right;\">\n",
       "      <th></th>\n",
       "      <th>lower_bound</th>\n",
       "      <th>upper_bound</th>\n",
       "      <th>beta</th>\n",
       "    </tr>\n",
       "    <tr>\n",
       "      <th>variable</th>\n",
       "      <th></th>\n",
       "      <th></th>\n",
       "      <th></th>\n",
       "    </tr>\n",
       "  </thead>\n",
       "  <tbody>\n",
       "    <tr>\n",
       "      <th>lnnumcomapp</th>\n",
       "      <td>1.095720</td>\n",
       "      <td>1.130777</td>\n",
       "      <td>1.113249</td>\n",
       "    </tr>\n",
       "    <tr>\n",
       "      <th>avsize</th>\n",
       "      <td>0.000049</td>\n",
       "      <td>0.000798</td>\n",
       "      <td>0.000424</td>\n",
       "    </tr>\n",
       "    <tr>\n",
       "      <th>numverapp</th>\n",
       "      <td>0.188468</td>\n",
       "      <td>0.210608</td>\n",
       "      <td>0.199538</td>\n",
       "    </tr>\n",
       "    <tr>\n",
       "      <th>countapp</th>\n",
       "      <td>-0.007679</td>\n",
       "      <td>-0.005609</td>\n",
       "      <td>-0.006644</td>\n",
       "    </tr>\n",
       "    <tr>\n",
       "      <th>noupdates</th>\n",
       "      <td>1.030747</td>\n",
       "      <td>1.081880</td>\n",
       "      <td>1.056313</td>\n",
       "    </tr>\n",
       "  </tbody>\n",
       "</table>\n",
       "</div>"
      ],
      "text/plain": [
       "             lower_bound  upper_bound      beta\n",
       "variable                                       \n",
       "lnnumcomapp     1.095720     1.130777  1.113249\n",
       "avsize          0.000049     0.000798  0.000424\n",
       "numverapp       0.188468     0.210608  0.199538\n",
       "countapp       -0.007679    -0.005609 -0.006644\n",
       "noupdates       1.030747     1.081880  1.056313"
      ]
     },
     "execution_count": 25,
     "metadata": {},
     "output_type": "execute_result"
    }
   ],
   "source": [
    "estimates"
   ]
  },
  {
   "cell_type": "code",
   "execution_count": 30,
   "metadata": {
    "ExecuteTime": {
     "end_time": "2020-10-29T09:39:00.319857Z",
     "start_time": "2020-10-29T09:39:00.132655Z"
    }
   },
   "outputs": [
    {
     "data": {
      "image/png": "[encoded data removed]",
      "text/plain": [
       "<Figure size 288x288 with 1 Axes>"
      ]
     },
     "metadata": {},
     "output_type": "display_data"
    }
   ],
   "source": [
    "# create figure \n",
    "fig = plt.figure(figsize=(4, 4))\n",
    "\n",
    "# add plot\n",
    "ax = fig.add_subplot(1, 1, 1)\n",
    "\n",
    "# focal variable\n",
    "# focus on plotting 1 variable now\n",
    "var = 'numverapp'\n",
    "\n",
    "# data series\n",
    "x = 0\n",
    "y = estimates.loc[var, 'beta']\n",
    "y_high = estimates.loc[var, 'upper_bound']\n",
    "y_low = estimates.loc[var, 'lower_bound']\n",
    "\n",
    "# plot data\n",
    "ax.errorbar(x, y, fmt='o',\n",
    "            yerr=np.absolute(y_low - y_high)/2,   # yerr = the confidence interval in the y-axis\n",
    "            elinewidth=0.5)\n",
    "\n",
    "# axes\n",
    "ax.set_xticks((-0.1, 0, .1))\n",
    "ax.set_xticklabels(('', 'Parameter: beta(numverapp)', ''))\n",
    "ax.set_ylabel('Estimated regression slope')\n",
    "\n",
    "# remove grid\n",
    "ax.grid()\n",
    "\n",
    "# show plot\n",
    "plt.show()"
   ]
  },
  {
   "cell_type": "code",
   "execution_count": 32,
   "metadata": {
    "ExecuteTime": {
     "end_time": "2020-10-29T09:40:52.393735Z",
     "start_time": "2020-10-29T09:40:52.221311Z"
    }
   },
   "outputs": [
    {
     "data": {
      "image/png": "[encoded data removed]",
      "text/plain": [
       "<Figure size 288x288 with 1 Axes>"
      ]
     },
     "metadata": {},
     "output_type": "display_data"
    }
   ],
   "source": [
    "'''\n",
    "Let's consider multiple parameters in a row\n",
    "'''\n",
    "\n",
    "# create figure \n",
    "fig = plt.figure(figsize=(4, 4))\n",
    "\n",
    "# add plot\n",
    "ax = fig.add_subplot(1, 1, 1)\n",
    "\n",
    "# focal variable\n",
    "preds = estimates.index[1:]\n",
    "\n",
    "# let's iterate over the variables included in the model\n",
    "for i, pred in enumerate(preds):   # i = position, pred = predictor\n",
    "\n",
    "    # data series\n",
    "    x = i                                         # x position\n",
    "    y = estimates.loc[pred, 'beta']               # beta\n",
    "    y_high = estimates.loc[pred, 'upper_bound']   # CI upper bound\n",
    "    y_low = estimates.loc[pred, 'lower_bound']    # CI lower bound\n",
    " \n",
    "    # plot data\n",
    "    ax.errorbar(x, y, fmt='o',\n",
    "                yerr=np.absolute(y_low - y_high)/2,\n",
    "                elinewidth=1)\n",
    "\n",
    "\n",
    "# axes\n",
    "ax.set_xticks(np.arange(len(preds)))\n",
    "ax.set_xticklabels(preds, rotation=90)\n",
    "ax.set_ylabel('Estimated regression slope')\n",
    "\n",
    "# remove grid\n",
    "ax.grid(axis='x')\n",
    "\n",
    "# show plot\n",
    "plt.show()"
   ]
  },
  {
   "cell_type": "code",
   "execution_count": 33,
   "metadata": {
    "ExecuteTime": {
     "end_time": "2020-10-29T09:46:36.607683Z",
     "start_time": "2020-10-29T09:46:36.197659Z"
    }
   },
   "outputs": [],
   "source": [
    "'''\n",
    "The above displayed chart has a fundamental problem: Predictors have different\n",
    "scales - so, comparing and contrastring the various slopes is difficult\n",
    "\n",
    "A way to circumnvent the problem is standardizing predictors: \n",
    "\n",
    "z_score = (x - mean(x)) / std(x)\n",
    "\n",
    "'''\n",
    "\n",
    "preds = ['lnnumcomapp', 'avsize', 'numverapp', 'countapp', 'noupdates']\n",
    "\n",
    "for pred in preds:\n",
    "    df.loc[:, pred] = (df[pred] - np.mean(df[pred])) / np.std(df[pred]) \n",
    "    \n",
    "\n",
    "# OR, using a lambda function:\n",
    "# df[preds] = df.loc[:, preds].apply(lambda x: (x - np.mean(x)) / np.std(x))"
   ]
  },
  {
   "cell_type": "code",
   "execution_count": 34,
   "metadata": {
    "ExecuteTime": {
     "end_time": "2020-10-29T09:46:43.239350Z",
     "start_time": "2020-10-29T09:46:43.146808Z"
    }
   },
   "outputs": [
    {
     "name": "stdout",
     "output_type": "stream",
     "text": [
      "                            OLS Regression Results                            \n",
      "==============================================================================\n",
      "Dep. Variable:               scoreapp   R-squared:                       0.325\n",
      "Model:                            OLS   Adj. R-squared:                  0.325\n",
      "Method:                 Least Squares   F-statistic:                     3496.\n",
      "Date:                Thu, 29 Oct 2020   Prob (F-statistic):               0.00\n",
      "Time:                        17:46:43   Log-Likelihood:                -72380.\n",
      "No. Observations:               36349   AIC:                         1.448e+05\n",
      "Df Residuals:                   36343   BIC:                         1.448e+05\n",
      "Df Model:                           5                                         \n",
      "Covariance Type:            nonrobust                                         \n",
      "===============================================================================\n",
      "                  coef    std err          t      P>|t|      [0.025      0.975]\n",
      "-------------------------------------------------------------------------------\n",
      "Intercept       2.0702      0.009    222.675      0.000       2.052       2.088\n",
      "lnnumcomapp     1.2460      0.010    121.338      0.000       1.226       1.266\n",
      "avsize         -0.0216      0.009     -2.323      0.020      -0.040      -0.003\n",
      "numverapp      -0.2529      0.012    -20.251      0.000      -0.277      -0.228\n",
      "countapp       -0.1507      0.009    -16.166      0.000      -0.169      -0.132\n",
      "noupdates      -0.1729      0.012    -14.443      0.000      -0.196      -0.149\n",
      "==============================================================================\n",
      "Omnibus:                     3420.946   Durbin-Watson:                   1.940\n",
      "Prob(Omnibus):                  0.000   Jarque-Bera (JB):             3555.545\n",
      "Skew:                           0.716   Prob(JB):                         0.00\n",
      "Kurtosis:                       2.455   Cond. No.                         2.31\n",
      "==============================================================================\n",
      "\n",
      "Warnings:\n",
      "[1] Standard Errors assume that the covariance matrix of the errors is correctly specified.\n"
     ]
    }
   ],
   "source": [
    "# formula\n",
    "m_0 = smf.ols('scoreapp ~ lnnumcomapp + avsize + numverapp + countapp + noupdates',\n",
    "              data = df)\n",
    "\n",
    "m_0_res = m_0.fit()\n",
    "\n",
    "print(m_0_res.summary())"
   ]
  },
  {
   "cell_type": "markdown",
   "metadata": {},
   "source": [
    "interpretation now is different after standardizing the variables\n",
    "\n",
    "now --> the variation in y when the variable passes from the mean to mean plus 1 standard deviation"
   ]
  },
  {
   "cell_type": "code",
   "execution_count": 36,
   "metadata": {
    "ExecuteTime": {
     "end_time": "2020-10-29T09:52:03.392841Z",
     "start_time": "2020-10-29T09:52:02.742792Z"
    }
   },
   "outputs": [
    {
     "data": {
      "image/png": "[encoded data removed]",
      "text/plain": [
       "<Figure size 288x288 with 1 Axes>"
      ]
     },
     "metadata": {},
     "output_type": "display_data"
    }
   ],
   "source": [
    "# formula\n",
    "m_0 = smf.ols('scoreapp ~ lnnumcomapp + avsize + numverapp + countapp + noupdates',\n",
    "              data = df)\n",
    "\n",
    "# fit\n",
    "m_0_res = m_0.fit()\n",
    "\n",
    "# get confidence intervals\n",
    "estimates = m_0_res.conf_int(alpha = 0.05)\n",
    "\n",
    "# reindex data\n",
    "estimates.reset_index(inplace=True)\n",
    "\n",
    "# rename columns\n",
    "estimates.rename(columns={'index': 'variable',\n",
    "                          0: 'lower_bound',\n",
    "                          1: 'upper_bound'}, inplace=True)\n",
    "\n",
    "# recall and attach betas\n",
    "estimates.loc[:, 'beta'] = list(m_0_res.params)\n",
    "\n",
    "# reindex data\n",
    "estimates.set_index('variable', inplace=True)\n",
    "\n",
    "'''\n",
    "Let's consider multiple parameters in a row\n",
    "'''\n",
    "\n",
    "# create figure \n",
    "fig = plt.figure(figsize=(4, 4))\n",
    "\n",
    "# add plot\n",
    "ax = fig.add_subplot(1, 1, 1)\n",
    "\n",
    "# focal variable\n",
    "preds = estimates.index[1:]\n",
    "\n",
    "# let's iterate over the variables included in the model\n",
    "for i, pred in enumerate(preds):\n",
    "\n",
    "    # data series\n",
    "    x = i\n",
    "    y = estimates.loc[pred, 'beta']\n",
    "    y_high = estimates.loc[pred, 'upper_bound']\n",
    "    y_low = estimates.loc[pred, 'lower_bound']\n",
    "\n",
    "    # plot data\n",
    "    ax.errorbar(x, y, fmt='o',\n",
    "                yerr=np.absolute(y_low - y_high)/2,\n",
    "                elinewidth=1)\n",
    "\n",
    "\n",
    "# axes\n",
    "ax.set_xticks(np.arange(len(preds)))\n",
    "ax.set_xticklabels(preds, rotation=90)\n",
    "ax.set_ylabel('Estimated regression slope\\n(predictor increase = +1 SD)')\n",
    "\n",
    "# remove grid\n",
    "ax.grid(axis='x')\n",
    "\n",
    "# show plot\n",
    "plt.show()"
   ]
  },
  {
   "cell_type": "markdown",
   "metadata": {},
   "source": [
    "## Diagnostic plots"
   ]
  },
  {
   "cell_type": "code",
   "execution_count": 37,
   "metadata": {
    "ExecuteTime": {
     "end_time": "2020-10-29T09:53:56.854482Z",
     "start_time": "2020-10-29T09:53:56.628816Z"
    }
   },
   "outputs": [],
   "source": [
    "# sample 1% of the observations to improve\n",
    "# the readability of the below-displayed chart\n",
    "df = df.sample(frac=0.01)\n",
    "\n",
    "# formula\n",
    "m_0 = smf.ols('scoreapp ~ lnnumcomapp + avsize + numverapp + countapp + noupdates',\n",
    "              data = df)\n",
    "\n",
    "# fit\n",
    "m_0_res = m_0.fit()"
   ]
  },
  {
   "cell_type": "code",
   "execution_count": 43,
   "metadata": {
    "ExecuteTime": {
     "end_time": "2020-10-29T10:19:57.859447Z",
     "start_time": "2020-10-29T10:19:57.378126Z"
    }
   },
   "outputs": [
    {
     "data": {
      "image/png": "[encoded data removed]",
      "text/plain": [
       "<Figure size 864x576 with 1 Axes>"
      ]
     },
     "metadata": {},
     "output_type": "display_data"
    }
   ],
   "source": [
    "# create figure\n",
    "fig = plt.figure(figsize=(12, 8)) \n",
    "\n",
    "# add plot\n",
    "ax = fig.add_subplot(1, 1, 1)\n",
    "\n",
    "# plot data and estimates with Statmodels' built-in 'graphics'\n",
    "sm.graphics.plot_fit(m_0_res, \"numverapp\", ax=ax, alpha = 0.5)  \n",
    "# 1st argu = result of estimation\n",
    "# 2nd argu = specific name of the variable which i want to analyze the fitted vs observed value  \n",
    "# set alpha to avoid over crowding \n",
    "\n",
    "# show plot\n",
    "plt.show()"
   ]
  },
  {
   "cell_type": "markdown",
   "metadata": {},
   "source": [
    "## Predictions"
   ]
  },
  {
   "cell_type": "code",
   "execution_count": 39,
   "metadata": {
    "ExecuteTime": {
     "end_time": "2020-10-29T09:54:35.033964Z",
     "start_time": "2020-10-29T09:54:34.908843Z"
    }
   },
   "outputs": [],
   "source": [
    "# fake data on a curvilinear relationship between x and y\n",
    "nsample = 50\n",
    "sig = 0.5\n",
    "x = np.linspace(0, 20, nsample)\n",
    "X = np.column_stack((x, np.sin(x), (x-5)**2, np.ones(nsample)))\n",
    "beta = [0.5, 0.5, -0.02, 5.]\n",
    "y_true = np.dot(X, beta)\n",
    "y = y_true + sig * np.random.normal(size=nsample)"
   ]
  },
  {
   "cell_type": "code",
   "execution_count": 40,
   "metadata": {
    "ExecuteTime": {
     "end_time": "2020-10-29T09:54:39.387362Z",
     "start_time": "2020-10-29T09:54:39.255454Z"
    }
   },
   "outputs": [
    {
     "name": "stdout",
     "output_type": "stream",
     "text": [
      "                            OLS Regression Results                            \n",
      "==============================================================================\n",
      "Dep. Variable:                      y   R-squared:                       0.940\n",
      "Model:                            OLS   Adj. R-squared:                  0.936\n",
      "Method:                 Least Squares   F-statistic:                     241.2\n",
      "Date:                Thu, 29 Oct 2020   Prob (F-statistic):           3.85e-28\n",
      "Time:                        17:54:39   Log-Likelihood:                -31.003\n",
      "No. Observations:                  50   AIC:                             70.01\n",
      "Df Residuals:                      46   BIC:                             77.65\n",
      "Df Model:                           3                                         \n",
      "Covariance Type:            nonrobust                                         \n",
      "==============================================================================\n",
      "                 coef    std err          t      P>|t|      [0.025      0.975]\n",
      "------------------------------------------------------------------------------\n",
      "x1             0.4853      0.025     19.686      0.000       0.436       0.535\n",
      "x2             0.5434      0.097      5.607      0.000       0.348       0.738\n",
      "x3            -0.0196      0.002     -9.033      0.000      -0.024      -0.015\n",
      "const          5.0688      0.160     31.710      0.000       4.747       5.391\n",
      "==============================================================================\n",
      "Omnibus:                        2.971   Durbin-Watson:                   1.988\n",
      "Prob(Omnibus):                  0.226   Jarque-Bera (JB):                2.121\n",
      "Skew:                          -0.485   Prob(JB):                        0.346\n",
      "Kurtosis:                       3.280   Cond. No.                         221.\n",
      "==============================================================================\n",
      "\n",
      "Warnings:\n",
      "[1] Standard Errors assume that the covariance matrix of the errors is correctly specified.\n"
     ]
    }
   ],
   "source": [
    "# estimation\n",
    "res = sm.OLS(y, X).fit()\n",
    "print(res.summary())"
   ]
  },
  {
   "cell_type": "code",
   "execution_count": 44,
   "metadata": {
    "ExecuteTime": {
     "end_time": "2020-10-29T10:24:09.364029Z",
     "start_time": "2020-10-29T10:24:09.355920Z"
    }
   },
   "outputs": [],
   "source": [
    "# get confidence intervals\n",
    "y_hat, lb, ub = wls_prediction_std(res)\n",
    "\n",
    "# return the predict value y_hat, lower and upper bounds of prediction observation by observation in the data"
   ]
  },
  {
   "cell_type": "code",
   "execution_count": 45,
   "metadata": {
    "ExecuteTime": {
     "end_time": "2020-10-29T10:24:11.733517Z",
     "start_time": "2020-10-29T10:24:11.225860Z"
    }
   },
   "outputs": [
    {
     "data": {
      "image/png": "[encoded data removed]",
      "text/plain": [
       "<Figure size 648x432 with 1 Axes>"
      ]
     },
     "metadata": {},
     "output_type": "display_data"
    }
   ],
   "source": [
    "# create figure\n",
    "fig = plt.figure(figsize=(9, 6))\n",
    "\n",
    "# add plot\n",
    "ax = fig.add_subplot(1, 1, 1)\n",
    "\n",
    "# plot data\n",
    "ax.plot(x, y, 'o', label=\"Observed\")\n",
    "ax.plot(x, y_true, 'o', label=\"Theoretical\")\n",
    "ax.plot(x, res.fittedvalues, label=\"Fitted (OLS)\")\n",
    "ax.plot(x, ub)\n",
    "ax.plot(x, lb)\n",
    "\n",
    "# axes\n",
    "ax.set_xlabel('$X$')\n",
    "ax.set_ylabel('$Y$')\n",
    "\n",
    "# legend\n",
    "ax.legend(loc='best');"
   ]
  },
  {
   "cell_type": "code",
   "execution_count": null,
   "metadata": {},
   "outputs": [],
   "source": []
  }
 ],
 "metadata": {
  "kernelspec": {
   "display_name": "Python 3",
   "language": "python",
   "name": "python3"
  },
  "language_info": {
   "codemirror_mode": {
    "name": "ipython",
    "version": 3
   },
   "file_extension": ".py",
   "mimetype": "text/x-python",
   "name": "python",
   "nbconvert_exporter": "python",
   "pygments_lexer": "ipython3",
   "version": "3.7.6"
  },
  "toc": {
   "base_numbering": 1,
   "nav_menu": {},
   "number_sections": true,
   "sideBar": true,
   "skip_h1_title": false,
   "title_cell": "Table of Contents",
   "title_sidebar": "Contents",
   "toc_cell": false,
   "toc_position": {},
   "toc_section_display": true,
   "toc_window_display": false
  },
  "varInspector": {
   "cols": {
    "lenName": 16,
    "lenType": 16,
    "lenVar": 40
   },
   "kernels_config": {
    "python": {
     "delete_cmd_postfix": "",
     "delete_cmd_prefix": "del ",
     "library": "var_list.py",
     "varRefreshCmd": "print(var_dic_list())"
    },
    "r": {
     "delete_cmd_postfix": ") ",
     "delete_cmd_prefix": "rm(",
     "library": "var_list.r",
     "varRefreshCmd": "cat(var_dic_list()) "
    }
   },
   "types_to_exclude": [
    "module",
    "function",
    "builtin_function_or_method",
    "instance",
    "_Feature"
   ],
   "window_display": false
  }
 },
 "nbformat": 4,
 "nbformat_minor": 4
}
