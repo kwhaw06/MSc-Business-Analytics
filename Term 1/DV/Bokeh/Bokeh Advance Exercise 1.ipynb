{
 "cells": [
  {
   "cell_type": "markdown",
   "metadata": {},
   "source": [
    "# Setup and load data"
   ]
  },
  {
   "cell_type": "code",
   "execution_count": 5,
   "metadata": {
    "ExecuteTime": {
     "end_time": "2020-12-14T12:03:57.044993Z",
     "start_time": "2020-12-14T12:03:55.585836Z"
    }
   },
   "outputs": [],
   "source": [
    "# %% libraries\n",
    "import pandas as pd\n",
    "import numpy as np\n",
    "\n",
    "from bokeh.plotting import figure\n",
    "from bokeh.io import show, output_notebook\n",
    "from bokeh.models import ColumnDataSource, HoverTool, CategoricalColorMapper\n",
    "from bokeh.palettes import Category10_5, Category20_16"
   ]
  },
  {
   "cell_type": "code",
   "execution_count": 7,
   "metadata": {
    "ExecuteTime": {
     "end_time": "2020-12-14T12:05:17.637084Z",
     "start_time": "2020-12-14T12:05:11.089006Z"
    }
   },
   "outputs": [],
   "source": [
    "# %% load data\n",
    "url_map = \"https://raw.githubusercontent.com/WillKoehrsen/Bokeh-Python-Visualization/master/bokeh_app/data/flights_map.csv\"\n",
    "url_flight = \"https://raw.githubusercontent.com/WillKoehrsen/Bokeh-Python-Visualization/master/bokeh_app/data/flights.csv\"\n",
    "\n",
    "carrier_names = pd.read_csv(url_map)\n",
    "flights = pd.read_csv(url_flight)"
   ]
  },
  {
   "cell_type": "code",
   "execution_count": 8,
   "metadata": {
    "ExecuteTime": {
     "end_time": "2020-12-14T12:05:18.318266Z",
     "start_time": "2020-12-14T12:05:18.279250Z"
    }
   },
   "outputs": [
    {
     "data": {
      "text/plain": [
       "count    327346.000000\n",
       "mean          6.895377\n",
       "std          44.633292\n",
       "min         -86.000000\n",
       "25%         -17.000000\n",
       "50%          -5.000000\n",
       "75%          14.000000\n",
       "max        1272.000000\n",
       "Name: arr_delay, dtype: float64"
      ]
     },
     "execution_count": 8,
     "metadata": {},
     "output_type": "execute_result"
    }
   ],
   "source": [
    "# %% focusing on 1 single variable only\n",
    "# summary statistic for arrival delay\n",
    "flights['arr_delay'].describe()"
   ]
  },
  {
   "cell_type": "markdown",
   "metadata": {},
   "source": [
    "# Histogram\n",
    "- The first graph we will make is a simple histogram of the arrival delay. We will consider all airlines on the same plot."
   ]
  },
  {
   "cell_type": "markdown",
   "metadata": {},
   "source": [
    "## Data for plotting"
   ]
  },
  {
   "cell_type": "code",
   "execution_count": 9,
   "metadata": {
    "ExecuteTime": {
     "end_time": "2020-12-14T12:07:41.005651Z",
     "start_time": "2020-12-14T12:07:40.986664Z"
    }
   },
   "outputs": [],
   "source": [
    "# Bins will be five minutes in width, limit delays to [-2, +2] hours\n",
    "arr_hist, edges = np.histogram(flights['arr_delay'], bins = int(240/5), range = [-120, 120])"
   ]
  },
  {
   "cell_type": "code",
   "execution_count": 14,
   "metadata": {
    "ExecuteTime": {
     "end_time": "2020-12-14T12:10:28.230016Z",
     "start_time": "2020-12-14T12:10:28.215824Z"
    },
    "scrolled": true
   },
   "outputs": [
    {
     "data": {
      "text/plain": [
       "array([    0,     0,     0,     0,     0,     0,     1,     0,     1,\n",
       "           7,    48,   142,   276,   636,  1394,  2820,  5339,  9420,\n",
       "       15551, 23546, 31319, 34857, 33790, 29786, 24391, 19028, 14894,\n",
       "       11324,  8815,  7159,  5908,  4896,  4130,  3630,  3139,  2782,\n",
       "        2455,  2179,  1973,  1805,  1646,  1454,  1360,  1286,  1167,\n",
       "        1013,   945,  1000], dtype=int64)"
      ]
     },
     "execution_count": 14,
     "metadata": {},
     "output_type": "execute_result"
    }
   ],
   "source": [
    "arr_hist"
   ]
  },
  {
   "cell_type": "code",
   "execution_count": 15,
   "metadata": {
    "ExecuteTime": {
     "end_time": "2020-12-14T12:10:32.630988Z",
     "start_time": "2020-12-14T12:10:32.617360Z"
    }
   },
   "outputs": [
    {
     "data": {
      "text/plain": [
       "array([-120., -115., -110., -105., -100.,  -95.,  -90.,  -85.,  -80.,\n",
       "        -75.,  -70.,  -65.,  -60.,  -55.,  -50.,  -45.,  -40.,  -35.,\n",
       "        -30.,  -25.,  -20.,  -15.,  -10.,   -5.,    0.,    5.,   10.,\n",
       "         15.,   20.,   25.,   30.,   35.,   40.,   45.,   50.,   55.,\n",
       "         60.,   65.,   70.,   75.,   80.,   85.,   90.,   95.,  100.,\n",
       "        105.,  110.,  115.,  120.])"
      ]
     },
     "execution_count": 15,
     "metadata": {},
     "output_type": "execute_result"
    }
   ],
   "source": [
    "edges"
   ]
  },
  {
   "cell_type": "code",
   "execution_count": 17,
   "metadata": {
    "ExecuteTime": {
     "end_time": "2020-12-14T12:14:52.216901Z",
     "start_time": "2020-12-14T12:14:52.123310Z"
    }
   },
   "outputs": [
    {
     "data": {
      "text/html": [
       "\n",
       "    <div class=\"bk-root\">\n",
       "        <a href=\"https://bokeh.org\" target=\"_blank\" class=\"bk-logo bk-logo-small bk-logo-notebook\"></a>\n",
       "        <span id=\"1287\">Loading BokehJS ...</span>\n",
       "    </div>"
      ]
     },
     "metadata": {},
     "output_type": "display_data"
    },
    {
     "data": {
      "application/javascript": [
       "\n",
       "(function(root) {\n",
       "  function now() {\n",
       "    return new Date();\n",
       "  }\n",
       "\n",
       "  var force = true;\n",
       "\n",
       "  if (typeof root._bokeh_onload_callbacks === \"undefined\" || force === true) {\n",
       "    root._bokeh_onload_callbacks = [];\n",
       "    root._bokeh_is_loading = undefined;\n",
       "  }\n",
       "\n",
       "  var JS_MIME_TYPE = 'application/javascript';\n",
       "  var HTML_MIME_TYPE = 'text/html';\n",
       "  var EXEC_MIME_TYPE = 'application/vnd.bokehjs_exec.v0+json';\n",
       "  var CLASS_NAME = 'output_bokeh rendered_html';\n",
       "\n",
       "  /**\n",
       "   * Render data to the DOM node\n",
       "   */\n",
       "  function render(props, node) {\n",
       "    var script = document.createElement(\"script\");\n",
       "    node.appendChild(script);\n",
       "  }\n",
       "\n",
       "  /**\n",
       "   * Handle when an output is cleared or removed\n",
       "   */\n",
       "  function handleClearOutput(event, handle) {\n",
       "    var cell = handle.cell;\n",
       "\n",
       "    var id = cell.output_area._bokeh_element_id;\n",
       "    var server_id = cell.output_area._bokeh_server_id;\n",
       "    // Clean up Bokeh references\n",
       "    if (id != null && id in Bokeh.index) {\n",
       "      Bokeh.index[id].model.document.clear();\n",
       "      delete Bokeh.index[id];\n",
       "    }\n",
       "\n",
       "    if (server_id !== undefined) {\n",
       "      // Clean up Bokeh references\n",
       "      var cmd = \"from bokeh.io.state import curstate; print(curstate().uuid_to_server['\" + server_id + \"'].get_sessions()[0].document.roots[0]._id)\";\n",
       "      cell.notebook.kernel.execute(cmd, {\n",
       "        iopub: {\n",
       "          output: function(msg) {\n",
       "            var id = msg.content.text.trim();\n",
       "            if (id in Bokeh.index) {\n",
       "              Bokeh.index[id].model.document.clear();\n",
       "              delete Bokeh.index[id];\n",
       "            }\n",
       "          }\n",
       "        }\n",
       "      });\n",
       "      // Destroy server and session\n",
       "      var cmd = \"import bokeh.io.notebook as ion; ion.destroy_server('\" + server_id + \"')\";\n",
       "      cell.notebook.kernel.execute(cmd);\n",
       "    }\n",
       "  }\n",
       "\n",
       "  /**\n",
       "   * Handle when a new output is added\n",
       "   */\n",
       "  function handleAddOutput(event, handle) {\n",
       "    var output_area = handle.output_area;\n",
       "    var output = handle.output;\n",
       "\n",
       "    // limit handleAddOutput to display_data with EXEC_MIME_TYPE content only\n",
       "    if ((output.output_type != \"display_data\") || (!output.data.hasOwnProperty(EXEC_MIME_TYPE))) {\n",
       "      return\n",
       "    }\n",
       "\n",
       "    var toinsert = output_area.element.find(\".\" + CLASS_NAME.split(' ')[0]);\n",
       "\n",
       "    if (output.metadata[EXEC_MIME_TYPE][\"id\"] !== undefined) {\n",
       "      toinsert[toinsert.length - 1].firstChild.textContent = output.data[JS_MIME_TYPE];\n",
       "      // store reference to embed id on output_area\n",
       "      output_area._bokeh_element_id = output.metadata[EXEC_MIME_TYPE][\"id\"];\n",
       "    }\n",
       "    if (output.metadata[EXEC_MIME_TYPE][\"server_id\"] !== undefined) {\n",
       "      var bk_div = document.createElement(\"div\");\n",
       "      bk_div.innerHTML = output.data[HTML_MIME_TYPE];\n",
       "      var script_attrs = bk_div.children[0].attributes;\n",
       "      for (var i = 0; i < script_attrs.length; i++) {\n",
       "        toinsert[toinsert.length - 1].firstChild.setAttribute(script_attrs[i].name, script_attrs[i].value);\n",
       "        toinsert[toinsert.length - 1].firstChild.textContent = bk_div.children[0].textContent\n",
       "      }\n",
       "      // store reference to server id on output_area\n",
       "      output_area._bokeh_server_id = output.metadata[EXEC_MIME_TYPE][\"server_id\"];\n",
       "    }\n",
       "  }\n",
       "\n",
       "  function register_renderer(events, OutputArea) {\n",
       "\n",
       "    function append_mime(data, metadata, element) {\n",
       "      // create a DOM node to render to\n",
       "      var toinsert = this.create_output_subarea(\n",
       "        metadata,\n",
       "        CLASS_NAME,\n",
       "        EXEC_MIME_TYPE\n",
       "      );\n",
       "      this.keyboard_manager.register_events(toinsert);\n",
       "      // Render to node\n",
       "      var props = {data: data, metadata: metadata[EXEC_MIME_TYPE]};\n",
       "      render(props, toinsert[toinsert.length - 1]);\n",
       "      element.append(toinsert);\n",
       "      return toinsert\n",
       "    }\n",
       "\n",
       "    /* Handle when an output is cleared or removed */\n",
       "    events.on('clear_output.CodeCell', handleClearOutput);\n",
       "    events.on('delete.Cell', handleClearOutput);\n",
       "\n",
       "    /* Handle when a new output is added */\n",
       "    events.on('output_added.OutputArea', handleAddOutput);\n",
       "\n",
       "    /**\n",
       "     * Register the mime type and append_mime function with output_area\n",
       "     */\n",
       "    OutputArea.prototype.register_mime_type(EXEC_MIME_TYPE, append_mime, {\n",
       "      /* Is output safe? */\n",
       "      safe: true,\n",
       "      /* Index of renderer in `output_area.display_order` */\n",
       "      index: 0\n",
       "    });\n",
       "  }\n",
       "\n",
       "  // register the mime type if in Jupyter Notebook environment and previously unregistered\n",
       "  if (root.Jupyter !== undefined) {\n",
       "    var events = require('base/js/events');\n",
       "    var OutputArea = require('notebook/js/outputarea').OutputArea;\n",
       "\n",
       "    if (OutputArea.prototype.mime_types().indexOf(EXEC_MIME_TYPE) == -1) {\n",
       "      register_renderer(events, OutputArea);\n",
       "    }\n",
       "  }\n",
       "\n",
       "  \n",
       "  if (typeof (root._bokeh_timeout) === \"undefined\" || force === true) {\n",
       "    root._bokeh_timeout = Date.now() + 5000;\n",
       "    root._bokeh_failed_load = false;\n",
       "  }\n",
       "\n",
       "  var NB_LOAD_WARNING = {'data': {'text/html':\n",
       "     \"<div style='background-color: #fdd'>\\n\"+\n",
       "     \"<p>\\n\"+\n",
       "     \"BokehJS does not appear to have successfully loaded. If loading BokehJS from CDN, this \\n\"+\n",
       "     \"may be due to a slow or bad network connection. Possible fixes:\\n\"+\n",
       "     \"</p>\\n\"+\n",
       "     \"<ul>\\n\"+\n",
       "     \"<li>re-rerun `output_notebook()` to attempt to load from CDN again, or</li>\\n\"+\n",
       "     \"<li>use INLINE resources instead, as so:</li>\\n\"+\n",
       "     \"</ul>\\n\"+\n",
       "     \"<code>\\n\"+\n",
       "     \"from bokeh.resources import INLINE\\n\"+\n",
       "     \"output_notebook(resources=INLINE)\\n\"+\n",
       "     \"</code>\\n\"+\n",
       "     \"</div>\"}};\n",
       "\n",
       "  function display_loaded() {\n",
       "    var el = document.getElementById(\"1287\");\n",
       "    if (el != null) {\n",
       "      el.textContent = \"BokehJS is loading...\";\n",
       "    }\n",
       "    if (root.Bokeh !== undefined) {\n",
       "      if (el != null) {\n",
       "        el.textContent = \"BokehJS \" + root.Bokeh.version + \" successfully loaded.\";\n",
       "      }\n",
       "    } else if (Date.now() < root._bokeh_timeout) {\n",
       "      setTimeout(display_loaded, 100)\n",
       "    }\n",
       "  }\n",
       "\n",
       "\n",
       "  function run_callbacks() {\n",
       "    try {\n",
       "      root._bokeh_onload_callbacks.forEach(function(callback) {\n",
       "        if (callback != null)\n",
       "          callback();\n",
       "      });\n",
       "    } finally {\n",
       "      delete root._bokeh_onload_callbacks\n",
       "    }\n",
       "    console.debug(\"Bokeh: all callbacks have finished\");\n",
       "  }\n",
       "\n",
       "  function load_libs(css_urls, js_urls, callback) {\n",
       "    if (css_urls == null) css_urls = [];\n",
       "    if (js_urls == null) js_urls = [];\n",
       "\n",
       "    root._bokeh_onload_callbacks.push(callback);\n",
       "    if (root._bokeh_is_loading > 0) {\n",
       "      console.debug(\"Bokeh: BokehJS is being loaded, scheduling callback at\", now());\n",
       "      return null;\n",
       "    }\n",
       "    if (js_urls == null || js_urls.length === 0) {\n",
       "      run_callbacks();\n",
       "      return null;\n",
       "    }\n",
       "    console.debug(\"Bokeh: BokehJS not loaded, scheduling load and callback at\", now());\n",
       "    root._bokeh_is_loading = css_urls.length + js_urls.length;\n",
       "\n",
       "    function on_load() {\n",
       "      root._bokeh_is_loading--;\n",
       "      if (root._bokeh_is_loading === 0) {\n",
       "        console.debug(\"Bokeh: all BokehJS libraries/stylesheets loaded\");\n",
       "        run_callbacks()\n",
       "      }\n",
       "    }\n",
       "\n",
       "    function on_error() {\n",
       "      console.error(\"failed to load \" + url);\n",
       "    }\n",
       "\n",
       "    for (var i = 0; i < css_urls.length; i++) {\n",
       "      var url = css_urls[i];\n",
       "      const element = document.createElement(\"link\");\n",
       "      element.onload = on_load;\n",
       "      element.onerror = on_error;\n",
       "      element.rel = \"stylesheet\";\n",
       "      element.type = \"text/css\";\n",
       "      element.href = url;\n",
       "      console.debug(\"Bokeh: injecting link tag for BokehJS stylesheet: \", url);\n",
       "      document.body.appendChild(element);\n",
       "    }\n",
       "\n",
       "    const hashes = {\"https://cdn.bokeh.org/bokeh/release/bokeh-2.2.3.min.js\": \"T2yuo9Oe71Cz/I4X9Ac5+gpEa5a8PpJCDlqKYO0CfAuEszu1JrXLl8YugMqYe3sM\", \"https://cdn.bokeh.org/bokeh/release/bokeh-widgets-2.2.3.min.js\": \"98GDGJ0kOMCUMUePhksaQ/GYgB3+NH9h996V88sh3aOiUNX3N+fLXAtry6xctSZ6\", \"https://cdn.bokeh.org/bokeh/release/bokeh-tables-2.2.3.min.js\": \"89bArO+nlbP3sgakeHjCo1JYxYR5wufVgA3IbUvDY+K7w4zyxJqssu7wVnfeKCq8\"};\n",
       "\n",
       "    for (var i = 0; i < js_urls.length; i++) {\n",
       "      var url = js_urls[i];\n",
       "      var element = document.createElement('script');\n",
       "      element.onload = on_load;\n",
       "      element.onerror = on_error;\n",
       "      element.async = false;\n",
       "      element.src = url;\n",
       "      if (url in hashes) {\n",
       "        element.crossOrigin = \"anonymous\";\n",
       "        element.integrity = \"sha384-\" + hashes[url];\n",
       "      }\n",
       "      console.debug(\"Bokeh: injecting script tag for BokehJS library: \", url);\n",
       "      document.head.appendChild(element);\n",
       "    }\n",
       "  };\n",
       "\n",
       "  function inject_raw_css(css) {\n",
       "    const element = document.createElement(\"style\");\n",
       "    element.appendChild(document.createTextNode(css));\n",
       "    document.body.appendChild(element);\n",
       "  }\n",
       "\n",
       "  \n",
       "  var js_urls = [\"https://cdn.bokeh.org/bokeh/release/bokeh-2.2.3.min.js\", \"https://cdn.bokeh.org/bokeh/release/bokeh-widgets-2.2.3.min.js\", \"https://cdn.bokeh.org/bokeh/release/bokeh-tables-2.2.3.min.js\"];\n",
       "  var css_urls = [];\n",
       "  \n",
       "\n",
       "  var inline_js = [\n",
       "    function(Bokeh) {\n",
       "      Bokeh.set_log_level(\"info\");\n",
       "    },\n",
       "    function(Bokeh) {\n",
       "    \n",
       "    \n",
       "    }\n",
       "  ];\n",
       "\n",
       "  function run_inline_js() {\n",
       "    \n",
       "    if (root.Bokeh !== undefined || force === true) {\n",
       "      \n",
       "    for (var i = 0; i < inline_js.length; i++) {\n",
       "      inline_js[i].call(root, root.Bokeh);\n",
       "    }\n",
       "    if (force === true) {\n",
       "        display_loaded();\n",
       "      }} else if (Date.now() < root._bokeh_timeout) {\n",
       "      setTimeout(run_inline_js, 100);\n",
       "    } else if (!root._bokeh_failed_load) {\n",
       "      console.log(\"Bokeh: BokehJS failed to load within specified timeout.\");\n",
       "      root._bokeh_failed_load = true;\n",
       "    } else if (force !== true) {\n",
       "      var cell = $(document.getElementById(\"1287\")).parents('.cell').data().cell;\n",
       "      cell.output_area.append_execute_result(NB_LOAD_WARNING)\n",
       "    }\n",
       "\n",
       "  }\n",
       "\n",
       "  if (root._bokeh_is_loading === 0) {\n",
       "    console.debug(\"Bokeh: BokehJS loaded, going straight to plotting\");\n",
       "    run_inline_js();\n",
       "  } else {\n",
       "    load_libs(css_urls, js_urls, function() {\n",
       "      console.debug(\"Bokeh: BokehJS plotting callback run at\", now());\n",
       "      run_inline_js();\n",
       "    });\n",
       "  }\n",
       "}(window));"
      ],
      "application/vnd.bokehjs_load.v0+json": "\n(function(root) {\n  function now() {\n    return new Date();\n  }\n\n  var force = true;\n\n  if (typeof root._bokeh_onload_callbacks === \"undefined\" || force === true) {\n    root._bokeh_onload_callbacks = [];\n    root._bokeh_is_loading = undefined;\n  }\n\n  \n\n  \n  if (typeof (root._bokeh_timeout) === \"undefined\" || force === true) {\n    root._bokeh_timeout = Date.now() + 5000;\n    root._bokeh_failed_load = false;\n  }\n\n  var NB_LOAD_WARNING = {'data': {'text/html':\n     \"<div style='background-color: #fdd'>\\n\"+\n     \"<p>\\n\"+\n     \"BokehJS does not appear to have successfully loaded. If loading BokehJS from CDN, this \\n\"+\n     \"may be due to a slow or bad network connection. Possible fixes:\\n\"+\n     \"</p>\\n\"+\n     \"<ul>\\n\"+\n     \"<li>re-rerun `output_notebook()` to attempt to load from CDN again, or</li>\\n\"+\n     \"<li>use INLINE resources instead, as so:</li>\\n\"+\n     \"</ul>\\n\"+\n     \"<code>\\n\"+\n     \"from bokeh.resources import INLINE\\n\"+\n     \"output_notebook(resources=INLINE)\\n\"+\n     \"</code>\\n\"+\n     \"</div>\"}};\n\n  function display_loaded() {\n    var el = document.getElementById(\"1287\");\n    if (el != null) {\n      el.textContent = \"BokehJS is loading...\";\n    }\n    if (root.Bokeh !== undefined) {\n      if (el != null) {\n        el.textContent = \"BokehJS \" + root.Bokeh.version + \" successfully loaded.\";\n      }\n    } else if (Date.now() < root._bokeh_timeout) {\n      setTimeout(display_loaded, 100)\n    }\n  }\n\n\n  function run_callbacks() {\n    try {\n      root._bokeh_onload_callbacks.forEach(function(callback) {\n        if (callback != null)\n          callback();\n      });\n    } finally {\n      delete root._bokeh_onload_callbacks\n    }\n    console.debug(\"Bokeh: all callbacks have finished\");\n  }\n\n  function load_libs(css_urls, js_urls, callback) {\n    if (css_urls == null) css_urls = [];\n    if (js_urls == null) js_urls = [];\n\n    root._bokeh_onload_callbacks.push(callback);\n    if (root._bokeh_is_loading > 0) {\n      console.debug(\"Bokeh: BokehJS is being loaded, scheduling callback at\", now());\n      return null;\n    }\n    if (js_urls == null || js_urls.length === 0) {\n      run_callbacks();\n      return null;\n    }\n    console.debug(\"Bokeh: BokehJS not loaded, scheduling load and callback at\", now());\n    root._bokeh_is_loading = css_urls.length + js_urls.length;\n\n    function on_load() {\n      root._bokeh_is_loading--;\n      if (root._bokeh_is_loading === 0) {\n        console.debug(\"Bokeh: all BokehJS libraries/stylesheets loaded\");\n        run_callbacks()\n      }\n    }\n\n    function on_error() {\n      console.error(\"failed to load \" + url);\n    }\n\n    for (var i = 0; i < css_urls.length; i++) {\n      var url = css_urls[i];\n      const element = document.createElement(\"link\");\n      element.onload = on_load;\n      element.onerror = on_error;\n      element.rel = \"stylesheet\";\n      element.type = \"text/css\";\n      element.href = url;\n      console.debug(\"Bokeh: injecting link tag for BokehJS stylesheet: \", url);\n      document.body.appendChild(element);\n    }\n\n    const hashes = {\"https://cdn.bokeh.org/bokeh/release/bokeh-2.2.3.min.js\": \"T2yuo9Oe71Cz/I4X9Ac5+gpEa5a8PpJCDlqKYO0CfAuEszu1JrXLl8YugMqYe3sM\", \"https://cdn.bokeh.org/bokeh/release/bokeh-widgets-2.2.3.min.js\": \"98GDGJ0kOMCUMUePhksaQ/GYgB3+NH9h996V88sh3aOiUNX3N+fLXAtry6xctSZ6\", \"https://cdn.bokeh.org/bokeh/release/bokeh-tables-2.2.3.min.js\": \"89bArO+nlbP3sgakeHjCo1JYxYR5wufVgA3IbUvDY+K7w4zyxJqssu7wVnfeKCq8\"};\n\n    for (var i = 0; i < js_urls.length; i++) {\n      var url = js_urls[i];\n      var element = document.createElement('script');\n      element.onload = on_load;\n      element.onerror = on_error;\n      element.async = false;\n      element.src = url;\n      if (url in hashes) {\n        element.crossOrigin = \"anonymous\";\n        element.integrity = \"sha384-\" + hashes[url];\n      }\n      console.debug(\"Bokeh: injecting script tag for BokehJS library: \", url);\n      document.head.appendChild(element);\n    }\n  };\n\n  function inject_raw_css(css) {\n    const element = document.createElement(\"style\");\n    element.appendChild(document.createTextNode(css));\n    document.body.appendChild(element);\n  }\n\n  \n  var js_urls = [\"https://cdn.bokeh.org/bokeh/release/bokeh-2.2.3.min.js\", \"https://cdn.bokeh.org/bokeh/release/bokeh-widgets-2.2.3.min.js\", \"https://cdn.bokeh.org/bokeh/release/bokeh-tables-2.2.3.min.js\"];\n  var css_urls = [];\n  \n\n  var inline_js = [\n    function(Bokeh) {\n      Bokeh.set_log_level(\"info\");\n    },\n    function(Bokeh) {\n    \n    \n    }\n  ];\n\n  function run_inline_js() {\n    \n    if (root.Bokeh !== undefined || force === true) {\n      \n    for (var i = 0; i < inline_js.length; i++) {\n      inline_js[i].call(root, root.Bokeh);\n    }\n    if (force === true) {\n        display_loaded();\n      }} else if (Date.now() < root._bokeh_timeout) {\n      setTimeout(run_inline_js, 100);\n    } else if (!root._bokeh_failed_load) {\n      console.log(\"Bokeh: BokehJS failed to load within specified timeout.\");\n      root._bokeh_failed_load = true;\n    } else if (force !== true) {\n      var cell = $(document.getElementById(\"1287\")).parents('.cell').data().cell;\n      cell.output_area.append_execute_result(NB_LOAD_WARNING)\n    }\n\n  }\n\n  if (root._bokeh_is_loading === 0) {\n    console.debug(\"Bokeh: BokehJS loaded, going straight to plotting\");\n    run_inline_js();\n  } else {\n    load_libs(css_urls, js_urls, function() {\n      console.debug(\"Bokeh: BokehJS plotting callback run at\", now());\n      run_inline_js();\n    });\n  }\n}(window));"
     },
     "metadata": {},
     "output_type": "display_data"
    },
    {
     "data": {
      "text/html": [
       "\n",
       "\n",
       "\n",
       "\n",
       "\n",
       "\n",
       "  <div class=\"bk-root\" id=\"c9809ce1-e2ff-4cda-b8f2-18a3f5b46a8f\" data-root-id=\"1249\"></div>\n"
      ]
     },
     "metadata": {},
     "output_type": "display_data"
    },
    {
     "data": {
      "application/javascript": [
       "(function(root) {\n",
       "  function embed_document(root) {\n",
       "    \n",
       "  var docs_json = {\"3faa8ea7-ef1e-4c1d-9250-434e86aaf8c6\":{\"roots\":{\"references\":[{\"attributes\":{\"below\":[{\"id\":\"1260\"}],\"center\":[{\"id\":\"1263\"},{\"id\":\"1267\"}],\"left\":[{\"id\":\"1264\"}],\"plot_height\":500,\"plot_width\":500,\"renderers\":[{\"id\":\"1285\"}],\"title\":{\"id\":\"1250\"},\"toolbar\":{\"id\":\"1275\"},\"x_range\":{\"id\":\"1252\"},\"x_scale\":{\"id\":\"1256\"},\"y_range\":{\"id\":\"1254\"},\"y_scale\":{\"id\":\"1258\"}},\"id\":\"1249\",\"subtype\":\"Figure\",\"type\":\"Plot\"},{\"attributes\":{\"axis_label\":\"Count\",\"formatter\":{\"id\":\"1305\"},\"ticker\":{\"id\":\"1265\"}},\"id\":\"1264\",\"type\":\"LinearAxis\"},{\"attributes\":{},\"id\":\"1252\",\"type\":\"DataRange1d\"},{\"attributes\":{},\"id\":\"1273\",\"type\":\"HelpTool\"},{\"attributes\":{\"data_source\":{\"id\":\"1282\"},\"glyph\":{\"id\":\"1283\"},\"hover_glyph\":null,\"muted_glyph\":null,\"nonselection_glyph\":{\"id\":\"1284\"},\"selection_glyph\":null,\"view\":{\"id\":\"1286\"}},\"id\":\"1285\",\"type\":\"GlyphRenderer\"},{\"attributes\":{},\"id\":\"1271\",\"type\":\"SaveTool\"},{\"attributes\":{},\"id\":\"1265\",\"type\":\"BasicTicker\"},{\"attributes\":{},\"id\":\"1309\",\"type\":\"Selection\"},{\"attributes\":{},\"id\":\"1310\",\"type\":\"UnionRenderers\"},{\"attributes\":{\"bottom_units\":\"screen\",\"fill_alpha\":0.5,\"fill_color\":\"lightgrey\",\"left_units\":\"screen\",\"level\":\"overlay\",\"line_alpha\":1.0,\"line_color\":\"black\",\"line_dash\":[4,4],\"line_width\":2,\"right_units\":\"screen\",\"top_units\":\"screen\"},\"id\":\"1274\",\"type\":\"BoxAnnotation\"},{\"attributes\":{\"axis_label\":\"Minutes\",\"formatter\":{\"id\":\"1307\"},\"ticker\":{\"id\":\"1261\"}},\"id\":\"1260\",\"type\":\"LinearAxis\"},{\"attributes\":{},\"id\":\"1256\",\"type\":\"LinearScale\"},{\"attributes\":{\"text\":\"Histogram of Arrival Delays\"},\"id\":\"1250\",\"type\":\"Title\"},{\"attributes\":{\"axis\":{\"id\":\"1264\"},\"dimension\":1,\"ticker\":null},\"id\":\"1267\",\"type\":\"Grid\"},{\"attributes\":{\"source\":{\"id\":\"1282\"}},\"id\":\"1286\",\"type\":\"CDSView\"},{\"attributes\":{\"axis\":{\"id\":\"1260\"},\"ticker\":null},\"id\":\"1263\",\"type\":\"Grid\"},{\"attributes\":{},\"id\":\"1258\",\"type\":\"LinearScale\"},{\"attributes\":{\"overlay\":{\"id\":\"1274\"}},\"id\":\"1270\",\"type\":\"BoxZoomTool\"},{\"attributes\":{},\"id\":\"1254\",\"type\":\"DataRange1d\"},{\"attributes\":{\"active_drag\":\"auto\",\"active_inspect\":\"auto\",\"active_multi\":null,\"active_scroll\":\"auto\",\"active_tap\":\"auto\",\"tools\":[{\"id\":\"1268\"},{\"id\":\"1269\"},{\"id\":\"1270\"},{\"id\":\"1271\"},{\"id\":\"1272\"},{\"id\":\"1273\"}]},\"id\":\"1275\",\"type\":\"Toolbar\"},{\"attributes\":{},\"id\":\"1272\",\"type\":\"ResetTool\"},{\"attributes\":{},\"id\":\"1305\",\"type\":\"BasicTickFormatter\"},{\"attributes\":{},\"id\":\"1268\",\"type\":\"PanTool\"},{\"attributes\":{},\"id\":\"1261\",\"type\":\"BasicTicker\"},{\"attributes\":{},\"id\":\"1307\",\"type\":\"BasicTickFormatter\"},{\"attributes\":{\"bottom\":{\"value\":0},\"fill_color\":{\"value\":\"red\"},\"left\":{\"field\":\"left\"},\"right\":{\"field\":\"right\"},\"top\":{\"field\":\"top\"}},\"id\":\"1283\",\"type\":\"Quad\"},{\"attributes\":{\"data\":{\"left\":{\"__ndarray__\":\"AAAAAAAAXsAAAAAAAMBcwAAAAAAAgFvAAAAAAABAWsAAAAAAAABZwAAAAAAAwFfAAAAAAACAVsAAAAAAAEBVwAAAAAAAAFTAAAAAAADAUsAAAAAAAIBRwAAAAAAAQFDAAAAAAAAATsAAAAAAAIBLwAAAAAAAAEnAAAAAAACARsAAAAAAAABEwAAAAAAAgEHAAAAAAAAAPsAAAAAAAAA5wAAAAAAAADTAAAAAAAAALsAAAAAAAAAkwAAAAAAAABTAAAAAAAAAAAAAAAAAAAAUQAAAAAAAACRAAAAAAAAALkAAAAAAAAA0QAAAAAAAADlAAAAAAAAAPkAAAAAAAIBBQAAAAAAAAERAAAAAAACARkAAAAAAAABJQAAAAAAAgEtAAAAAAAAATkAAAAAAAEBQQAAAAAAAgFFAAAAAAADAUkAAAAAAAABUQAAAAAAAQFVAAAAAAACAVkAAAAAAAMBXQAAAAAAAAFlAAAAAAABAWkAAAAAAAIBbQAAAAAAAwFxA\",\"dtype\":\"float64\",\"order\":\"little\",\"shape\":[48]},\"right\":{\"__ndarray__\":\"AAAAAADAXMAAAAAAAIBbwAAAAAAAQFrAAAAAAAAAWcAAAAAAAMBXwAAAAAAAgFbAAAAAAABAVcAAAAAAAABUwAAAAAAAwFLAAAAAAACAUcAAAAAAAEBQwAAAAAAAAE7AAAAAAACAS8AAAAAAAABJwAAAAAAAgEbAAAAAAAAARMAAAAAAAIBBwAAAAAAAAD7AAAAAAAAAOcAAAAAAAAA0wAAAAAAAAC7AAAAAAAAAJMAAAAAAAAAUwAAAAAAAAAAAAAAAAAAAFEAAAAAAAAAkQAAAAAAAAC5AAAAAAAAANEAAAAAAAAA5QAAAAAAAAD5AAAAAAACAQUAAAAAAAABEQAAAAAAAgEZAAAAAAAAASUAAAAAAAIBLQAAAAAAAAE5AAAAAAABAUEAAAAAAAIBRQAAAAAAAwFJAAAAAAAAAVEAAAAAAAEBVQAAAAAAAgFZAAAAAAADAV0AAAAAAAABZQAAAAAAAQFpAAAAAAACAW0AAAAAAAMBcQAAAAAAAAF5A\",\"dtype\":\"float64\",\"order\":\"little\",\"shape\":[48]},\"top\":[0,0,0,0,0,0,1,0,1,7,48,142,276,636,1394,2820,5339,9420,15551,23546,31319,34857,33790,29786,24391,19028,14894,11324,8815,7159,5908,4896,4130,3630,3139,2782,2455,2179,1973,1805,1646,1454,1360,1286,1167,1013,945,1000]},\"selected\":{\"id\":\"1309\"},\"selection_policy\":{\"id\":\"1310\"}},\"id\":\"1282\",\"type\":\"ColumnDataSource\"},{\"attributes\":{\"bottom\":{\"value\":0},\"fill_alpha\":{\"value\":0.1},\"fill_color\":{\"value\":\"red\"},\"left\":{\"field\":\"left\"},\"line_alpha\":{\"value\":0.1},\"right\":{\"field\":\"right\"},\"top\":{\"field\":\"top\"}},\"id\":\"1284\",\"type\":\"Quad\"},{\"attributes\":{},\"id\":\"1269\",\"type\":\"WheelZoomTool\"}],\"root_ids\":[\"1249\"]},\"title\":\"Bokeh Application\",\"version\":\"2.2.3\"}};\n",
       "  var render_items = [{\"docid\":\"3faa8ea7-ef1e-4c1d-9250-434e86aaf8c6\",\"root_ids\":[\"1249\"],\"roots\":{\"1249\":\"c9809ce1-e2ff-4cda-b8f2-18a3f5b46a8f\"}}];\n",
       "  root.Bokeh.embed.embed_items_notebook(docs_json, render_items);\n",
       "\n",
       "  }\n",
       "  if (root.Bokeh !== undefined) {\n",
       "    embed_document(root);\n",
       "  } else {\n",
       "    var attempts = 0;\n",
       "    var timer = setInterval(function(root) {\n",
       "      if (root.Bokeh !== undefined) {\n",
       "        clearInterval(timer);\n",
       "        embed_document(root);\n",
       "      } else {\n",
       "        attempts++;\n",
       "        if (attempts > 100) {\n",
       "          clearInterval(timer);\n",
       "          console.log(\"Bokeh: ERROR: Unable to run BokehJS code because BokehJS library is missing\");\n",
       "        }\n",
       "      }\n",
       "    }, 10, root)\n",
       "  }\n",
       "})(window);"
      ],
      "application/vnd.bokehjs_exec.v0+json": ""
     },
     "metadata": {
      "application/vnd.bokehjs_exec.v0+json": {
       "id": "1249"
      }
     },
     "output_type": "display_data"
    }
   ],
   "source": [
    "# Set up the figure\n",
    "p = figure(plot_width = 500, plot_height = 500, title = 'Histogram of Arrival Delays',\n",
    "          x_axis_label = 'Minutes', y_axis_label = 'Count')\n",
    "\n",
    "# Add a quad glyph\n",
    "p.quad(bottom=0, top=arr_hist, left=edges[:-1], right=edges[1:], fill_color='red', line_color='black')\n",
    "\n",
    "# To show in notebook\n",
    "output_notebook()\n",
    "\n",
    "# Show the plot\n",
    "show(p)"
   ]
  },
  {
   "cell_type": "markdown",
   "metadata": {},
   "source": [
    "# Add basic style"
   ]
  },
  {
   "cell_type": "code",
   "execution_count": 18,
   "metadata": {
    "ExecuteTime": {
     "end_time": "2020-12-14T12:16:09.424081Z",
     "start_time": "2020-12-14T12:16:09.416790Z"
    }
   },
   "outputs": [],
   "source": [
    "def style(p):\n",
    "    p.title.align = 'center'\n",
    "    p.title.text_font_size = '18pt'\n",
    "    p.xaxis.axis_label_text_font_size = '12pt'\n",
    "    p.xaxis.major_label_text_font_size = '12pt'\n",
    "    p.yaxis.axis_label_text_font_size = '12pt'\n",
    "    p.yaxis.major_label_text_font_size = '12pt'\n",
    "    \n",
    "    return p"
   ]
  },
  {
   "cell_type": "code",
   "execution_count": 19,
   "metadata": {
    "ExecuteTime": {
     "end_time": "2020-12-14T12:16:10.315744Z",
     "start_time": "2020-12-14T12:16:10.258398Z"
    }
   },
   "outputs": [
    {
     "data": {
      "text/html": [
       "\n",
       "\n",
       "\n",
       "\n",
       "\n",
       "\n",
       "  <div class=\"bk-root\" id=\"6c897d33-14f3-4b2d-ba25-c2aa344a6992\" data-root-id=\"1249\"></div>\n"
      ]
     },
     "metadata": {},
     "output_type": "display_data"
    },
    {
     "data": {
      "application/javascript": [
       "(function(root) {\n",
       "  function embed_document(root) {\n",
       "    \n",
       "  var docs_json = {\"9bd092bf-35b0-4680-a96b-2b00f66be90e\":{\"roots\":{\"references\":[{\"attributes\":{\"below\":[{\"id\":\"1260\"}],\"center\":[{\"id\":\"1263\"},{\"id\":\"1267\"}],\"left\":[{\"id\":\"1264\"}],\"plot_height\":500,\"plot_width\":500,\"renderers\":[{\"id\":\"1285\"}],\"title\":{\"id\":\"1250\"},\"toolbar\":{\"id\":\"1275\"},\"x_range\":{\"id\":\"1252\"},\"x_scale\":{\"id\":\"1256\"},\"y_range\":{\"id\":\"1254\"},\"y_scale\":{\"id\":\"1258\"}},\"id\":\"1249\",\"subtype\":\"Figure\",\"type\":\"Plot\"},{\"attributes\":{\"axis_label\":\"Count\",\"axis_label_text_font_size\":\"12pt\",\"formatter\":{\"id\":\"1305\"},\"major_label_text_font_size\":\"12pt\",\"ticker\":{\"id\":\"1265\"}},\"id\":\"1264\",\"type\":\"LinearAxis\"},{\"attributes\":{},\"id\":\"1252\",\"type\":\"DataRange1d\"},{\"attributes\":{},\"id\":\"1273\",\"type\":\"HelpTool\"},{\"attributes\":{\"data_source\":{\"id\":\"1282\"},\"glyph\":{\"id\":\"1283\"},\"hover_glyph\":null,\"muted_glyph\":null,\"nonselection_glyph\":{\"id\":\"1284\"},\"selection_glyph\":null,\"view\":{\"id\":\"1286\"}},\"id\":\"1285\",\"type\":\"GlyphRenderer\"},{\"attributes\":{},\"id\":\"1271\",\"type\":\"SaveTool\"},{\"attributes\":{},\"id\":\"1265\",\"type\":\"BasicTicker\"},{\"attributes\":{},\"id\":\"1309\",\"type\":\"Selection\"},{\"attributes\":{},\"id\":\"1310\",\"type\":\"UnionRenderers\"},{\"attributes\":{\"bottom_units\":\"screen\",\"fill_alpha\":0.5,\"fill_color\":\"lightgrey\",\"left_units\":\"screen\",\"level\":\"overlay\",\"line_alpha\":1.0,\"line_color\":\"black\",\"line_dash\":[4,4],\"line_width\":2,\"right_units\":\"screen\",\"top_units\":\"screen\"},\"id\":\"1274\",\"type\":\"BoxAnnotation\"},{\"attributes\":{\"axis_label\":\"Minutes\",\"axis_label_text_font_size\":\"12pt\",\"formatter\":{\"id\":\"1307\"},\"major_label_text_font_size\":\"12pt\",\"ticker\":{\"id\":\"1261\"}},\"id\":\"1260\",\"type\":\"LinearAxis\"},{\"attributes\":{},\"id\":\"1256\",\"type\":\"LinearScale\"},{\"attributes\":{\"align\":\"center\",\"text\":\"Histogram of Arrival Delays\",\"text_font_size\":{\"value\":\"18pt\"}},\"id\":\"1250\",\"type\":\"Title\"},{\"attributes\":{\"axis\":{\"id\":\"1264\"},\"dimension\":1,\"ticker\":null},\"id\":\"1267\",\"type\":\"Grid\"},{\"attributes\":{\"source\":{\"id\":\"1282\"}},\"id\":\"1286\",\"type\":\"CDSView\"},{\"attributes\":{\"axis\":{\"id\":\"1260\"},\"ticker\":null},\"id\":\"1263\",\"type\":\"Grid\"},{\"attributes\":{},\"id\":\"1258\",\"type\":\"LinearScale\"},{\"attributes\":{\"overlay\":{\"id\":\"1274\"}},\"id\":\"1270\",\"type\":\"BoxZoomTool\"},{\"attributes\":{},\"id\":\"1254\",\"type\":\"DataRange1d\"},{\"attributes\":{\"active_drag\":\"auto\",\"active_inspect\":\"auto\",\"active_multi\":null,\"active_scroll\":\"auto\",\"active_tap\":\"auto\",\"tools\":[{\"id\":\"1268\"},{\"id\":\"1269\"},{\"id\":\"1270\"},{\"id\":\"1271\"},{\"id\":\"1272\"},{\"id\":\"1273\"}]},\"id\":\"1275\",\"type\":\"Toolbar\"},{\"attributes\":{},\"id\":\"1272\",\"type\":\"ResetTool\"},{\"attributes\":{},\"id\":\"1305\",\"type\":\"BasicTickFormatter\"},{\"attributes\":{},\"id\":\"1268\",\"type\":\"PanTool\"},{\"attributes\":{},\"id\":\"1261\",\"type\":\"BasicTicker\"},{\"attributes\":{},\"id\":\"1307\",\"type\":\"BasicTickFormatter\"},{\"attributes\":{\"bottom\":{\"value\":0},\"fill_color\":{\"value\":\"red\"},\"left\":{\"field\":\"left\"},\"right\":{\"field\":\"right\"},\"top\":{\"field\":\"top\"}},\"id\":\"1283\",\"type\":\"Quad\"},{\"attributes\":{\"data\":{\"left\":{\"__ndarray__\":\"AAAAAAAAXsAAAAAAAMBcwAAAAAAAgFvAAAAAAABAWsAAAAAAAABZwAAAAAAAwFfAAAAAAACAVsAAAAAAAEBVwAAAAAAAAFTAAAAAAADAUsAAAAAAAIBRwAAAAAAAQFDAAAAAAAAATsAAAAAAAIBLwAAAAAAAAEnAAAAAAACARsAAAAAAAABEwAAAAAAAgEHAAAAAAAAAPsAAAAAAAAA5wAAAAAAAADTAAAAAAAAALsAAAAAAAAAkwAAAAAAAABTAAAAAAAAAAAAAAAAAAAAUQAAAAAAAACRAAAAAAAAALkAAAAAAAAA0QAAAAAAAADlAAAAAAAAAPkAAAAAAAIBBQAAAAAAAAERAAAAAAACARkAAAAAAAABJQAAAAAAAgEtAAAAAAAAATkAAAAAAAEBQQAAAAAAAgFFAAAAAAADAUkAAAAAAAABUQAAAAAAAQFVAAAAAAACAVkAAAAAAAMBXQAAAAAAAAFlAAAAAAABAWkAAAAAAAIBbQAAAAAAAwFxA\",\"dtype\":\"float64\",\"order\":\"little\",\"shape\":[48]},\"right\":{\"__ndarray__\":\"AAAAAADAXMAAAAAAAIBbwAAAAAAAQFrAAAAAAAAAWcAAAAAAAMBXwAAAAAAAgFbAAAAAAABAVcAAAAAAAABUwAAAAAAAwFLAAAAAAACAUcAAAAAAAEBQwAAAAAAAAE7AAAAAAACAS8AAAAAAAABJwAAAAAAAgEbAAAAAAAAARMAAAAAAAIBBwAAAAAAAAD7AAAAAAAAAOcAAAAAAAAA0wAAAAAAAAC7AAAAAAAAAJMAAAAAAAAAUwAAAAAAAAAAAAAAAAAAAFEAAAAAAAAAkQAAAAAAAAC5AAAAAAAAANEAAAAAAAAA5QAAAAAAAAD5AAAAAAACAQUAAAAAAAABEQAAAAAAAgEZAAAAAAAAASUAAAAAAAIBLQAAAAAAAAE5AAAAAAABAUEAAAAAAAIBRQAAAAAAAwFJAAAAAAAAAVEAAAAAAAEBVQAAAAAAAgFZAAAAAAADAV0AAAAAAAABZQAAAAAAAQFpAAAAAAACAW0AAAAAAAMBcQAAAAAAAAF5A\",\"dtype\":\"float64\",\"order\":\"little\",\"shape\":[48]},\"top\":[0,0,0,0,0,0,1,0,1,7,48,142,276,636,1394,2820,5339,9420,15551,23546,31319,34857,33790,29786,24391,19028,14894,11324,8815,7159,5908,4896,4130,3630,3139,2782,2455,2179,1973,1805,1646,1454,1360,1286,1167,1013,945,1000]},\"selected\":{\"id\":\"1309\"},\"selection_policy\":{\"id\":\"1310\"}},\"id\":\"1282\",\"type\":\"ColumnDataSource\"},{\"attributes\":{\"bottom\":{\"value\":0},\"fill_alpha\":{\"value\":0.1},\"fill_color\":{\"value\":\"red\"},\"left\":{\"field\":\"left\"},\"line_alpha\":{\"value\":0.1},\"right\":{\"field\":\"right\"},\"top\":{\"field\":\"top\"}},\"id\":\"1284\",\"type\":\"Quad\"},{\"attributes\":{},\"id\":\"1269\",\"type\":\"WheelZoomTool\"}],\"root_ids\":[\"1249\"]},\"title\":\"Bokeh Application\",\"version\":\"2.2.3\"}};\n",
       "  var render_items = [{\"docid\":\"9bd092bf-35b0-4680-a96b-2b00f66be90e\",\"root_ids\":[\"1249\"],\"roots\":{\"1249\":\"6c897d33-14f3-4b2d-ba25-c2aa344a6992\"}}];\n",
       "  root.Bokeh.embed.embed_items_notebook(docs_json, render_items);\n",
       "\n",
       "  }\n",
       "  if (root.Bokeh !== undefined) {\n",
       "    embed_document(root);\n",
       "  } else {\n",
       "    var attempts = 0;\n",
       "    var timer = setInterval(function(root) {\n",
       "      if (root.Bokeh !== undefined) {\n",
       "        clearInterval(timer);\n",
       "        embed_document(root);\n",
       "      } else {\n",
       "        attempts++;\n",
       "        if (attempts > 100) {\n",
       "          clearInterval(timer);\n",
       "          console.log(\"Bokeh: ERROR: Unable to run BokehJS code because BokehJS library is missing\");\n",
       "        }\n",
       "      }\n",
       "    }, 10, root)\n",
       "  }\n",
       "})(window);"
      ],
      "application/vnd.bokehjs_exec.v0+json": ""
     },
     "metadata": {
      "application/vnd.bokehjs_exec.v0+json": {
       "id": "1249"
      }
     },
     "output_type": "display_data"
    }
   ],
   "source": [
    "styled_p = style(p)\n",
    "\n",
    "show(styled_p)"
   ]
  },
  {
   "cell_type": "markdown",
   "metadata": {},
   "source": [
    "# Column data source"
   ]
  },
  {
   "cell_type": "code",
   "execution_count": 20,
   "metadata": {
    "ExecuteTime": {
     "end_time": "2020-12-14T12:18:06.362454Z",
     "start_time": "2020-12-14T12:18:06.337610Z"
    }
   },
   "outputs": [
    {
     "data": {
      "text/html": [
       "<div>\n",
       "<style scoped>\n",
       "    .dataframe tbody tr th:only-of-type {\n",
       "        vertical-align: middle;\n",
       "    }\n",
       "\n",
       "    .dataframe tbody tr th {\n",
       "        vertical-align: top;\n",
       "    }\n",
       "\n",
       "    .dataframe thead th {\n",
       "        text-align: right;\n",
       "    }\n",
       "</style>\n",
       "<table border=\"1\" class=\"dataframe\">\n",
       "  <thead>\n",
       "    <tr style=\"text-align: right;\">\n",
       "      <th></th>\n",
       "      <th>count</th>\n",
       "      <th>left</th>\n",
       "      <th>right</th>\n",
       "      <th>f_count</th>\n",
       "      <th>f_interval</th>\n",
       "    </tr>\n",
       "  </thead>\n",
       "  <tbody>\n",
       "    <tr>\n",
       "      <th>0</th>\n",
       "      <td>0</td>\n",
       "      <td>-120.0</td>\n",
       "      <td>-115.0</td>\n",
       "      <td>0 flights</td>\n",
       "      <td>-120 to -115 minutes</td>\n",
       "    </tr>\n",
       "    <tr>\n",
       "      <th>1</th>\n",
       "      <td>0</td>\n",
       "      <td>-115.0</td>\n",
       "      <td>-110.0</td>\n",
       "      <td>0 flights</td>\n",
       "      <td>-115 to -110 minutes</td>\n",
       "    </tr>\n",
       "    <tr>\n",
       "      <th>2</th>\n",
       "      <td>0</td>\n",
       "      <td>-110.0</td>\n",
       "      <td>-105.0</td>\n",
       "      <td>0 flights</td>\n",
       "      <td>-110 to -105 minutes</td>\n",
       "    </tr>\n",
       "    <tr>\n",
       "      <th>3</th>\n",
       "      <td>0</td>\n",
       "      <td>-105.0</td>\n",
       "      <td>-100.0</td>\n",
       "      <td>0 flights</td>\n",
       "      <td>-105 to -100 minutes</td>\n",
       "    </tr>\n",
       "    <tr>\n",
       "      <th>4</th>\n",
       "      <td>0</td>\n",
       "      <td>-100.0</td>\n",
       "      <td>-95.0</td>\n",
       "      <td>0 flights</td>\n",
       "      <td>-100 to -95 minutes</td>\n",
       "    </tr>\n",
       "  </tbody>\n",
       "</table>\n",
       "</div>"
      ],
      "text/plain": [
       "   count   left  right    f_count            f_interval\n",
       "0      0 -120.0 -115.0  0 flights  -120 to -115 minutes\n",
       "1      0 -115.0 -110.0  0 flights  -115 to -110 minutes\n",
       "2      0 -110.0 -105.0  0 flights  -110 to -105 minutes\n",
       "3      0 -105.0 -100.0  0 flights  -105 to -100 minutes\n",
       "4      0 -100.0  -95.0  0 flights   -100 to -95 minutes"
      ]
     },
     "execution_count": 20,
     "metadata": {},
     "output_type": "execute_result"
    }
   ],
   "source": [
    "# getting a df with the variables we want\n",
    "arr_df = pd.DataFrame({'count': arr_hist, 'left': edges[:-1], 'right': edges[1:]})\n",
    "arr_df['f_count'] = ['%d flights' % count for count in arr_df['count']]\n",
    "arr_df['f_interval'] = ['%d to %d minutes' % (left, right) for left, right in zip(arr_df['left'], arr_df['right'])]\n",
    "\n",
    "arr_df.head()"
   ]
  },
  {
   "cell_type": "code",
   "execution_count": 23,
   "metadata": {
    "ExecuteTime": {
     "end_time": "2020-12-14T12:19:16.329760Z",
     "start_time": "2020-12-14T12:19:16.320296Z"
    }
   },
   "outputs": [
    {
     "data": {
      "text/plain": [
       "dict_keys(['index', 'count', 'left', 'right', 'f_count', 'f_interval'])"
      ]
     },
     "execution_count": 23,
     "metadata": {},
     "output_type": "execute_result"
    }
   ],
   "source": [
    "# Create a ColumnDataSource object\n",
    "arr_src = ColumnDataSource(arr_df)\n",
    "arr_src.data.keys()"
   ]
  },
  {
   "cell_type": "markdown",
   "metadata": {},
   "source": [
    "ColumnDataSource is the object where the data of a Bokeh graph is stored. \n",
    "\n",
    "You can choose not to use a ColumnDataSource and feed your graph directly with Python dictionaries, pandas dataframes, etc, but for certain features such as having a popup window showing data information when the user hovers the mouse on glyphs, you are forced to use a ColumnDataSource otherwise the popup window will not be able to get the data. Other uses would be when streaming data.\n",
    "\n",
    "You can create a ColumnDataSource from dictionaries and pandas dataframes and then use the ColumnDataSource to create the glyphs."
   ]
  },
  {
   "cell_type": "markdown",
   "metadata": {},
   "source": [
    "# Add in tooltips on Hover"
   ]
  },
  {
   "cell_type": "code",
   "execution_count": 24,
   "metadata": {
    "ExecuteTime": {
     "end_time": "2020-12-14T12:21:47.311540Z",
     "start_time": "2020-12-14T12:21:47.243497Z"
    }
   },
   "outputs": [
    {
     "data": {
      "text/html": [
       "\n",
       "\n",
       "\n",
       "\n",
       "\n",
       "\n",
       "  <div class=\"bk-root\" id=\"7a5b384f-d7c5-42e8-81ab-473d60fa24e2\" data-root-id=\"1399\"></div>\n"
      ]
     },
     "metadata": {},
     "output_type": "display_data"
    },
    {
     "data": {
      "application/javascript": [
       "(function(root) {\n",
       "  function embed_document(root) {\n",
       "    \n",
       "  var docs_json = {\"68a529d1-4361-49ec-983d-6f353c8b0a6b\":{\"roots\":{\"references\":[{\"attributes\":{\"below\":[{\"id\":\"1410\"}],\"center\":[{\"id\":\"1413\"},{\"id\":\"1417\"}],\"left\":[{\"id\":\"1414\"}],\"plot_height\":500,\"plot_width\":500,\"renderers\":[{\"id\":\"1435\"}],\"title\":{\"id\":\"1400\"},\"toolbar\":{\"id\":\"1425\"},\"x_range\":{\"id\":\"1402\"},\"x_scale\":{\"id\":\"1406\"},\"y_range\":{\"id\":\"1404\"},\"y_scale\":{\"id\":\"1408\"}},\"id\":\"1399\",\"subtype\":\"Figure\",\"type\":\"Plot\"},{\"attributes\":{\"source\":{\"id\":\"1398\"}},\"id\":\"1436\",\"type\":\"CDSView\"},{\"attributes\":{},\"id\":\"1408\",\"type\":\"LinearScale\"},{\"attributes\":{},\"id\":\"1419\",\"type\":\"WheelZoomTool\"},{\"attributes\":{\"axis_label\":\"Minutes\",\"axis_label_text_font_size\":\"12pt\",\"formatter\":{\"id\":\"1466\"},\"major_label_text_font_size\":\"12pt\",\"ticker\":{\"id\":\"1411\"}},\"id\":\"1410\",\"type\":\"LinearAxis\"},{\"attributes\":{},\"id\":\"1468\",\"type\":\"Selection\"},{\"attributes\":{},\"id\":\"1402\",\"type\":\"DataRange1d\"},{\"attributes\":{},\"id\":\"1422\",\"type\":\"ResetTool\"},{\"attributes\":{\"bottom\":{\"value\":0},\"fill_color\":{\"value\":\"red\"},\"left\":{\"field\":\"left\"},\"right\":{\"field\":\"right\"},\"top\":{\"field\":\"count\"}},\"id\":\"1433\",\"type\":\"Quad\"},{\"attributes\":{\"active_drag\":\"auto\",\"active_inspect\":\"auto\",\"active_multi\":null,\"active_scroll\":\"auto\",\"active_tap\":\"auto\",\"tools\":[{\"id\":\"1418\"},{\"id\":\"1419\"},{\"id\":\"1420\"},{\"id\":\"1421\"},{\"id\":\"1422\"},{\"id\":\"1423\"},{\"id\":\"1437\"}]},\"id\":\"1425\",\"type\":\"Toolbar\"},{\"attributes\":{},\"id\":\"1423\",\"type\":\"HelpTool\"},{\"attributes\":{\"bottom\":{\"value\":0},\"fill_alpha\":{\"value\":0.1},\"fill_color\":{\"value\":\"red\"},\"left\":{\"field\":\"left\"},\"line_alpha\":{\"value\":0.1},\"right\":{\"field\":\"right\"},\"top\":{\"field\":\"count\"}},\"id\":\"1434\",\"type\":\"Quad\"},{\"attributes\":{},\"id\":\"1415\",\"type\":\"BasicTicker\"},{\"attributes\":{\"bottom_units\":\"screen\",\"fill_alpha\":0.5,\"fill_color\":\"lightgrey\",\"left_units\":\"screen\",\"level\":\"overlay\",\"line_alpha\":1.0,\"line_color\":\"black\",\"line_dash\":[4,4],\"line_width\":2,\"right_units\":\"screen\",\"top_units\":\"screen\"},\"id\":\"1424\",\"type\":\"BoxAnnotation\"},{\"attributes\":{},\"id\":\"1411\",\"type\":\"BasicTicker\"},{\"attributes\":{\"axis\":{\"id\":\"1414\"},\"dimension\":1,\"ticker\":null},\"id\":\"1417\",\"type\":\"Grid\"},{\"attributes\":{\"axis\":{\"id\":\"1410\"},\"ticker\":null},\"id\":\"1413\",\"type\":\"Grid\"},{\"attributes\":{\"data_source\":{\"id\":\"1398\"},\"glyph\":{\"id\":\"1433\"},\"hover_glyph\":null,\"muted_glyph\":null,\"nonselection_glyph\":{\"id\":\"1434\"},\"selection_glyph\":null,\"view\":{\"id\":\"1436\"}},\"id\":\"1435\",\"type\":\"GlyphRenderer\"},{\"attributes\":{},\"id\":\"1406\",\"type\":\"LinearScale\"},{\"attributes\":{\"overlay\":{\"id\":\"1424\"}},\"id\":\"1420\",\"type\":\"BoxZoomTool\"},{\"attributes\":{},\"id\":\"1469\",\"type\":\"UnionRenderers\"},{\"attributes\":{\"data\":{\"count\":[0,0,0,0,0,0,1,0,1,7,48,142,276,636,1394,2820,5339,9420,15551,23546,31319,34857,33790,29786,24391,19028,14894,11324,8815,7159,5908,4896,4130,3630,3139,2782,2455,2179,1973,1805,1646,1454,1360,1286,1167,1013,945,1000],\"f_count\":[\"0 flights\",\"0 flights\",\"0 flights\",\"0 flights\",\"0 flights\",\"0 flights\",\"1 flights\",\"0 flights\",\"1 flights\",\"7 flights\",\"48 flights\",\"142 flights\",\"276 flights\",\"636 flights\",\"1394 flights\",\"2820 flights\",\"5339 flights\",\"9420 flights\",\"15551 flights\",\"23546 flights\",\"31319 flights\",\"34857 flights\",\"33790 flights\",\"29786 flights\",\"24391 flights\",\"19028 flights\",\"14894 flights\",\"11324 flights\",\"8815 flights\",\"7159 flights\",\"5908 flights\",\"4896 flights\",\"4130 flights\",\"3630 flights\",\"3139 flights\",\"2782 flights\",\"2455 flights\",\"2179 flights\",\"1973 flights\",\"1805 flights\",\"1646 flights\",\"1454 flights\",\"1360 flights\",\"1286 flights\",\"1167 flights\",\"1013 flights\",\"945 flights\",\"1000 flights\"],\"f_interval\":[\"-120 to -115 minutes\",\"-115 to -110 minutes\",\"-110 to -105 minutes\",\"-105 to -100 minutes\",\"-100 to -95 minutes\",\"-95 to -90 minutes\",\"-90 to -85 minutes\",\"-85 to -80 minutes\",\"-80 to -75 minutes\",\"-75 to -70 minutes\",\"-70 to -65 minutes\",\"-65 to -60 minutes\",\"-60 to -55 minutes\",\"-55 to -50 minutes\",\"-50 to -45 minutes\",\"-45 to -40 minutes\",\"-40 to -35 minutes\",\"-35 to -30 minutes\",\"-30 to -25 minutes\",\"-25 to -20 minutes\",\"-20 to -15 minutes\",\"-15 to -10 minutes\",\"-10 to -5 minutes\",\"-5 to 0 minutes\",\"0 to 5 minutes\",\"5 to 10 minutes\",\"10 to 15 minutes\",\"15 to 20 minutes\",\"20 to 25 minutes\",\"25 to 30 minutes\",\"30 to 35 minutes\",\"35 to 40 minutes\",\"40 to 45 minutes\",\"45 to 50 minutes\",\"50 to 55 minutes\",\"55 to 60 minutes\",\"60 to 65 minutes\",\"65 to 70 minutes\",\"70 to 75 minutes\",\"75 to 80 minutes\",\"80 to 85 minutes\",\"85 to 90 minutes\",\"90 to 95 minutes\",\"95 to 100 minutes\",\"100 to 105 minutes\",\"105 to 110 minutes\",\"110 to 115 minutes\",\"115 to 120 minutes\"],\"index\":[0,1,2,3,4,5,6,7,8,9,10,11,12,13,14,15,16,17,18,19,20,21,22,23,24,25,26,27,28,29,30,31,32,33,34,35,36,37,38,39,40,41,42,43,44,45,46,47],\"left\":{\"__ndarray__\":\"AAAAAAAAXsAAAAAAAMBcwAAAAAAAgFvAAAAAAABAWsAAAAAAAABZwAAAAAAAwFfAAAAAAACAVsAAAAAAAEBVwAAAAAAAAFTAAAAAAADAUsAAAAAAAIBRwAAAAAAAQFDAAAAAAAAATsAAAAAAAIBLwAAAAAAAAEnAAAAAAACARsAAAAAAAABEwAAAAAAAgEHAAAAAAAAAPsAAAAAAAAA5wAAAAAAAADTAAAAAAAAALsAAAAAAAAAkwAAAAAAAABTAAAAAAAAAAAAAAAAAAAAUQAAAAAAAACRAAAAAAAAALkAAAAAAAAA0QAAAAAAAADlAAAAAAAAAPkAAAAAAAIBBQAAAAAAAAERAAAAAAACARkAAAAAAAABJQAAAAAAAgEtAAAAAAAAATkAAAAAAAEBQQAAAAAAAgFFAAAAAAADAUkAAAAAAAABUQAAAAAAAQFVAAAAAAACAVkAAAAAAAMBXQAAAAAAAAFlAAAAAAABAWkAAAAAAAIBbQAAAAAAAwFxA\",\"dtype\":\"float64\",\"order\":\"little\",\"shape\":[48]},\"right\":{\"__ndarray__\":\"AAAAAADAXMAAAAAAAIBbwAAAAAAAQFrAAAAAAAAAWcAAAAAAAMBXwAAAAAAAgFbAAAAAAABAVcAAAAAAAABUwAAAAAAAwFLAAAAAAACAUcAAAAAAAEBQwAAAAAAAAE7AAAAAAACAS8AAAAAAAABJwAAAAAAAgEbAAAAAAAAARMAAAAAAAIBBwAAAAAAAAD7AAAAAAAAAOcAAAAAAAAA0wAAAAAAAAC7AAAAAAAAAJMAAAAAAAAAUwAAAAAAAAAAAAAAAAAAAFEAAAAAAAAAkQAAAAAAAAC5AAAAAAAAANEAAAAAAAAA5QAAAAAAAAD5AAAAAAACAQUAAAAAAAABEQAAAAAAAgEZAAAAAAAAASUAAAAAAAIBLQAAAAAAAAE5AAAAAAABAUEAAAAAAAIBRQAAAAAAAwFJAAAAAAAAAVEAAAAAAAEBVQAAAAAAAgFZAAAAAAADAV0AAAAAAAABZQAAAAAAAQFpAAAAAAACAW0AAAAAAAMBcQAAAAAAAAF5A\",\"dtype\":\"float64\",\"order\":\"little\",\"shape\":[48]}},\"selected\":{\"id\":\"1468\"},\"selection_policy\":{\"id\":\"1469\"}},\"id\":\"1398\",\"type\":\"ColumnDataSource\"},{\"attributes\":{\"axis_label\":\"Count\",\"axis_label_text_font_size\":\"12pt\",\"formatter\":{\"id\":\"1464\"},\"major_label_text_font_size\":\"12pt\",\"ticker\":{\"id\":\"1415\"}},\"id\":\"1414\",\"type\":\"LinearAxis\"},{\"attributes\":{},\"id\":\"1464\",\"type\":\"BasicTickFormatter\"},{\"attributes\":{},\"id\":\"1421\",\"type\":\"SaveTool\"},{\"attributes\":{},\"id\":\"1404\",\"type\":\"DataRange1d\"},{\"attributes\":{},\"id\":\"1418\",\"type\":\"PanTool\"},{\"attributes\":{\"callback\":null,\"tooltips\":[[\"Delay\",\"@f_interval\"],[\"Count\",\"@f_count\"]]},\"id\":\"1437\",\"type\":\"HoverTool\"},{\"attributes\":{\"align\":\"center\",\"text\":\"Histogram of Arrival Delays\",\"text_font_size\":{\"value\":\"18pt\"}},\"id\":\"1400\",\"type\":\"Title\"},{\"attributes\":{},\"id\":\"1466\",\"type\":\"BasicTickFormatter\"}],\"root_ids\":[\"1399\"]},\"title\":\"Bokeh Application\",\"version\":\"2.2.3\"}};\n",
       "  var render_items = [{\"docid\":\"68a529d1-4361-49ec-983d-6f353c8b0a6b\",\"root_ids\":[\"1399\"],\"roots\":{\"1399\":\"7a5b384f-d7c5-42e8-81ab-473d60fa24e2\"}}];\n",
       "  root.Bokeh.embed.embed_items_notebook(docs_json, render_items);\n",
       "\n",
       "  }\n",
       "  if (root.Bokeh !== undefined) {\n",
       "    embed_document(root);\n",
       "  } else {\n",
       "    var attempts = 0;\n",
       "    var timer = setInterval(function(root) {\n",
       "      if (root.Bokeh !== undefined) {\n",
       "        clearInterval(timer);\n",
       "        embed_document(root);\n",
       "      } else {\n",
       "        attempts++;\n",
       "        if (attempts > 100) {\n",
       "          clearInterval(timer);\n",
       "          console.log(\"Bokeh: ERROR: Unable to run BokehJS code because BokehJS library is missing\");\n",
       "        }\n",
       "      }\n",
       "    }, 10, root)\n",
       "  }\n",
       "})(window);"
      ],
      "application/vnd.bokehjs_exec.v0+json": ""
     },
     "metadata": {
      "application/vnd.bokehjs_exec.v0+json": {
       "id": "1399"
      }
     },
     "output_type": "display_data"
    }
   ],
   "source": [
    "# Set up the figure same as before\n",
    "p = figure(plot_width = 500, plot_height = 500, title = 'Histogram of Arrival Delays',\n",
    "          x_axis_label = 'Minutes', y_axis_label = 'Count')\n",
    "\n",
    "# Add a quad glyph with source this time\n",
    "p.quad(bottom=0, top='count', left='left', right='right', source=arr_src,  # specify the data source is from a DCS\n",
    "       fill_color='red', line_color='black')\n",
    "\n",
    "# Add style to the plot\n",
    "styled_p = style(p)\n",
    "\n",
    "# Add a hover tool referring to the formatted columns\n",
    "hover = HoverTool(tooltips = [('Delay', '@f_interval'),   # what you want to show in the hover tool\n",
    "                              ('Count', '@f_count')])\n",
    "\n",
    "# Add the hover tool to the graph\n",
    "styled_p.add_tools(hover)\n",
    "\n",
    "# Show the plot\n",
    "show(styled_p)\n"
   ]
  },
  {
   "cell_type": "markdown",
   "metadata": {},
   "source": [
    "# Some data cleaning which is not important for Bokeh visulisation"
   ]
  },
  {
   "cell_type": "code",
   "execution_count": 26,
   "metadata": {
    "ExecuteTime": {
     "end_time": "2020-12-14T12:40:03.417923Z",
     "start_time": "2020-12-14T12:40:01.923060Z"
    }
   },
   "outputs": [
    {
     "data": {
      "text/html": [
       "<div>\n",
       "<style scoped>\n",
       "    .dataframe tbody tr th:only-of-type {\n",
       "        vertical-align: middle;\n",
       "    }\n",
       "\n",
       "    .dataframe tbody tr th {\n",
       "        vertical-align: top;\n",
       "    }\n",
       "\n",
       "    .dataframe thead th {\n",
       "        text-align: right;\n",
       "    }\n",
       "</style>\n",
       "<table border=\"1\" class=\"dataframe\">\n",
       "  <thead>\n",
       "    <tr style=\"text-align: right;\">\n",
       "      <th></th>\n",
       "      <th>Unnamed: 0_x</th>\n",
       "      <th>year</th>\n",
       "      <th>month</th>\n",
       "      <th>day</th>\n",
       "      <th>dep_time</th>\n",
       "      <th>sched_dep_time</th>\n",
       "      <th>dep_delay</th>\n",
       "      <th>arr_time</th>\n",
       "      <th>sched_arr_time</th>\n",
       "      <th>arr_delay_x</th>\n",
       "      <th>...</th>\n",
       "      <th>distance.2</th>\n",
       "      <th>distance.3</th>\n",
       "      <th>air_speed (mph)</th>\n",
       "      <th>air_speed (mph).1</th>\n",
       "      <th>air_speed (mph).2</th>\n",
       "      <th>air_speed (mph).3</th>\n",
       "      <th>start_long</th>\n",
       "      <th>start_lati</th>\n",
       "      <th>end_long</th>\n",
       "      <th>end_lati</th>\n",
       "    </tr>\n",
       "  </thead>\n",
       "  <tbody>\n",
       "    <tr>\n",
       "      <th>0</th>\n",
       "      <td>0</td>\n",
       "      <td>2013</td>\n",
       "      <td>1</td>\n",
       "      <td>1</td>\n",
       "      <td>517.0</td>\n",
       "      <td>515</td>\n",
       "      <td>2.0</td>\n",
       "      <td>830.0</td>\n",
       "      <td>819</td>\n",
       "      <td>11.0</td>\n",
       "      <td>...</td>\n",
       "      <td>NaN</td>\n",
       "      <td>NaN</td>\n",
       "      <td>NaN</td>\n",
       "      <td>NaN</td>\n",
       "      <td>NaN</td>\n",
       "      <td>NaN</td>\n",
       "      <td>NaN</td>\n",
       "      <td>NaN</td>\n",
       "      <td>NaN</td>\n",
       "      <td>NaN</td>\n",
       "    </tr>\n",
       "    <tr>\n",
       "      <th>1</th>\n",
       "      <td>1</td>\n",
       "      <td>2013</td>\n",
       "      <td>1</td>\n",
       "      <td>1</td>\n",
       "      <td>533.0</td>\n",
       "      <td>529</td>\n",
       "      <td>4.0</td>\n",
       "      <td>850.0</td>\n",
       "      <td>830</td>\n",
       "      <td>20.0</td>\n",
       "      <td>...</td>\n",
       "      <td>NaN</td>\n",
       "      <td>NaN</td>\n",
       "      <td>NaN</td>\n",
       "      <td>NaN</td>\n",
       "      <td>NaN</td>\n",
       "      <td>NaN</td>\n",
       "      <td>NaN</td>\n",
       "      <td>NaN</td>\n",
       "      <td>NaN</td>\n",
       "      <td>NaN</td>\n",
       "    </tr>\n",
       "    <tr>\n",
       "      <th>2</th>\n",
       "      <td>2</td>\n",
       "      <td>2013</td>\n",
       "      <td>1</td>\n",
       "      <td>1</td>\n",
       "      <td>542.0</td>\n",
       "      <td>540</td>\n",
       "      <td>2.0</td>\n",
       "      <td>923.0</td>\n",
       "      <td>850</td>\n",
       "      <td>33.0</td>\n",
       "      <td>...</td>\n",
       "      <td>NaN</td>\n",
       "      <td>NaN</td>\n",
       "      <td>NaN</td>\n",
       "      <td>NaN</td>\n",
       "      <td>NaN</td>\n",
       "      <td>NaN</td>\n",
       "      <td>NaN</td>\n",
       "      <td>NaN</td>\n",
       "      <td>NaN</td>\n",
       "      <td>NaN</td>\n",
       "    </tr>\n",
       "    <tr>\n",
       "      <th>3</th>\n",
       "      <td>3</td>\n",
       "      <td>2013</td>\n",
       "      <td>1</td>\n",
       "      <td>1</td>\n",
       "      <td>544.0</td>\n",
       "      <td>545</td>\n",
       "      <td>-1.0</td>\n",
       "      <td>1004.0</td>\n",
       "      <td>1022</td>\n",
       "      <td>-18.0</td>\n",
       "      <td>...</td>\n",
       "      <td>NaN</td>\n",
       "      <td>NaN</td>\n",
       "      <td>NaN</td>\n",
       "      <td>NaN</td>\n",
       "      <td>NaN</td>\n",
       "      <td>NaN</td>\n",
       "      <td>NaN</td>\n",
       "      <td>NaN</td>\n",
       "      <td>NaN</td>\n",
       "      <td>NaN</td>\n",
       "    </tr>\n",
       "    <tr>\n",
       "      <th>4</th>\n",
       "      <td>4</td>\n",
       "      <td>2013</td>\n",
       "      <td>1</td>\n",
       "      <td>1</td>\n",
       "      <td>554.0</td>\n",
       "      <td>600</td>\n",
       "      <td>-6.0</td>\n",
       "      <td>812.0</td>\n",
       "      <td>837</td>\n",
       "      <td>-25.0</td>\n",
       "      <td>...</td>\n",
       "      <td>NaN</td>\n",
       "      <td>NaN</td>\n",
       "      <td>NaN</td>\n",
       "      <td>NaN</td>\n",
       "      <td>NaN</td>\n",
       "      <td>NaN</td>\n",
       "      <td>NaN</td>\n",
       "      <td>NaN</td>\n",
       "      <td>NaN</td>\n",
       "      <td>NaN</td>\n",
       "    </tr>\n",
       "  </tbody>\n",
       "</table>\n",
       "<p>5 rows × 44 columns</p>\n",
       "</div>"
      ],
      "text/plain": [
       "   Unnamed: 0_x  year  month  day  dep_time  sched_dep_time  dep_delay  \\\n",
       "0             0  2013      1    1     517.0             515        2.0   \n",
       "1             1  2013      1    1     533.0             529        4.0   \n",
       "2             2  2013      1    1     542.0             540        2.0   \n",
       "3             3  2013      1    1     544.0             545       -1.0   \n",
       "4             4  2013      1    1     554.0             600       -6.0   \n",
       "\n",
       "   arr_time  sched_arr_time  arr_delay_x  ... distance.2  distance.3  \\\n",
       "0     830.0             819         11.0  ...        NaN         NaN   \n",
       "1     850.0             830         20.0  ...        NaN         NaN   \n",
       "2     923.0             850         33.0  ...        NaN         NaN   \n",
       "3    1004.0            1022        -18.0  ...        NaN         NaN   \n",
       "4     812.0             837        -25.0  ...        NaN         NaN   \n",
       "\n",
       "  air_speed (mph) air_speed (mph).1 air_speed (mph).2  air_speed (mph).3  \\\n",
       "0             NaN               NaN               NaN                NaN   \n",
       "1             NaN               NaN               NaN                NaN   \n",
       "2             NaN               NaN               NaN                NaN   \n",
       "3             NaN               NaN               NaN                NaN   \n",
       "4             NaN               NaN               NaN                NaN   \n",
       "\n",
       "   start_long  start_lati  end_long end_lati  \n",
       "0         NaN         NaN       NaN      NaN  \n",
       "1         NaN         NaN       NaN      NaN  \n",
       "2         NaN         NaN       NaN      NaN  \n",
       "3         NaN         NaN       NaN      NaN  \n",
       "4         NaN         NaN       NaN      NaN  \n",
       "\n",
       "[5 rows x 44 columns]"
      ]
     },
     "execution_count": 26,
     "metadata": {},
     "output_type": "execute_result"
    }
   ],
   "source": [
    "# Group by the carrier to find the most common\n",
    "carrier_nums = flights.groupby('carrier')['year'].count().sort_values(ascending=False)\n",
    "\n",
    "# Subset to the 8 most common carriers\n",
    "flights = flights[flights['carrier'].isin(carrier_nums.index[:5])]\n",
    "\n",
    "# Subset to only [-2, +2] hour delays\n",
    "flights = flights[(flights['arr_delay'] >= -120) & (flights['arr_delay'] <= 120)]\n",
    "\n",
    "# find acutual carrier names\n",
    "carrier_names = pd.read_csv(url_map)\n",
    "\n",
    "# merge data \n",
    "flights = flights.merge(carrier_names, how = 'left', on = 'carrier')\n",
    "flights.head()"
   ]
  },
  {
   "cell_type": "code",
   "execution_count": null,
   "metadata": {},
   "outputs": [],
   "source": []
  }
 ],
 "metadata": {
  "kernelspec": {
   "display_name": "Python 3",
   "language": "python",
   "name": "python3"
  },
  "language_info": {
   "codemirror_mode": {
    "name": "ipython",
    "version": 3
   },
   "file_extension": ".py",
   "mimetype": "text/x-python",
   "name": "python",
   "nbconvert_exporter": "python",
   "pygments_lexer": "ipython3",
   "version": "3.7.8"
  },
  "latex_envs": {
   "LaTeX_envs_menu_present": true,
   "autoclose": false,
   "autocomplete": true,
   "bibliofile": "biblio.bib",
   "cite_by": "apalike",
   "current_citInitial": 1,
   "eqLabelWithNumbers": true,
   "eqNumInitial": 1,
   "hotkeys": {
    "equation": "Ctrl-E",
    "itemize": "Ctrl-I"
   },
   "labels_anchors": false,
   "latex_user_defs": false,
   "report_style_numbering": false,
   "user_envs_cfg": false
  },
  "toc": {
   "base_numbering": 1,
   "nav_menu": {},
   "number_sections": true,
   "sideBar": true,
   "skip_h1_title": false,
   "title_cell": "Table of Contents",
   "title_sidebar": "Contents",
   "toc_cell": false,
   "toc_position": {},
   "toc_section_display": true,
   "toc_window_display": false
  },
  "varInspector": {
   "cols": {
    "lenName": 16,
    "lenType": 16,
    "lenVar": 40
   },
   "kernels_config": {
    "python": {
     "delete_cmd_postfix": "",
     "delete_cmd_prefix": "del ",
     "library": "var_list.py",
     "varRefreshCmd": "print(var_dic_list())"
    },
    "r": {
     "delete_cmd_postfix": ") ",
     "delete_cmd_prefix": "rm(",
     "library": "var_list.r",
     "varRefreshCmd": "cat(var_dic_list()) "
    }
   },
   "types_to_exclude": [
    "module",
    "function",
    "builtin_function_or_method",
    "instance",
    "_Feature"
   ],
   "window_display": false
  }
 },
 "nbformat": 4,
 "nbformat_minor": 4
}
