{
 "cells": [
  {
   "cell_type": "code",
   "execution_count": 1,
   "metadata": {
    "ExecuteTime": {
     "end_time": "2020-10-29T15:52:34.847027Z",
     "start_time": "2020-10-29T15:52:30.583124Z"
    }
   },
   "outputs": [],
   "source": [
    "# %% load libraries\n",
    "import os\n",
    "import datetime\n",
    "import numpy as np\n",
    "import matplotlib.pyplot as plt\n",
    "from mpl_toolkits.axes_grid1.inset_locator import inset_axes    # this is what we need to get a chart within a chart\n",
    "from matplotlib import rc\n",
    "import pandas as pd"
   ]
  },
  {
   "cell_type": "code",
   "execution_count": 3,
   "metadata": {
    "ExecuteTime": {
     "end_time": "2020-10-29T15:53:35.466246Z",
     "start_time": "2020-10-29T15:53:35.461260Z"
    }
   },
   "outputs": [],
   "source": [
    "# %% setup\n",
    "rc('font',**{'family':'serif','serif':['Avant Garde']})\n",
    "rc('text', usetex=False)"
   ]
  },
  {
   "cell_type": "code",
   "execution_count": 4,
   "metadata": {
    "ExecuteTime": {
     "end_time": "2020-10-29T15:53:37.061233Z",
     "start_time": "2020-10-29T15:53:37.042756Z"
    }
   },
   "outputs": [],
   "source": [
    "# %% workind directory\n",
    "wd = os.getcwd()"
   ]
  },
  {
   "cell_type": "code",
   "execution_count": 7,
   "metadata": {
    "ExecuteTime": {
     "end_time": "2020-10-29T15:56:27.529249Z",
     "start_time": "2020-10-29T15:56:27.493094Z"
    }
   },
   "outputs": [
    {
     "data": {
      "text/html": [
       "<div>\n",
       "<style scoped>\n",
       "    .dataframe tbody tr th:only-of-type {\n",
       "        vertical-align: middle;\n",
       "    }\n",
       "\n",
       "    .dataframe tbody tr th {\n",
       "        vertical-align: top;\n",
       "    }\n",
       "\n",
       "    .dataframe thead th {\n",
       "        text-align: right;\n",
       "    }\n",
       "</style>\n",
       "<table border=\"1\" class=\"dataframe\">\n",
       "  <thead>\n",
       "    <tr style=\"text-align: right;\">\n",
       "      <th></th>\n",
       "      <th>Date</th>\n",
       "      <th>Open</th>\n",
       "      <th>High</th>\n",
       "      <th>Low</th>\n",
       "      <th>Close</th>\n",
       "      <th>Adj Close</th>\n",
       "      <th>Volume</th>\n",
       "    </tr>\n",
       "  </thead>\n",
       "  <tbody>\n",
       "    <tr>\n",
       "      <th>0</th>\n",
       "      <td>2008-01-02</td>\n",
       "      <td>13261.820313</td>\n",
       "      <td>13279.540039</td>\n",
       "      <td>12991.370117</td>\n",
       "      <td>13043.959961</td>\n",
       "      <td>13043.959961</td>\n",
       "      <td>239580000</td>\n",
       "    </tr>\n",
       "    <tr>\n",
       "      <th>1</th>\n",
       "      <td>2008-01-03</td>\n",
       "      <td>13044.120117</td>\n",
       "      <td>13137.929688</td>\n",
       "      <td>13023.559570</td>\n",
       "      <td>13056.719727</td>\n",
       "      <td>13056.719727</td>\n",
       "      <td>200620000</td>\n",
       "    </tr>\n",
       "    <tr>\n",
       "      <th>2</th>\n",
       "      <td>2008-01-04</td>\n",
       "      <td>13046.559570</td>\n",
       "      <td>13046.719727</td>\n",
       "      <td>12789.040039</td>\n",
       "      <td>12800.179688</td>\n",
       "      <td>12800.179688</td>\n",
       "      <td>304210000</td>\n",
       "    </tr>\n",
       "    <tr>\n",
       "      <th>3</th>\n",
       "      <td>2008-01-07</td>\n",
       "      <td>12801.150391</td>\n",
       "      <td>12884.150391</td>\n",
       "      <td>12733.839844</td>\n",
       "      <td>12827.490234</td>\n",
       "      <td>12827.490234</td>\n",
       "      <td>306700000</td>\n",
       "    </tr>\n",
       "    <tr>\n",
       "      <th>4</th>\n",
       "      <td>2008-01-08</td>\n",
       "      <td>12820.900391</td>\n",
       "      <td>12906.419922</td>\n",
       "      <td>12565.410156</td>\n",
       "      <td>12589.070313</td>\n",
       "      <td>12589.070313</td>\n",
       "      <td>322690000</td>\n",
       "    </tr>\n",
       "  </tbody>\n",
       "</table>\n",
       "</div>"
      ],
      "text/plain": [
       "         Date          Open          High           Low         Close  \\\n",
       "0  2008-01-02  13261.820313  13279.540039  12991.370117  13043.959961   \n",
       "1  2008-01-03  13044.120117  13137.929688  13023.559570  13056.719727   \n",
       "2  2008-01-04  13046.559570  13046.719727  12789.040039  12800.179688   \n",
       "3  2008-01-07  12801.150391  12884.150391  12733.839844  12827.490234   \n",
       "4  2008-01-08  12820.900391  12906.419922  12565.410156  12589.070313   \n",
       "\n",
       "      Adj Close     Volume  \n",
       "0  13043.959961  239580000  \n",
       "1  13056.719727  200620000  \n",
       "2  12800.179688  304210000  \n",
       "3  12827.490234  306700000  \n",
       "4  12589.070313  322690000  "
      ]
     },
     "execution_count": 7,
     "metadata": {},
     "output_type": "execute_result"
    }
   ],
   "source": [
    "# %% load nasdaq dataset\n",
    "\n",
    "# file to read\n",
    "in_file = os.path.join(wd, 'data', 'stockMarketData', '^dji.csv')\n",
    "\n",
    "# read data\n",
    "df = pd.read_csv(in_file)\n",
    "\n",
    "df.head()"
   ]
  },
  {
   "cell_type": "code",
   "execution_count": 8,
   "metadata": {
    "ExecuteTime": {
     "end_time": "2020-10-29T15:56:36.668928Z",
     "start_time": "2020-10-29T15:56:36.645358Z"
    }
   },
   "outputs": [
    {
     "name": "stdout",
     "output_type": "stream",
     "text": [
      "<class 'pandas.core.frame.DataFrame'>\n",
      "RangeIndex: 504 entries, 0 to 503\n",
      "Data columns (total 7 columns):\n",
      " #   Column     Non-Null Count  Dtype  \n",
      "---  ------     --------------  -----  \n",
      " 0   date       504 non-null    object \n",
      " 1   open       504 non-null    float64\n",
      " 2   high       504 non-null    float64\n",
      " 3   low        504 non-null    float64\n",
      " 4   close      504 non-null    float64\n",
      " 5   adj_close  504 non-null    float64\n",
      " 6   volume     504 non-null    int64  \n",
      "dtypes: float64(5), int64(1), object(1)\n",
      "memory usage: 27.7+ KB\n"
     ]
    }
   ],
   "source": [
    "# cleaning\n",
    "old_cols = df.columns\n",
    "new_cols = ['date', 'open', 'high', 'low', 'close', 'adj_close', 'volume']\n",
    "\n",
    "# no need type it out 1 by 1 in a dictionary\n",
    "df.rename(columns=dict(zip(old_cols, new_cols)), inplace=True)\n",
    "\n",
    "# get info\n",
    "df.info()"
   ]
  },
  {
   "cell_type": "code",
   "execution_count": 9,
   "metadata": {
    "ExecuteTime": {
     "end_time": "2020-10-29T15:59:18.091840Z",
     "start_time": "2020-10-29T15:59:18.075007Z"
    }
   },
   "outputs": [
    {
     "name": "stdout",
     "output_type": "stream",
     "text": [
      "<class 'pandas.core.frame.DataFrame'>\n",
      "RangeIndex: 504 entries, 0 to 503\n",
      "Data columns (total 7 columns):\n",
      " #   Column     Non-Null Count  Dtype         \n",
      "---  ------     --------------  -----         \n",
      " 0   date       504 non-null    datetime64[ns]\n",
      " 1   open       504 non-null    float64       \n",
      " 2   high       504 non-null    float64       \n",
      " 3   low        504 non-null    float64       \n",
      " 4   close      504 non-null    float64       \n",
      " 5   adj_close  504 non-null    float64       \n",
      " 6   volume     504 non-null    int64         \n",
      "dtypes: datetime64[ns](1), float64(5), int64(1)\n",
      "memory usage: 27.7 KB\n"
     ]
    }
   ],
   "source": [
    "# data transformation\n",
    "df.loc[:, 'date'] = pd.to_datetime(df['date'])\n",
    "\n",
    "# preview\n",
    "df.info()"
   ]
  },
  {
   "cell_type": "code",
   "execution_count": 10,
   "metadata": {
    "ExecuteTime": {
     "end_time": "2020-10-29T16:26:04.926149Z",
     "start_time": "2020-10-29T16:26:02.258672Z"
    }
   },
   "outputs": [
    {
     "name": "stderr",
     "output_type": "stream",
     "text": [
      "findfont: Font family ['serif'] not found. Falling back to DejaVu Sans.\n"
     ]
    },
    {
     "data": {
      "image/png": "[encoded data removed]",
      "text/plain": [
       "<Figure size 792x576 with 2 Axes>"
      ]
     },
     "metadata": {
      "needs_background": "light"
     },
     "output_type": "display_data"
    }
   ],
   "source": [
    "# %% visualization\n",
    "\n",
    "# figure\n",
    "fig = plt.figure(figsize=(11, 8))\n",
    "# plot\n",
    "ax = fig.add_subplot(111)\n",
    "\n",
    "# data series\n",
    "# --+ slice\n",
    "slice = ((df['date'] >= pd.Timestamp(2008, 9, 1)) &     # the x-axi = time min for the short term period\n",
    "         (df['date'] <= pd.Timestamp(2008, 10, 31)))    # the max \n",
    "# --+ time\n",
    "t = df.loc[slice, 'date']           # getting the date data based on the period that we want\n",
    "dji = df.loc[slice, 'adj_close']    # getting the adj_close data based on the period that we want\n",
    "\n",
    "# plot data\n",
    "ax.plot(t, dji, color='firebrick')\n",
    "\n",
    "# critical events\n",
    "# --+ max\n",
    "min, max = 8050, 11750\n",
    "sep = 100\n",
    "# --+ Leaman Brothers' bankruptcy\n",
    "lb = pd.Timestamp(2008, 9, 15)                      # lb = lehman Brothers \n",
    "lb_y = df.loc[df['date'] == lb,'adj_close'].values  # why df.loc? \n",
    "ax.annotate(\"Leaman Brothers\\nbankruptcy\",\n",
    "            xy=(lb, lb_y + sep), xycoords='data',   # lb_y + sep is the position where we place the arrow\n",
    "            xytext=(lb, max), textcoords='data',    # position of the text\n",
    "            color='dimgrey',\n",
    "            va=\"bottom\", ha=\"center\",\n",
    "            arrowprops=dict(arrowstyle=\"->\", ec=\"dimgrey\",\n",
    "                            connectionstyle=\"arc3\"),)\n",
    "ax.scatter(lb, lb_y, marker='o', color='firebrick', alpha=0.5)  # creating a dot on the date\n",
    "# --+ Emergency Economic Stabilization Act of 2008\n",
    "hr = pd.Timestamp(2008, 10, 3)\n",
    "hr_y = df.loc[df['date'] == hr,'adj_close'].values\n",
    "ax.annotate(\"Bush signs\\nEmer. Econ. Stab. Act\",\n",
    "            xy=(hr, hr_y + sep), xycoords='data',\n",
    "            xytext=(hr, max), textcoords='data',\n",
    "            color='dimgrey',\n",
    "            va=\"bottom\", ha=\"center\",\n",
    "            arrowprops=dict(arrowstyle=\"->\", ec='dimgrey',\n",
    "                            connectionstyle=\"arc3\"),)\n",
    "ax.scatter(hr, hr_y, marker='o', color='firebrick', alpha=0.5)\n",
    "# --+ Fifth negative session\n",
    "fc = pd.Timestamp(2008, 10, 9)\n",
    "fc_y = df.loc[df['date'] == fc,'adj_close'].values\n",
    "ax.annotate(\"DJIA fifth\\n'lower' close\",\n",
    "            xy=(fc, fc_y - sep), xycoords='data',\n",
    "            xytext=(fc, min), textcoords='data',\n",
    "            color='dimgrey',\n",
    "            va=\"bottom\", ha=\"center\",\n",
    "            arrowprops=dict(arrowstyle=\"->\", ec='dimgrey',\n",
    "                            connectionstyle=\"arc3\"),)\n",
    "ax.scatter(fc, fc_y, marker='o', color='firebrick', alpha=0.5)\n",
    "\n",
    "# connections\n",
    "ax.vlines(x=lb, ymax=lb_y, ymin=hr_y, linewidth=1, linestyles='dotted',  \n",
    "          color='dimgrey')\n",
    "ax.hlines(y=hr_y, xmin=lb, xmax=hr, linewidth=1, linestyles='dotted',\n",
    "          color='dimgrey')\n",
    "ax.vlines(x=hr, ymax=hr_y, ymin=fc_y, linewidth=1, linestyles='dotted',\n",
    "          color='dimgrey')\n",
    "ax.hlines(y=fc_y, xmin=hr, xmax=fc, linewidth=1, linestyles='dotted',\n",
    "          color='dimgrey')\n",
    "\n",
    "# lighten borders\n",
    "ax.spines[\"top\"].set_alpha(0)\n",
    "ax.spines[\"bottom\"].set_alpha(.3)\n",
    "ax.spines[\"right\"].set_alpha(0)\n",
    "ax.spines[\"left\"].set_alpha(.3)\n",
    "\n",
    "# axes\n",
    "ax.set_ylabel(r'Down-Jones Index')\n",
    "ax.xaxis.set_tick_params(rotation=90)\n",
    "\n",
    "# inset# draw graph in inset\n",
    "axins = inset_axes(ax, width=3, height=2.2)\n",
    "axins.plot(df['date'], df['adj_close'], color='firebrick')\n",
    "axins.axvspan(pd.Timestamp(2008, 9, 1), pd.Timestamp(2008, 11, 1),\n",
    "              color='gray', alpha=0.5)\n",
    "axins.spines[\"top\"].set_alpha(0)\n",
    "axins.spines[\"bottom\"].set_alpha(.3)\n",
    "axins.spines[\"right\"].set_alpha(0)\n",
    "axins.spines[\"left\"].set_alpha(.3)\n",
    "axins.xaxis.set_tick_params(rotation=90)\n",
    "\n",
    "# save plot\n",
    "out_f = os.path.join(os.getcwd(), 'interrupted_time_series.pdf')\n",
    "fig.savefig(out_f,\n",
    "            transparent=True,\n",
    "            bbox_inches='tight',\n",
    "            pad_inches=0)\n",
    "# show plot\n",
    "plt.show()"
   ]
  },
  {
   "cell_type": "code",
   "execution_count": null,
   "metadata": {},
   "outputs": [],
   "source": []
  }
 ],
 "metadata": {
  "kernelspec": {
   "display_name": "Python 3",
   "language": "python",
   "name": "python3"
  },
  "language_info": {
   "codemirror_mode": {
    "name": "ipython",
    "version": 3
   },
   "file_extension": ".py",
   "mimetype": "text/x-python",
   "name": "python",
   "nbconvert_exporter": "python",
   "pygments_lexer": "ipython3",
   "version": "3.7.6"
  },
  "toc": {
   "base_numbering": 1,
   "nav_menu": {},
   "number_sections": true,
   "sideBar": true,
   "skip_h1_title": false,
   "title_cell": "Table of Contents",
   "title_sidebar": "Contents",
   "toc_cell": false,
   "toc_position": {},
   "toc_section_display": true,
   "toc_window_display": false
  },
  "varInspector": {
   "cols": {
    "lenName": 16,
    "lenType": 16,
    "lenVar": 40
   },
   "kernels_config": {
    "python": {
     "delete_cmd_postfix": "",
     "delete_cmd_prefix": "del ",
     "library": "var_list.py",
     "varRefreshCmd": "print(var_dic_list())"
    },
    "r": {
     "delete_cmd_postfix": ") ",
     "delete_cmd_prefix": "rm(",
     "library": "var_list.r",
     "varRefreshCmd": "cat(var_dic_list()) "
    }
   },
   "types_to_exclude": [
    "module",
    "function",
    "builtin_function_or_method",
    "instance",
    "_Feature"
   ],
   "window_display": false
  }
 },
 "nbformat": 4,
 "nbformat_minor": 4
}
