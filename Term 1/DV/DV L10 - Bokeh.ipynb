{
 "cells": [
  {
   "cell_type": "markdown",
   "metadata": {},
   "source": [
    "## Plotting 'arm' of Bokeh (a simple scatter diagram)"
   ]
  },
  {
   "cell_type": "code",
   "execution_count": 2,
   "metadata": {
    "ExecuteTime": {
     "end_time": "2020-12-04T06:05:54.782471Z",
     "start_time": "2020-12-04T06:05:52.411152Z"
    }
   },
   "outputs": [],
   "source": [
    "# import\n",
    "import pandas as pd\n",
    "from bokeh.plotting import figure, output_file, show"
   ]
  },
  {
   "cell_type": "code",
   "execution_count": 5,
   "metadata": {
    "ExecuteTime": {
     "end_time": "2020-12-04T06:19:35.021050Z",
     "start_time": "2020-12-04T06:19:34.664074Z"
    }
   },
   "outputs": [],
   "source": [
    "# fake data\n",
    "# --+ x\n",
    "x0 = np.random.normal(loc=0, scale=1, size=50)   # produce a length of 50\n",
    "x1 = np.random.normal(loc=0, scale=1, size=50)\n",
    "x2 = np.random.normal(loc=0, scale=1, size=50)\n",
    "# --+ y\n",
    "y0 = 1 + x0 * 1 * np.random.normal(loc=0, scale=0.1)  # y-axis = linear transformation of x\n",
    "y1 = 1 + x1 * 1 * np.random.normal(loc=0, scale=0.2)\n",
    "y2 = 1 + x2 * 1 * np.random.normal(loc=0, scale=0.4)\n",
    "# --+ get a df\n",
    "df0 = pd.DataFrame({'x': x0, 'y': y0, 'z': np.repeat(0, 50)})  # stacking the data over each other\n",
    "df1 = pd.DataFrame({'x': x1, 'y': y1, 'z': np.repeat(1, 50)})  # z can take on the value 0 / 1 / 5\n",
    "df2 = pd.DataFrame({'x': x2, 'y': y2, 'z': np.repeat(5, 50)})  # what does z do in terms of visualisation in a 2D plot?\n",
    "df = pd.concat([df0, df1, df2])\n",
    "\n",
    "# color map\n",
    "colormap = {0: 'orange', 1: 'black', 5: 'purple'}  # labeling the color for each possible value of z = 0/1/5\n",
    "colors = [colormap[x] for x in df['z']]\n",
    "\n",
    "# initialize the figure\n",
    "p = figure(title = \"Some fake data\")\n",
    "\n",
    "# axes\n",
    "p.xaxis.axis_label = 'Consumption of vinegar crisps (stones)'\n",
    "p.yaxis.axis_label = 'Consumption of carbonated drink (gallons)'\n",
    "\n",
    "# plot data\n",
    "p.circle(df[\"x\"], df[\"y\"], color=colors, fill_alpha=0.2, size=10)   # circle = scatter plot in bokeh\n",
    "\n",
    "# dump the chart to a html file\n",
    "output_file(\"at_the_pub.html\", title=\"at_the_pub.py example\")\n",
    "\n",
    "# show the chart\n",
    "show(p)"
   ]
  },
  {
   "cell_type": "markdown",
   "metadata": {},
   "source": [
    "## Model 'arm' of Bokeh"
   ]
  },
  {
   "cell_type": "code",
   "execution_count": 6,
   "metadata": {
    "ExecuteTime": {
     "end_time": "2020-12-04T06:21:03.655389Z",
     "start_time": "2020-12-04T06:21:03.644944Z"
    }
   },
   "outputs": [],
   "source": [
    "# minimal setup\n",
    "import numpy as np\n",
    "from bokeh.io import show\n",
    "from bokeh.layouts import column   # allow us to include multiple visual forms into a same chart\n",
    "from bokeh.models import ColumnDataSource, RangeTool\n",
    "from bokeh.plotting import figure"
   ]
  },
  {
   "cell_type": "code",
   "execution_count": 8,
   "metadata": {
    "ExecuteTime": {
     "end_time": "2020-12-04T06:23:15.321484Z",
     "start_time": "2020-12-04T06:23:02.730329Z"
    },
    "scrolled": true
   },
   "outputs": [
    {
     "name": "stdout",
     "output_type": "stream",
     "text": [
      "Creating C:\\Users\\Kar Whing\\.bokeh directory\n",
      "Creating C:\\Users\\Kar Whing\\.bokeh\\data directory\n",
      "Using data directory: C:\\Users\\Kar Whing\\.bokeh\\data\n",
      "Downloading: CGM.csv (1589982 bytes)\n",
      "   1589982 [100.00%]\n",
      "Downloading: US_Counties.zip (3171836 bytes)\n",
      "   3171836 [100.00%]\n",
      "Unpacking: US_Counties.csv\n",
      "Downloading: us_cities.json (713565 bytes)\n",
      "    713565 [100.00%]\n",
      "Downloading: unemployment09.csv (253301 bytes)\n",
      "    253301 [100.00%]\n",
      "Downloading: AAPL.csv (166698 bytes)\n",
      "    166698 [100.00%]\n",
      "Downloading: FB.csv (9706 bytes)\n",
      "      9706 [100.00%]\n",
      "Downloading: GOOG.csv (113894 bytes)\n",
      "    113894 [100.00%]\n",
      "Downloading: IBM.csv (165625 bytes)\n",
      "    165625 [100.00%]\n",
      "Downloading: MSFT.csv (161614 bytes)\n",
      "    161614 [100.00%]\n",
      "Downloading: WPP2012_SA_DB03_POPULATION_QUINQUENNIAL.zip (4816256 bytes)\n",
      "   4816256 [100.00%]\n",
      "Unpacking: WPP2012_SA_DB03_POPULATION_QUINQUENNIAL.csv\n",
      "Downloading: gapminder_fertility.csv (64346 bytes)\n",
      "     64346 [100.00%]\n",
      "Downloading: gapminder_population.csv (94509 bytes)\n",
      "     94509 [100.00%]\n",
      "Downloading: gapminder_life_expectancy.csv (73243 bytes)\n",
      "     73243 [100.00%]\n",
      "Downloading: gapminder_regions.csv (7781 bytes)\n",
      "      7781 [100.00%]\n",
      "Downloading: world_cities.zip (645274 bytes)\n",
      "    645274 [100.00%]\n",
      "Unpacking: world_cities.csv\n",
      "Downloading: airports.json (6373 bytes)\n",
      "      6373 [100.00%]\n",
      "Downloading: movies.db.zip (5053420 bytes)\n",
      "   5053420 [100.00%]\n",
      "Unpacking: movies.db\n",
      "Downloading: airports.csv (203190 bytes)\n",
      "    203190 [100.00%]\n",
      "Downloading: routes.csv (377280 bytes)\n",
      "    377280 [100.00%]\n",
      "Downloading: haarcascade_frontalface_default.xml (930127 bytes)\n",
      "    930127 [100.00%]\n"
     ]
    }
   ],
   "source": [
    "# sample data\n",
    "import bokeh.sampledata\n",
    "bokeh.sampledata.download()\n",
    "from bokeh.sampledata.stocks import AAPL"
   ]
  },
  {
   "cell_type": "code",
   "execution_count": 17,
   "metadata": {
    "ExecuteTime": {
     "end_time": "2020-12-04T07:26:06.832460Z",
     "start_time": "2020-12-04T07:26:06.640115Z"
    }
   },
   "outputs": [],
   "source": [
    "# data manipulation\n",
    "dates = np.array(AAPL['date'], dtype=np.datetime64)\n",
    "source = ColumnDataSource(data=dict(date=dates, close=AAPL['adj_close']))\n",
    "\n",
    "# initialize the plot\n",
    "p = figure(plot_height=300, plot_width=800,                  # plot size\n",
    "           tools=\"xpan\", toolbar_location=None,              # tools\n",
    "           x_axis_type=\"datetime\", x_axis_location=\"above\",  # make x-axis at the top of the chart\n",
    "           x_range=(dates[1000], dates[2500],),              # the time frame you want to inspect \n",
    "           background_fill_color=\"#efefef\")                  # background )\n",
    "\n",
    "# plot data\n",
    "p.line('date', 'close', source=source)\n",
    "\n",
    "# decorations\n",
    "p.yaxis.axis_label = 'Price'\n",
    "\n",
    "# initialize lower panel plot\n",
    "select = figure(title=\"Drag the middle and edges of the selection box to change the range above\",\n",
    "                plot_height=130, plot_width=800, y_range=p.y_range,\n",
    "                x_axis_type=\"datetime\", y_axis_type=None,\n",
    "                tools=\"\", toolbar_location=None, background_fill_color=\"#efefef\")\n",
    "\n",
    "# initialize data selector \n",
    "range_tool = RangeTool(x_range=p.x_range)  # allow us to inspect the data in a specific time frame only\n",
    "range_tool.overlay.fill_color = \"navy\"\n",
    "range_tool.overlay.fill_alpha = 0.2\n",
    "\n",
    "# plot data\n",
    "select.line('date', 'close', source=source)\n",
    "select.ygrid.grid_line_color = None\n",
    "\n",
    "# add selector\n",
    "select.add_tools(range_tool)   # add the range_tool\n",
    "select.toolbar.active_multi = range_tool\n",
    "\n",
    "# show plot\n",
    "show(column(p, select))"
   ]
  },
  {
   "cell_type": "code",
   "execution_count": null,
   "metadata": {},
   "outputs": [],
   "source": []
  }
 ],
 "metadata": {
  "kernelspec": {
   "display_name": "Python 3",
   "language": "python",
   "name": "python3"
  },
  "language_info": {
   "codemirror_mode": {
    "name": "ipython",
    "version": 3
   },
   "file_extension": ".py",
   "mimetype": "text/x-python",
   "name": "python",
   "nbconvert_exporter": "python",
   "pygments_lexer": "ipython3",
   "version": "3.7.8"
  },
  "latex_envs": {
   "LaTeX_envs_menu_present": true,
   "autoclose": false,
   "autocomplete": true,
   "bibliofile": "biblio.bib",
   "cite_by": "apalike",
   "current_citInitial": 1,
   "eqLabelWithNumbers": true,
   "eqNumInitial": 1,
   "hotkeys": {
    "equation": "Ctrl-E",
    "itemize": "Ctrl-I"
   },
   "labels_anchors": false,
   "latex_user_defs": false,
   "report_style_numbering": false,
   "user_envs_cfg": false
  },
  "toc": {
   "base_numbering": 1,
   "nav_menu": {},
   "number_sections": true,
   "sideBar": true,
   "skip_h1_title": false,
   "title_cell": "Table of Contents",
   "title_sidebar": "Contents",
   "toc_cell": false,
   "toc_position": {},
   "toc_section_display": true,
   "toc_window_display": false
  },
  "varInspector": {
   "cols": {
    "lenName": 16,
    "lenType": 16,
    "lenVar": 40
   },
   "kernels_config": {
    "python": {
     "delete_cmd_postfix": "",
     "delete_cmd_prefix": "del ",
     "library": "var_list.py",
     "varRefreshCmd": "print(var_dic_list())"
    },
    "r": {
     "delete_cmd_postfix": ") ",
     "delete_cmd_prefix": "rm(",
     "library": "var_list.r",
     "varRefreshCmd": "cat(var_dic_list()) "
    }
   },
   "types_to_exclude": [
    "module",
    "function",
    "builtin_function_or_method",
    "instance",
    "_Feature"
   ],
   "window_display": false
  }
 },
 "nbformat": 4,
 "nbformat_minor": 4
}
