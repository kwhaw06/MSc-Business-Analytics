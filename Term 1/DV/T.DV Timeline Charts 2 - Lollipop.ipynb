{
 "cells": [
  {
   "cell_type": "code",
   "execution_count": 1,
   "metadata": {
    "ExecuteTime": {
     "end_time": "2020-10-28T10:45:06.786312Z",
     "start_time": "2020-10-28T10:45:06.174024Z"
    }
   },
   "outputs": [],
   "source": [
    "# %% load libraries\n",
    "import os\n",
    "import matplotlib.pyplot as plt\n",
    "import pandas as pd\n",
    "from matplotlib import rc"
   ]
  },
  {
   "cell_type": "code",
   "execution_count": 6,
   "metadata": {
    "ExecuteTime": {
     "end_time": "2020-10-28T10:45:40.835866Z",
     "start_time": "2020-10-28T10:45:40.822898Z"
    }
   },
   "outputs": [],
   "source": [
    "# %%  matplotlib viz setup\n",
    "rc('font',**{'family':'serif','serif':['Avant Garde']})\n",
    "rc('text', usetex=False)"
   ]
  },
  {
   "cell_type": "code",
   "execution_count": 3,
   "metadata": {
    "ExecuteTime": {
     "end_time": "2020-10-28T10:45:19.254795Z",
     "start_time": "2020-10-28T10:45:19.246279Z"
    }
   },
   "outputs": [],
   "source": [
    "# %% setup\n",
    "wd = os.getcwd()"
   ]
  },
  {
   "cell_type": "code",
   "execution_count": 4,
   "metadata": {
    "ExecuteTime": {
     "end_time": "2020-10-28T10:45:25.390394Z",
     "start_time": "2020-10-28T10:45:25.213990Z"
    }
   },
   "outputs": [],
   "source": [
    "# %% read data\n",
    "\n",
    "# target data file\n",
    "in_file = os.path.join(wd, 'data', 'movieIndustry', 'lead_actor_race.csv')\n",
    "\n",
    "# df\n",
    "df = pd.read_csv(in_file)"
   ]
  },
  {
   "cell_type": "code",
   "execution_count": 10,
   "metadata": {
    "ExecuteTime": {
     "end_time": "2020-10-28T10:59:33.871957Z",
     "start_time": "2020-10-28T10:59:33.856998Z"
    }
   },
   "outputs": [],
   "source": [
    "# read data\n",
    "years, n, perc = [], [], []\n",
    "with open(in_file, 'r') as pipe:\n",
    "    for line in pipe.readlines()[1:]:   # start from the second row because first row is the headers of each column \n",
    "        parsed = line.split(',')\n",
    "        years.append(int(parsed[0]))\n",
    "        n.append(int(parsed[1]))\n",
    "        perc.append(float(parsed[2].strip()))"
   ]
  },
  {
   "cell_type": "code",
   "execution_count": 15,
   "metadata": {
    "ExecuteTime": {
     "end_time": "2020-10-28T11:05:57.936731Z",
     "start_time": "2020-10-28T11:05:56.850050Z"
    }
   },
   "outputs": [
    {
     "data": {
      "image/png": "[encoded data removed]",
      "text/plain": [
       "<Figure size 432x288 with 1 Axes>"
      ]
     },
     "metadata": {
      "needs_background": "light"
     },
     "output_type": "display_data"
    }
   ],
   "source": [
    "# %% viz\n",
    "\n",
    "# figure\n",
    "fig = plt.figure(figsize=(6, 4))\n",
    "\n",
    "# add plot\n",
    "ax = fig.add_subplot(111)\n",
    "\n",
    "# plot data\n",
    "ax.scatter(df['year'], df['minority'], marker='o', color='firebrick',\n",
    "           edgecolor='w')\n",
    "ax.vlines(x=df['year'], ymin=0, ymax=df['minority'] - 1, color='firebrick',\n",
    "          alpha=0.7, linewidth=1)\n",
    "\n",
    "# text boxes\n",
    "for i in range(len(years)):\n",
    "    x_pos = years[i]\n",
    "    y_pos = perc[i] + 2\n",
    "    string = '% s'% perc[i]\n",
    "    ax.text(x_pos, y_pos, string, horizontalalignment='center', \n",
    "            verticalalignment='top')\n",
    "\n",
    "# axes\n",
    "ax.set_xlabel('Year')\n",
    "ax.set_ylabel('Percentage of leading\\nroles played by minorities')\n",
    "\n",
    "\n",
    "# hide the right and top spines\n",
    "ax.spines['right'].set_visible(False)\n",
    "ax.spines['top'].set_visible(False)\n",
    "ax.spines['bottom'].set_visible(False)\n",
    "ax.spines['left'].set_visible(False)\n",
    "\n",
    "# save plot\n",
    "out_f = os.path.join(os.getcwd(), 'lollipop_chart.png')\n",
    "plt.savefig(out_f,\n",
    "            transparent=True,\n",
    "            bbox_inches='tight',\n",
    "            pad_inches=0,\n",
    "            dpi=600)\n",
    "\n",
    "# show plot\n",
    "plt.show()"
   ]
  },
  {
   "cell_type": "code",
   "execution_count": null,
   "metadata": {},
   "outputs": [],
   "source": []
  }
 ],
 "metadata": {
  "kernelspec": {
   "display_name": "Python 3",
   "language": "python",
   "name": "python3"
  },
  "language_info": {
   "codemirror_mode": {
    "name": "ipython",
    "version": 3
   },
   "file_extension": ".py",
   "mimetype": "text/x-python",
   "name": "python",
   "nbconvert_exporter": "python",
   "pygments_lexer": "ipython3",
   "version": "3.7.6"
  },
  "toc": {
   "base_numbering": 1,
   "nav_menu": {},
   "number_sections": true,
   "sideBar": true,
   "skip_h1_title": false,
   "title_cell": "Table of Contents",
   "title_sidebar": "Contents",
   "toc_cell": false,
   "toc_position": {},
   "toc_section_display": true,
   "toc_window_display": false
  },
  "varInspector": {
   "cols": {
    "lenName": 16,
    "lenType": 16,
    "lenVar": 40
   },
   "kernels_config": {
    "python": {
     "delete_cmd_postfix": "",
     "delete_cmd_prefix": "del ",
     "library": "var_list.py",
     "varRefreshCmd": "print(var_dic_list())"
    },
    "r": {
     "delete_cmd_postfix": ") ",
     "delete_cmd_prefix": "rm(",
     "library": "var_list.r",
     "varRefreshCmd": "cat(var_dic_list()) "
    }
   },
   "types_to_exclude": [
    "module",
    "function",
    "builtin_function_or_method",
    "instance",
    "_Feature"
   ],
   "window_display": false
  }
 },
 "nbformat": 4,
 "nbformat_minor": 4
}
