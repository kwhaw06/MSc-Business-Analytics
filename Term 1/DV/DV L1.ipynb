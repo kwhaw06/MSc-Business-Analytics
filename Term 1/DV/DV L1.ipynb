{
 "cells": [
  {
   "cell_type": "code",
   "execution_count": 3,
   "metadata": {
    "ExecuteTime": {
     "end_time": "2020-10-05T06:36:51.669005Z",
     "start_time": "2020-10-05T06:36:51.660018Z"
    }
   },
   "outputs": [],
   "source": [
    "# Loading libraries\n",
    "import matplotlib.pyplot as plt\n",
    "import numpy as np"
   ]
  },
  {
   "cell_type": "code",
   "execution_count": 4,
   "metadata": {
    "ExecuteTime": {
     "end_time": "2020-10-05T06:37:16.604474Z",
     "start_time": "2020-10-05T06:37:16.569565Z"
    }
   },
   "outputs": [
    {
     "data": {
      "text/plain": [
       "array([ 0.16831024,  0.42864548,  1.40494864, -0.88323489,  0.95192531,\n",
       "        0.42368167, -0.38130193, -0.4985884 ,  0.40125214, -1.0364812 ,\n",
       "        1.16101696,  0.379898  ,  1.72363685,  1.22095771, -0.79117947,\n",
       "        0.83121604,  1.57945766,  0.24647375,  0.7298296 ,  0.87618979,\n",
       "       -0.01107172, -0.68700325, -0.31004955,  1.53166411,  1.40357656,\n",
       "        0.37687676,  0.57305378, -1.32158186, -0.03431754, -1.24552671,\n",
       "       -0.06515385,  0.0227751 , -2.02736684,  0.22368684, -0.64308397,\n",
       "        0.16231947, -0.06580144,  0.0108252 , -0.06191812, -1.62442233,\n",
       "        1.92356255, -1.25554656, -1.70979781,  1.04935505, -2.80114391,\n",
       "        1.55084682, -0.20592737,  0.08567318,  0.5828206 ,  0.31269594,\n",
       "       -0.84942361,  1.70656057,  0.27416842,  0.53439088, -1.63300976,\n",
       "        0.64599113, -0.66617968, -0.16741604, -0.57441626, -0.15831571,\n",
       "        0.77813485,  1.24460423, -1.16692277,  0.85659565, -1.42241334,\n",
       "        0.45524288, -1.27436222,  0.77881771,  0.2460092 , -1.26541605,\n",
       "        1.59899291,  0.48109422,  0.07625778,  1.3678936 , -0.61424547,\n",
       "        1.53427993, -1.18343484, -0.72138895, -1.11575031, -0.43103006,\n",
       "       -2.25343671, -0.00753279, -0.55884218, -0.37754912, -1.05216413,\n",
       "       -1.88024811,  0.75177024, -0.34940123,  0.68202117,  0.83088736,\n",
       "       -1.27943322, -0.60586567, -1.37116185,  1.07059126,  0.16362742,\n",
       "        1.73334616,  2.13055096, -0.39564266,  0.56950213,  1.05667773])"
      ]
     },
     "execution_count": 4,
     "metadata": {},
     "output_type": "execute_result"
    }
   ],
   "source": [
    "# Generating fake data\n",
    "x = np.random.randn(100)\n",
    "x"
   ]
  },
  {
   "cell_type": "code",
   "execution_count": 5,
   "metadata": {
    "ExecuteTime": {
     "end_time": "2020-10-05T06:38:48.920155Z",
     "start_time": "2020-10-05T06:38:48.619466Z"
    }
   },
   "outputs": [
    {
     "data": {
      "image/png": "[encoded data removed]",
      "text/plain": [
       "<Figure size 288x288 with 1 Axes>"
      ]
     },
     "metadata": {
      "needs_background": "light"
     },
     "output_type": "display_data"
    }
   ],
   "source": [
    "# Plot\n",
    "\n",
    "# Initialize a new figure\n",
    "fig = plt.figure(figsize=(4,4))\n",
    "\n",
    "# Populating the figure with a plot\n",
    "ax = fig.add_subplot(1,1,1)"
   ]
  },
  {
   "cell_type": "code",
   "execution_count": null,
   "metadata": {},
   "outputs": [],
   "source": [
    "# Plot\n",
    "\n",
    "# Initialize a new figure\n",
    "fig = plt.figure(figsize=(4,4))\n",
    "\n",
    "# Populating the figure with a plot\n",
    "ax = fig.add_subplot(1,1,1)\n",
    "\n",
    "# Plot the data\n",
    "ax.hist()"
   ]
  }
 ],
 "metadata": {
  "kernelspec": {
   "display_name": "Python 3",
   "language": "python",
   "name": "python3"
  },
  "language_info": {
   "codemirror_mode": {
    "name": "ipython",
    "version": 3
   },
   "file_extension": ".py",
   "mimetype": "text/x-python",
   "name": "python",
   "nbconvert_exporter": "python",
   "pygments_lexer": "ipython3",
   "version": "3.8.5"
  },
  "toc": {
   "base_numbering": 1,
   "nav_menu": {},
   "number_sections": true,
   "sideBar": true,
   "skip_h1_title": false,
   "title_cell": "Table of Contents",
   "title_sidebar": "Contents",
   "toc_cell": false,
   "toc_position": {},
   "toc_section_display": true,
   "toc_window_display": false
  },
  "varInspector": {
   "cols": {
    "lenName": 16,
    "lenType": 16,
    "lenVar": 40
   },
   "kernels_config": {
    "python": {
     "delete_cmd_postfix": "",
     "delete_cmd_prefix": "del ",
     "library": "var_list.py",
     "varRefreshCmd": "print(var_dic_list())"
    },
    "r": {
     "delete_cmd_postfix": ") ",
     "delete_cmd_prefix": "rm(",
     "library": "var_list.r",
     "varRefreshCmd": "cat(var_dic_list()) "
    }
   },
   "types_to_exclude": [
    "module",
    "function",
    "builtin_function_or_method",
    "instance",
    "_Feature"
   ],
   "window_display": false
  }
 },
 "nbformat": 4,
 "nbformat_minor": 4
}
