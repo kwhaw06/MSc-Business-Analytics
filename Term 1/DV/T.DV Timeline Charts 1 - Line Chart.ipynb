{
 "cells": [
  {
   "cell_type": "code",
   "execution_count": 1,
   "metadata": {
    "ExecuteTime": {
     "end_time": "2020-10-28T10:09:59.224979Z",
     "start_time": "2020-10-28T10:09:36.958227Z"
    }
   },
   "outputs": [],
   "source": [
    "import os\n",
    "import pandas as pd\n",
    "import statsmodels.api as sm\n",
    "import matplotlib.pyplot as plt\n",
    "from matplotlib import rc"
   ]
  },
  {
   "cell_type": "markdown",
   "metadata": {},
   "source": [
    "# Tufte's Line Chart"
   ]
  },
  {
   "cell_type": "code",
   "execution_count": 14,
   "metadata": {
    "ExecuteTime": {
     "end_time": "2020-10-28T10:41:03.918476Z",
     "start_time": "2020-10-28T10:41:03.899768Z"
    }
   },
   "outputs": [],
   "source": [
    "# %%  matplotlib viz setup\n",
    "rc('font',**{'family':'sans-serif','sans-serif':['Avant Garde']})\n",
    "rc('text', usetex=False)"
   ]
  },
  {
   "cell_type": "code",
   "execution_count": 3,
   "metadata": {
    "ExecuteTime": {
     "end_time": "2020-10-28T10:18:09.409388Z",
     "start_time": "2020-10-28T10:18:09.396405Z"
    }
   },
   "outputs": [],
   "source": [
    "# %% setup\n",
    "wd = os.getcwd()"
   ]
  },
  {
   "cell_type": "code",
   "execution_count": 4,
   "metadata": {
    "ExecuteTime": {
     "end_time": "2020-10-28T10:18:19.423231Z",
     "start_time": "2020-10-28T10:18:19.406290Z"
    }
   },
   "outputs": [],
   "source": [
    "# %% load dataset\n",
    "\n",
    "# file to source\n",
    "in_file = os.path.join(wd, 'data', 'movieIndustry', 'lead_actor_race.csv')\n",
    "\n",
    "# read data\n",
    "years, n, perc = [], [], []\n",
    "with open(in_file, 'r') as pipe:\n",
    "    for line in pipe.readlines()[1:]:   # start from the second row because first row is the headers of each column \n",
    "        parsed = line.split(',')\n",
    "        years.append(int(parsed[0]))\n",
    "        n.append(int(parsed[1]))\n",
    "        perc.append(float(parsed[2].strip()))"
   ]
  },
  {
   "cell_type": "code",
   "execution_count": 5,
   "metadata": {
    "ExecuteTime": {
     "end_time": "2020-10-28T10:19:13.905939Z",
     "start_time": "2020-10-28T10:19:13.892913Z"
    }
   },
   "outputs": [
    {
     "data": {
      "text/plain": [
       "[2011, 2012, 2013, 2014, 2015, 2016, 2017, 2018, 2019]"
      ]
     },
     "execution_count": 5,
     "metadata": {},
     "output_type": "execute_result"
    }
   ],
   "source": [
    "years"
   ]
  },
  {
   "cell_type": "code",
   "execution_count": 6,
   "metadata": {
    "ExecuteTime": {
     "end_time": "2020-10-28T10:19:16.583603Z",
     "start_time": "2020-10-28T10:19:16.576649Z"
    }
   },
   "outputs": [
    {
     "data": {
      "text/plain": [
       "[172, 172, 174, 163, 168, 173, 167, 139, 145]"
      ]
     },
     "execution_count": 6,
     "metadata": {},
     "output_type": "execute_result"
    }
   ],
   "source": [
    "n"
   ]
  },
  {
   "cell_type": "code",
   "execution_count": 7,
   "metadata": {
    "ExecuteTime": {
     "end_time": "2020-10-28T10:19:18.162916Z",
     "start_time": "2020-10-28T10:19:18.144129Z"
    }
   },
   "outputs": [
    {
     "data": {
      "text/plain": [
       "[10.5, 15.1, 16.7, 12.9, 13.6, 13.9, 19.8, 26.6, 27.6]"
      ]
     },
     "execution_count": 7,
     "metadata": {},
     "output_type": "execute_result"
    }
   ],
   "source": [
    "perc"
   ]
  },
  {
   "cell_type": "code",
   "execution_count": 15,
   "metadata": {
    "ExecuteTime": {
     "end_time": "2020-10-28T10:41:09.498250Z",
     "start_time": "2020-10-28T10:41:06.280356Z"
    }
   },
   "outputs": [
    {
     "name": "stderr",
     "output_type": "stream",
     "text": [
      "findfont: Font family ['sans-serif'] not found. Falling back to DejaVu Sans.\n"
     ]
    },
    {
     "data": {
      "image/png": "[encoded data removed]",
      "text/plain": [
       "<Figure size 432x288 with 2 Axes>"
      ]
     },
     "metadata": {
      "needs_background": "light"
     },
     "output_type": "display_data"
    }
   ],
   "source": [
    "# %% viz\n",
    "\n",
    "# create figure\n",
    "fig = plt.figure(figsize=(6, 4))\n",
    "\n",
    "# add plot\n",
    "ax = fig.add_subplot(111)\n",
    "\n",
    "# populate plot\n",
    "ax.plot(years, n, marker='o', color='k', markersize=6, markerfacecolor='k',\n",
    "        markeredgecolor='w', markeredgewidth=2)\n",
    "\n",
    "# hide the right and top spines\n",
    "ax.spines['right'].set_visible(False)\n",
    "ax.spines['top'].set_visible(False)\n",
    "ax.spines['bottom'].set_visible(False)\n",
    "ax.spines['left'].set_visible(False)\n",
    "\n",
    "#  axes\n",
    "ax.set_xlabel('Year')\n",
    "ax.set_xticks(years)\n",
    "labels = []\n",
    "for i in years:\n",
    "    if i % 2 !=0:\n",
    "        labels.append(str(i))\n",
    "    else:\n",
    "        labels.append('')\n",
    "ax.set_xticklabels(labels, rotation=90)\n",
    "ax.set_ylabel('Counts of minority artists\\nin leading roles')\n",
    "\n",
    "# secondary axis\n",
    "axr = ax.twinx()\n",
    "axr.plot(years, perc, marker='o', color='firebrick', markersize=6,\n",
    "         markerfacecolor='grey', markeredgecolor='white', markeredgewidth=2)\n",
    "\n",
    "# hide the right and top spines\n",
    "axr.spines['right'].set_visible(False)\n",
    "axr.spines['top'].set_visible(False)\n",
    "axr.spines['bottom'].set_visible(False)\n",
    "axr.spines['left'].set_visible(False)\n",
    "\n",
    "# axes\n",
    "axr.set_ylabel('Percentage of minority artists\\nin leading roles')\n",
    "\n",
    "# save plot to file\n",
    "out_f = os.path.join(os.getcwd(), 'tufte_linechart.png')\n",
    "plt.savefig(out_f,\n",
    "            transparent=True,\n",
    "            bbox_inches='tight',\n",
    "            pad_inches=0,\n",
    "            dpi=600)\n",
    "\n",
    "# show plot\n",
    "plt.show()"
   ]
  },
  {
   "cell_type": "code",
   "execution_count": null,
   "metadata": {},
   "outputs": [],
   "source": []
  }
 ],
 "metadata": {
  "kernelspec": {
   "display_name": "Python 3",
   "language": "python",
   "name": "python3"
  },
  "language_info": {
   "codemirror_mode": {
    "name": "ipython",
    "version": 3
   },
   "file_extension": ".py",
   "mimetype": "text/x-python",
   "name": "python",
   "nbconvert_exporter": "python",
   "pygments_lexer": "ipython3",
   "version": "3.7.6"
  },
  "toc": {
   "base_numbering": 1,
   "nav_menu": {},
   "number_sections": true,
   "sideBar": true,
   "skip_h1_title": false,
   "title_cell": "Table of Contents",
   "title_sidebar": "Contents",
   "toc_cell": false,
   "toc_position": {},
   "toc_section_display": true,
   "toc_window_display": false
  },
  "varInspector": {
   "cols": {
    "lenName": 16,
    "lenType": 16,
    "lenVar": 40
   },
   "kernels_config": {
    "python": {
     "delete_cmd_postfix": "",
     "delete_cmd_prefix": "del ",
     "library": "var_list.py",
     "varRefreshCmd": "print(var_dic_list())"
    },
    "r": {
     "delete_cmd_postfix": ") ",
     "delete_cmd_prefix": "rm(",
     "library": "var_list.r",
     "varRefreshCmd": "cat(var_dic_list()) "
    }
   },
   "types_to_exclude": [
    "module",
    "function",
    "builtin_function_or_method",
    "instance",
    "_Feature"
   ],
   "window_display": false
  }
 },
 "nbformat": 4,
 "nbformat_minor": 4
}
