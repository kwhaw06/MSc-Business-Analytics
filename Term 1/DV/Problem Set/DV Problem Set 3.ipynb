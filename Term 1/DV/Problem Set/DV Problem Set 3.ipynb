{
 "cells": [
  {
   "cell_type": "markdown",
   "metadata": {},
   "source": [
    "<b><font size=\"5\">Problem Set 3</font></b>"
   ]
  },
  {
   "cell_type": "markdown",
   "metadata": {},
   "source": [
    "<b>Context</b> : Consider the dataset '[Impact of COVID-19 on worldwide aviation](https://zenodo.org/record/4088202#.X5NaZXVKgio)', which concerns the impact of global pandemic on the airline industry.\n",
    "\n",
    "<b>Task</b>: Create <b>ONE</b> Matplotlib figure that illustrates the effect of the global pandemic on the airline industry. There are no constraints about the dimensions to include in the figure ― in other words, students are free to emphasize the aspects they find more interesting. However, the plot(s) included in the Matplotlib figure(s) must include the temporal dimension.\n",
    "\n",
    "<b>Submission</b>: Submit your solution via email to simone.santoni.1@city.ac.uk. Late submissions (> October 28, 2020) may not be considered for the in-class presentations."
   ]
  },
  {
   "cell_type": "markdown",
   "metadata": {
    "ExecuteTime": {
     "end_time": "2020-11-06T07:05:22.970557Z",
     "start_time": "2020-11-06T07:05:22.959216Z"
    }
   },
   "source": [
    "<b><font size=\"5\">Description of the dataset</font></b>\n",
    "\n",
    "One file per month is provided as a csv file with the following features:\n",
    "\n",
    "- callsign: the identifier of the flight displayed on ATC screens (usually the first three letters are reserved for an airline: AFR for Air France, DLH for Lufthansa, etc.)\n",
    "- number: the commercial number of the flight, when available (the matching with the callsign comes from public open API)\n",
    "- icao24: the transponder unique identification number;\n",
    "- registration: the aircraft tail number (when available);\n",
    "- typecode: the aircraft model type (when available);\n",
    "- origin: a four letter code for the origin airport of the flight (when available);\n",
    "- destination: a four letter code for the destination airport of the flight (when available);\n",
    "- firstseen: the UTC timestamp of the first message received by the OpenSky Network;\n",
    "- lastseen: the UTC timestamp of the last message received by the OpenSky Network;\n",
    "- day: the UTC day of the last message received by the OpenSky Network;\n",
    "- latitude_1, longitude_1, altitude_1: the first detected position of the aircraft;\n",
    "- latitude_2, longitude_2, altitude_2: the last detected position of the aircraft."
   ]
  },
  {
   "cell_type": "markdown",
   "metadata": {},
   "source": [
    "# Import relevant libraries"
   ]
  },
  {
   "cell_type": "code",
   "execution_count": 1,
   "metadata": {
    "ExecuteTime": {
     "end_time": "2021-01-17T10:21:49.789616Z",
     "start_time": "2021-01-17T10:21:42.336678Z"
    }
   },
   "outputs": [],
   "source": [
    "import os\n",
    "import glob\n",
    "import numpy as np\n",
    "import pandas as pd\n",
    "import matplotlib.pyplot as plt"
   ]
  },
  {
   "cell_type": "markdown",
   "metadata": {},
   "source": [
    "# Import dataset\n",
    "\n",
    "Datasets includes flight data from Jan to June in 2019 and 2020"
   ]
  },
  {
   "cell_type": "code",
   "execution_count": 2,
   "metadata": {
    "ExecuteTime": {
     "end_time": "2021-01-17T10:21:52.882119Z",
     "start_time": "2021-01-17T10:21:52.863182Z"
    }
   },
   "outputs": [],
   "source": [
    "# get datasets folder path\n",
    "base_path = os.path.join(os.getcwd(), 'PS3_Data')   # locate the path where all the csv files are stored\n",
    "data_2019_path = os.path.join(base_path, '2019')    # within the file, go to the 2019 folder\n",
    "data_2020_path = os.path.join(base_path, '2020')    # within the file, go to the 2020 folder\n",
    "\n",
    "# get datasets path\n",
    "files_2019_path = glob.glob(os.path.join(data_2019_path, '*.csv.gz'))\n",
    "files_2020_path = glob.glob(os.path.join(data_2020_path, '*.csv.gz'))"
   ]
  },
  {
   "cell_type": "code",
   "execution_count": 42,
   "metadata": {
    "ExecuteTime": {
     "end_time": "2021-01-17T10:45:51.355832Z",
     "start_time": "2021-01-17T10:42:48.108144Z"
    }
   },
   "outputs": [
    {
     "name": "stderr",
     "output_type": "stream",
     "text": [
      "D:\\Anaconda\\envs\\SMM635 - DV\\lib\\site-packages\\ipykernel_launcher.py:2: DtypeWarning: Columns (1) have mixed types.Specify dtype option on import or set low_memory=False.\n",
      "  \n"
     ]
    }
   ],
   "source": [
    "# import data\n",
    "data_2019 = pd.concat(pd.read_csv(file) for file in files_2019_path)\n",
    "data_2020 = pd.concat(pd.read_csv(file) for file in files_2020_path)"
   ]
  },
  {
   "cell_type": "markdown",
   "metadata": {},
   "source": [
    "# Data Exploration and Processing"
   ]
  },
  {
   "cell_type": "code",
   "execution_count": 4,
   "metadata": {
    "ExecuteTime": {
     "end_time": "2021-01-17T10:24:54.240644Z",
     "start_time": "2021-01-17T10:24:54.127578Z"
    },
    "scrolled": true
   },
   "outputs": [
    {
     "data": {
      "text/html": [
       "<div>\n",
       "<style scoped>\n",
       "    .dataframe tbody tr th:only-of-type {\n",
       "        vertical-align: middle;\n",
       "    }\n",
       "\n",
       "    .dataframe tbody tr th {\n",
       "        vertical-align: top;\n",
       "    }\n",
       "\n",
       "    .dataframe thead th {\n",
       "        text-align: right;\n",
       "    }\n",
       "</style>\n",
       "<table border=\"1\" class=\"dataframe\">\n",
       "  <thead>\n",
       "    <tr style=\"text-align: right;\">\n",
       "      <th></th>\n",
       "      <th>callsign</th>\n",
       "      <th>number</th>\n",
       "      <th>icao24</th>\n",
       "      <th>registration</th>\n",
       "      <th>typecode</th>\n",
       "      <th>origin</th>\n",
       "      <th>destination</th>\n",
       "      <th>firstseen</th>\n",
       "      <th>lastseen</th>\n",
       "      <th>day</th>\n",
       "      <th>latitude_1</th>\n",
       "      <th>longitude_1</th>\n",
       "      <th>altitude_1</th>\n",
       "      <th>latitude_2</th>\n",
       "      <th>longitude_2</th>\n",
       "      <th>altitude_2</th>\n",
       "    </tr>\n",
       "  </thead>\n",
       "  <tbody>\n",
       "    <tr>\n",
       "      <th>0</th>\n",
       "      <td>HVN19</td>\n",
       "      <td>NaN</td>\n",
       "      <td>888152</td>\n",
       "      <td>NaN</td>\n",
       "      <td>NaN</td>\n",
       "      <td>YMML</td>\n",
       "      <td>LFPG</td>\n",
       "      <td>2018-12-31 00:43:16+00:00</td>\n",
       "      <td>2019-01-01 04:56:29+00:00</td>\n",
       "      <td>2019-01-01 00:00:00+00:00</td>\n",
       "      <td>-37.659485</td>\n",
       "      <td>144.804421</td>\n",
       "      <td>304.8</td>\n",
       "      <td>48.995316</td>\n",
       "      <td>2.610802</td>\n",
       "      <td>-53.34</td>\n",
       "    </tr>\n",
       "    <tr>\n",
       "      <th>1</th>\n",
       "      <td>CCA839</td>\n",
       "      <td>NaN</td>\n",
       "      <td>780ad1</td>\n",
       "      <td>NaN</td>\n",
       "      <td>NaN</td>\n",
       "      <td>YMML</td>\n",
       "      <td>LEBL</td>\n",
       "      <td>2018-12-31 00:53:08+00:00</td>\n",
       "      <td>2019-01-01 06:01:42+00:00</td>\n",
       "      <td>2019-01-01 00:00:00+00:00</td>\n",
       "      <td>-37.692123</td>\n",
       "      <td>144.841997</td>\n",
       "      <td>304.8</td>\n",
       "      <td>41.036124</td>\n",
       "      <td>2.063557</td>\n",
       "      <td>1112.52</td>\n",
       "    </tr>\n",
       "    <tr>\n",
       "      <th>2</th>\n",
       "      <td>CES219</td>\n",
       "      <td>NaN</td>\n",
       "      <td>780b7e</td>\n",
       "      <td>B-5936</td>\n",
       "      <td>A332</td>\n",
       "      <td>YSSY</td>\n",
       "      <td>EDDF</td>\n",
       "      <td>2018-12-31 01:05:29+00:00</td>\n",
       "      <td>2019-01-01 04:09:29+00:00</td>\n",
       "      <td>2019-01-01 00:00:00+00:00</td>\n",
       "      <td>-33.930908</td>\n",
       "      <td>151.171987</td>\n",
       "      <td>0.0</td>\n",
       "      <td>50.045563</td>\n",
       "      <td>8.588923</td>\n",
       "      <td>-15.24</td>\n",
       "    </tr>\n",
       "    <tr>\n",
       "      <th>3</th>\n",
       "      <td>AEA040</td>\n",
       "      <td>NaN</td>\n",
       "      <td>34444e</td>\n",
       "      <td>EC-LVL</td>\n",
       "      <td>A332</td>\n",
       "      <td>LEMD</td>\n",
       "      <td>LEMD</td>\n",
       "      <td>2018-12-31 01:07:21+00:00</td>\n",
       "      <td>2019-01-01 03:32:59+00:00</td>\n",
       "      <td>2019-01-01 00:00:00+00:00</td>\n",
       "      <td>40.534756</td>\n",
       "      <td>-3.575426</td>\n",
       "      <td>609.6</td>\n",
       "      <td>40.475728</td>\n",
       "      <td>-3.538347</td>\n",
       "      <td>411.48</td>\n",
       "    </tr>\n",
       "    <tr>\n",
       "      <th>4</th>\n",
       "      <td>CXA825</td>\n",
       "      <td>NaN</td>\n",
       "      <td>780d75</td>\n",
       "      <td>B-2760</td>\n",
       "      <td>B788</td>\n",
       "      <td>YSSY</td>\n",
       "      <td>LFPG</td>\n",
       "      <td>2018-12-31 01:18:29+00:00</td>\n",
       "      <td>2019-01-01 04:32:28+00:00</td>\n",
       "      <td>2019-01-01 00:00:00+00:00</td>\n",
       "      <td>-33.954254</td>\n",
       "      <td>151.178041</td>\n",
       "      <td>0.0</td>\n",
       "      <td>48.996091</td>\n",
       "      <td>2.625805</td>\n",
       "      <td>22.86</td>\n",
       "    </tr>\n",
       "    <tr>\n",
       "      <th>...</th>\n",
       "      <td>...</td>\n",
       "      <td>...</td>\n",
       "      <td>...</td>\n",
       "      <td>...</td>\n",
       "      <td>...</td>\n",
       "      <td>...</td>\n",
       "      <td>...</td>\n",
       "      <td>...</td>\n",
       "      <td>...</td>\n",
       "      <td>...</td>\n",
       "      <td>...</td>\n",
       "      <td>...</td>\n",
       "      <td>...</td>\n",
       "      <td>...</td>\n",
       "      <td>...</td>\n",
       "      <td>...</td>\n",
       "    </tr>\n",
       "    <tr>\n",
       "      <th>2660896</th>\n",
       "      <td>RDF11</td>\n",
       "      <td>NaN</td>\n",
       "      <td>a6c7cf</td>\n",
       "      <td>N536ME</td>\n",
       "      <td>NaN</td>\n",
       "      <td>K29D</td>\n",
       "      <td>K29D</td>\n",
       "      <td>2019-06-30 23:46:12+00:00</td>\n",
       "      <td>2019-06-30 23:57:55+00:00</td>\n",
       "      <td>2019-06-30 00:00:00+00:00</td>\n",
       "      <td>41.139862</td>\n",
       "      <td>-80.148315</td>\n",
       "      <td>304.8</td>\n",
       "      <td>41.145894</td>\n",
       "      <td>-80.156625</td>\n",
       "      <td>487.68</td>\n",
       "    </tr>\n",
       "    <tr>\n",
       "      <th>2660897</th>\n",
       "      <td>TAO407</td>\n",
       "      <td>NaN</td>\n",
       "      <td>0d0acb</td>\n",
       "      <td>NaN</td>\n",
       "      <td>NaN</td>\n",
       "      <td>MMMX</td>\n",
       "      <td>NaN</td>\n",
       "      <td>2019-06-30 23:46:15+00:00</td>\n",
       "      <td>2019-06-30 23:58:18+00:00</td>\n",
       "      <td>2019-06-30 00:00:00+00:00</td>\n",
       "      <td>19.459022</td>\n",
       "      <td>-99.032959</td>\n",
       "      <td>2438.4</td>\n",
       "      <td>18.930313</td>\n",
       "      <td>-98.901623</td>\n",
       "      <td>6096.00</td>\n",
       "    </tr>\n",
       "    <tr>\n",
       "      <th>2660898</th>\n",
       "      <td>DAL2408</td>\n",
       "      <td>NaN</td>\n",
       "      <td>a9073a</td>\n",
       "      <td>N681DA</td>\n",
       "      <td>B752</td>\n",
       "      <td>KATL</td>\n",
       "      <td>NaN</td>\n",
       "      <td>2019-06-30 23:46:28+00:00</td>\n",
       "      <td>2019-06-30 23:57:05+00:00</td>\n",
       "      <td>2019-06-30 00:00:00+00:00</td>\n",
       "      <td>33.634460</td>\n",
       "      <td>-84.502912</td>\n",
       "      <td>914.4</td>\n",
       "      <td>32.857315</td>\n",
       "      <td>-84.004431</td>\n",
       "      <td>7200.90</td>\n",
       "    </tr>\n",
       "    <tr>\n",
       "      <th>2660899</th>\n",
       "      <td>UEA2735</td>\n",
       "      <td>NaN</td>\n",
       "      <td>780eb4</td>\n",
       "      <td>B-8162</td>\n",
       "      <td>A320</td>\n",
       "      <td>NaN</td>\n",
       "      <td>NaN</td>\n",
       "      <td>2019-06-30 23:46:53+00:00</td>\n",
       "      <td>2019-06-30 23:57:09+00:00</td>\n",
       "      <td>2019-06-30 00:00:00+00:00</td>\n",
       "      <td>30.341171</td>\n",
       "      <td>106.618545</td>\n",
       "      <td>8839.2</td>\n",
       "      <td>29.769411</td>\n",
       "      <td>107.839750</td>\n",
       "      <td>8854.44</td>\n",
       "    </tr>\n",
       "    <tr>\n",
       "      <th>2660900</th>\n",
       "      <td>AAR8925</td>\n",
       "      <td>NaN</td>\n",
       "      <td>71c236</td>\n",
       "      <td>HL8236</td>\n",
       "      <td>A321</td>\n",
       "      <td>RKSS</td>\n",
       "      <td>NaN</td>\n",
       "      <td>2019-06-30 23:48:55+00:00</td>\n",
       "      <td>2019-06-30 23:59:12+00:00</td>\n",
       "      <td>2019-06-30 00:00:00+00:00</td>\n",
       "      <td>37.579468</td>\n",
       "      <td>126.766974</td>\n",
       "      <td>304.8</td>\n",
       "      <td>36.822261</td>\n",
       "      <td>126.773519</td>\n",
       "      <td>6096.00</td>\n",
       "    </tr>\n",
       "  </tbody>\n",
       "</table>\n",
       "<p>14009751 rows × 16 columns</p>\n",
       "</div>"
      ],
      "text/plain": [
       "        callsign number  icao24 registration typecode origin destination  \\\n",
       "0          HVN19    NaN  888152          NaN      NaN   YMML        LFPG   \n",
       "1         CCA839    NaN  780ad1          NaN      NaN   YMML        LEBL   \n",
       "2         CES219    NaN  780b7e       B-5936     A332   YSSY        EDDF   \n",
       "3         AEA040    NaN  34444e       EC-LVL     A332   LEMD        LEMD   \n",
       "4         CXA825    NaN  780d75       B-2760     B788   YSSY        LFPG   \n",
       "...          ...    ...     ...          ...      ...    ...         ...   \n",
       "2660896    RDF11    NaN  a6c7cf       N536ME      NaN   K29D        K29D   \n",
       "2660897   TAO407    NaN  0d0acb          NaN      NaN   MMMX         NaN   \n",
       "2660898  DAL2408    NaN  a9073a       N681DA     B752   KATL         NaN   \n",
       "2660899  UEA2735    NaN  780eb4       B-8162     A320    NaN         NaN   \n",
       "2660900  AAR8925    NaN  71c236       HL8236     A321   RKSS         NaN   \n",
       "\n",
       "                         firstseen                   lastseen  \\\n",
       "0        2018-12-31 00:43:16+00:00  2019-01-01 04:56:29+00:00   \n",
       "1        2018-12-31 00:53:08+00:00  2019-01-01 06:01:42+00:00   \n",
       "2        2018-12-31 01:05:29+00:00  2019-01-01 04:09:29+00:00   \n",
       "3        2018-12-31 01:07:21+00:00  2019-01-01 03:32:59+00:00   \n",
       "4        2018-12-31 01:18:29+00:00  2019-01-01 04:32:28+00:00   \n",
       "...                            ...                        ...   \n",
       "2660896  2019-06-30 23:46:12+00:00  2019-06-30 23:57:55+00:00   \n",
       "2660897  2019-06-30 23:46:15+00:00  2019-06-30 23:58:18+00:00   \n",
       "2660898  2019-06-30 23:46:28+00:00  2019-06-30 23:57:05+00:00   \n",
       "2660899  2019-06-30 23:46:53+00:00  2019-06-30 23:57:09+00:00   \n",
       "2660900  2019-06-30 23:48:55+00:00  2019-06-30 23:59:12+00:00   \n",
       "\n",
       "                               day  latitude_1  longitude_1  altitude_1  \\\n",
       "0        2019-01-01 00:00:00+00:00  -37.659485   144.804421       304.8   \n",
       "1        2019-01-01 00:00:00+00:00  -37.692123   144.841997       304.8   \n",
       "2        2019-01-01 00:00:00+00:00  -33.930908   151.171987         0.0   \n",
       "3        2019-01-01 00:00:00+00:00   40.534756    -3.575426       609.6   \n",
       "4        2019-01-01 00:00:00+00:00  -33.954254   151.178041         0.0   \n",
       "...                            ...         ...          ...         ...   \n",
       "2660896  2019-06-30 00:00:00+00:00   41.139862   -80.148315       304.8   \n",
       "2660897  2019-06-30 00:00:00+00:00   19.459022   -99.032959      2438.4   \n",
       "2660898  2019-06-30 00:00:00+00:00   33.634460   -84.502912       914.4   \n",
       "2660899  2019-06-30 00:00:00+00:00   30.341171   106.618545      8839.2   \n",
       "2660900  2019-06-30 00:00:00+00:00   37.579468   126.766974       304.8   \n",
       "\n",
       "         latitude_2  longitude_2  altitude_2  \n",
       "0         48.995316     2.610802      -53.34  \n",
       "1         41.036124     2.063557     1112.52  \n",
       "2         50.045563     8.588923      -15.24  \n",
       "3         40.475728    -3.538347      411.48  \n",
       "4         48.996091     2.625805       22.86  \n",
       "...             ...          ...         ...  \n",
       "2660896   41.145894   -80.156625      487.68  \n",
       "2660897   18.930313   -98.901623     6096.00  \n",
       "2660898   32.857315   -84.004431     7200.90  \n",
       "2660899   29.769411   107.839750     8854.44  \n",
       "2660900   36.822261   126.773519     6096.00  \n",
       "\n",
       "[14009751 rows x 16 columns]"
      ]
     },
     "execution_count": 4,
     "metadata": {},
     "output_type": "execute_result"
    }
   ],
   "source": [
    "# inspect data structure\n",
    "data_2019"
   ]
  },
  {
   "cell_type": "code",
   "execution_count": 43,
   "metadata": {
    "ExecuteTime": {
     "end_time": "2021-01-17T10:45:58.133716Z",
     "start_time": "2021-01-17T10:45:51.593260Z"
    }
   },
   "outputs": [],
   "source": [
    "# subset necessary columns\n",
    "data_2019 = data_2019[['callsign', 'day']]\n",
    "data_2020 = data_2020[['callsign', 'day']]                     "
   ]
  },
  {
   "cell_type": "markdown",
   "metadata": {},
   "source": [
    "## Filter ANA data"
   ]
  },
  {
   "cell_type": "code",
   "execution_count": 62,
   "metadata": {
    "ExecuteTime": {
     "end_time": "2021-01-17T10:51:41.981247Z",
     "start_time": "2021-01-17T10:51:26.216058Z"
    }
   },
   "outputs": [],
   "source": [
    "# focus on All Nippon Airways (ANA)\n",
    "ANA_2019 = data_2019[data_2019['callsign'].str.contains('ANA')]\n",
    "ANA_2020 = data_2020[data_2020['callsign'].str.contains('ANA')]"
   ]
  },
  {
   "cell_type": "code",
   "execution_count": 63,
   "metadata": {
    "ExecuteTime": {
     "end_time": "2021-01-17T10:51:42.153093Z",
     "start_time": "2021-01-17T10:51:42.140839Z"
    }
   },
   "outputs": [],
   "source": [
    "# reset index\n",
    "ANA_2019.reset_index(drop=True, inplace = True)\n",
    "ANA_2020.reset_index(drop=True, inplace = True)"
   ]
  },
  {
   "cell_type": "code",
   "execution_count": 64,
   "metadata": {
    "ExecuteTime": {
     "end_time": "2021-01-17T10:51:42.358181Z",
     "start_time": "2021-01-17T10:51:42.327740Z"
    },
    "scrolled": false
   },
   "outputs": [
    {
     "data": {
      "text/html": [
       "<div>\n",
       "<style scoped>\n",
       "    .dataframe tbody tr th:only-of-type {\n",
       "        vertical-align: middle;\n",
       "    }\n",
       "\n",
       "    .dataframe tbody tr th {\n",
       "        vertical-align: top;\n",
       "    }\n",
       "\n",
       "    .dataframe thead th {\n",
       "        text-align: right;\n",
       "    }\n",
       "</style>\n",
       "<table border=\"1\" class=\"dataframe\">\n",
       "  <thead>\n",
       "    <tr style=\"text-align: right;\">\n",
       "      <th></th>\n",
       "      <th>callsign</th>\n",
       "      <th>day</th>\n",
       "    </tr>\n",
       "  </thead>\n",
       "  <tbody>\n",
       "    <tr>\n",
       "      <th>0</th>\n",
       "      <td>ANA106</td>\n",
       "      <td>2019-01-01 00:00:00+00:00</td>\n",
       "    </tr>\n",
       "    <tr>\n",
       "      <th>1</th>\n",
       "      <td>ANA10</td>\n",
       "      <td>2019-01-01 00:00:00+00:00</td>\n",
       "    </tr>\n",
       "    <tr>\n",
       "      <th>2</th>\n",
       "      <td>ANA203</td>\n",
       "      <td>2019-01-01 00:00:00+00:00</td>\n",
       "    </tr>\n",
       "    <tr>\n",
       "      <th>3</th>\n",
       "      <td>ANA1</td>\n",
       "      <td>2019-01-01 00:00:00+00:00</td>\n",
       "    </tr>\n",
       "    <tr>\n",
       "      <th>4</th>\n",
       "      <td>ANA216</td>\n",
       "      <td>2019-01-01 00:00:00+00:00</td>\n",
       "    </tr>\n",
       "    <tr>\n",
       "      <th>...</th>\n",
       "      <td>...</td>\n",
       "      <td>...</td>\n",
       "    </tr>\n",
       "    <tr>\n",
       "      <th>104683</th>\n",
       "      <td>ANA15</td>\n",
       "      <td>2019-06-30 00:00:00+00:00</td>\n",
       "    </tr>\n",
       "    <tr>\n",
       "      <th>104684</th>\n",
       "      <td>ANA16</td>\n",
       "      <td>2019-06-30 00:00:00+00:00</td>\n",
       "    </tr>\n",
       "    <tr>\n",
       "      <th>104685</th>\n",
       "      <td>ANA577</td>\n",
       "      <td>2019-06-30 00:00:00+00:00</td>\n",
       "    </tr>\n",
       "    <tr>\n",
       "      <th>104686</th>\n",
       "      <td>ANA86</td>\n",
       "      <td>2019-06-30 00:00:00+00:00</td>\n",
       "    </tr>\n",
       "    <tr>\n",
       "      <th>104687</th>\n",
       "      <td>ANA731</td>\n",
       "      <td>2019-06-30 00:00:00+00:00</td>\n",
       "    </tr>\n",
       "  </tbody>\n",
       "</table>\n",
       "<p>104688 rows × 2 columns</p>\n",
       "</div>"
      ],
      "text/plain": [
       "       callsign                        day\n",
       "0        ANA106  2019-01-01 00:00:00+00:00\n",
       "1         ANA10  2019-01-01 00:00:00+00:00\n",
       "2        ANA203  2019-01-01 00:00:00+00:00\n",
       "3          ANA1  2019-01-01 00:00:00+00:00\n",
       "4        ANA216  2019-01-01 00:00:00+00:00\n",
       "...         ...                        ...\n",
       "104683    ANA15  2019-06-30 00:00:00+00:00\n",
       "104684    ANA16  2019-06-30 00:00:00+00:00\n",
       "104685   ANA577  2019-06-30 00:00:00+00:00\n",
       "104686    ANA86  2019-06-30 00:00:00+00:00\n",
       "104687   ANA731  2019-06-30 00:00:00+00:00\n",
       "\n",
       "[104688 rows x 2 columns]"
      ]
     },
     "execution_count": 64,
     "metadata": {},
     "output_type": "execute_result"
    }
   ],
   "source": [
    "ANA_2019"
   ]
  },
  {
   "cell_type": "markdown",
   "metadata": {},
   "source": [
    "## Create year and month columns"
   ]
  },
  {
   "cell_type": "code",
   "execution_count": 71,
   "metadata": {
    "ExecuteTime": {
     "end_time": "2021-01-17T11:08:22.288455Z",
     "start_time": "2021-01-17T11:08:18.510719Z"
    }
   },
   "outputs": [
    {
     "name": "stderr",
     "output_type": "stream",
     "text": [
      "D:\\Anaconda\\envs\\SMM635 - DV\\lib\\site-packages\\pandas\\core\\indexing.py:1596: SettingWithCopyWarning: \n",
      "A value is trying to be set on a copy of a slice from a DataFrame.\n",
      "Try using .loc[row_indexer,col_indexer] = value instead\n",
      "\n",
      "See the caveats in the documentation: https://pandas.pydata.org/pandas-docs/stable/user_guide/indexing.html#returning-a-view-versus-a-copy\n",
      "  self.obj[key] = _infer_fill_value(value)\n",
      "D:\\Anaconda\\envs\\SMM635 - DV\\lib\\site-packages\\pandas\\core\\indexing.py:1743: SettingWithCopyWarning: \n",
      "A value is trying to be set on a copy of a slice from a DataFrame.\n",
      "Try using .loc[row_indexer,col_indexer] = value instead\n",
      "\n",
      "See the caveats in the documentation: https://pandas.pydata.org/pandas-docs/stable/user_guide/indexing.html#returning-a-view-versus-a-copy\n",
      "  isetter(ilocs[0], value)\n"
     ]
    },
    {
     "data": {
      "text/html": [
       "<div>\n",
       "<style scoped>\n",
       "    .dataframe tbody tr th:only-of-type {\n",
       "        vertical-align: middle;\n",
       "    }\n",
       "\n",
       "    .dataframe tbody tr th {\n",
       "        vertical-align: top;\n",
       "    }\n",
       "\n",
       "    .dataframe thead th {\n",
       "        text-align: right;\n",
       "    }\n",
       "</style>\n",
       "<table border=\"1\" class=\"dataframe\">\n",
       "  <thead>\n",
       "    <tr style=\"text-align: right;\">\n",
       "      <th></th>\n",
       "      <th>callsign</th>\n",
       "      <th>day</th>\n",
       "      <th>date</th>\n",
       "      <th>year</th>\n",
       "      <th>month</th>\n",
       "    </tr>\n",
       "  </thead>\n",
       "  <tbody>\n",
       "    <tr>\n",
       "      <th>0</th>\n",
       "      <td>ANA106</td>\n",
       "      <td>2019-01-01 00:00:00+00:00</td>\n",
       "      <td>2019-01-01</td>\n",
       "      <td>2019</td>\n",
       "      <td>01</td>\n",
       "    </tr>\n",
       "    <tr>\n",
       "      <th>1</th>\n",
       "      <td>ANA10</td>\n",
       "      <td>2019-01-01 00:00:00+00:00</td>\n",
       "      <td>2019-01-01</td>\n",
       "      <td>2019</td>\n",
       "      <td>01</td>\n",
       "    </tr>\n",
       "    <tr>\n",
       "      <th>2</th>\n",
       "      <td>ANA203</td>\n",
       "      <td>2019-01-01 00:00:00+00:00</td>\n",
       "      <td>2019-01-01</td>\n",
       "      <td>2019</td>\n",
       "      <td>01</td>\n",
       "    </tr>\n",
       "    <tr>\n",
       "      <th>3</th>\n",
       "      <td>ANA1</td>\n",
       "      <td>2019-01-01 00:00:00+00:00</td>\n",
       "      <td>2019-01-01</td>\n",
       "      <td>2019</td>\n",
       "      <td>01</td>\n",
       "    </tr>\n",
       "    <tr>\n",
       "      <th>4</th>\n",
       "      <td>ANA216</td>\n",
       "      <td>2019-01-01 00:00:00+00:00</td>\n",
       "      <td>2019-01-01</td>\n",
       "      <td>2019</td>\n",
       "      <td>01</td>\n",
       "    </tr>\n",
       "  </tbody>\n",
       "</table>\n",
       "</div>"
      ],
      "text/plain": [
       "  callsign                        day        date  year month\n",
       "0   ANA106  2019-01-01 00:00:00+00:00  2019-01-01  2019    01\n",
       "1    ANA10  2019-01-01 00:00:00+00:00  2019-01-01  2019    01\n",
       "2   ANA203  2019-01-01 00:00:00+00:00  2019-01-01  2019    01\n",
       "3     ANA1  2019-01-01 00:00:00+00:00  2019-01-01  2019    01\n",
       "4   ANA216  2019-01-01 00:00:00+00:00  2019-01-01  2019    01"
      ]
     },
     "execution_count": 71,
     "metadata": {},
     "output_type": "execute_result"
    }
   ],
   "source": [
    "# extract date from the df\n",
    "date = pd.to_datetime(ANA_2019['day'])\n",
    "\n",
    "# date \n",
    "ANA_2019.loc[:, 'date'] = date.dt.strftime('%Y-%m-%d')\n",
    "# year\n",
    "ANA_2019.loc[:, 'year'] = date.dt.strftime('%Y')\n",
    "# month\n",
    "ANA_2019.loc[:, 'month'] = date.dt.strftime('%m')\n",
    "\n",
    "ANA_2019.head()"
   ]
  },
  {
   "cell_type": "code",
   "execution_count": 73,
   "metadata": {
    "ExecuteTime": {
     "end_time": "2021-01-17T11:08:57.623025Z",
     "start_time": "2021-01-17T11:08:57.606316Z"
    }
   },
   "outputs": [
    {
     "data": {
      "text/plain": [
       "array(['01', '02', '03', '04', '05', '06'], dtype=object)"
      ]
     },
     "execution_count": 73,
     "metadata": {},
     "output_type": "execute_result"
    }
   ],
   "source": [
    "# data only contains data from Jan to June\n",
    "ANA_2019.month.unique()"
   ]
  },
  {
   "cell_type": "code",
   "execution_count": 74,
   "metadata": {
    "ExecuteTime": {
     "end_time": "2021-01-17T11:10:05.332704Z",
     "start_time": "2021-01-17T11:10:03.019603Z"
    }
   },
   "outputs": [
    {
     "name": "stderr",
     "output_type": "stream",
     "text": [
      "D:\\Anaconda\\envs\\SMM635 - DV\\lib\\site-packages\\pandas\\core\\indexing.py:1596: SettingWithCopyWarning: \n",
      "A value is trying to be set on a copy of a slice from a DataFrame.\n",
      "Try using .loc[row_indexer,col_indexer] = value instead\n",
      "\n",
      "See the caveats in the documentation: https://pandas.pydata.org/pandas-docs/stable/user_guide/indexing.html#returning-a-view-versus-a-copy\n",
      "  self.obj[key] = _infer_fill_value(value)\n",
      "D:\\Anaconda\\envs\\SMM635 - DV\\lib\\site-packages\\pandas\\core\\indexing.py:1743: SettingWithCopyWarning: \n",
      "A value is trying to be set on a copy of a slice from a DataFrame.\n",
      "Try using .loc[row_indexer,col_indexer] = value instead\n",
      "\n",
      "See the caveats in the documentation: https://pandas.pydata.org/pandas-docs/stable/user_guide/indexing.html#returning-a-view-versus-a-copy\n",
      "  isetter(ilocs[0], value)\n"
     ]
    },
    {
     "data": {
      "text/html": [
       "<div>\n",
       "<style scoped>\n",
       "    .dataframe tbody tr th:only-of-type {\n",
       "        vertical-align: middle;\n",
       "    }\n",
       "\n",
       "    .dataframe tbody tr th {\n",
       "        vertical-align: top;\n",
       "    }\n",
       "\n",
       "    .dataframe thead th {\n",
       "        text-align: right;\n",
       "    }\n",
       "</style>\n",
       "<table border=\"1\" class=\"dataframe\">\n",
       "  <thead>\n",
       "    <tr style=\"text-align: right;\">\n",
       "      <th></th>\n",
       "      <th>callsign</th>\n",
       "      <th>day</th>\n",
       "      <th>date</th>\n",
       "      <th>year</th>\n",
       "      <th>month</th>\n",
       "    </tr>\n",
       "  </thead>\n",
       "  <tbody>\n",
       "    <tr>\n",
       "      <th>0</th>\n",
       "      <td>ANA106</td>\n",
       "      <td>2020-01-01 00:00:00+00:00</td>\n",
       "      <td>2020-01-01</td>\n",
       "      <td>2020</td>\n",
       "      <td>01</td>\n",
       "    </tr>\n",
       "    <tr>\n",
       "      <th>1</th>\n",
       "      <td>ANA1</td>\n",
       "      <td>2020-01-01 00:00:00+00:00</td>\n",
       "      <td>2020-01-01</td>\n",
       "      <td>2020</td>\n",
       "      <td>01</td>\n",
       "    </tr>\n",
       "    <tr>\n",
       "      <th>2</th>\n",
       "      <td>ANA10</td>\n",
       "      <td>2020-01-01 00:00:00+00:00</td>\n",
       "      <td>2020-01-01</td>\n",
       "      <td>2020</td>\n",
       "      <td>01</td>\n",
       "    </tr>\n",
       "    <tr>\n",
       "      <th>3</th>\n",
       "      <td>ANA203</td>\n",
       "      <td>2020-01-01 00:00:00+00:00</td>\n",
       "      <td>2020-01-01</td>\n",
       "      <td>2020</td>\n",
       "      <td>01</td>\n",
       "    </tr>\n",
       "    <tr>\n",
       "      <th>4</th>\n",
       "      <td>ANA205</td>\n",
       "      <td>2020-01-01 00:00:00+00:00</td>\n",
       "      <td>2020-01-01</td>\n",
       "      <td>2020</td>\n",
       "      <td>01</td>\n",
       "    </tr>\n",
       "  </tbody>\n",
       "</table>\n",
       "</div>"
      ],
      "text/plain": [
       "  callsign                        day        date  year month\n",
       "0   ANA106  2020-01-01 00:00:00+00:00  2020-01-01  2020    01\n",
       "1     ANA1  2020-01-01 00:00:00+00:00  2020-01-01  2020    01\n",
       "2    ANA10  2020-01-01 00:00:00+00:00  2020-01-01  2020    01\n",
       "3   ANA203  2020-01-01 00:00:00+00:00  2020-01-01  2020    01\n",
       "4   ANA205  2020-01-01 00:00:00+00:00  2020-01-01  2020    01"
      ]
     },
     "execution_count": 74,
     "metadata": {},
     "output_type": "execute_result"
    }
   ],
   "source": [
    "# extract date from the df\n",
    "date = pd.to_datetime(ANA_2020['day'])\n",
    "\n",
    "# date \n",
    "ANA_2020.loc[:, 'date'] = date.dt.strftime('%Y-%m-%d')\n",
    "# year\n",
    "ANA_2020.loc[:, 'year'] = date.dt.strftime('%Y')\n",
    "# month\n",
    "ANA_2020.loc[:, 'month'] = date.dt.strftime('%m')\n",
    "\n",
    "ANA_2020.head()"
   ]
  },
  {
   "cell_type": "code",
   "execution_count": 75,
   "metadata": {
    "ExecuteTime": {
     "end_time": "2021-01-17T11:10:09.199320Z",
     "start_time": "2021-01-17T11:10:09.182437Z"
    }
   },
   "outputs": [
    {
     "data": {
      "text/plain": [
       "array(['01', '02', '03', '04', '05', '06'], dtype=object)"
      ]
     },
     "execution_count": 75,
     "metadata": {},
     "output_type": "execute_result"
    }
   ],
   "source": [
    "# data only contains data from Jan to June\n",
    "ANA_2020.month.unique()"
   ]
  },
  {
   "cell_type": "markdown",
   "metadata": {},
   "source": [
    "## Get frequency data"
   ]
  },
  {
   "cell_type": "code",
   "execution_count": 76,
   "metadata": {
    "ExecuteTime": {
     "end_time": "2021-01-17T11:13:10.729749Z",
     "start_time": "2021-01-17T11:13:10.651453Z"
    }
   },
   "outputs": [
    {
     "data": {
      "text/html": [
       "<div>\n",
       "<style scoped>\n",
       "    .dataframe tbody tr th:only-of-type {\n",
       "        vertical-align: middle;\n",
       "    }\n",
       "\n",
       "    .dataframe tbody tr th {\n",
       "        vertical-align: top;\n",
       "    }\n",
       "\n",
       "    .dataframe thead th {\n",
       "        text-align: right;\n",
       "    }\n",
       "</style>\n",
       "<table border=\"1\" class=\"dataframe\">\n",
       "  <thead>\n",
       "    <tr style=\"text-align: right;\">\n",
       "      <th></th>\n",
       "      <th></th>\n",
       "      <th>callsign</th>\n",
       "    </tr>\n",
       "    <tr>\n",
       "      <th>year</th>\n",
       "      <th>month</th>\n",
       "      <th></th>\n",
       "    </tr>\n",
       "  </thead>\n",
       "  <tbody>\n",
       "    <tr>\n",
       "      <th rowspan=\"6\" valign=\"top\">2019</th>\n",
       "      <th>01</th>\n",
       "      <td>19544</td>\n",
       "    </tr>\n",
       "    <tr>\n",
       "      <th>02</th>\n",
       "      <td>16981</td>\n",
       "    </tr>\n",
       "    <tr>\n",
       "      <th>03</th>\n",
       "      <td>17126</td>\n",
       "    </tr>\n",
       "    <tr>\n",
       "      <th>04</th>\n",
       "      <td>17175</td>\n",
       "    </tr>\n",
       "    <tr>\n",
       "      <th>05</th>\n",
       "      <td>17548</td>\n",
       "    </tr>\n",
       "    <tr>\n",
       "      <th>06</th>\n",
       "      <td>16314</td>\n",
       "    </tr>\n",
       "  </tbody>\n",
       "</table>\n",
       "</div>"
      ],
      "text/plain": [
       "            callsign\n",
       "year month          \n",
       "2019 01        19544\n",
       "     02        16981\n",
       "     03        17126\n",
       "     04        17175\n",
       "     05        17548\n",
       "     06        16314"
      ]
     },
     "execution_count": 76,
     "metadata": {},
     "output_type": "execute_result"
    }
   ],
   "source": [
    "df_2019 = pd.DataFrame(ANA_2019.groupby(['year', 'month'])['callsign'].agg('count'))\n",
    "df_2019"
   ]
  },
  {
   "cell_type": "code",
   "execution_count": 77,
   "metadata": {
    "ExecuteTime": {
     "end_time": "2021-01-17T11:13:28.783676Z",
     "start_time": "2021-01-17T11:13:28.738444Z"
    }
   },
   "outputs": [
    {
     "data": {
      "text/html": [
       "<div>\n",
       "<style scoped>\n",
       "    .dataframe tbody tr th:only-of-type {\n",
       "        vertical-align: middle;\n",
       "    }\n",
       "\n",
       "    .dataframe tbody tr th {\n",
       "        vertical-align: top;\n",
       "    }\n",
       "\n",
       "    .dataframe thead th {\n",
       "        text-align: right;\n",
       "    }\n",
       "</style>\n",
       "<table border=\"1\" class=\"dataframe\">\n",
       "  <thead>\n",
       "    <tr style=\"text-align: right;\">\n",
       "      <th></th>\n",
       "      <th></th>\n",
       "      <th>callsign</th>\n",
       "    </tr>\n",
       "    <tr>\n",
       "      <th>year</th>\n",
       "      <th>month</th>\n",
       "      <th></th>\n",
       "    </tr>\n",
       "  </thead>\n",
       "  <tbody>\n",
       "    <tr>\n",
       "      <th rowspan=\"6\" valign=\"top\">2020</th>\n",
       "      <th>01</th>\n",
       "      <td>18451</td>\n",
       "    </tr>\n",
       "    <tr>\n",
       "      <th>02</th>\n",
       "      <td>16339</td>\n",
       "    </tr>\n",
       "    <tr>\n",
       "      <th>03</th>\n",
       "      <td>15230</td>\n",
       "    </tr>\n",
       "    <tr>\n",
       "      <th>04</th>\n",
       "      <td>7048</td>\n",
       "    </tr>\n",
       "    <tr>\n",
       "      <th>05</th>\n",
       "      <td>2988</td>\n",
       "    </tr>\n",
       "    <tr>\n",
       "      <th>06</th>\n",
       "      <td>5738</td>\n",
       "    </tr>\n",
       "  </tbody>\n",
       "</table>\n",
       "</div>"
      ],
      "text/plain": [
       "            callsign\n",
       "year month          \n",
       "2020 01        18451\n",
       "     02        16339\n",
       "     03        15230\n",
       "     04         7048\n",
       "     05         2988\n",
       "     06         5738"
      ]
     },
     "execution_count": 77,
     "metadata": {},
     "output_type": "execute_result"
    }
   ],
   "source": [
    "df_2020 = pd.DataFrame(ANA_2020.groupby(['year', 'month'])['callsign'].agg('count'))\n",
    "df_2020"
   ]
  },
  {
   "cell_type": "markdown",
   "metadata": {},
   "source": [
    "## Stats about % drop"
   ]
  },
  {
   "cell_type": "code",
   "execution_count": 81,
   "metadata": {
    "ExecuteTime": {
     "end_time": "2021-01-17T11:18:30.810478Z",
     "start_time": "2021-01-17T11:18:30.798845Z"
    }
   },
   "outputs": [],
   "source": [
    "jan_drop = ((df_2020.callsign[0]-df_2019.callsign[0])/df_2019.callsign[0]) * 100\n",
    "feb_drop = ((df_2020.callsign[1]-df_2019.callsign[1])/df_2019.callsign[1]) * 100\n",
    "mar_drop = ((df_2020.callsign[2]-df_2019.callsign[2])/df_2019.callsign[2]) * 100\n",
    "apr_drop = ((df_2020.callsign[3]-df_2019.callsign[3])/df_2019.callsign[3]) * 100\n",
    "may_drop = ((df_2020.callsign[4]-df_2019.callsign[4])/df_2019.callsign[4]) * 100\n",
    "jun_drop = ((df_2020.callsign[5]-df_2019.callsign[5])/df_2019.callsign[5]) * 100"
   ]
  },
  {
   "cell_type": "code",
   "execution_count": 110,
   "metadata": {
    "ExecuteTime": {
     "end_time": "2021-01-17T11:42:43.244409Z",
     "start_time": "2021-01-17T11:42:43.232535Z"
    }
   },
   "outputs": [],
   "source": [
    "# summary text\n",
    "sum_text = \" - Jan: {:.2f}%\\n - Feb: {:.2f}%\\n - March: {:.2f}%\\n - April: {:.2f}%\\n - May: {:.2f}%\\n - June: {:.2f}% \".format(jan_drop, feb_drop, mar_drop, apr_drop, may_drop, jun_drop)"
   ]
  },
  {
   "cell_type": "markdown",
   "metadata": {},
   "source": [
    "# Visualisation"
   ]
  },
  {
   "cell_type": "code",
   "execution_count": 121,
   "metadata": {
    "ExecuteTime": {
     "end_time": "2021-01-17T11:44:34.396386Z",
     "start_time": "2021-01-17T11:44:33.997696Z"
    }
   },
   "outputs": [
    {
     "data": {
      "image/png": "[encoded data removed]",
      "text/plain": [
       "<Figure size 864x576 with 1 Axes>"
      ]
     },
     "metadata": {
      "needs_background": "light"
     },
     "output_type": "display_data"
    }
   ],
   "source": [
    "fig = plt.figure(figsize = (12, 8))\n",
    "\n",
    "ax = fig.add_subplot(1, 1, 1)\n",
    "\n",
    "# label title\n",
    "x_axis_labels = ['January', 'February', 'March', 'April', 'May', 'June']\n",
    "\n",
    "# data to plot\n",
    "ANA2019 = list(df_2019['callsign'])\n",
    "ANA2020 = list(df_2020['callsign'])\n",
    "\n",
    "# label locations\n",
    "x = np.arange(len(x_axis_labels))\n",
    "\n",
    "# width of bars\n",
    "width = 0.35\n",
    "\n",
    "# populate the data into the plot\n",
    "rects1 = ax.bar(x - width/2, ANA2019, width, label='2019', color='snow', edgecolor = 'k')\n",
    "rects2 = ax.bar(x + width/2, ANA2020, width, label='2020', color = 'lightskyblue', edgecolor = 'k')\n",
    "\n",
    "# Add some text for labels, title and custom x-axis tick labels, etc.\n",
    "ax.set_ylabel('Number of Flights', fontsize=14)\n",
    "ax.set_title('Impact of Covid on All Nippon Airways (YoY)', fontsize=20)\n",
    "ax.set_xticks(x)\n",
    "ax.set_xticklabels(x_axis_labels)\n",
    "ax.legend(fontsize=13)\n",
    "\n",
    "# Attach figure above each bar\n",
    "def autolabel(rects):    \n",
    "    for rect in rects:\n",
    "        height = rect.get_height()\n",
    "        ax.annotate('{}'.format(height),\n",
    "                    xy=(rect.get_x() + rect.get_width() / 2, height),\n",
    "                    xytext=(0, 3),  # 3 points vertical offset\n",
    "                    textcoords=\"offset points\",\n",
    "                    ha='center', va='bottom')\n",
    "\n",
    "autolabel(rects1)\n",
    "autolabel(rects2)\n",
    "\n",
    "# remove spines\n",
    "ax.spines['right'].set_visible(False)\n",
    "ax.spines['top'].set_visible(False)\n",
    "\n",
    "# add text box\n",
    "props = dict(boxstyle='round', facecolor='k')\n",
    "\n",
    "# place a text box \n",
    "ax.text(1, 0.7, sum_text, transform=ax.transAxes, fontsize=14,\n",
    "        verticalalignment='top', bbox=props, color = 'w')\n",
    "\n",
    "# add textbox title\n",
    "ax.text(0.99, 0.76, \"Percentage Drop (%)\", transform=ax.transAxes, fontsize=14,\n",
    "        verticalalignment='top', color = 'k')\n",
    "\n",
    "fig.tight_layout()\n",
    "\n",
    "plt.show()"
   ]
  },
  {
   "cell_type": "code",
   "execution_count": null,
   "metadata": {},
   "outputs": [],
   "source": []
  }
 ],
 "metadata": {
  "kernelspec": {
   "display_name": "Python 3",
   "language": "python",
   "name": "python3"
  },
  "language_info": {
   "codemirror_mode": {
    "name": "ipython",
    "version": 3
   },
   "file_extension": ".py",
   "mimetype": "text/x-python",
   "name": "python",
   "nbconvert_exporter": "python",
   "pygments_lexer": "ipython3",
   "version": "3.7.8"
  },
  "latex_envs": {
   "LaTeX_envs_menu_present": true,
   "autoclose": false,
   "autocomplete": true,
   "bibliofile": "biblio.bib",
   "cite_by": "apalike",
   "current_citInitial": 1,
   "eqLabelWithNumbers": true,
   "eqNumInitial": 1,
   "hotkeys": {
    "equation": "Ctrl-E",
    "itemize": "Ctrl-I"
   },
   "labels_anchors": false,
   "latex_user_defs": false,
   "report_style_numbering": false,
   "user_envs_cfg": false
  },
  "toc": {
   "base_numbering": 1,
   "nav_menu": {},
   "number_sections": true,
   "sideBar": true,
   "skip_h1_title": false,
   "title_cell": "Table of Contents",
   "title_sidebar": "Contents",
   "toc_cell": false,
   "toc_position": {},
   "toc_section_display": true,
   "toc_window_display": false
  },
  "varInspector": {
   "cols": {
    "lenName": 16,
    "lenType": 16,
    "lenVar": 40
   },
   "kernels_config": {
    "python": {
     "delete_cmd_postfix": "",
     "delete_cmd_prefix": "del ",
     "library": "var_list.py",
     "varRefreshCmd": "print(var_dic_list())"
    },
    "r": {
     "delete_cmd_postfix": ") ",
     "delete_cmd_prefix": "rm(",
     "library": "var_list.r",
     "varRefreshCmd": "cat(var_dic_list()) "
    }
   },
   "types_to_exclude": [
    "module",
    "function",
    "builtin_function_or_method",
    "instance",
    "_Feature"
   ],
   "window_display": false
  }
 },
 "nbformat": 4,
 "nbformat_minor": 4
}
