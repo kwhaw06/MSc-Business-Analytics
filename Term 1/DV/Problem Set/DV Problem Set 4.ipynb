{
 "cells": [
  {
   "cell_type": "markdown",
   "metadata": {},
   "source": [
    "# Visualizing statistical estimates and fits"
   ]
  },
  {
   "cell_type": "markdown",
   "metadata": {},
   "source": [
    "This tutorial shows how to visualize interaction effects included in regression\n",
    "models such as:\n",
    "\n",
    "\\begin{equation}\n",
    "  y = \\alpha + \\beta * x + \\gamma * z + \\delta * x * z + \\epsilon\n",
    "\\end{equation}\n",
    "\n",
    "Mainly, we use interaction terms to take into account that the effect of the  \n",
    "independent variable $x$ on the outcome $y$ is contingent on the value of a \n",
    "third variable $z$.\n",
    "\n",
    "Examples:\n",
    "\n",
    "+   the economic value of patents is contingent on the intellectual property\n",
    "    regime of a country/set of countries\n",
    "+   the economic returns of schooling are contingent on the institutional and\n",
    "    cultural environment of a country\n",
    "+   the social influence of a Soundcloud user's suggestions/reposts is contingent \n",
    "    on followership\n",
    "+   the influence of job satisfaction on intent to quit is contingent on the \n",
    "    size of the employer "
   ]
  },
  {
   "cell_type": "markdown",
   "metadata": {},
   "source": [
    "Key reference:\n",
    "\n",
    "![](images/baron_kenney.png)"
   ]
  },
  {
   "cell_type": "markdown",
   "metadata": {},
   "source": [
    "# Setup"
   ]
  },
  {
   "cell_type": "markdown",
   "metadata": {},
   "source": [
    "## Libraries"
   ]
  },
  {
   "cell_type": "code",
   "execution_count": 13,
   "metadata": {
    "ExecuteTime": {
     "end_time": "2021-01-18T09:00:25.824546Z",
     "start_time": "2021-01-18T09:00:25.805072Z"
    }
   },
   "outputs": [],
   "source": [
    "import os\n",
    "import numpy as np\n",
    "import matplotlib.pyplot as plt\n",
    "from matplotlib import rc\n",
    "import statsmodels.api as sm\n",
    "import statsmodels.formula.api as smf\n",
    "import pandas as pd"
   ]
  },
  {
   "cell_type": "markdown",
   "metadata": {},
   "source": [
    "## Viz options"
   ]
  },
  {
   "cell_type": "code",
   "execution_count": 24,
   "metadata": {
    "ExecuteTime": {
     "end_time": "2021-01-18T09:03:44.291500Z",
     "start_time": "2021-01-18T09:03:44.284183Z"
    }
   },
   "outputs": [],
   "source": [
    "rc('font',**{'family':'serif','serif':['Helvetica']})\n",
    "rc('text', usetex=False)\n",
    "\n",
    "plt.style.use('fivethirtyeight')"
   ]
  },
  {
   "cell_type": "markdown",
   "metadata": {},
   "source": [
    "# Application"
   ]
  },
  {
   "cell_type": "markdown",
   "metadata": {},
   "source": [
    "## Goal"
   ]
  },
  {
   "cell_type": "markdown",
   "metadata": {},
   "source": [
    "The working hypothesis is that lower levels of job satisfaction ($x$) increases the\n",
    "chances of turnover, i.e., intent to quit ($y$).\n",
    "\n",
    "On top of this, we think the negative relationship between  $x$ and $y$ depends\n",
    "on the size of the employer. The intuition is that large employers have an \n",
    "internal labor market that allows individuals to change job positions (get a\n",
    "better fit with the task) without quitting the employment relation.\n",
    "\n",
    "The **goal** is showing how the relationship between job satisfaction and \n",
    "intent to quit (as estimated via OLS) changes as firm size increases."
   ]
  },
  {
   "cell_type": "markdown",
   "metadata": {},
   "source": [
    "## Data simulation"
   ]
  },
  {
   "cell_type": "markdown",
   "metadata": {},
   "source": [
    "We simulate multiple datasets involving the following variables:\n",
    "\n",
    "+   job satisfaction - the extent to which an employee is happy with his/her job\n",
    "    (let's assume we have Likert scale data; legend: 1 = not at all, 5 = to a \n",
    "    great extent)\n",
    "+   intent to quit - the extent to which an employee considers the possibility \n",
    "    to quit the current job (let's assume we have Likert scale data; legend: 1 \n",
    "    = not at all, 5 = to a great extent)\n",
    "+   age (in years)\n",
    "+   organizational tenure (years spent working for the employer)\n",
    "   \n",
    "Let's assume that all variables have been transformed into z-scores.\n",
    "   \n",
    "Each dataset we simulate reflect the following cohorts of employers:\n",
    "\n",
    "+   micro firms: 1 - 5 employees\n",
    "+   small firms: 6 - 25 employees\n",
    "+   medium firms: 26 - 100 employees\n",
    "+   large firms: 100 - 500 employees\n",
    "+   very large firms: 500 + "
   ]
  },
  {
   "cell_type": "code",
   "execution_count": 3,
   "metadata": {
    "ExecuteTime": {
     "end_time": "2021-01-18T08:55:38.445417Z",
     "start_time": "2021-01-18T08:55:38.423767Z"
    }
   },
   "outputs": [],
   "source": [
    "# sample size\n",
    "num_samples = 1000\n",
    "\n",
    "# variables' mean \n",
    "mu = np.repeat(0, 4)\n",
    "\n",
    "# names\n",
    "names = ['job_sat', 'int_qui', 'age', 'org_tnr']"
   ]
  },
  {
   "cell_type": "markdown",
   "metadata": {},
   "source": [
    "### Micro firms"
   ]
  },
  {
   "cell_type": "code",
   "execution_count": 4,
   "metadata": {
    "ExecuteTime": {
     "end_time": "2021-01-18T08:55:38.906898Z",
     "start_time": "2021-01-18T08:55:38.453478Z"
    }
   },
   "outputs": [],
   "source": [
    "# the desired covariance matrix.\n",
    "r = np.array([\n",
    "        [  1.00, -0.40, -0.03,  0.11],\n",
    "        [ -0.40,  1.00, -0.05, -0.09],\n",
    "        [ -0.03, -0.05,  1.00,  0.05],\n",
    "        [  0.11, -0.09,  0.05,  1.00]\n",
    "    ])\n",
    "\n",
    "# generate the random samples.\n",
    "df_1_5 = pd.DataFrame(np.random.multivariate_normal(mu, r, size=num_samples),\n",
    "                      columns=names)\n",
    "\n",
    "# expand\n",
    "df_1_5.loc[:, 'cohort'] = 'micro'\n",
    "df_1_5.loc[:, 'firm_size'] = np.random.randint(low=1, high=5, size=num_samples)"
   ]
  },
  {
   "cell_type": "code",
   "execution_count": 5,
   "metadata": {
    "ExecuteTime": {
     "end_time": "2021-01-18T08:55:38.979985Z",
     "start_time": "2021-01-18T08:55:38.913365Z"
    }
   },
   "outputs": [
    {
     "data": {
      "text/html": [
       "<div>\n",
       "<style scoped>\n",
       "    .dataframe tbody tr th:only-of-type {\n",
       "        vertical-align: middle;\n",
       "    }\n",
       "\n",
       "    .dataframe tbody tr th {\n",
       "        vertical-align: top;\n",
       "    }\n",
       "\n",
       "    .dataframe thead th {\n",
       "        text-align: right;\n",
       "    }\n",
       "</style>\n",
       "<table border=\"1\" class=\"dataframe\">\n",
       "  <thead>\n",
       "    <tr style=\"text-align: right;\">\n",
       "      <th></th>\n",
       "      <th>job_sat</th>\n",
       "      <th>int_qui</th>\n",
       "      <th>age</th>\n",
       "      <th>org_tnr</th>\n",
       "      <th>cohort</th>\n",
       "      <th>firm_size</th>\n",
       "    </tr>\n",
       "  </thead>\n",
       "  <tbody>\n",
       "    <tr>\n",
       "      <th>0</th>\n",
       "      <td>-0.622292</td>\n",
       "      <td>0.263914</td>\n",
       "      <td>0.413408</td>\n",
       "      <td>0.387795</td>\n",
       "      <td>micro</td>\n",
       "      <td>2</td>\n",
       "    </tr>\n",
       "    <tr>\n",
       "      <th>1</th>\n",
       "      <td>0.484541</td>\n",
       "      <td>-1.927052</td>\n",
       "      <td>1.705338</td>\n",
       "      <td>1.244782</td>\n",
       "      <td>micro</td>\n",
       "      <td>1</td>\n",
       "    </tr>\n",
       "    <tr>\n",
       "      <th>2</th>\n",
       "      <td>0.343219</td>\n",
       "      <td>-1.006230</td>\n",
       "      <td>1.331594</td>\n",
       "      <td>0.802364</td>\n",
       "      <td>micro</td>\n",
       "      <td>2</td>\n",
       "    </tr>\n",
       "    <tr>\n",
       "      <th>3</th>\n",
       "      <td>1.018795</td>\n",
       "      <td>-0.109472</td>\n",
       "      <td>-0.946209</td>\n",
       "      <td>0.382633</td>\n",
       "      <td>micro</td>\n",
       "      <td>1</td>\n",
       "    </tr>\n",
       "    <tr>\n",
       "      <th>4</th>\n",
       "      <td>0.681510</td>\n",
       "      <td>0.162903</td>\n",
       "      <td>-0.312286</td>\n",
       "      <td>0.479335</td>\n",
       "      <td>micro</td>\n",
       "      <td>1</td>\n",
       "    </tr>\n",
       "  </tbody>\n",
       "</table>\n",
       "</div>"
      ],
      "text/plain": [
       "    job_sat   int_qui       age   org_tnr cohort  firm_size\n",
       "0 -0.622292  0.263914  0.413408  0.387795  micro          2\n",
       "1  0.484541 -1.927052  1.705338  1.244782  micro          1\n",
       "2  0.343219 -1.006230  1.331594  0.802364  micro          2\n",
       "3  1.018795 -0.109472 -0.946209  0.382633  micro          1\n",
       "4  0.681510  0.162903 -0.312286  0.479335  micro          1"
      ]
     },
     "execution_count": 5,
     "metadata": {},
     "output_type": "execute_result"
    }
   ],
   "source": [
    "df_1_5.head()"
   ]
  },
  {
   "cell_type": "markdown",
   "metadata": {},
   "source": [
    "### Small firms"
   ]
  },
  {
   "cell_type": "code",
   "execution_count": 6,
   "metadata": {
    "ExecuteTime": {
     "end_time": "2021-01-18T08:55:39.031253Z",
     "start_time": "2021-01-18T08:55:38.987245Z"
    }
   },
   "outputs": [],
   "source": [
    "# the desired covariance matrix.\n",
    "r = np.array([\n",
    "        [  1.00, -0.30, -0.03,  0.11],\n",
    "        [ -0.30,  1.00, -0.05, -0.09],\n",
    "        [ -0.03, -0.05,  1.00,  0.05],\n",
    "        [  0.11, -0.09,  0.05,  1.00]\n",
    "    ])\n",
    "\n",
    "# generate the random samples.\n",
    "df_6_25 = pd.DataFrame(np.random.multivariate_normal(mu, r, size=num_samples),\n",
    "                       columns=names)\n",
    "\n",
    "# expand\n",
    "df_6_25.loc[:, 'cohort'] = 'large'\n",
    "df_6_25.loc[:, 'firm_size'] = np.random.randint(low=6,\n",
    "                                                high=25,\n",
    "                                                size=num_samples)"
   ]
  },
  {
   "cell_type": "code",
   "execution_count": 7,
   "metadata": {
    "ExecuteTime": {
     "end_time": "2021-01-18T08:55:39.082869Z",
     "start_time": "2021-01-18T08:55:39.037585Z"
    }
   },
   "outputs": [
    {
     "data": {
      "text/html": [
       "<div>\n",
       "<style scoped>\n",
       "    .dataframe tbody tr th:only-of-type {\n",
       "        vertical-align: middle;\n",
       "    }\n",
       "\n",
       "    .dataframe tbody tr th {\n",
       "        vertical-align: top;\n",
       "    }\n",
       "\n",
       "    .dataframe thead th {\n",
       "        text-align: right;\n",
       "    }\n",
       "</style>\n",
       "<table border=\"1\" class=\"dataframe\">\n",
       "  <thead>\n",
       "    <tr style=\"text-align: right;\">\n",
       "      <th></th>\n",
       "      <th>job_sat</th>\n",
       "      <th>int_qui</th>\n",
       "      <th>age</th>\n",
       "      <th>org_tnr</th>\n",
       "      <th>cohort</th>\n",
       "      <th>firm_size</th>\n",
       "    </tr>\n",
       "  </thead>\n",
       "  <tbody>\n",
       "    <tr>\n",
       "      <th>0</th>\n",
       "      <td>0.501884</td>\n",
       "      <td>-0.621370</td>\n",
       "      <td>-2.396545</td>\n",
       "      <td>0.558075</td>\n",
       "      <td>large</td>\n",
       "      <td>10</td>\n",
       "    </tr>\n",
       "    <tr>\n",
       "      <th>1</th>\n",
       "      <td>0.025664</td>\n",
       "      <td>0.393371</td>\n",
       "      <td>-0.494533</td>\n",
       "      <td>-0.102697</td>\n",
       "      <td>large</td>\n",
       "      <td>11</td>\n",
       "    </tr>\n",
       "    <tr>\n",
       "      <th>2</th>\n",
       "      <td>1.139745</td>\n",
       "      <td>-2.306118</td>\n",
       "      <td>0.012564</td>\n",
       "      <td>0.640136</td>\n",
       "      <td>large</td>\n",
       "      <td>19</td>\n",
       "    </tr>\n",
       "    <tr>\n",
       "      <th>3</th>\n",
       "      <td>1.998806</td>\n",
       "      <td>-1.960019</td>\n",
       "      <td>2.348142</td>\n",
       "      <td>-0.944592</td>\n",
       "      <td>large</td>\n",
       "      <td>23</td>\n",
       "    </tr>\n",
       "    <tr>\n",
       "      <th>4</th>\n",
       "      <td>0.156567</td>\n",
       "      <td>-0.644355</td>\n",
       "      <td>-0.488575</td>\n",
       "      <td>0.072907</td>\n",
       "      <td>large</td>\n",
       "      <td>9</td>\n",
       "    </tr>\n",
       "  </tbody>\n",
       "</table>\n",
       "</div>"
      ],
      "text/plain": [
       "    job_sat   int_qui       age   org_tnr cohort  firm_size\n",
       "0  0.501884 -0.621370 -2.396545  0.558075  large         10\n",
       "1  0.025664  0.393371 -0.494533 -0.102697  large         11\n",
       "2  1.139745 -2.306118  0.012564  0.640136  large         19\n",
       "3  1.998806 -1.960019  2.348142 -0.944592  large         23\n",
       "4  0.156567 -0.644355 -0.488575  0.072907  large          9"
      ]
     },
     "execution_count": 7,
     "metadata": {},
     "output_type": "execute_result"
    }
   ],
   "source": [
    "df_6_25.head()"
   ]
  },
  {
   "cell_type": "markdown",
   "metadata": {},
   "source": [
    "### Medium firms"
   ]
  },
  {
   "cell_type": "code",
   "execution_count": 8,
   "metadata": {
    "ExecuteTime": {
     "end_time": "2021-01-18T08:55:39.144629Z",
     "start_time": "2021-01-18T08:55:39.097134Z"
    }
   },
   "outputs": [],
   "source": [
    "# the desired covariance matrix.\n",
    "r = np.array([\n",
    "        [  1.00, -0.25, -0.03,  0.11],\n",
    "        [ -0.25,  1.00, -0.05, -0.09],\n",
    "        [ -0.03, -0.05,  1.00,  0.05],\n",
    "        [  0.11, -0.09,  0.05,  1.00]\n",
    "    ])\n",
    "\n",
    "# generate the random samples.\n",
    "df_26_100 = pd.DataFrame(np.random.multivariate_normal(mu, r, size=num_samples),\n",
    "                         columns=names)\n",
    "\n",
    "# expand\n",
    "df_26_100.loc[:, 'cohort'] = 'medium'\n",
    "df_26_100.loc[:, 'firm_size'] = np.random.randint(low=26,\n",
    "                                                  high=100,\n",
    "                                                  size=num_samples)"
   ]
  },
  {
   "cell_type": "markdown",
   "metadata": {},
   "source": [
    "### Large firms"
   ]
  },
  {
   "cell_type": "code",
   "execution_count": 9,
   "metadata": {
    "ExecuteTime": {
     "end_time": "2021-01-18T08:55:39.207952Z",
     "start_time": "2021-01-18T08:55:39.153456Z"
    }
   },
   "outputs": [],
   "source": [
    "# the desired covariance matrix.\n",
    "r = np.array([\n",
    "        [  1.00, -0.20, -0.03,  0.11],\n",
    "        [ -0.20,  1.00, -0.05, -0.09],\n",
    "        [ -0.03, -0.05,  1.00,  0.05],\n",
    "        [  0.11, -0.09,  0.05,  1.00]\n",
    "    ])\n",
    "\n",
    "# generate the random samples.\n",
    "df_101_500 = pd.DataFrame(np.random.multivariate_normal(mu, r, size=num_samples),\n",
    "                          columns=names)\n",
    "\n",
    "# expand\n",
    "df_101_500.loc[:, 'cohort'] = 'large'\n",
    "df_101_500.loc[:, 'firm_size'] = np.random.randint(low=101, high=500,\n",
    "                                                size=num_samples)"
   ]
  },
  {
   "cell_type": "markdown",
   "metadata": {},
   "source": [
    "### Very large firms"
   ]
  },
  {
   "cell_type": "code",
   "execution_count": 10,
   "metadata": {
    "ExecuteTime": {
     "end_time": "2021-01-18T08:55:39.273150Z",
     "start_time": "2021-01-18T08:55:39.216447Z"
    }
   },
   "outputs": [],
   "source": [
    "# the desired covariance matrix.\n",
    "r = np.array([\n",
    "        [  1.00, -0.15, -0.03,  0.11],\n",
    "        [ -0.15,  1.00, -0.05, -0.09],\n",
    "        [ -0.03, -0.05,  1.00,  0.05],\n",
    "        [  0.11, -0.09,  0.05,  1.00]\n",
    "    ])\n",
    "\n",
    "# generate the random samples.\n",
    "df_501_ = pd.DataFrame(np.random.multivariate_normal(mu, r, size=num_samples),\n",
    "                       columns=names)\n",
    "\n",
    "# expand\n",
    "df_501_.loc[:, 'cohort'] = 'very large'\n",
    "df_501_.loc[:, 'firm_size'] = np.random.randint(low=501, high=2000,\n",
    "                                                size=num_samples)"
   ]
  },
  {
   "cell_type": "markdown",
   "metadata": {},
   "source": [
    "#### Data preparation"
   ]
  },
  {
   "cell_type": "code",
   "execution_count": 11,
   "metadata": {
    "ExecuteTime": {
     "end_time": "2021-01-18T08:55:39.420047Z",
     "start_time": "2021-01-18T08:55:39.279913Z"
    },
    "scrolled": false
   },
   "outputs": [
    {
     "name": "stdout",
     "output_type": "stream",
     "text": [
      "<class 'pandas.core.frame.DataFrame'>\n",
      "Int64Index: 5000 entries, 0 to 999\n",
      "Data columns (total 6 columns):\n",
      " #   Column     Non-Null Count  Dtype  \n",
      "---  ------     --------------  -----  \n",
      " 0   job_sat    5000 non-null   float64\n",
      " 1   int_qui    5000 non-null   float64\n",
      " 2   age        5000 non-null   float64\n",
      " 3   org_tnr    5000 non-null   float64\n",
      " 4   cohort     5000 non-null   object \n",
      " 5   firm_size  5000 non-null   int32  \n",
      "dtypes: float64(4), int32(1), object(1)\n",
      "memory usage: 253.9+ KB\n"
     ]
    },
    {
     "data": {
      "text/html": [
       "<div>\n",
       "<style scoped>\n",
       "    .dataframe tbody tr th:only-of-type {\n",
       "        vertical-align: middle;\n",
       "    }\n",
       "\n",
       "    .dataframe tbody tr th {\n",
       "        vertical-align: top;\n",
       "    }\n",
       "\n",
       "    .dataframe thead th {\n",
       "        text-align: right;\n",
       "    }\n",
       "</style>\n",
       "<table border=\"1\" class=\"dataframe\">\n",
       "  <thead>\n",
       "    <tr style=\"text-align: right;\">\n",
       "      <th></th>\n",
       "      <th>job_sat</th>\n",
       "      <th>int_qui</th>\n",
       "      <th>age</th>\n",
       "      <th>org_tnr</th>\n",
       "      <th>cohort</th>\n",
       "      <th>firm_size</th>\n",
       "    </tr>\n",
       "  </thead>\n",
       "  <tbody>\n",
       "    <tr>\n",
       "      <th>0</th>\n",
       "      <td>-0.622292</td>\n",
       "      <td>0.263914</td>\n",
       "      <td>0.413408</td>\n",
       "      <td>0.387795</td>\n",
       "      <td>micro</td>\n",
       "      <td>2</td>\n",
       "    </tr>\n",
       "    <tr>\n",
       "      <th>1</th>\n",
       "      <td>0.484541</td>\n",
       "      <td>-1.927052</td>\n",
       "      <td>1.705338</td>\n",
       "      <td>1.244782</td>\n",
       "      <td>micro</td>\n",
       "      <td>1</td>\n",
       "    </tr>\n",
       "    <tr>\n",
       "      <th>2</th>\n",
       "      <td>0.343219</td>\n",
       "      <td>-1.006230</td>\n",
       "      <td>1.331594</td>\n",
       "      <td>0.802364</td>\n",
       "      <td>micro</td>\n",
       "      <td>2</td>\n",
       "    </tr>\n",
       "    <tr>\n",
       "      <th>3</th>\n",
       "      <td>1.018795</td>\n",
       "      <td>-0.109472</td>\n",
       "      <td>-0.946209</td>\n",
       "      <td>0.382633</td>\n",
       "      <td>micro</td>\n",
       "      <td>1</td>\n",
       "    </tr>\n",
       "    <tr>\n",
       "      <th>4</th>\n",
       "      <td>0.681510</td>\n",
       "      <td>0.162903</td>\n",
       "      <td>-0.312286</td>\n",
       "      <td>0.479335</td>\n",
       "      <td>micro</td>\n",
       "      <td>1</td>\n",
       "    </tr>\n",
       "  </tbody>\n",
       "</table>\n",
       "</div>"
      ],
      "text/plain": [
       "    job_sat   int_qui       age   org_tnr cohort  firm_size\n",
       "0 -0.622292  0.263914  0.413408  0.387795  micro          2\n",
       "1  0.484541 -1.927052  1.705338  1.244782  micro          1\n",
       "2  0.343219 -1.006230  1.331594  0.802364  micro          2\n",
       "3  1.018795 -0.109472 -0.946209  0.382633  micro          1\n",
       "4  0.681510  0.162903 -0.312286  0.479335  micro          1"
      ]
     },
     "execution_count": 11,
     "metadata": {},
     "output_type": "execute_result"
    }
   ],
   "source": [
    "df = pd.concat([df_1_5, df_6_25, df_26_100, df_101_500, df_501_],\n",
    "               axis=0)\n",
    "df.info()\n",
    "\n",
    "df.head()"
   ]
  },
  {
   "cell_type": "markdown",
   "metadata": {},
   "source": [
    "# Regression analysis\n",
    "\n",
    "There are two alternatives to carry out the regression analysis of intention to quit on job satisfaction as contingent on firm size:\n",
    "\n",
    "+ Alternative 1: producing 5 models, each of which applies to a certain cohort of firms. This will generate the following key estimates:\n",
    "  - 5 slopes relating job satisfaction to intention to quit [$\\beta_{micro}$, $\\beta_{small}$, ..... ]\n",
    "  - no $\\delta$ / no interaction effect\n",
    "+ Alternative 2: producing one model that operationalizes the equation reported in the very first cell of this notebook. This will generate the following key estimates:\n",
    "  - $\\beta$: the effect of job satisfaction that does not depend on firm size\n",
    "  - $\\delta$: the effect of job satisfaction that depends (i.e., it is contingent) on firm size"
   ]
  },
  {
   "cell_type": "code",
   "execution_count": 14,
   "metadata": {
    "ExecuteTime": {
     "end_time": "2021-01-18T09:00:29.634251Z",
     "start_time": "2021-01-18T09:00:29.236025Z"
    }
   },
   "outputs": [
    {
     "name": "stdout",
     "output_type": "stream",
     "text": [
      "A variable `lm_micro` was created!\n",
      "A variable `estimates_micro` was created!\n",
      "A variable `lm_large` was created!\n",
      "A variable `estimates_large` was created!\n",
      "A variable `lm_medium` was created!\n",
      "A variable `estimates_medium` was created!\n",
      "A variable `lm_very large` was created!\n",
      "A variable `estimates_very large` was created!\n"
     ]
    }
   ],
   "source": [
    "# fit models and get necessary coefficients\n",
    "for cohort in df.cohort.unique():\n",
    "    \n",
    "    var_name = '_'.join(['lm', cohort])\n",
    "    \n",
    "    # fit the model\n",
    "    lm = smf.ols('int_qui ~ job_sat', data = df[df['cohort'] == cohort]).fit()\n",
    "    \n",
    "    # create a variable containing the model\n",
    "    vars()[var_name] = lm\n",
    "    print('A variable `{}` was created!'.format(var_name))\n",
    "    \n",
    "    # get confidence intervals\n",
    "    estimates = vars()[var_name].conf_int(alpha = 0.05)\n",
    "\n",
    "    # reindex data\n",
    "    estimates.reset_index(inplace=True)\n",
    "\n",
    "    # rename columns\n",
    "    estimates.rename(columns={'index': 'variable',\n",
    "                              0: 'lower_bound',\n",
    "                              1: 'upper_bound'}, inplace=True)\n",
    "\n",
    "    # recall and attach betas\n",
    "    estimates.loc[:, 'beta'] = list(vars()[var_name].params)\n",
    "\n",
    "    # reindex data\n",
    "    estimates.set_index('variable', inplace=True)\n",
    "    \n",
    "    # create a variable containing the estimates\n",
    "    var_name = '_'.join(['estimates', cohort])\n",
    "    vars()[var_name] = estimates\n",
    "    print('A variable `{}` was created!'.format(var_name))"
   ]
  },
  {
   "cell_type": "code",
   "execution_count": 18,
   "metadata": {
    "ExecuteTime": {
     "end_time": "2021-01-18T09:00:50.995603Z",
     "start_time": "2021-01-18T09:00:50.979148Z"
    },
    "scrolled": false
   },
   "outputs": [
    {
     "name": "stdout",
     "output_type": "stream",
     "text": [
      "                            OLS Regression Results                            \n",
      "==============================================================================\n",
      "Dep. Variable:                int_qui   R-squared:                       0.151\n",
      "Model:                            OLS   Adj. R-squared:                  0.150\n",
      "Method:                 Least Squares   F-statistic:                     176.9\n",
      "Date:                Mon, 18 Jan 2021   Prob (F-statistic):           2.82e-37\n",
      "Time:                        17:00:50   Log-Likelihood:                -1347.7\n",
      "No. Observations:                1000   AIC:                             2699.\n",
      "Df Residuals:                     998   BIC:                             2709.\n",
      "Df Model:                           1                                         \n",
      "Covariance Type:            nonrobust                                         \n",
      "==============================================================================\n",
      "                 coef    std err          t      P>|t|      [0.025      0.975]\n",
      "------------------------------------------------------------------------------\n",
      "Intercept      0.0305      0.029      1.036      0.301      -0.027       0.088\n",
      "job_sat       -0.3974      0.030    -13.300      0.000      -0.456      -0.339\n",
      "==============================================================================\n",
      "Omnibus:                        1.069   Durbin-Watson:                   1.904\n",
      "Prob(Omnibus):                  0.586   Jarque-Bera (JB):                1.097\n",
      "Skew:                           0.012   Prob(JB):                        0.578\n",
      "Kurtosis:                       2.840   Cond. No.                         1.02\n",
      "==============================================================================\n",
      "\n",
      "Notes:\n",
      "[1] Standard Errors assume that the covariance matrix of the errors is correctly specified.\n"
     ]
    }
   ],
   "source": [
    "# sample model summary\n",
    "print(lm_micro.summary())"
   ]
  },
  {
   "cell_type": "code",
   "execution_count": 19,
   "metadata": {
    "ExecuteTime": {
     "end_time": "2021-01-18T09:01:34.354470Z",
     "start_time": "2021-01-18T09:01:34.336234Z"
    }
   },
   "outputs": [
    {
     "data": {
      "text/html": [
       "<div>\n",
       "<style scoped>\n",
       "    .dataframe tbody tr th:only-of-type {\n",
       "        vertical-align: middle;\n",
       "    }\n",
       "\n",
       "    .dataframe tbody tr th {\n",
       "        vertical-align: top;\n",
       "    }\n",
       "\n",
       "    .dataframe thead th {\n",
       "        text-align: right;\n",
       "    }\n",
       "</style>\n",
       "<table border=\"1\" class=\"dataframe\">\n",
       "  <thead>\n",
       "    <tr style=\"text-align: right;\">\n",
       "      <th></th>\n",
       "      <th>lower_bound</th>\n",
       "      <th>upper_bound</th>\n",
       "      <th>beta</th>\n",
       "    </tr>\n",
       "    <tr>\n",
       "      <th>variable</th>\n",
       "      <th></th>\n",
       "      <th></th>\n",
       "      <th></th>\n",
       "    </tr>\n",
       "  </thead>\n",
       "  <tbody>\n",
       "    <tr>\n",
       "      <th>Intercept</th>\n",
       "      <td>-0.027318</td>\n",
       "      <td>0.088396</td>\n",
       "      <td>0.030539</td>\n",
       "    </tr>\n",
       "    <tr>\n",
       "      <th>job_sat</th>\n",
       "      <td>-0.456030</td>\n",
       "      <td>-0.338761</td>\n",
       "      <td>-0.397396</td>\n",
       "    </tr>\n",
       "  </tbody>\n",
       "</table>\n",
       "</div>"
      ],
      "text/plain": [
       "           lower_bound  upper_bound      beta\n",
       "variable                                     \n",
       "Intercept    -0.027318     0.088396  0.030539\n",
       "job_sat      -0.456030    -0.338761 -0.397396"
      ]
     },
     "execution_count": 19,
     "metadata": {},
     "output_type": "execute_result"
    }
   ],
   "source": [
    "# sample estimates\n",
    "estimates_micro"
   ]
  },
  {
   "cell_type": "markdown",
   "metadata": {},
   "source": [
    "# Visualization\n",
    "\n",
    "The visualization should contain a maximum of two plots; 1 plot is acceptable too."
   ]
  },
  {
   "cell_type": "code",
   "execution_count": 25,
   "metadata": {
    "ExecuteTime": {
     "end_time": "2021-01-18T09:03:48.737726Z",
     "start_time": "2021-01-18T09:03:47.899676Z"
    }
   },
   "outputs": [
    {
     "name": "stderr",
     "output_type": "stream",
     "text": [
      "findfont: Font family ['serif'] not found. Falling back to DejaVu Sans.\n",
      "findfont: Font family ['serif'] not found. Falling back to DejaVu Sans.\n",
      "findfont: Font family ['serif'] not found. Falling back to DejaVu Sans.\n"
     ]
    },
    {
     "data": {
      "image/png": "[encoded data removed]",
      "text/plain": [
       "<Figure size 432x288 with 1 Axes>"
      ]
     },
     "metadata": {},
     "output_type": "display_data"
    }
   ],
   "source": [
    "# create figure \n",
    "fig = plt.figure(figsize=(6, 4))\n",
    "\n",
    "# add plot\n",
    "ax = fig.add_subplot(1, 1, 1)\n",
    "\n",
    "colors = ['mediumslateblue', 'mediumblue', 'palevioletred', 'firebrick', 'darkred']\n",
    "\n",
    "for i, cohort in enumerate(df.cohort.unique()):\n",
    "    \n",
    "    var_name = '_'.join(['estimates', cohort])\n",
    "    \n",
    "    # focal variable\n",
    "    pred = vars()[var_name].index[1:]\n",
    "\n",
    "    # data series\n",
    "    x = i\n",
    "    y = vars()[var_name].loc[pred, 'beta']\n",
    "    y_high = vars()[var_name].loc[pred, 'upper_bound']\n",
    "    y_low = vars()[var_name].loc[pred, 'lower_bound']\n",
    "\n",
    "    # plot data\n",
    "    ax.errorbar(x, y, fmt='o',\n",
    "                yerr=np.absolute(y_low - y_high)/2,\n",
    "                elinewidth=1,\n",
    "                markerfacecolor = colors[i],\n",
    "                markeredgecolor = colors[i],\n",
    "                ecolor = colors[i]\n",
    "                )    \n",
    "\n",
    "# set ticks and title\n",
    "\n",
    "ax.set_ylim(-0.5, -0.05)\n",
    "ax.set_xticks(np.arange(len(df.cohort.unique())))\n",
    "ax.set_xticklabels(df.cohort.unique())\n",
    "ax.set_yticks(np.arange(-0.4, -0.1, 0.1))\n",
    "ax.set_ylabel('Estimated regression slope')\n",
    "ax.set_title('Regression Analysis of Intention to Quit on Job Satisfaction')\n",
    "\n",
    "# remove grid\n",
    "ax.grid(axis='x')\n",
    "\n",
    "plt.show()"
   ]
  },
  {
   "cell_type": "code",
   "execution_count": null,
   "metadata": {},
   "outputs": [],
   "source": []
  }
 ],
 "metadata": {
  "kernelspec": {
   "display_name": "Python 3",
   "language": "python",
   "name": "python3"
  },
  "language_info": {
   "codemirror_mode": {
    "name": "ipython",
    "version": 3
   },
   "file_extension": ".py",
   "mimetype": "text/x-python",
   "name": "python",
   "nbconvert_exporter": "python",
   "pygments_lexer": "ipython3",
   "version": "3.7.8"
  },
  "latex_envs": {
   "LaTeX_envs_menu_present": true,
   "autoclose": false,
   "autocomplete": true,
   "bibliofile": "biblio.bib",
   "cite_by": "apalike",
   "current_citInitial": 1,
   "eqLabelWithNumbers": true,
   "eqNumInitial": 1,
   "hotkeys": {
    "equation": "Ctrl-E",
    "itemize": "Ctrl-I"
   },
   "labels_anchors": false,
   "latex_user_defs": false,
   "report_style_numbering": false,
   "user_envs_cfg": false
  },
  "toc": {
   "base_numbering": 1,
   "nav_menu": {},
   "number_sections": true,
   "sideBar": true,
   "skip_h1_title": false,
   "title_cell": "Table of Contents",
   "title_sidebar": "Contents",
   "toc_cell": false,
   "toc_position": {},
   "toc_section_display": true,
   "toc_window_display": false
  },
  "varInspector": {
   "cols": {
    "lenName": 16,
    "lenType": 16,
    "lenVar": 40
   },
   "kernels_config": {
    "python": {
     "delete_cmd_postfix": "",
     "delete_cmd_prefix": "del ",
     "library": "var_list.py",
     "varRefreshCmd": "print(var_dic_list())"
    },
    "r": {
     "delete_cmd_postfix": ") ",
     "delete_cmd_prefix": "rm(",
     "library": "var_list.r",
     "varRefreshCmd": "cat(var_dic_list()) "
    }
   },
   "types_to_exclude": [
    "module",
    "function",
    "builtin_function_or_method",
    "instance",
    "_Feature"
   ],
   "window_display": false
  }
 },
 "nbformat": 4,
 "nbformat_minor": 4
}
