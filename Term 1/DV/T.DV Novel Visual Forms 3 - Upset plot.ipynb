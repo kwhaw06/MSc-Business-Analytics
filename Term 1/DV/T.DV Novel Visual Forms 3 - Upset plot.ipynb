{
 "cells": [
  {
   "cell_type": "code",
   "execution_count": 1,
   "metadata": {
    "ExecuteTime": {
     "end_time": "2020-11-14T15:30:50.295134Z",
     "start_time": "2020-11-14T15:30:49.818571Z"
    }
   },
   "outputs": [],
   "source": [
    "# %% load libraries\n",
    "import numpy as np\n",
    "import pandas as pd\n",
    "import upsetplot"
   ]
  },
  {
   "cell_type": "code",
   "execution_count": 13,
   "metadata": {
    "ExecuteTime": {
     "end_time": "2020-11-14T15:32:23.825687Z",
     "start_time": "2020-11-14T15:32:23.814684Z"
    }
   },
   "outputs": [],
   "source": [
    "# %% fake data\n",
    "'''\n",
    "We simulate data on inter-temporal patterns of purchasing behavior (e.g.,\n",
    "Amazon users buying stuff at different points in time)\n",
    "The data contain 50 consumers and 5 periods of time; `1' = individual `i'\n",
    "purchases item ABC at time `j'; 0 = no purchase\n",
    "'''\n",
    "# purchases\n",
    "purchase_patterns = np.random.binomial(n=1, p=1/3, size=(50, 5))   # array of 50 rows, 5 columns\n",
    "\n",
    "# wrap up data\n",
    "df = pd.DataFrame(purchase_patterns)\n",
    "\n",
    "# rename cols\n",
    "old_cols = df.columns\n",
    "new_cols = ['t{}'.format(i) for i in old_cols]   # editing the column titles\n",
    "\n",
    "df.rename(columns=dict(zip(old_cols, new_cols)), inplace=True)\n",
    "df.loc[:, 'consumer_id'] = np.arange(0, len(df))"
   ]
  },
  {
   "cell_type": "code",
   "execution_count": 14,
   "metadata": {
    "ExecuteTime": {
     "end_time": "2020-11-14T15:32:23.982256Z",
     "start_time": "2020-11-14T15:32:23.962346Z"
    },
    "scrolled": true
   },
   "outputs": [
    {
     "data": {
      "text/html": [
       "<div>\n",
       "<style scoped>\n",
       "    .dataframe tbody tr th:only-of-type {\n",
       "        vertical-align: middle;\n",
       "    }\n",
       "\n",
       "    .dataframe tbody tr th {\n",
       "        vertical-align: top;\n",
       "    }\n",
       "\n",
       "    .dataframe thead th {\n",
       "        text-align: right;\n",
       "    }\n",
       "</style>\n",
       "<table border=\"1\" class=\"dataframe\">\n",
       "  <thead>\n",
       "    <tr style=\"text-align: right;\">\n",
       "      <th></th>\n",
       "      <th>t0</th>\n",
       "      <th>t1</th>\n",
       "      <th>t2</th>\n",
       "      <th>t3</th>\n",
       "      <th>t4</th>\n",
       "      <th>consumer_id</th>\n",
       "    </tr>\n",
       "  </thead>\n",
       "  <tbody>\n",
       "    <tr>\n",
       "      <th>0</th>\n",
       "      <td>0</td>\n",
       "      <td>1</td>\n",
       "      <td>0</td>\n",
       "      <td>0</td>\n",
       "      <td>1</td>\n",
       "      <td>0</td>\n",
       "    </tr>\n",
       "    <tr>\n",
       "      <th>1</th>\n",
       "      <td>0</td>\n",
       "      <td>0</td>\n",
       "      <td>0</td>\n",
       "      <td>1</td>\n",
       "      <td>0</td>\n",
       "      <td>1</td>\n",
       "    </tr>\n",
       "    <tr>\n",
       "      <th>2</th>\n",
       "      <td>0</td>\n",
       "      <td>1</td>\n",
       "      <td>0</td>\n",
       "      <td>1</td>\n",
       "      <td>1</td>\n",
       "      <td>2</td>\n",
       "    </tr>\n",
       "    <tr>\n",
       "      <th>3</th>\n",
       "      <td>0</td>\n",
       "      <td>1</td>\n",
       "      <td>1</td>\n",
       "      <td>0</td>\n",
       "      <td>1</td>\n",
       "      <td>3</td>\n",
       "    </tr>\n",
       "    <tr>\n",
       "      <th>4</th>\n",
       "      <td>0</td>\n",
       "      <td>1</td>\n",
       "      <td>0</td>\n",
       "      <td>0</td>\n",
       "      <td>0</td>\n",
       "      <td>4</td>\n",
       "    </tr>\n",
       "  </tbody>\n",
       "</table>\n",
       "</div>"
      ],
      "text/plain": [
       "   t0  t1  t2  t3  t4  consumer_id\n",
       "0   0   1   0   0   1            0\n",
       "1   0   0   0   1   0            1\n",
       "2   0   1   0   1   1            2\n",
       "3   0   1   1   0   1            3\n",
       "4   0   1   0   0   0            4"
      ]
     },
     "execution_count": 14,
     "metadata": {},
     "output_type": "execute_result"
    }
   ],
   "source": [
    "# preview\n",
    "df.head()"
   ]
  },
  {
   "cell_type": "code",
   "execution_count": 15,
   "metadata": {
    "ExecuteTime": {
     "end_time": "2020-11-14T15:32:24.358404Z",
     "start_time": "2020-11-14T15:32:24.099090Z"
    }
   },
   "outputs": [
    {
     "data": {
      "text/plain": [
       "{'matrix': <matplotlib.axes._subplots.AxesSubplot at 0x25f63d38e08>,\n",
       " 'shading': <matplotlib.axes._subplots.AxesSubplot at 0x25f63d3acc8>,\n",
       " 'totals': <matplotlib.axes._subplots.AxesSubplot at 0x25f63c9ac48>,\n",
       " 'intersections': <matplotlib.axes._subplots.AxesSubplot at 0x25f63f30cc8>}"
      ]
     },
     "execution_count": 15,
     "metadata": {},
     "output_type": "execute_result"
    },
    {
     "data": {
      "image/png": "[encoded data removed]",
      "text/plain": [
       "<Figure size 756.25x352 with 4 Axes>"
      ]
     },
     "metadata": {
      "needs_background": "light"
     },
     "output_type": "display_data"
    }
   ],
   "source": [
    "# %% manipulate data to create an upset plot\n",
    "\n",
    "# collapse consumers around common purchasing patterns\n",
    "df.loc[:, 'count'] = 1\n",
    "gr = df.groupby(['t0', 't1', 't2', 't3', 't4'])   # what does this show?\n",
    "df = gr['count'].agg(np.sum)\n",
    "\n",
    "# plot data\n",
    "upsetplot.plot(df, orientation='horizontal')"
   ]
  },
  {
   "cell_type": "code",
   "execution_count": 11,
   "metadata": {
    "ExecuteTime": {
     "end_time": "2020-11-14T15:31:41.242444Z",
     "start_time": "2020-11-14T15:31:40.930412Z"
    }
   },
   "outputs": [
    {
     "data": {
      "text/plain": [
       "{'matrix': <matplotlib.axes._subplots.AxesSubplot at 0x25f639bc5c8>,\n",
       " 'shading': <matplotlib.axes._subplots.AxesSubplot at 0x25f63135a08>,\n",
       " 'totals': <matplotlib.axes._subplots.AxesSubplot at 0x25f63b7adc8>,\n",
       " 'intersections': <matplotlib.axes._subplots.AxesSubplot at 0x25f63be4648>}"
      ]
     },
     "execution_count": 11,
     "metadata": {},
     "output_type": "execute_result"
    },
    {
     "data": {
      "image/png": "[encoded data removed]",
      "text/plain": [
       "<Figure size 788.25x352 with 4 Axes>"
      ]
     },
     "metadata": {
      "needs_background": "light"
     },
     "output_type": "display_data"
    }
   ],
   "source": [
    "# %% manipulate data to create an upset plot\n",
    "\n",
    "# collapse consumers around common purchasing patterns\n",
    "df.loc[:, 'count'] = 1\n",
    "gr = df.groupby(['t0', 't1', 't2', 't3', 't4'])\n",
    "df = gr['count'].agg(np.sum)\n",
    "\n",
    "# plot data\n",
    "upsetplot.plot(df, orientation='horizontal', sort_categories_by=None)  \n",
    "# sorting the left labels from ascending order 4 to 0"
   ]
  },
  {
   "cell_type": "markdown",
   "metadata": {},
   "source": [
    "Q1: What's the meaning of the first bar?\n",
    "\n",
    "A: there are 'n' customers with not purchases\n",
    "\n",
    "Q2: what's the meaning of the 'top' bar chart?\n",
    "\n",
    "A: each bar is the count of instances showing a configuration (a pattern) of purchasing behavior\n",
    "\n"
   ]
  },
  {
   "cell_type": "code",
   "execution_count": null,
   "metadata": {},
   "outputs": [],
   "source": []
  }
 ],
 "metadata": {
  "kernelspec": {
   "display_name": "Python 3",
   "language": "python",
   "name": "python3"
  },
  "language_info": {
   "codemirror_mode": {
    "name": "ipython",
    "version": 3
   },
   "file_extension": ".py",
   "mimetype": "text/x-python",
   "name": "python",
   "nbconvert_exporter": "python",
   "pygments_lexer": "ipython3",
   "version": "3.7.6"
  },
  "latex_envs": {
   "LaTeX_envs_menu_present": true,
   "autoclose": false,
   "autocomplete": true,
   "bibliofile": "biblio.bib",
   "cite_by": "apalike",
   "current_citInitial": 1,
   "eqLabelWithNumbers": true,
   "eqNumInitial": 1,
   "hotkeys": {
    "equation": "Ctrl-E",
    "itemize": "Ctrl-I"
   },
   "labels_anchors": false,
   "latex_user_defs": false,
   "report_style_numbering": false,
   "user_envs_cfg": false
  },
  "toc": {
   "base_numbering": 1,
   "nav_menu": {},
   "number_sections": true,
   "sideBar": true,
   "skip_h1_title": false,
   "title_cell": "Table of Contents",
   "title_sidebar": "Contents",
   "toc_cell": false,
   "toc_position": {},
   "toc_section_display": true,
   "toc_window_display": false
  },
  "varInspector": {
   "cols": {
    "lenName": 16,
    "lenType": 16,
    "lenVar": 40
   },
   "kernels_config": {
    "python": {
     "delete_cmd_postfix": "",
     "delete_cmd_prefix": "del ",
     "library": "var_list.py",
     "varRefreshCmd": "print(var_dic_list())"
    },
    "r": {
     "delete_cmd_postfix": ") ",
     "delete_cmd_prefix": "rm(",
     "library": "var_list.r",
     "varRefreshCmd": "cat(var_dic_list()) "
    }
   },
   "types_to_exclude": [
    "module",
    "function",
    "builtin_function_or_method",
    "instance",
    "_Feature"
   ],
   "window_display": false
  }
 },
 "nbformat": 4,
 "nbformat_minor": 4
}
