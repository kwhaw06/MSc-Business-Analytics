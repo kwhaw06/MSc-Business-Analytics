{
 "cells": [
  {
   "cell_type": "markdown",
   "metadata": {},
   "source": [
    "# Bar Chart"
   ]
  },
  {
   "cell_type": "code",
   "execution_count": 1,
   "metadata": {
    "ExecuteTime": {
     "end_time": "2020-10-15T15:48:20.544781Z",
     "start_time": "2020-10-15T15:48:20.238344Z"
    }
   },
   "outputs": [],
   "source": [
    "import matplotlib.pyplot as plt"
   ]
  },
  {
   "cell_type": "code",
   "execution_count": 7,
   "metadata": {
    "ExecuteTime": {
     "end_time": "2020-10-15T15:57:01.905941Z",
     "start_time": "2020-10-15T15:57:01.892975Z"
    }
   },
   "outputs": [],
   "source": [
    "artists = ['Adele', 'Diplo', 'Giorgio', 'Madonna']\n",
    "grammys = [12, 3, 5, 7]"
   ]
  },
  {
   "cell_type": "code",
   "execution_count": 8,
   "metadata": {
    "ExecuteTime": {
     "end_time": "2020-10-15T15:57:02.816510Z",
     "start_time": "2020-10-15T15:57:02.809530Z"
    }
   },
   "outputs": [
    {
     "data": {
      "text/plain": [
       "{'Adele': 12, 'Diplo': 3, 'Giorgio': 5, 'Madonna': 7}"
      ]
     },
     "execution_count": 8,
     "metadata": {},
     "output_type": "execute_result"
    }
   ],
   "source": [
    "data = dict(zip(artists, grammys))\n",
    "data"
   ]
  },
  {
   "cell_type": "code",
   "execution_count": 12,
   "metadata": {
    "ExecuteTime": {
     "end_time": "2020-10-15T16:02:58.053402Z",
     "start_time": "2020-10-15T16:02:58.042431Z"
    }
   },
   "outputs": [
    {
     "data": {
      "text/plain": [
       "[12, 3, 5, 7]"
      ]
     },
     "execution_count": 12,
     "metadata": {},
     "output_type": "execute_result"
    }
   ],
   "source": [
    "list(data.values())"
   ]
  },
  {
   "cell_type": "code",
   "execution_count": 13,
   "metadata": {
    "ExecuteTime": {
     "end_time": "2020-10-15T16:04:27.231212Z",
     "start_time": "2020-10-15T16:04:26.989835Z"
    }
   },
   "outputs": [
    {
     "data": {
      "image/png": "[encoded data removed]",
      "text/plain": [
       "<Figure size 432x288 with 1 Axes>"
      ]
     },
     "metadata": {
      "needs_background": "light"
     },
     "output_type": "display_data"
    }
   ],
   "source": [
    "# data series\n",
    "positions = [0,1,2,3]\n",
    "values = list(data.values())\n",
    "\n",
    "# create an empty figure\n",
    "fig = plt.figure(figsize=(6, 4))\n",
    "\n",
    "# add a plot\n",
    "ax = fig.add_subplot(1,1,1)\n",
    "\n",
    "# plot data as a bar chart\n",
    "ax.bar(positions, values)\n",
    "\n",
    "# showing the plot\n",
    "plt.show()"
   ]
  },
  {
   "cell_type": "markdown",
   "metadata": {
    "ExecuteTime": {
     "end_time": "2020-10-15T16:05:02.477055Z",
     "start_time": "2020-10-15T16:05:02.469096Z"
    }
   },
   "source": [
    "Need adjustment to the x-axis & removing the spines"
   ]
  },
  {
   "cell_type": "code",
   "execution_count": 20,
   "metadata": {
    "ExecuteTime": {
     "end_time": "2020-10-15T16:12:09.252796Z",
     "start_time": "2020-10-15T16:12:09.139868Z"
    }
   },
   "outputs": [
    {
     "data": {
      "image/png": "[encoded data removed]",
      "text/plain": [
       "<Figure size 432x288 with 1 Axes>"
      ]
     },
     "metadata": {
      "needs_background": "light"
     },
     "output_type": "display_data"
    }
   ],
   "source": [
    "# data series\n",
    "positions = [0,1,2,3]\n",
    "values = list(data.values())\n",
    "names = list(data.keys())\n",
    "\n",
    "# create an empty figure\n",
    "fig = plt.figure(figsize=(6, 4))\n",
    "\n",
    "# add a plot\n",
    "ax = fig.add_subplot(1,1,1)\n",
    "\n",
    "# plot data as a bar chart\n",
    "ax.bar(positions, values)\n",
    "\n",
    "## axes\n",
    "# --+ ticks\n",
    "ax.set_xticks(positions)\n",
    "# --+ labels of the ticks\n",
    "ax.set_xticklabels(names)\n",
    "# --+ removing spines\n",
    "ax.spines['right'].set_visible(False)\n",
    "ax.spines['left'].set_visible(False)\n",
    "ax.spines['top'].set_visible(False)\n",
    "ax.spines['bottom'].set_visible(False)\n",
    "\n",
    "# showing the plot\n",
    "plt.show()"
   ]
  },
  {
   "cell_type": "markdown",
   "metadata": {},
   "source": [
    "Simplfying the chart in various aspects"
   ]
  },
  {
   "cell_type": "code",
   "execution_count": 36,
   "metadata": {
    "ExecuteTime": {
     "end_time": "2020-10-15T16:22:26.850903Z",
     "start_time": "2020-10-15T16:22:26.726299Z"
    }
   },
   "outputs": [
    {
     "data": {
      "image/png": "[encoded data removed]",
      "text/plain": [
       "<Figure size 432x288 with 1 Axes>"
      ]
     },
     "metadata": {
      "needs_background": "light"
     },
     "output_type": "display_data"
    }
   ],
   "source": [
    "# data series\n",
    "positions = [0,1,2,3]\n",
    "values = list(data.values())\n",
    "names = list(data.keys())\n",
    "\n",
    "# create an empty figure\n",
    "fig = plt.figure(figsize=(6, 4))\n",
    "\n",
    "# add a plot\n",
    "ax = fig.add_subplot(1,1,1)\n",
    "\n",
    "# plot data as a bar chart\n",
    "ax.bar(positions, values, color='grey', width=0.5)\n",
    "\n",
    "## axes\n",
    "# --+ ticks\n",
    "ax.set_xticks(positions)\n",
    "# --+ labels of the ticks\n",
    "ax.set_xticklabels(names)\n",
    "# --+ removing spines\n",
    "ax.spines['right'].set_visible(False)\n",
    "ax.spines['left'].set_visible(False)\n",
    "ax.spines['top'].set_visible(False)\n",
    "ax.spines['bottom'].set_visible(False)\n",
    "\n",
    "# gridline\n",
    "ax.grid(True, axis='y', color='white', ls=':')\n",
    "\n",
    "# showing the plot\n",
    "plt.show()"
   ]
  },
  {
   "cell_type": "markdown",
   "metadata": {},
   "source": [
    "# Scatter plot"
   ]
  },
  {
   "cell_type": "code",
   "execution_count": 37,
   "metadata": {
    "ExecuteTime": {
     "end_time": "2020-10-15T16:23:53.592346Z",
     "start_time": "2020-10-15T16:23:53.583339Z"
    }
   },
   "outputs": [],
   "source": [
    "import numpy as np"
   ]
  },
  {
   "cell_type": "code",
   "execution_count": 38,
   "metadata": {
    "ExecuteTime": {
     "end_time": "2020-10-15T16:25:42.323361Z",
     "start_time": "2020-10-15T16:25:42.302421Z"
    }
   },
   "outputs": [],
   "source": [
    "x = np.random.normal(loc=0, scale=1, size=100)\n",
    "y = np.random.poisson(lam=6, size=100)"
   ]
  },
  {
   "cell_type": "code",
   "execution_count": 49,
   "metadata": {
    "ExecuteTime": {
     "end_time": "2020-10-15T16:28:38.976695Z",
     "start_time": "2020-10-15T16:28:38.839097Z"
    },
    "scrolled": true
   },
   "outputs": [
    {
     "data": {
      "image/png": "[encoded data removed]",
      "text/plain": [
       "<Figure size 432x288 with 1 Axes>"
      ]
     },
     "metadata": {
      "needs_background": "light"
     },
     "output_type": "display_data"
    }
   ],
   "source": [
    "# figure\n",
    "fig = plt.figure(figsize=(6,4))\n",
    "\n",
    "# plot\n",
    "ax = fig.add_subplot(1,1,1)\n",
    "\n",
    "# data\n",
    "ax.scatter(x, y, color='k', edgecolor='white')\n",
    "\n",
    "# --+ removing spines\n",
    "ax.spines['right'].set_visible(False)\n",
    "ax.spines['left'].set_visible(False)\n",
    "ax.spines['top'].set_visible(False)\n",
    "ax.spines['bottom'].set_visible(False)\n",
    "\n",
    "# show\n",
    "plt.show()\n"
   ]
  },
  {
   "cell_type": "code",
   "execution_count": 53,
   "metadata": {
    "ExecuteTime": {
     "end_time": "2020-10-15T16:31:26.073177Z",
     "start_time": "2020-10-15T16:31:26.066158Z"
    }
   },
   "outputs": [],
   "source": [
    "import matplotlib.gridspec as gridspec"
   ]
  },
  {
   "cell_type": "code",
   "execution_count": 61,
   "metadata": {
    "ExecuteTime": {
     "end_time": "2020-10-15T16:42:01.321746Z",
     "start_time": "2020-10-15T16:42:00.952962Z"
    }
   },
   "outputs": [
    {
     "data": {
      "image/png": "[encoded data removed]",
      "text/plain": [
       "<Figure size 432x288 with 4 Axes>"
      ]
     },
     "metadata": {
      "needs_background": "light"
     },
     "output_type": "display_data"
    }
   ],
   "source": [
    "# figure\n",
    "fig = plt.figure(figsize=(6,4))\n",
    "\n",
    "# partitioning the figure\n",
    "gs = gridspec.GridSpec(2, 2,\n",
    "                      figure=fig,\n",
    "                      width_ratios=[0.5, 10],\n",
    "                      height_ratios=[10, 0.5])\n",
    "\n",
    "# plot\n",
    "ax0 = fig.add_subplot(gs[0,0])  # univariate distri of y\n",
    "ax1 = fig.add_subplot(gs[0,1])  # x-y scatter\n",
    "ax2 = fig.add_subplot(gs[1,0])  # phatom plot\n",
    "ax3 = fig.add_subplot(gs[1,1])  # univariate distri of x\n",
    "\n",
    "# data\n",
    "ax1.scatter(x, y, color='k', edgecolor='white')\n",
    "\n",
    "# --+ removing spines for ax1\n",
    "ax1.spines['right'].set_visible(False)\n",
    "ax1.spines['left'].set_visible(False)\n",
    "ax1.spines['top'].set_visible(False)\n",
    "ax1.spines['bottom'].set_visible(False)\n",
    "\n",
    "# --+ removing spines for ax0\n",
    "ax0.spines['right'].set_visible(False)\n",
    "ax0.spines['left'].set_visible(False)\n",
    "ax0.spines['top'].set_visible(False)\n",
    "ax0.spines['bottom'].set_visible(False)\n",
    "\n",
    "# --+ removing spines for ax3\n",
    "ax2.spines['right'].set_visible(False)\n",
    "ax2.spines['left'].set_visible(False)\n",
    "ax2.spines['top'].set_visible(False)\n",
    "ax2.spines['bottom'].set_visible(False)\n",
    "\n",
    "# --+ removing spines for ax3\n",
    "ax3.spines['right'].set_visible(False)\n",
    "ax3.spines['left'].set_visible(False)\n",
    "ax3.spines['top'].set_visible(False)\n",
    "ax3.spines['bottom'].set_visible(False)\n",
    "\n",
    "# show\n",
    "plt.show()\n"
   ]
  },
  {
   "cell_type": "code",
   "execution_count": null,
   "metadata": {},
   "outputs": [],
   "source": []
  }
 ],
 "metadata": {
  "kernelspec": {
   "display_name": "Python 3",
   "language": "python",
   "name": "python3"
  },
  "language_info": {
   "codemirror_mode": {
    "name": "ipython",
    "version": 3
   },
   "file_extension": ".py",
   "mimetype": "text/x-python",
   "name": "python",
   "nbconvert_exporter": "python",
   "pygments_lexer": "ipython3",
   "version": "3.7.6"
  },
  "toc": {
   "base_numbering": 1,
   "nav_menu": {},
   "number_sections": true,
   "sideBar": true,
   "skip_h1_title": false,
   "title_cell": "Table of Contents",
   "title_sidebar": "Contents",
   "toc_cell": false,
   "toc_position": {},
   "toc_section_display": true,
   "toc_window_display": false
  },
  "varInspector": {
   "cols": {
    "lenName": 16,
    "lenType": 16,
    "lenVar": 40
   },
   "kernels_config": {
    "python": {
     "delete_cmd_postfix": "",
     "delete_cmd_prefix": "del ",
     "library": "var_list.py",
     "varRefreshCmd": "print(var_dic_list())"
    },
    "r": {
     "delete_cmd_postfix": ") ",
     "delete_cmd_prefix": "rm(",
     "library": "var_list.r",
     "varRefreshCmd": "cat(var_dic_list()) "
    }
   },
   "types_to_exclude": [
    "module",
    "function",
    "builtin_function_or_method",
    "instance",
    "_Feature"
   ],
   "window_display": false
  }
 },
 "nbformat": 4,
 "nbformat_minor": 4
}
