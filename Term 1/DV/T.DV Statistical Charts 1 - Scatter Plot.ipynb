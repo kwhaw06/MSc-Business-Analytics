{
 "cells": [
  {
   "cell_type": "code",
   "execution_count": 1,
   "metadata": {
    "ExecuteTime": {
     "end_time": "2020-10-30T11:24:57.141541Z",
     "start_time": "2020-10-30T11:24:56.299805Z"
    }
   },
   "outputs": [],
   "source": [
    "# %% libraries\n",
    "import os\n",
    "import numpy as np\n",
    "import matplotlib.pyplot as plt\n",
    "import matplotlib.gridspec as gridspec"
   ]
  },
  {
   "cell_type": "code",
   "execution_count": 6,
   "metadata": {
    "ExecuteTime": {
     "end_time": "2020-10-30T11:25:25.803327Z",
     "start_time": "2020-10-30T11:25:25.798369Z"
    }
   },
   "outputs": [],
   "source": [
    "# %% aesthetics\n",
    "plt.style.use('seaborn-bright')\n",
    "plt.rc('text', usetex=False)\n",
    "plt.rc('font', family='serif', size=10)"
   ]
  },
  {
   "cell_type": "code",
   "execution_count": 9,
   "metadata": {
    "ExecuteTime": {
     "end_time": "2020-10-30T11:27:37.585281Z",
     "start_time": "2020-10-30T11:27:37.574309Z"
    }
   },
   "outputs": [],
   "source": [
    "# %% fake data\n",
    "np.random.seed(111) # fix the seed to ensure reproducibility\n",
    "n = 30\n",
    "x = np.random.randn(n)\n",
    "y = 10 + x * (1+ np.random.randn(n))"
   ]
  },
  {
   "cell_type": "code",
   "execution_count": 7,
   "metadata": {
    "ExecuteTime": {
     "end_time": "2020-10-30T11:25:26.886740Z",
     "start_time": "2020-10-30T11:25:26.539603Z"
    }
   },
   "outputs": [
    {
     "data": {
      "image/png": "[encoded data removed]",
      "text/plain": [
       "<Figure size 360x360 with 4 Axes>"
      ]
     },
     "metadata": {
      "needs_background": "light"
     },
     "output_type": "display_data"
    }
   ],
   "source": [
    "# %% plot\n",
    "\n",
    "# create figure\n",
    "fig = plt.figure(figsize=(5, 5))\n",
    "\n",
    "# parition the figure into 4 subplots with 'gridspec'\n",
    "gs = gridspec.GridSpec(2, 2, # we want 2 rows, 2 cols\n",
    "                       figure=fig, # this gs applies to figure\n",
    "                       hspace=-0.05, wspace=-0.05, # separation between plots\n",
    "                       width_ratios=[0.5, 10], # ratio between the first\n",
    "                       # and second column\n",
    "                       height_ratios=[10, 0.5]) # ratio between the first and second row\n",
    "\n",
    "# add plots\n",
    "ax0 = fig.add_subplot(gs[0, 0]) # this will occupy the first row-first colum\n",
    "ax1 = fig.add_subplot(gs[0, 1]) # and so on and so forth...\n",
    "ax2 = fig.add_subplot(gs[1, 0])\n",
    "ax3 = fig.add_subplot(gs[1, 1])\n",
    "\n",
    "# empty plot\n",
    "ax2.axis('off')\n",
    "\n",
    "# univariate distribution of y\n",
    "ax0.scatter(np.ones(len(y)), y, marker='_', color='black', alpha=1) # draw plot\n",
    "ax0.axis('off') # set axes off\n",
    "\n",
    "# x-y scatter diagram\n",
    "ax1.scatter(x, y, marker='o', s=15, color='black', alpha=1, edgecolor='white')\n",
    "ax1.axis('off') # remove axes\n",
    "\n",
    "# univariate distribution of x\n",
    "ax3.scatter(x, np.ones(len(x)), marker='|', color='black', alpha=1)\n",
    "ax3.axis('off')\n",
    "\n",
    "# pick-up one data point to emphasize, add reference lines and textbox\n",
    "np.random.seed(333) # fix the seed to ensure reproducibility\n",
    "i = np.random.randint(0, len(x), 1)\n",
    "x_i, y_i = x[i], y[i]\n",
    "# vertical reference line\n",
    "ax1.plot([x_i, x_i], [np.min(y), y_i], color='black',\n",
    "         ls='--',\n",
    "         lw='1')\n",
    "# horizontal reference line\n",
    "ax1.plot([np.min(x), x_i], [y_i, y_i], color='black',\n",
    "         ls='--',\n",
    "         lw='1')\n",
    "# textbox within the scatter\n",
    "textstr = (r'$(x_{i}, y_{i})$')\n",
    "x_range = np.max(x) - np.min(x)\n",
    "y_range = np.max(y) - np.min(y)\n",
    "ax1.text(x_i, y_i, textstr,\n",
    "         horizontalalignment='center', verticalalignment='bottom')\n",
    "# textbox within the x distro\n",
    "textstr = (r'$x_{i}$')\n",
    "ax3.text(x_i, 1 - 0.5, textstr, horizontalalignment='center')\n",
    "# textbox within the y distro\n",
    "textstr = (r'$y_{i}$')\n",
    "ax0.text(1 - 0.5, y_i, textstr, verticalalignment='center')\n",
    "\n",
    "# save plot\n",
    "out_f = os.path.join(os.getcwd(), 'tufte_scatter.pdf')\n",
    "#fig.savefig(out_f)\n",
    "\n",
    "# show plot\n",
    "#plt.show()"
   ]
  },
  {
   "cell_type": "code",
   "execution_count": null,
   "metadata": {},
   "outputs": [],
   "source": []
  }
 ],
 "metadata": {
  "kernelspec": {
   "display_name": "Python 3",
   "language": "python",
   "name": "python3"
  },
  "language_info": {
   "codemirror_mode": {
    "name": "ipython",
    "version": 3
   },
   "file_extension": ".py",
   "mimetype": "text/x-python",
   "name": "python",
   "nbconvert_exporter": "python",
   "pygments_lexer": "ipython3",
   "version": "3.7.6"
  },
  "latex_envs": {
   "LaTeX_envs_menu_present": true,
   "autoclose": false,
   "autocomplete": true,
   "bibliofile": "biblio.bib",
   "cite_by": "apalike",
   "current_citInitial": 1,
   "eqLabelWithNumbers": true,
   "eqNumInitial": 1,
   "hotkeys": {
    "equation": "Ctrl-E",
    "itemize": "Ctrl-I"
   },
   "labels_anchors": false,
   "latex_user_defs": false,
   "report_style_numbering": false,
   "user_envs_cfg": false
  },
  "toc": {
   "base_numbering": 1,
   "nav_menu": {},
   "number_sections": true,
   "sideBar": true,
   "skip_h1_title": false,
   "title_cell": "Table of Contents",
   "title_sidebar": "Contents",
   "toc_cell": false,
   "toc_position": {},
   "toc_section_display": true,
   "toc_window_display": false
  },
  "varInspector": {
   "cols": {
    "lenName": 16,
    "lenType": 16,
    "lenVar": 40
   },
   "kernels_config": {
    "python": {
     "delete_cmd_postfix": "",
     "delete_cmd_prefix": "del ",
     "library": "var_list.py",
     "varRefreshCmd": "print(var_dic_list())"
    },
    "r": {
     "delete_cmd_postfix": ") ",
     "delete_cmd_prefix": "rm(",
     "library": "var_list.r",
     "varRefreshCmd": "cat(var_dic_list()) "
    }
   },
   "types_to_exclude": [
    "module",
    "function",
    "builtin_function_or_method",
    "instance",
    "_Feature"
   ],
   "window_display": false
  }
 },
 "nbformat": 4,
 "nbformat_minor": 4
}
