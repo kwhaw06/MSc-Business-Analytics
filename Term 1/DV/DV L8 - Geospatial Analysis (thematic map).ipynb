{
 "cells": [
  {
   "cell_type": "markdown",
   "metadata": {},
   "source": [
    "## Leverage some drawing capabilities\""
   ]
  },
  {
   "cell_type": "code",
   "execution_count": 1,
   "metadata": {
    "ExecuteTime": {
     "end_time": "2020-11-19T09:52:07.797787Z",
     "start_time": "2020-11-19T09:52:07.145286Z"
    }
   },
   "outputs": [],
   "source": [
    "# import the module Turtle\n",
    "import turtle as t"
   ]
  },
  {
   "cell_type": "markdown",
   "metadata": {},
   "source": [
    "## Step 1: Data model setup"
   ]
  },
  {
   "cell_type": "code",
   "execution_count": 2,
   "metadata": {
    "ExecuteTime": {
     "end_time": "2020-11-19T09:52:41.249514Z",
     "start_time": "2020-11-19T09:52:41.237633Z"
    }
   },
   "outputs": [],
   "source": [
    "NAME = 0\n",
    "POINTS = 1\n",
    "POP = 2\n",
    "\n",
    "state = [\"COLORADO\",               # label for the state\n",
    "         [[-109, 37], [-109, 41],  # list of list that contains latitude and longtitude data\n",
    "          [-102, 41], [-102, 37]], # each of this pair of coordinates represnt the corners of the plot\n",
    "         5187582]                  # size of population in the state"
   ]
  },
  {
   "cell_type": "markdown",
   "metadata": {},
   "source": [
    "## Step 2: Expand data\n",
    "- let's add some information about cities nested in the focal state\n",
    "- the cities will be stored as nested lists\n",
    "- each city's location consists of a single point as a longitude and latitude pair"
   ]
  },
  {
   "cell_type": "code",
   "execution_count": 3,
   "metadata": {
    "ExecuteTime": {
     "end_time": "2020-11-19T09:55:36.535000Z",
     "start_time": "2020-11-19T09:55:36.522948Z"
    }
   },
   "outputs": [],
   "source": [
    "cities = []\n",
    "cities.append([\"DENVER\",[-104.98, 39.74], 634265])\n",
    "cities.append([\"BOULDER\",[-105.27, 40.02], 98889])\n",
    "cities.append([\"DURANGO\",[-107.88,37.28], 17069])"
   ]
  },
  {
   "cell_type": "markdown",
   "metadata": {},
   "source": [
    "## Step 3: Fix map size\n",
    "- we will now render our GIS data as a map by first defining a map size\n",
    "- the width and height can be anything that you want depending on your screen resolution"
   ]
  },
  {
   "cell_type": "code",
   "execution_count": 5,
   "metadata": {
    "ExecuteTime": {
     "end_time": "2020-11-19T09:57:48.590062Z",
     "start_time": "2020-11-19T09:57:48.579867Z"
    }
   },
   "outputs": [],
   "source": [
    "map_width = 400\n",
    "map_height = 300\n",
    "\n",
    "# this define the size of the polygons (Colarado state)\n",
    "# all of the cities will fix within the space"
   ]
  },
  {
   "cell_type": "markdown",
   "metadata": {},
   "source": [
    "## Step 4: Scaling the map\n",
    "- in order to scale the map to the graphics canvas, we must first determine the bounding box of the largest layer, which is the state\n",
    "- we'll set the map's bounding box to a global scale and reduce it to the size of the state. To do so:\n",
    "- we'll loop through the longitude and latitude of each point and compare it with the current minimum and maximum x and y values\n",
    "- if it is larger than the current maximum or smaller than the current minimum, we'll make this value the new maximum or minimum, respectively"
   ]
  },
  {
   "cell_type": "code",
   "execution_count": 9,
   "metadata": {
    "ExecuteTime": {
     "end_time": "2020-11-19T10:06:19.125829Z",
     "start_time": "2020-11-19T10:06:19.119999Z"
    }
   },
   "outputs": [],
   "source": [
    "# for the state\n",
    "\n",
    "minx = 105\n",
    "maxx = -112\n",
    "miny = 40\n",
    "maxy = -44\n",
    "\n",
    "for x, y in state[POINTS]:\n",
    "    if x < minx: minx = x    # if the x-coor are lesser than minx, then change it to minx\n",
    "    elif x > maxx: maxx = x  # if the x-coor are larger than maxx, then change it to maxx\n",
    "    if y < miny: miny = y\n",
    "    elif y > maxy: maxy = y\n",
    "        \n",
    "# this step is to make sure the state polygons (corners) fall within the bounding box"
   ]
  },
  {
   "cell_type": "markdown",
   "metadata": {},
   "source": [
    "### Scaling the map for the cities\n",
    "- the second step to scaling is to calculate a ratio between the actual state and the tiny canvas that we will render it on\n",
    "- this ratio is used for coordinate to pixel conversion. We get the size along the x and y axes of the state and then we divide the map width and height by these numbers to get our scaling ratio:"
   ]
  },
  {
   "cell_type": "code",
   "execution_count": 11,
   "metadata": {
    "ExecuteTime": {
     "end_time": "2020-11-19T10:11:46.250386Z",
     "start_time": "2020-11-19T10:11:46.243275Z"
    }
   },
   "outputs": [],
   "source": [
    "dist_x = maxx - minx   # distance between maxx and minx\n",
    "dist_y = maxy - miny   # distance between maxy and miny\n",
    "\n",
    "x_ratio = map_width / dist_x   # these ratios are used to convert coord points to pixels, so we can plot them\n",
    "y_ratio = map_height / dist_y"
   ]
  },
  {
   "cell_type": "markdown",
   "metadata": {},
   "source": [
    "## Step 5: Sample GIS Function\n",
    "- be 'convert()' our sample GIS function\n",
    "- we require convert() to transform a point in the map coordinates from one of our data layers to pixel coordinates using the previous calculations\n",
    "- in order to to account for the unusual center origin of the turtle graphics canvas, we divide the map width and height in half and subtract it from the final conversion"
   ]
  },
  {
   "cell_type": "code",
   "execution_count": 12,
   "metadata": {
    "ExecuteTime": {
     "end_time": "2020-11-19T10:15:22.813254Z",
     "start_time": "2020-11-19T10:15:22.796778Z"
    }
   },
   "outputs": [],
   "source": [
    "# What we are doing here is passing pairs of longtitude & latitude points to \n",
    "# pairs of data express in terms of pixels (x & y).\n",
    "\n",
    "def convert(point):\n",
    "    lon = point[0]   \n",
    "    lat = point[1]\n",
    "    x = map_width - ((maxx - lon) * x_ratio)\n",
    "    y = map_height - ((maxy - lat) * y_ratio)\n",
    "   \n",
    "    # Python turtle graphics start in the\n",
    "    # middle of the screen\n",
    "    # so we must offset the points so they are centered\n",
    "    x = x - (map_width/2)\n",
    "    y = y - (map_height/2)\n",
    "    return [x,y]"
   ]
  },
  {
   "cell_type": "markdown",
   "metadata": {},
   "source": [
    "## Step 6: Render our GIS as a thematic map\n",
    "- the turtle module uses the concept of a cursor called a pen\n",
    "- moving the cursor around the canvas is exactly the same as moving a pen around a piece of paper\n",
    "- the cursor will draw a line when you move it―so, you'll notice that throughout the code, we use the t.up() and t.down() commands to pick the pen up when we want to move to a new location and put it down when we're ready to draw. We have some important steps in this section\n",
    "- as the border of Colorado is a polygon, we must draw a line between the last point and first point to close the polygon. We can also leave out the closing step and just add a duplicate point to the Colorado dataset\n",
    "- once we draw the state, we'll use the write() method to label the polygon"
   ]
  },
  {
   "cell_type": "code",
   "execution_count": 13,
   "metadata": {
    "ExecuteTime": {
     "end_time": "2020-11-19T10:20:50.987471Z",
     "start_time": "2020-11-19T10:20:46.049049Z"
    }
   },
   "outputs": [],
   "source": [
    "first_pixel = None\n",
    "t.up()   # hold the pen up, so not drawing anything\n",
    "\n",
    "for point in state[POINTS]:   # state[POINTS] = longtitude + latitude\n",
    "    pixel = convert(point)    # convert the coor into pixels (x & y)\n",
    "    if not first_pixel:\n",
    "        first_pixel=pixel\n",
    "    t.goto(pixel)   # go to the point\n",
    "    t.down()        # draw the point\n",
    "\n",
    "\n",
    "t.goto(first_pixel)\n",
    "t.up()\n",
    "t.goto([0,0])\n",
    "t.write(state[NAME], align=\"center\", font=(\"Arial\",16,\"bold\"))"
   ]
  },
  {
   "cell_type": "markdown",
   "metadata": {},
   "source": [
    "### Render our GIS as a thematic map for cities\n",
    "- now, we'll render the cities as point locations and label them with their names and population;\n",
    "- as the cities are a group of features in a list, we'll loop through them to render them. Instead of drawing lines by moving the pen around, we'll use the turtle dot() method to plot a small circle at the pixel coordinate returned by our SimpleGISconvert() function\n",
    "- you'll notice that we must convert the population number to a string in order to use it in the turtle write() method. To do so, we use Python's built-in function, str()"
   ]
  },
  {
   "cell_type": "code",
   "execution_count": 14,
   "metadata": {
    "ExecuteTime": {
     "end_time": "2020-11-19T10:22:59.346073Z",
     "start_time": "2020-11-19T10:22:58.535398Z"
    }
   },
   "outputs": [],
   "source": [
    "for city in cities:\n",
    "    pixel = convert(city[POINTS])\n",
    "    t.up()\n",
    "    t.goto(pixel)\n",
    "    # Place a point for the city\n",
    "    t.dot(10)\n",
    "    # Label the city\n",
    "    t.write(city[NAME] + \", Pop.: \" + str(city[POP]), align=\"left\")\n",
    "    t.up()"
   ]
  },
  {
   "cell_type": "code",
   "execution_count": null,
   "metadata": {},
   "outputs": [],
   "source": []
  }
 ],
 "metadata": {
  "kernelspec": {
   "display_name": "Python 3",
   "language": "python",
   "name": "python3"
  },
  "language_info": {
   "codemirror_mode": {
    "name": "ipython",
    "version": 3
   },
   "file_extension": ".py",
   "mimetype": "text/x-python",
   "name": "python",
   "nbconvert_exporter": "python",
   "pygments_lexer": "ipython3",
   "version": "3.7.6"
  },
  "latex_envs": {
   "LaTeX_envs_menu_present": true,
   "autoclose": false,
   "autocomplete": true,
   "bibliofile": "biblio.bib",
   "cite_by": "apalike",
   "current_citInitial": 1,
   "eqLabelWithNumbers": true,
   "eqNumInitial": 1,
   "hotkeys": {
    "equation": "Ctrl-E",
    "itemize": "Ctrl-I"
   },
   "labels_anchors": false,
   "latex_user_defs": false,
   "report_style_numbering": false,
   "user_envs_cfg": false
  },
  "toc": {
   "base_numbering": 1,
   "nav_menu": {},
   "number_sections": true,
   "sideBar": true,
   "skip_h1_title": false,
   "title_cell": "Table of Contents",
   "title_sidebar": "Contents",
   "toc_cell": false,
   "toc_position": {},
   "toc_section_display": true,
   "toc_window_display": false
  },
  "varInspector": {
   "cols": {
    "lenName": 16,
    "lenType": 16,
    "lenVar": 40
   },
   "kernels_config": {
    "python": {
     "delete_cmd_postfix": "",
     "delete_cmd_prefix": "del ",
     "library": "var_list.py",
     "varRefreshCmd": "print(var_dic_list())"
    },
    "r": {
     "delete_cmd_postfix": ") ",
     "delete_cmd_prefix": "rm(",
     "library": "var_list.r",
     "varRefreshCmd": "cat(var_dic_list()) "
    }
   },
   "types_to_exclude": [
    "module",
    "function",
    "builtin_function_or_method",
    "instance",
    "_Feature"
   ],
   "window_display": false
  }
 },
 "nbformat": 4,
 "nbformat_minor": 4
}
