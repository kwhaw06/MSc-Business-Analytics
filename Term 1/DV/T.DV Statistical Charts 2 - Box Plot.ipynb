{
 "cells": [
  {
   "cell_type": "code",
   "execution_count": 1,
   "metadata": {
    "ExecuteTime": {
     "end_time": "2020-10-30T11:35:45.201652Z",
     "start_time": "2020-10-30T11:35:44.944972Z"
    }
   },
   "outputs": [],
   "source": [
    "# %%  libraries\n",
    "import os\n",
    "import numpy as np\n",
    "import matplotlib.pyplot as plt\n",
    "from matplotlib import rc"
   ]
  },
  {
   "cell_type": "code",
   "execution_count": 3,
   "metadata": {
    "ExecuteTime": {
     "end_time": "2020-10-30T11:35:52.109765Z",
     "start_time": "2020-10-30T11:35:52.100788Z"
    }
   },
   "outputs": [],
   "source": [
    "# %%  matplotlib viz setup\n",
    "rc('font',**{'family':'serif','serif':['Computer Modern Roman']})\n",
    "rc('text', usetex=False)"
   ]
  },
  {
   "cell_type": "code",
   "execution_count": 4,
   "metadata": {
    "ExecuteTime": {
     "end_time": "2020-10-30T11:35:57.609560Z",
     "start_time": "2020-10-30T11:35:57.598589Z"
    }
   },
   "outputs": [],
   "source": [
    "# %% fake data\n",
    "x = np.random.normal(loc=1, scale=1.2, size=100)\n",
    "y = np.random.normal(loc=1.5, scale=0.75, size=100)\n",
    "z = np.random.normal(loc=0.5, scale=0.25, size=100)"
   ]
  },
  {
   "cell_type": "code",
   "execution_count": 7,
   "metadata": {
    "ExecuteTime": {
     "end_time": "2020-10-30T11:37:20.147413Z",
     "start_time": "2020-10-30T11:37:20.125473Z"
    }
   },
   "outputs": [
    {
     "ename": "IndentationError",
     "evalue": "unexpected indent (<ipython-input-7-46c1eef30022>, line 46)",
     "output_type": "error",
     "traceback": [
      "\u001b[1;36m  File \u001b[1;32m\"<ipython-input-7-46c1eef30022>\"\u001b[1;36m, line \u001b[1;32m46\u001b[0m\n\u001b[1;33m    transparent=True,\u001b[0m\n\u001b[1;37m    ^\u001b[0m\n\u001b[1;31mIndentationError\u001b[0m\u001b[1;31m:\u001b[0m unexpected indent\n"
     ]
    }
   ],
   "source": [
    "# %% visualization\n",
    "\n",
    "# data series\n",
    "pos = [1, 2, 3]\n",
    "vars = ['X', 'Y', 'Z']\n",
    "mu = [np.mean(a) for a in [x, y, z]]\n",
    "\n",
    "# artists\n",
    "# --+ properties for the fliers\n",
    "flierprops = dict(marker='+',\n",
    "                  color='w',\n",
    "                  markersize=6,\n",
    "                  linestyle='none')\n",
    "# --+ properties for the median\n",
    "medianprops = dict(linewidth=0)\n",
    "\n",
    "# figure framework\n",
    "fig = plt.figure(figsize=(4, 3), frameon=True)\n",
    "ax = fig.add_subplot(1, 1, 1)\n",
    "\n",
    "# plot data\n",
    "ax.boxplot([x, y, z],\n",
    "           positions=pos,\n",
    "           labels=vars,\n",
    "           meanline=False,\n",
    "           showbox=False,\n",
    "           showcaps=False,\n",
    "           medianprops=medianprops,\n",
    "           flierprops=flierprops)\n",
    "ax.scatter(pos, mu, marker='o', s=15, color='black')\n",
    "\n",
    "# hide the right and top spines\n",
    "ax.spines['right'].set_visible(False)\n",
    "ax.spines['top'].set_visible(False)\n",
    "ax.spines['bottom'].set_visible(False)\n",
    "ax.spines['left'].set_visible(False)\n",
    "ax.yaxis.set_ticks_position('left')\n",
    "ax.xaxis.set_ticks_position('bottom')\n",
    "\n",
    "# grid\n",
    "ax.grid(True, axis='y', ls=':', color='white')\n",
    "\n",
    "# save plot to file\n",
    "out_f = os.path.join(os.getcwd(), 'tufte_boxplot.pdf')\n",
    "#plt.savefig(out_f,\n",
    "            transparent=True,\n",
    "            bbox_inches='tight',\n",
    "            pad_inches=0)\n",
    "\n",
    "# show plot\n",
    "# plt.show()"
   ]
  },
  {
   "cell_type": "code",
   "execution_count": null,
   "metadata": {},
   "outputs": [],
   "source": []
  }
 ],
 "metadata": {
  "kernelspec": {
   "display_name": "Python 3",
   "language": "python",
   "name": "python3"
  },
  "language_info": {
   "codemirror_mode": {
    "name": "ipython",
    "version": 3
   },
   "file_extension": ".py",
   "mimetype": "text/x-python",
   "name": "python",
   "nbconvert_exporter": "python",
   "pygments_lexer": "ipython3",
   "version": "3.7.6"
  },
  "latex_envs": {
   "LaTeX_envs_menu_present": true,
   "autoclose": false,
   "autocomplete": true,
   "bibliofile": "biblio.bib",
   "cite_by": "apalike",
   "current_citInitial": 1,
   "eqLabelWithNumbers": true,
   "eqNumInitial": 1,
   "hotkeys": {
    "equation": "Ctrl-E",
    "itemize": "Ctrl-I"
   },
   "labels_anchors": false,
   "latex_user_defs": false,
   "report_style_numbering": false,
   "user_envs_cfg": false
  },
  "toc": {
   "base_numbering": 1,
   "nav_menu": {},
   "number_sections": true,
   "sideBar": true,
   "skip_h1_title": false,
   "title_cell": "Table of Contents",
   "title_sidebar": "Contents",
   "toc_cell": false,
   "toc_position": {},
   "toc_section_display": true,
   "toc_window_display": false
  },
  "varInspector": {
   "cols": {
    "lenName": 16,
    "lenType": 16,
    "lenVar": 40
   },
   "kernels_config": {
    "python": {
     "delete_cmd_postfix": "",
     "delete_cmd_prefix": "del ",
     "library": "var_list.py",
     "varRefreshCmd": "print(var_dic_list())"
    },
    "r": {
     "delete_cmd_postfix": ") ",
     "delete_cmd_prefix": "rm(",
     "library": "var_list.r",
     "varRefreshCmd": "cat(var_dic_list()) "
    }
   },
   "types_to_exclude": [
    "module",
    "function",
    "builtin_function_or_method",
    "instance",
    "_Feature"
   ],
   "window_display": false
  }
 },
 "nbformat": 4,
 "nbformat_minor": 4
}
