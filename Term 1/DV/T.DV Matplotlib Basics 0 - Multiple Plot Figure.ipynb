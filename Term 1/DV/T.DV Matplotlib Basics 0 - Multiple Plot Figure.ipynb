{
 "cells": [
  {
   "cell_type": "markdown",
   "metadata": {},
   "source": [
    "Notes: This script produces a multi-plot figure. Plots are arranged over\n",
    "       the figure such that to have 2 plots at the top and 1 plot that is\n",
    "       located in the bottom-center part of the figure."
   ]
  },
  {
   "cell_type": "code",
   "execution_count": 1,
   "metadata": {
    "ExecuteTime": {
     "end_time": "2020-11-04T07:27:56.091165Z",
     "start_time": "2020-11-04T07:27:55.865153Z"
    }
   },
   "outputs": [],
   "source": [
    "# %% load libraries\n",
    "import os\n",
    "import numpy as np\n",
    "import matplotlib.pyplot as plt\n",
    "import matplotlib.gridspec as gridspec"
   ]
  },
  {
   "cell_type": "code",
   "execution_count": 2,
   "metadata": {
    "ExecuteTime": {
     "end_time": "2020-11-04T07:27:56.106397Z",
     "start_time": "2020-11-04T07:27:56.093429Z"
    }
   },
   "outputs": [],
   "source": [
    "# %% aesthetics\n",
    "plt.style.use('seaborn-bright')\n",
    "\n",
    "# Latex style\n",
    "plt.rc('text', usetex=False)\n",
    "plt.rc('font', family='serif', size=10)"
   ]
  },
  {
   "cell_type": "code",
   "execution_count": 3,
   "metadata": {
    "ExecuteTime": {
     "end_time": "2020-11-04T07:27:56.121790Z",
     "start_time": "2020-11-04T07:27:56.109388Z"
    }
   },
   "outputs": [],
   "source": [
    "# %% generate fake data\n",
    "x = np.arange(0, 10, 1)\n",
    "y0 = np.square(x)\n",
    "y1 = np.sqrt(x)\n",
    "y2 = 2 + x"
   ]
  },
  {
   "cell_type": "code",
   "execution_count": 18,
   "metadata": {
    "ExecuteTime": {
     "end_time": "2020-11-04T07:32:52.008588Z",
     "start_time": "2020-11-04T07:32:51.694390Z"
    }
   },
   "outputs": [
    {
     "data": {
      "image/png": "[encoded data removed]",
      "text/plain": [
       "<Figure size 432x432 with 3 Axes>"
      ]
     },
     "metadata": {
      "needs_background": "light"
     },
     "output_type": "display_data"
    }
   ],
   "source": [
    "# %% figure\n",
    "\n",
    "# create figure\n",
    "fig = plt.figure(figsize=(6, 6))\n",
    "\n",
    "# parition the figure into 4 subplots with 'gridspec'\n",
    "gs = gridspec.GridSpec(2, 4, # we want 2 rows, 4 cols\n",
    "                       figure=fig, # this gs applies to figure\n",
    "                       hspace=0.5, wspace=1, # separation between plots\n",
    "                       width_ratios=[1, 1, 1, 1], # ration between the first and second column\n",
    "                       height_ratios=[1, 1]) # ration between the first and second row\n",
    "\n",
    "# add plots\n",
    "ax0 = fig.add_subplot(gs[0, 0:2]) # this will occupy the first row-first colum\n",
    "ax1 = fig.add_subplot(gs[0, 2:4]) # and so on and so forth...\n",
    "ax2 = fig.add_subplot(gs[1, 1:3])\n",
    "\n",
    "# plot left-top\n",
    "ax0.plot(x, y0, marker='o', color='green')\n",
    "ax0.set_xlabel(r'$x$')\n",
    "ax0.set_ylabel(r'$x^{2}$')\n",
    "ax0.grid(ls='--')\n",
    "\n",
    "# plot right-top\n",
    "ax1.plot(x, y1, marker='s', color='red')\n",
    "ax1.set_xlabel(r'$x$')\n",
    "ax1.set_ylabel(r'$\\sqrt{x}$')\n",
    "ax1.grid(ls='--')\n",
    "\n",
    "# plot middle-bottom\n",
    "ax2.plot(x, y2, marker='d', color='blue')\n",
    "ax2.set_xlabel(r'$x$')\n",
    "ax2.set_ylabel(r'$2 + x$')\n",
    "ax2.grid(ls='--')\n",
    "\n",
    "# save plot\n",
    "#out_f = os.path.join(os.getcwd(), 'multiple_plots.pdf')\n",
    "#fig.savefig(out_f)\n",
    "\n",
    "# show plot\n",
    "plt.show()"
   ]
  },
  {
   "cell_type": "code",
   "execution_count": null,
   "metadata": {},
   "outputs": [],
   "source": []
  }
 ],
 "metadata": {
  "kernelspec": {
   "display_name": "Python 3",
   "language": "python",
   "name": "python3"
  },
  "language_info": {
   "codemirror_mode": {
    "name": "ipython",
    "version": 3
   },
   "file_extension": ".py",
   "mimetype": "text/x-python",
   "name": "python",
   "nbconvert_exporter": "python",
   "pygments_lexer": "ipython3",
   "version": "3.7.6"
  },
  "latex_envs": {
   "LaTeX_envs_menu_present": true,
   "autoclose": false,
   "autocomplete": true,
   "bibliofile": "biblio.bib",
   "cite_by": "apalike",
   "current_citInitial": 1,
   "eqLabelWithNumbers": true,
   "eqNumInitial": 1,
   "hotkeys": {
    "equation": "Ctrl-E",
    "itemize": "Ctrl-I"
   },
   "labels_anchors": false,
   "latex_user_defs": false,
   "report_style_numbering": false,
   "user_envs_cfg": false
  },
  "toc": {
   "base_numbering": 1,
   "nav_menu": {},
   "number_sections": true,
   "sideBar": true,
   "skip_h1_title": false,
   "title_cell": "Table of Contents",
   "title_sidebar": "Contents",
   "toc_cell": false,
   "toc_position": {},
   "toc_section_display": true,
   "toc_window_display": false
  },
  "varInspector": {
   "cols": {
    "lenName": 16,
    "lenType": 16,
    "lenVar": 40
   },
   "kernels_config": {
    "python": {
     "delete_cmd_postfix": "",
     "delete_cmd_prefix": "del ",
     "library": "var_list.py",
     "varRefreshCmd": "print(var_dic_list())"
    },
    "r": {
     "delete_cmd_postfix": ") ",
     "delete_cmd_prefix": "rm(",
     "library": "var_list.r",
     "varRefreshCmd": "cat(var_dic_list()) "
    }
   },
   "types_to_exclude": [
    "module",
    "function",
    "builtin_function_or_method",
    "instance",
    "_Feature"
   ],
   "window_display": false
  }
 },
 "nbformat": 4,
 "nbformat_minor": 4
}
