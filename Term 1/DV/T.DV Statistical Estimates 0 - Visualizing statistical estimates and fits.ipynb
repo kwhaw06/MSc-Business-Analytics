{
 "cells": [
  {
   "cell_type": "markdown",
   "metadata": {},
   "source": [
    "## Visualizing statistical estimates and fits"
   ]
  },
  {
   "cell_type": "markdown",
   "metadata": {},
   "source": [
    "This tutorial shows how to visualize interaction effects included in regression models such as:\n",
    "\n",
    "$$\n",
    "  y = \\alpha + \\beta * x + \\gamma * z + \\delta * x * z + \\epsilon\n",
    "$$\n",
    "\n",
    "Mainly, we use interaction terms to take into account that the effect of the\n",
    "independent variable $x$ on the outcome $y$ is contingent on the value of a third variable $z$.\n",
    "\n",
    "Examples:\n",
    "\n",
    "- the economic value of patents is contingent on the intellectual property regime of a country/set of countries\n",
    "- the economic returns of schooling are contingent on the institutional and cultural environment of a country\n",
    "- the social influence of a Soundcloud user's suggestions/reposts is contingent on followership\n",
    "- the influence of job satisfaction on intent to quit is contingent on the size of the employer"
   ]
  },
  {
   "cell_type": "markdown",
   "metadata": {},
   "source": [
    "## Setup"
   ]
  },
  {
   "cell_type": "markdown",
   "metadata": {},
   "source": [
    "### Loading libraries"
   ]
  },
  {
   "cell_type": "code",
   "execution_count": 13,
   "metadata": {
    "ExecuteTime": {
     "end_time": "2020-11-05T07:55:28.469370Z",
     "start_time": "2020-11-05T07:55:28.459639Z"
    }
   },
   "outputs": [],
   "source": [
    "import os\n",
    "import numpy as np\n",
    "import matplotlib.pyplot as plt\n",
    "from matplotlib import rc\n",
    "import statsmodels.api as sm        # sm & smf allow us to write regression in natural langauge\n",
    "import statsmodels.formula.api as smf\n",
    "import pandas as pd"
   ]
  },
  {
   "cell_type": "markdown",
   "metadata": {},
   "source": [
    "### Viz options"
   ]
  },
  {
   "cell_type": "code",
   "execution_count": 2,
   "metadata": {
    "ExecuteTime": {
     "end_time": "2020-11-05T07:55:06.920115Z",
     "start_time": "2020-11-05T07:55:06.906457Z"
    }
   },
   "outputs": [],
   "source": [
    "rc('font',**{'family':'serif','serif':['Avant Garde']})\n",
    "rc('text', usetex=False)"
   ]
  },
  {
   "cell_type": "markdown",
   "metadata": {},
   "source": [
    "## Application"
   ]
  },
  {
   "cell_type": "markdown",
   "metadata": {},
   "source": [
    "### Goal"
   ]
  },
  {
   "cell_type": "markdown",
   "metadata": {},
   "source": [
    "The working hypothesis is that lower levels of job satisfaction ($x$) increases the chances of turnover, i.e., intent to quit ($y$).\n",
    "\n",
    "On top of this, we think the negative relationship between $x$ and $y$ depends on the size of the employer. The intuition is that large employers have an internal labor market that allows individuals to change job positions (get a better fit with the task) without quitting the employment relation.\n",
    "\n",
    "The goal is showing how the relationship between job satisfaction and intent to quit (as estimated via OLS) changes as firm size increases.\n",
    "\n"
   ]
  },
  {
   "cell_type": "markdown",
   "metadata": {},
   "source": [
    "### Data simulation"
   ]
  },
  {
   "cell_type": "markdown",
   "metadata": {},
   "source": [
    "We simulate multiple datasets involving the following variables:\n",
    "\n",
    "- job satisfaction - the extent to which an employee is happy with his/her job (let's assume we have Likert scale data; legend: 1 = not at all, 5 = to a great extent)\n",
    "- intent to quit - the extent to which an employee considers the possibility to quit the current job (let's assume we have Likert scale data; legend: 1 = not at all, 5 = to a great extent)\n",
    "- age (in years)\n",
    "- organizational tenure (years spent working for the employer)\n",
    "- Let's assume that all variables have been transformed into z-scores.\n",
    "\n",
    "Each dataset we simulate reflect the following cohorts of employers:\n",
    "\n",
    "- micro firms: 1 - 5 employees\n",
    "- small firms: 6 - 25 employees\n",
    "- medium firms: 26 - 100 employees\n",
    "- large firms: 100 - 500 employees\n",
    "- very large firms: 500 +\n",
    "\n",
    "Logic of interaction term --> (job satisfaction * size of company)\n",
    "- the bigger the company, the weaker the relationship between job satisfaction and intend to quit because you know there are some opportunities coming from the internal labour market"
   ]
  },
  {
   "cell_type": "code",
   "execution_count": 3,
   "metadata": {
    "ExecuteTime": {
     "end_time": "2020-11-05T07:55:06.951369Z",
     "start_time": "2020-11-05T07:55:06.931532Z"
    }
   },
   "outputs": [],
   "source": [
    "# sample size\n",
    "num_samples = 1000\n",
    "\n",
    "# variables' mean \n",
    "mu = np.repeat(0, 4)\n",
    "\n",
    "# names\n",
    "names = ['job_sat', 'int_qui', 'age', 'org_tnr']  \n",
    "# org_tnr = organizational tenure = the time you spend wokring in the firm"
   ]
  },
  {
   "cell_type": "markdown",
   "metadata": {},
   "source": [
    "#### Micro firms"
   ]
  },
  {
   "cell_type": "code",
   "execution_count": 4,
   "metadata": {
    "ExecuteTime": {
     "end_time": "2020-11-05T07:55:07.910335Z",
     "start_time": "2020-11-05T07:55:06.960787Z"
    }
   },
   "outputs": [],
   "source": [
    "# the desired covariance matrix.\n",
    "r = np.array([\n",
    "        [  1.00, -0.40, -0.03,  0.11],\n",
    "        [ -0.40,  1.00, -0.05, -0.09],\n",
    "        [ -0.03, -0.05,  1.00,  0.05],\n",
    "        [  0.11, -0.09,  0.05,  1.00]\n",
    "    ])\n",
    "\n",
    "### row 1 col 2 = covariance of job statisfaction & intend to quit = -0.4\n",
    "# the higher the job satisfaction, the lower the probability of intend to quit\n",
    "### row 1 col 4 = job_sta & org_tnr = 0.11\n",
    "# the longer you stay working in a firm, the more statisfy a person is with the job\n",
    "\n",
    "# generate the random samples.\n",
    "df_1_5 = pd.DataFrame(np.random.multivariate_normal(mu, r, size=num_samples),\n",
    "                      columns=names)\n",
    "\n",
    "# np.random.multivariate_normal --> allow us to stimulate the data set containing several columns starting from a\n",
    "# covariance matrix.\n",
    "\n",
    "# expand\n",
    "df_1_5.loc[:, 'cohort'] = 'micro'\n",
    "# randomly assign a number ranging from 1 to 5 for number of employees in the firm \n",
    "df_1_5.loc[:, 'firm_size'] = np.random.randint(low=1, high=5, size=num_samples)\n",
    "# firm size can be used as the moderate or z"
   ]
  },
  {
   "cell_type": "code",
   "execution_count": 5,
   "metadata": {
    "ExecuteTime": {
     "end_time": "2020-11-05T07:55:08.045391Z",
     "start_time": "2020-11-05T07:55:07.918425Z"
    }
   },
   "outputs": [
    {
     "data": {
      "text/html": [
       "<div>\n",
       "<style scoped>\n",
       "    .dataframe tbody tr th:only-of-type {\n",
       "        vertical-align: middle;\n",
       "    }\n",
       "\n",
       "    .dataframe tbody tr th {\n",
       "        vertical-align: top;\n",
       "    }\n",
       "\n",
       "    .dataframe thead th {\n",
       "        text-align: right;\n",
       "    }\n",
       "</style>\n",
       "<table border=\"1\" class=\"dataframe\">\n",
       "  <thead>\n",
       "    <tr style=\"text-align: right;\">\n",
       "      <th></th>\n",
       "      <th>job_sat</th>\n",
       "      <th>int_qui</th>\n",
       "      <th>age</th>\n",
       "      <th>org_tnr</th>\n",
       "      <th>cohort</th>\n",
       "      <th>firm_size</th>\n",
       "    </tr>\n",
       "  </thead>\n",
       "  <tbody>\n",
       "    <tr>\n",
       "      <th>0</th>\n",
       "      <td>-0.189031</td>\n",
       "      <td>1.685191</td>\n",
       "      <td>-1.077941</td>\n",
       "      <td>-0.406549</td>\n",
       "      <td>micro</td>\n",
       "      <td>4</td>\n",
       "    </tr>\n",
       "    <tr>\n",
       "      <th>1</th>\n",
       "      <td>0.143127</td>\n",
       "      <td>-1.697969</td>\n",
       "      <td>-0.228274</td>\n",
       "      <td>0.323362</td>\n",
       "      <td>micro</td>\n",
       "      <td>1</td>\n",
       "    </tr>\n",
       "    <tr>\n",
       "      <th>2</th>\n",
       "      <td>0.958013</td>\n",
       "      <td>0.137688</td>\n",
       "      <td>0.753199</td>\n",
       "      <td>1.018954</td>\n",
       "      <td>micro</td>\n",
       "      <td>2</td>\n",
       "    </tr>\n",
       "    <tr>\n",
       "      <th>3</th>\n",
       "      <td>-0.345289</td>\n",
       "      <td>0.315928</td>\n",
       "      <td>-0.306892</td>\n",
       "      <td>-1.589406</td>\n",
       "      <td>micro</td>\n",
       "      <td>3</td>\n",
       "    </tr>\n",
       "    <tr>\n",
       "      <th>4</th>\n",
       "      <td>-0.815181</td>\n",
       "      <td>0.136223</td>\n",
       "      <td>0.507321</td>\n",
       "      <td>0.406389</td>\n",
       "      <td>micro</td>\n",
       "      <td>2</td>\n",
       "    </tr>\n",
       "  </tbody>\n",
       "</table>\n",
       "</div>"
      ],
      "text/plain": [
       "    job_sat   int_qui       age   org_tnr cohort  firm_size\n",
       "0 -0.189031  1.685191 -1.077941 -0.406549  micro          4\n",
       "1  0.143127 -1.697969 -0.228274  0.323362  micro          1\n",
       "2  0.958013  0.137688  0.753199  1.018954  micro          2\n",
       "3 -0.345289  0.315928 -0.306892 -1.589406  micro          3\n",
       "4 -0.815181  0.136223  0.507321  0.406389  micro          2"
      ]
     },
     "execution_count": 5,
     "metadata": {},
     "output_type": "execute_result"
    }
   ],
   "source": [
    "df_1_5.head()"
   ]
  },
  {
   "cell_type": "markdown",
   "metadata": {},
   "source": [
    "#### Small firms"
   ]
  },
  {
   "cell_type": "code",
   "execution_count": 6,
   "metadata": {
    "ExecuteTime": {
     "end_time": "2020-11-05T07:55:08.093196Z",
     "start_time": "2020-11-05T07:55:08.049289Z"
    }
   },
   "outputs": [],
   "source": [
    "# the desired covariance matrix.\n",
    "r = np.array([\n",
    "        [  1.00, -0.30, -0.03,  0.11],\n",
    "        [ -0.30,  1.00, -0.05, -0.09],\n",
    "        [ -0.03, -0.05,  1.00,  0.05],\n",
    "        [  0.11, -0.09,  0.05,  1.00]\n",
    "    ])\n",
    "\n",
    "# only value that has changed is (job_sta * int_quit) --> -0.4 to -0.3\n",
    "# weaker covariance between the 2\n",
    "\n",
    "# generate the random samples.\n",
    "df_6_25 = pd.DataFrame(np.random.multivariate_normal(mu, r, size=num_samples),\n",
    "                       columns=names)\n",
    "\n",
    "# expand\n",
    "df_6_25.loc[:, 'cohort'] = 'large'\n",
    "df_6_25.loc[:, 'firm_size'] = np.random.randint(low=6,\n",
    "                                                high=25,\n",
    "                                                size=num_samples)"
   ]
  },
  {
   "cell_type": "code",
   "execution_count": 7,
   "metadata": {
    "ExecuteTime": {
     "end_time": "2020-11-05T07:55:08.157412Z",
     "start_time": "2020-11-05T07:55:08.103161Z"
    }
   },
   "outputs": [
    {
     "data": {
      "text/html": [
       "<div>\n",
       "<style scoped>\n",
       "    .dataframe tbody tr th:only-of-type {\n",
       "        vertical-align: middle;\n",
       "    }\n",
       "\n",
       "    .dataframe tbody tr th {\n",
       "        vertical-align: top;\n",
       "    }\n",
       "\n",
       "    .dataframe thead th {\n",
       "        text-align: right;\n",
       "    }\n",
       "</style>\n",
       "<table border=\"1\" class=\"dataframe\">\n",
       "  <thead>\n",
       "    <tr style=\"text-align: right;\">\n",
       "      <th></th>\n",
       "      <th>job_sat</th>\n",
       "      <th>int_qui</th>\n",
       "      <th>age</th>\n",
       "      <th>org_tnr</th>\n",
       "      <th>cohort</th>\n",
       "      <th>firm_size</th>\n",
       "    </tr>\n",
       "  </thead>\n",
       "  <tbody>\n",
       "    <tr>\n",
       "      <th>0</th>\n",
       "      <td>1.661578</td>\n",
       "      <td>-0.391762</td>\n",
       "      <td>1.507934</td>\n",
       "      <td>1.427317</td>\n",
       "      <td>large</td>\n",
       "      <td>23</td>\n",
       "    </tr>\n",
       "    <tr>\n",
       "      <th>1</th>\n",
       "      <td>1.047328</td>\n",
       "      <td>0.928989</td>\n",
       "      <td>-1.840482</td>\n",
       "      <td>0.140753</td>\n",
       "      <td>large</td>\n",
       "      <td>14</td>\n",
       "    </tr>\n",
       "    <tr>\n",
       "      <th>2</th>\n",
       "      <td>0.454581</td>\n",
       "      <td>-0.150350</td>\n",
       "      <td>0.543869</td>\n",
       "      <td>0.738162</td>\n",
       "      <td>large</td>\n",
       "      <td>8</td>\n",
       "    </tr>\n",
       "    <tr>\n",
       "      <th>3</th>\n",
       "      <td>0.415116</td>\n",
       "      <td>0.396289</td>\n",
       "      <td>0.300008</td>\n",
       "      <td>-0.438544</td>\n",
       "      <td>large</td>\n",
       "      <td>9</td>\n",
       "    </tr>\n",
       "    <tr>\n",
       "      <th>4</th>\n",
       "      <td>-1.096910</td>\n",
       "      <td>0.514137</td>\n",
       "      <td>-0.207910</td>\n",
       "      <td>-0.837727</td>\n",
       "      <td>large</td>\n",
       "      <td>9</td>\n",
       "    </tr>\n",
       "  </tbody>\n",
       "</table>\n",
       "</div>"
      ],
      "text/plain": [
       "    job_sat   int_qui       age   org_tnr cohort  firm_size\n",
       "0  1.661578 -0.391762  1.507934  1.427317  large         23\n",
       "1  1.047328  0.928989 -1.840482  0.140753  large         14\n",
       "2  0.454581 -0.150350  0.543869  0.738162  large          8\n",
       "3  0.415116  0.396289  0.300008 -0.438544  large          9\n",
       "4 -1.096910  0.514137 -0.207910 -0.837727  large          9"
      ]
     },
     "execution_count": 7,
     "metadata": {},
     "output_type": "execute_result"
    }
   ],
   "source": [
    "df_6_25.head()"
   ]
  },
  {
   "cell_type": "markdown",
   "metadata": {},
   "source": [
    "#### Medium firms"
   ]
  },
  {
   "cell_type": "code",
   "execution_count": 8,
   "metadata": {
    "ExecuteTime": {
     "end_time": "2020-11-05T07:55:08.226236Z",
     "start_time": "2020-11-05T07:55:08.171851Z"
    }
   },
   "outputs": [],
   "source": [
    "# the desired covariance matrix.\n",
    "r = np.array([\n",
    "        [  1.00, -0.25, -0.03,  0.11],\n",
    "        [ -0.25,  1.00, -0.05, -0.09],\n",
    "        [ -0.03, -0.05,  1.00,  0.05],\n",
    "        [  0.11, -0.09,  0.05,  1.00]\n",
    "    ])\n",
    "\n",
    "# only value that has changed is (job_sta * int_quit) \n",
    "\n",
    "# generate the random samples.\n",
    "df_26_100 = pd.DataFrame(np.random.multivariate_normal(mu, r, size=num_samples),\n",
    "                         columns=names)\n",
    "\n",
    "# expand\n",
    "df_26_100.loc[:, 'cohort'] = 'medium'\n",
    "df_26_100.loc[:, 'firm_size'] = np.random.randint(low=26,\n",
    "                                                  high=100,\n",
    "                                                  size=num_samples)"
   ]
  },
  {
   "cell_type": "markdown",
   "metadata": {},
   "source": [
    "#### Large firms"
   ]
  },
  {
   "cell_type": "code",
   "execution_count": 9,
   "metadata": {
    "ExecuteTime": {
     "end_time": "2020-11-05T07:55:08.287727Z",
     "start_time": "2020-11-05T07:55:08.238199Z"
    }
   },
   "outputs": [],
   "source": [
    "# the desired covariance matrix.\n",
    "r = np.array([\n",
    "        [  1.00, -0.20, -0.03,  0.11],\n",
    "        [ -0.20,  1.00, -0.05, -0.09],\n",
    "        [ -0.03, -0.05,  1.00,  0.05],\n",
    "        [  0.11, -0.09,  0.05,  1.00]\n",
    "    ])\n",
    "\n",
    "# only value that has changed is (job_sta * int_quit) \n",
    "\n",
    "# generate the random samples.\n",
    "df_101_500 = pd.DataFrame(np.random.multivariate_normal(mu, r, size=num_samples),\n",
    "                          columns=names)\n",
    "\n",
    "# expand\n",
    "df_101_500.loc[:, 'cohort'] = 'large'\n",
    "df_101_500.loc[:, 'firm_size'] = np.random.randint(low=101, high=500,\n",
    "                                                size=num_samples)"
   ]
  },
  {
   "cell_type": "markdown",
   "metadata": {},
   "source": [
    "#### Very large firms"
   ]
  },
  {
   "cell_type": "code",
   "execution_count": 10,
   "metadata": {
    "ExecuteTime": {
     "end_time": "2020-11-05T07:55:08.340586Z",
     "start_time": "2020-11-05T07:55:08.296001Z"
    }
   },
   "outputs": [],
   "source": [
    "# the desired covariance matrix.\n",
    "r = np.array([\n",
    "        [  1.00, -0.15, -0.03,  0.11],\n",
    "        [ -0.15,  1.00, -0.05, -0.09],\n",
    "        [ -0.03, -0.05,  1.00,  0.05],\n",
    "        [  0.11, -0.09,  0.05,  1.00]\n",
    "    ])\n",
    "\n",
    "# covariance for (job_sta * int_quit) is even weaker\n",
    "\n",
    "# generate the random samples.\n",
    "df_501_ = pd.DataFrame(np.random.multivariate_normal(mu, r, size=num_samples),\n",
    "                       columns=names)\n",
    "\n",
    "# expand\n",
    "df_501_.loc[:, 'cohort'] = 'very large'\n",
    "df_501_.loc[:, 'firm_size'] = np.random.randint(low=501, high=2000,\n",
    "                                                size=num_samples)"
   ]
  },
  {
   "cell_type": "markdown",
   "metadata": {},
   "source": [
    "### Data preparation"
   ]
  },
  {
   "cell_type": "code",
   "execution_count": 11,
   "metadata": {
    "ExecuteTime": {
     "end_time": "2020-11-05T07:55:08.435100Z",
     "start_time": "2020-11-05T07:55:08.348408Z"
    }
   },
   "outputs": [
    {
     "name": "stdout",
     "output_type": "stream",
     "text": [
      "<class 'pandas.core.frame.DataFrame'>\n",
      "Int64Index: 5000 entries, 0 to 999\n",
      "Data columns (total 6 columns):\n",
      " #   Column     Non-Null Count  Dtype  \n",
      "---  ------     --------------  -----  \n",
      " 0   job_sat    5000 non-null   float64\n",
      " 1   int_qui    5000 non-null   float64\n",
      " 2   age        5000 non-null   float64\n",
      " 3   org_tnr    5000 non-null   float64\n",
      " 4   cohort     5000 non-null   object \n",
      " 5   firm_size  5000 non-null   int32  \n",
      "dtypes: float64(4), int32(1), object(1)\n",
      "memory usage: 253.9+ KB\n"
     ]
    },
    {
     "data": {
      "text/html": [
       "<div>\n",
       "<style scoped>\n",
       "    .dataframe tbody tr th:only-of-type {\n",
       "        vertical-align: middle;\n",
       "    }\n",
       "\n",
       "    .dataframe tbody tr th {\n",
       "        vertical-align: top;\n",
       "    }\n",
       "\n",
       "    .dataframe thead th {\n",
       "        text-align: right;\n",
       "    }\n",
       "</style>\n",
       "<table border=\"1\" class=\"dataframe\">\n",
       "  <thead>\n",
       "    <tr style=\"text-align: right;\">\n",
       "      <th></th>\n",
       "      <th>job_sat</th>\n",
       "      <th>int_qui</th>\n",
       "      <th>age</th>\n",
       "      <th>org_tnr</th>\n",
       "      <th>cohort</th>\n",
       "      <th>firm_size</th>\n",
       "    </tr>\n",
       "  </thead>\n",
       "  <tbody>\n",
       "    <tr>\n",
       "      <th>0</th>\n",
       "      <td>-0.189031</td>\n",
       "      <td>1.685191</td>\n",
       "      <td>-1.077941</td>\n",
       "      <td>-0.406549</td>\n",
       "      <td>micro</td>\n",
       "      <td>4</td>\n",
       "    </tr>\n",
       "    <tr>\n",
       "      <th>1</th>\n",
       "      <td>0.143127</td>\n",
       "      <td>-1.697969</td>\n",
       "      <td>-0.228274</td>\n",
       "      <td>0.323362</td>\n",
       "      <td>micro</td>\n",
       "      <td>1</td>\n",
       "    </tr>\n",
       "    <tr>\n",
       "      <th>2</th>\n",
       "      <td>0.958013</td>\n",
       "      <td>0.137688</td>\n",
       "      <td>0.753199</td>\n",
       "      <td>1.018954</td>\n",
       "      <td>micro</td>\n",
       "      <td>2</td>\n",
       "    </tr>\n",
       "    <tr>\n",
       "      <th>3</th>\n",
       "      <td>-0.345289</td>\n",
       "      <td>0.315928</td>\n",
       "      <td>-0.306892</td>\n",
       "      <td>-1.589406</td>\n",
       "      <td>micro</td>\n",
       "      <td>3</td>\n",
       "    </tr>\n",
       "    <tr>\n",
       "      <th>4</th>\n",
       "      <td>-0.815181</td>\n",
       "      <td>0.136223</td>\n",
       "      <td>0.507321</td>\n",
       "      <td>0.406389</td>\n",
       "      <td>micro</td>\n",
       "      <td>2</td>\n",
       "    </tr>\n",
       "  </tbody>\n",
       "</table>\n",
       "</div>"
      ],
      "text/plain": [
       "    job_sat   int_qui       age   org_tnr cohort  firm_size\n",
       "0 -0.189031  1.685191 -1.077941 -0.406549  micro          4\n",
       "1  0.143127 -1.697969 -0.228274  0.323362  micro          1\n",
       "2  0.958013  0.137688  0.753199  1.018954  micro          2\n",
       "3 -0.345289  0.315928 -0.306892 -1.589406  micro          3\n",
       "4 -0.815181  0.136223  0.507321  0.406389  micro          2"
      ]
     },
     "execution_count": 11,
     "metadata": {},
     "output_type": "execute_result"
    }
   ],
   "source": [
    "# concatenate all the df into 1 single df by rows (axis=0)\n",
    "df = pd.concat([df_1_5, df_6_25, df_26_100, df_101_500, df_501_],\n",
    "               axis=0)\n",
    "df.info()\n",
    "\n",
    "df.head()"
   ]
  },
  {
   "cell_type": "markdown",
   "metadata": {},
   "source": [
    "## Regression analysis"
   ]
  },
  {
   "cell_type": "markdown",
   "metadata": {},
   "source": [
    "Aim:\n",
    "- produce a regression analysis linking x to y\n",
    "- also the moderating effect of the variable z\n",
    "- y = intend to quit\n",
    "- x = job statisfaction\n",
    "- z = size of firm\n",
    "\n",
    "Choose 1 to do:\n",
    "- estimating separate regression models by the cohort of firms, then compare the 5 regression slopes (no need interaction terms in this case)\n",
    "- building a df including the interaction effect, then will only have 1 regression slope"
   ]
  },
  {
   "cell_type": "code",
   "execution_count": 21,
   "metadata": {
    "ExecuteTime": {
     "end_time": "2020-11-05T08:06:45.635692Z",
     "start_time": "2020-11-05T08:06:45.591243Z"
    }
   },
   "outputs": [
    {
     "name": "stdout",
     "output_type": "stream",
     "text": [
      "                            OLS Regression Results                            \n",
      "==============================================================================\n",
      "Dep. Variable:                int_qui   R-squared:                       0.068\n",
      "Model:                            OLS   Adj. R-squared:                  0.067\n",
      "Method:                 Least Squares   F-statistic:                     120.9\n",
      "Date:                Thu, 05 Nov 2020   Prob (F-statistic):           1.39e-75\n",
      "Time:                        16:06:45   Log-Likelihood:                -6813.8\n",
      "No. Observations:                5000   AIC:                         1.364e+04\n",
      "Df Residuals:                    4996   BIC:                         1.366e+04\n",
      "Df Model:                           3                                         \n",
      "Covariance Type:            nonrobust                                         \n",
      "===================================================================================\n",
      "                      coef    std err          t      P>|t|      [0.025      0.975]\n",
      "-----------------------------------------------------------------------------------\n",
      "Intercept           0.0034      0.016      0.218      0.827      -0.028       0.034\n",
      "job_sat            -0.2830      0.016    -17.578      0.000      -0.315      -0.251\n",
      "firm_size        -2.53e-05   2.57e-05     -0.985      0.325   -7.57e-05    2.51e-05\n",
      "JobSat_FirmSize  8.765e-05   2.56e-05      3.418      0.001    3.74e-05       0.000\n",
      "==============================================================================\n",
      "Omnibus:                        1.111   Durbin-Watson:                   1.946\n",
      "Prob(Omnibus):                  0.574   Jarque-Bera (JB):                1.144\n",
      "Skew:                           0.034   Prob(JB):                        0.565\n",
      "Kurtosis:                       2.971   Cond. No.                         750.\n",
      "==============================================================================\n",
      "\n",
      "Warnings:\n",
      "[1] Standard Errors assume that the covariance matrix of the errors is correctly specified.\n"
     ]
    }
   ],
   "source": [
    "# create new variable\n",
    "df['JobSat_FirmSize'] = df.job_sat * df.firm_size\n",
    "\n",
    "model_interaction = smf.ols('int_qui ~ job_sat + firm_size + JobSat_FirmSize', data = df).fit()\n",
    "print(model_interaction.summary())"
   ]
  },
  {
   "cell_type": "markdown",
   "metadata": {},
   "source": [
    "## Visualisation"
   ]
  },
  {
   "cell_type": "code",
   "execution_count": 30,
   "metadata": {
    "ExecuteTime": {
     "end_time": "2020-11-05T08:55:32.396087Z",
     "start_time": "2020-11-05T08:55:31.865840Z"
    }
   },
   "outputs": [
    {
     "data": {
      "image/png": "[encoded data removed]",
      "text/plain": [
       "<Figure size 720x720 with 1 Axes>"
      ]
     },
     "metadata": {
      "needs_background": "light"
     },
     "output_type": "display_data"
    }
   ],
   "source": [
    "# create the figure\n",
    "fig = plt.figure(figsize = (10,10))\n",
    "\n",
    "# populate figure with a plot\n",
    "ax = fig.add_subplot(1 , 1 , 1)\n",
    "\n",
    "# y and x variables \n",
    "y = df.loc[:, \"int_qui\"]\n",
    "x1 = df.loc[:, \"job_sat\"]   # without interaction term\n",
    "\n",
    "\n",
    "# plotting data points\n",
    "chart = ax.scatter(x1,y, alpha = 0)  # without interaction term\n",
    "\n",
    "# axes label\n",
    "ax.set_ylabel('Intend to Quit')\n",
    "ax.set_xlabel('Job Satisfication')\n",
    "\n",
    "# add line of best fit for regression with no interaction term\n",
    "OLS = smf.ols('int_qui ~ job_sat', data = df).fit()\n",
    "model = OLS.fittedvalues\n",
    "ax.plot(x1, model)\n",
    "\n",
    "# plot figure\n",
    "plt.show()"
   ]
  },
  {
   "cell_type": "code",
   "execution_count": null,
   "metadata": {},
   "outputs": [],
   "source": []
  }
 ],
 "metadata": {
  "kernelspec": {
   "display_name": "Python 3",
   "language": "python",
   "name": "python3"
  },
  "language_info": {
   "codemirror_mode": {
    "name": "ipython",
    "version": 3
   },
   "file_extension": ".py",
   "mimetype": "text/x-python",
   "name": "python",
   "nbconvert_exporter": "python",
   "pygments_lexer": "ipython3",
   "version": "3.7.6"
  },
  "latex_envs": {
   "LaTeX_envs_menu_present": true,
   "autoclose": false,
   "autocomplete": true,
   "bibliofile": "biblio.bib",
   "cite_by": "apalike",
   "current_citInitial": 1,
   "eqLabelWithNumbers": true,
   "eqNumInitial": 1,
   "hotkeys": {
    "equation": "Ctrl-E",
    "itemize": "Ctrl-I"
   },
   "labels_anchors": false,
   "latex_user_defs": false,
   "report_style_numbering": false,
   "user_envs_cfg": false
  },
  "toc": {
   "base_numbering": 1,
   "nav_menu": {},
   "number_sections": true,
   "sideBar": true,
   "skip_h1_title": false,
   "title_cell": "Table of Contents",
   "title_sidebar": "Contents",
   "toc_cell": false,
   "toc_position": {},
   "toc_section_display": true,
   "toc_window_display": false
  },
  "varInspector": {
   "cols": {
    "lenName": 16,
    "lenType": 16,
    "lenVar": 40
   },
   "kernels_config": {
    "python": {
     "delete_cmd_postfix": "",
     "delete_cmd_prefix": "del ",
     "library": "var_list.py",
     "varRefreshCmd": "print(var_dic_list())"
    },
    "r": {
     "delete_cmd_postfix": ") ",
     "delete_cmd_prefix": "rm(",
     "library": "var_list.r",
     "varRefreshCmd": "cat(var_dic_list()) "
    }
   },
   "types_to_exclude": [
    "module",
    "function",
    "builtin_function_or_method",
    "instance",
    "_Feature"
   ],
   "window_display": false
  }
 },
 "nbformat": 4,
 "nbformat_minor": 4
}
