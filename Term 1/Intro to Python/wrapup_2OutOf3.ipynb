{
 "cells": [
  {
   "cell_type": "markdown",
   "metadata": {
    "toc": true
   },
   "source": [
    "<h1>Table of Contents<span class=\"tocSkip\"></span></h1>\n",
    "<div class=\"toc\"><ul class=\"toc-item\"><li><span><a href=\"#Problem-1\" data-toc-modified-id=\"Problem-1-1\"><span class=\"toc-item-num\">1&nbsp;&nbsp;</span>Problem 1</a></span><ul class=\"toc-item\"><li><span><a href=\"#Create-two-Numpy-matrices\" data-toc-modified-id=\"Create-two-Numpy-matrices-1.1\"><span class=\"toc-item-num\">1.1&nbsp;&nbsp;</span>Create two Numpy matrices</a></span></li><li><span><a href=\"#Multiply-the-two-matrices\" data-toc-modified-id=\"Multiply-the-two-matrices-1.2\"><span class=\"toc-item-num\">1.2&nbsp;&nbsp;</span>Multiply the two matrices</a></span></li><li><span><a href=\"#Multiple-each-matrix-by-a-scalar\" data-toc-modified-id=\"Multiple-each-matrix-by-a-scalar-1.3\"><span class=\"toc-item-num\">1.3&nbsp;&nbsp;</span>Multiple each matrix by a scalar</a></span></li></ul></li><li><span><a href=\"#Problem-2\" data-toc-modified-id=\"Problem-2-2\"><span class=\"toc-item-num\">2&nbsp;&nbsp;</span>Problem 2</a></span><ul class=\"toc-item\"><li><span><a href=\"#Create-a-2D-array-with-shape-(5,-5)-containing-values-'0'-only\" data-toc-modified-id=\"Create-a-2D-array-with-shape-(5,-5)-containing-values-'0'-only-2.1\"><span class=\"toc-item-num\">2.1&nbsp;&nbsp;</span>Create a 2D array with shape (5, 5) containing values '0' only</a></span></li><li><span><a href=\"#Replace-the-value-in-the-diagonal-of-the-array-with-'1'-(i.e.,-get-an-identity-matrix)\" data-toc-modified-id=\"Replace-the-value-in-the-diagonal-of-the-array-with-'1'-(i.e.,-get-an-identity-matrix)-2.2\"><span class=\"toc-item-num\">2.2&nbsp;&nbsp;</span>Replace the value in the diagonal of the array with '1' (i.e., get an identity matrix)</a></span></li><li><span><a href=\"#Create-a-function-to-pass-over-Numpy-arrays-that-replace-diagonal-values-with-'1'\" data-toc-modified-id=\"Create-a-function-to-pass-over-Numpy-arrays-that-replace-diagonal-values-with-'1'-2.3\"><span class=\"toc-item-num\">2.3&nbsp;&nbsp;</span>Create a function to pass over Numpy arrays that replace diagonal values with '1'</a></span></li></ul></li><li><span><a href=\"#Problem-3\" data-toc-modified-id=\"Problem-3-3\"><span class=\"toc-item-num\">3&nbsp;&nbsp;</span>Problem 3</a></span><ul class=\"toc-item\"><li><span><a href=\"#Create-two-Numpy-arrays-using-different-functions-included-in-np.random\" data-toc-modified-id=\"Create-two-Numpy-arrays-using-different-functions-included-in-np.random-3.1\"><span class=\"toc-item-num\">3.1&nbsp;&nbsp;</span>Create two Numpy arrays using different functions included in np.random</a></span></li><li><span><a href=\"#Using-Numpy,-provide-descriptive-statistics-for-the-two-arrays\" data-toc-modified-id=\"Using-Numpy,-provide-descriptive-statistics-for-the-two-arrays-3.2\"><span class=\"toc-item-num\">3.2&nbsp;&nbsp;</span>Using Numpy, provide descriptive statistics for the two arrays</a></span></li><li><span><a href=\"#Create-at-least-two-Matplotlib-plots-to-illustrate-the-univariate-or-joint-distribution-of-the-two-arrays\" data-toc-modified-id=\"Create-at-least-two-Matplotlib-plots-to-illustrate-the-univariate-or-joint-distribution-of-the-two-arrays-3.3\"><span class=\"toc-item-num\">3.3&nbsp;&nbsp;</span>Create at least two Matplotlib plots to illustrate the univariate or joint distribution of the two arrays</a></span></li></ul></li></ul></div>"
   ]
  },
  {
   "cell_type": "markdown",
   "metadata": {},
   "source": [
    "# Problem 1"
   ]
  },
  {
   "cell_type": "code",
   "execution_count": 1,
   "metadata": {},
   "outputs": [],
   "source": [
    "import numpy as np"
   ]
  },
  {
   "cell_type": "markdown",
   "metadata": {
    "ExecuteTime": {
     "end_time": "2018-07-30T17:37:04.434667Z",
     "start_time": "2018-07-30T17:37:04.430641Z"
    }
   },
   "source": [
    "## Create two Numpy matrices"
   ]
  },
  {
   "cell_type": "code",
   "execution_count": 2,
   "metadata": {},
   "outputs": [],
   "source": [
    "m1 = np.matrix([[1, 2, 3], [4, 5, 6]])\n",
    "m2 = np.matrix([[7, 8], [9, 10], [11, 12]])"
   ]
  },
  {
   "cell_type": "markdown",
   "metadata": {
    "ExecuteTime": {
     "end_time": "2018-07-30T17:39:19.046514Z",
     "start_time": "2018-07-30T17:39:19.044378Z"
    }
   },
   "source": [
    "## Multiply the two matrices"
   ]
  },
  {
   "cell_type": "code",
   "execution_count": 3,
   "metadata": {},
   "outputs": [
    {
     "data": {
      "text/plain": [
       "matrix([[ 58,  64],\n",
       "        [139, 154]])"
      ]
     },
     "execution_count": 3,
     "metadata": {},
     "output_type": "execute_result"
    }
   ],
   "source": [
    "m1 * m2"
   ]
  },
  {
   "cell_type": "markdown",
   "metadata": {},
   "source": [
    "## Multiple each matrix by a scalar"
   ]
  },
  {
   "cell_type": "code",
   "execution_count": 4,
   "metadata": {},
   "outputs": [
    {
     "data": {
      "text/plain": [
       "matrix([[ 2,  4,  6],\n",
       "        [ 8, 10, 12]])"
      ]
     },
     "execution_count": 4,
     "metadata": {},
     "output_type": "execute_result"
    }
   ],
   "source": [
    "m1 * 2"
   ]
  },
  {
   "cell_type": "code",
   "execution_count": 5,
   "metadata": {},
   "outputs": [
    {
     "data": {
      "text/plain": [
       "matrix([[14, 16],\n",
       "        [18, 20],\n",
       "        [22, 24]])"
      ]
     },
     "execution_count": 5,
     "metadata": {},
     "output_type": "execute_result"
    }
   ],
   "source": [
    "m2 * 2"
   ]
  },
  {
   "cell_type": "markdown",
   "metadata": {},
   "source": [
    "# Problem 2"
   ]
  },
  {
   "cell_type": "markdown",
   "metadata": {},
   "source": [
    "## Create a 2D array with shape (5, 5) containing values '0' only"
   ]
  },
  {
   "cell_type": "code",
   "execution_count": 6,
   "metadata": {},
   "outputs": [
    {
     "data": {
      "text/plain": [
       "array([[0., 0., 0., 0., 0.],\n",
       "       [0., 0., 0., 0., 0.],\n",
       "       [0., 0., 0., 0., 0.],\n",
       "       [0., 0., 0., 0., 0.],\n",
       "       [0., 0., 0., 0., 0.]])"
      ]
     },
     "execution_count": 6,
     "metadata": {},
     "output_type": "execute_result"
    }
   ],
   "source": [
    "data = np.zeros(25).reshape(5, 5)\n",
    "data"
   ]
  },
  {
   "cell_type": "markdown",
   "metadata": {},
   "source": [
    "## Replace the value in the diagonal of the array with '1' (i.e., get an identity matrix)"
   ]
  },
  {
   "cell_type": "code",
   "execution_count": 7,
   "metadata": {},
   "outputs": [
    {
     "data": {
      "text/plain": [
       "array([[1., 0., 0., 0., 1.],\n",
       "       [0., 1., 0., 1., 0.],\n",
       "       [0., 0., 1., 0., 0.],\n",
       "       [0., 1., 0., 1., 0.],\n",
       "       [1., 0., 0., 0., 1.]])"
      ]
     },
     "execution_count": 7,
     "metadata": {},
     "output_type": "execute_result"
    }
   ],
   "source": [
    "for i in np.arange(5):\n",
    "    data[i, i] = 1\n",
    "    data[i, 4-i] = 1\n",
    "data"
   ]
  },
  {
   "cell_type": "markdown",
   "metadata": {},
   "source": [
    "## Create a function to pass over Numpy arrays that replace diagonal values with '1'"
   ]
  },
  {
   "cell_type": "code",
   "execution_count": 8,
   "metadata": {},
   "outputs": [],
   "source": [
    "def replaceZero(array1):\n",
    "    for i in np.arange(5):\n",
    "        array1[i, i] = 1\n",
    "        array1[i, 4-i] = 1"
   ]
  },
  {
   "cell_type": "markdown",
   "metadata": {},
   "source": [
    "# Problem 3"
   ]
  },
  {
   "cell_type": "code",
   "execution_count": null,
   "metadata": {},
   "outputs": [],
   "source": []
  },
  {
   "cell_type": "markdown",
   "metadata": {},
   "source": [
    "## Create two Numpy arrays using different functions included in np.random"
   ]
  },
  {
   "cell_type": "code",
   "execution_count": 9,
   "metadata": {},
   "outputs": [],
   "source": [
    "a1 = np.random.randn(10)\n",
    "a2 = np.random.randint(100, size = 10)"
   ]
  },
  {
   "cell_type": "markdown",
   "metadata": {},
   "source": [
    "## Using Numpy, provide descriptive statistics for the two arrays"
   ]
  },
  {
   "cell_type": "code",
   "execution_count": 10,
   "metadata": {},
   "outputs": [
    {
     "data": {
      "text/plain": [
       "-0.16244808007384917"
      ]
     },
     "execution_count": 10,
     "metadata": {},
     "output_type": "execute_result"
    }
   ],
   "source": [
    "np.mean(a1)"
   ]
  },
  {
   "cell_type": "code",
   "execution_count": 11,
   "metadata": {},
   "outputs": [
    {
     "data": {
      "text/plain": [
       "62.6"
      ]
     },
     "execution_count": 11,
     "metadata": {},
     "output_type": "execute_result"
    }
   ],
   "source": [
    "np.mean(a2)"
   ]
  },
  {
   "cell_type": "code",
   "execution_count": 12,
   "metadata": {},
   "outputs": [
    {
     "data": {
      "text/plain": [
       "-0.27677087565396574"
      ]
     },
     "execution_count": 12,
     "metadata": {},
     "output_type": "execute_result"
    }
   ],
   "source": [
    "np.median(a1)"
   ]
  },
  {
   "cell_type": "code",
   "execution_count": 13,
   "metadata": {},
   "outputs": [
    {
     "data": {
      "text/plain": [
       "68.0"
      ]
     },
     "execution_count": 13,
     "metadata": {},
     "output_type": "execute_result"
    }
   ],
   "source": [
    "np.median(a2)"
   ]
  },
  {
   "cell_type": "code",
   "execution_count": 14,
   "metadata": {},
   "outputs": [
    {
     "data": {
      "text/plain": [
       "0.9346051369492414"
      ]
     },
     "execution_count": 14,
     "metadata": {},
     "output_type": "execute_result"
    }
   ],
   "source": [
    "np.std(a1)"
   ]
  },
  {
   "cell_type": "code",
   "execution_count": 15,
   "metadata": {},
   "outputs": [
    {
     "data": {
      "text/plain": [
       "29.059249818259243"
      ]
     },
     "execution_count": 15,
     "metadata": {},
     "output_type": "execute_result"
    }
   ],
   "source": [
    "np.std(a2)"
   ]
  },
  {
   "cell_type": "markdown",
   "metadata": {},
   "source": [
    "## Create at least two Matplotlib plots to illustrate the univariate or joint distribution of the two arrays"
   ]
  },
  {
   "cell_type": "code",
   "execution_count": 16,
   "metadata": {},
   "outputs": [],
   "source": [
    "import matplotlib.pyplot as plt\n",
    "%matplotlib inline"
   ]
  },
  {
   "cell_type": "code",
   "execution_count": 17,
   "metadata": {
    "scrolled": true
   },
   "outputs": [
    {
     "data": {
      "image/png": "[encoded data removed]",
      "text/plain": [
       "<Figure size 720x360 with 2 Axes>"
      ]
     },
     "metadata": {
      "needs_background": "light"
     },
     "output_type": "display_data"
    }
   ],
   "source": [
    "FIG = plt.figure(figsize = (10, 5))\n",
    "plot1 = FIG.add_subplot(1, 2, 1)\n",
    "plot2 = FIG.add_subplot(1, 2, 2)\n",
    "plot1.scatter(a1, a2)\n",
    "plot2.boxplot([a1, a2])\n",
    "plt.show()"
   ]
  }
 ],
 "metadata": {
  "kernelspec": {
   "display_name": "Python 3",
   "language": "python",
   "name": "python3"
  },
  "language_info": {
   "codemirror_mode": {
    "name": "ipython",
    "version": 3
   },
   "file_extension": ".py",
   "mimetype": "text/x-python",
   "name": "python",
   "nbconvert_exporter": "python",
   "pygments_lexer": "ipython3",
   "version": "3.7.6"
  },
  "latex_envs": {
   "LaTeX_envs_menu_present": true,
   "autoclose": false,
   "autocomplete": true,
   "bibliofile": "biblio.bib",
   "cite_by": "apalike",
   "current_citInitial": 1,
   "eqLabelWithNumbers": true,
   "eqNumInitial": 1,
   "hotkeys": {
    "equation": "Ctrl-E",
    "itemize": "Ctrl-I"
   },
   "labels_anchors": false,
   "latex_user_defs": false,
   "report_style_numbering": false,
   "user_envs_cfg": false
  },
  "toc": {
   "base_numbering": 1,
   "nav_menu": {},
   "number_sections": true,
   "sideBar": true,
   "skip_h1_title": false,
   "title_cell": "Table of Contents",
   "title_sidebar": "Contents",
   "toc_cell": true,
   "toc_position": {},
   "toc_section_display": true,
   "toc_window_display": true
  },
  "varInspector": {
   "cols": {
    "lenName": 16,
    "lenType": 16,
    "lenVar": 40
   },
   "kernels_config": {
    "python": {
     "delete_cmd_postfix": "",
     "delete_cmd_prefix": "del ",
     "library": "var_list.py",
     "varRefreshCmd": "print(var_dic_list())"
    },
    "r": {
     "delete_cmd_postfix": ") ",
     "delete_cmd_prefix": "rm(",
     "library": "var_list.r",
     "varRefreshCmd": "cat(var_dic_list()) "
    }
   },
   "types_to_exclude": [
    "module",
    "function",
    "builtin_function_or_method",
    "instance",
    "_Feature"
   ],
   "window_display": false
  }
 },
 "nbformat": 4,
 "nbformat_minor": 2
}
