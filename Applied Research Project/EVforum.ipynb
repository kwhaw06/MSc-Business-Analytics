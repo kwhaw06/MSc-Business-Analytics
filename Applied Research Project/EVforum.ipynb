{
 "cells": [
  {
   "cell_type": "code",
   "execution_count": 1,
   "source": [
    "import re\r\n",
    "import numpy as np\r\n",
    "import pandas as pd\r\n",
    "import matplotlib.pyplot as plt\r\n",
    "import requests\r\n",
    "from requests.exceptions import RequestException\r\n",
    "from bs4 import BeautifulSoup\r\n",
    "from urllib.parse import urlparse\r\n",
    "\r\n",
    "plt.style.use({'figure.facecolor': 'white'})\r\n",
    "\r\n",
    "proxies = {\r\n",
    "\t'http': '127.0.0.1:3213',\r\n",
    "\t'https': '127.0.0.1:3213'\r\n",
    "}\r\n",
    "\r\n",
    "headers = {\r\n",
    "\t'User-Agent': 'Mozilla/5.0 (Windows NT 10.0; Win64; x64) AppleWebKit/537.36 (KHTML, like Gecko) Chrome/90.0.4430.93 Safari/537.36'\r\n",
    "}\r\n",
    "\r\n",
    "url = 'https://www.speakev.com/search/583560/?q=fiat&c[rankProfileName]=default&o=relevance'\r\n",
    "\r\n",
    "scheme, netloc = urlparse(url).scheme, urlparse(url).netloc\r\n"
   ],
   "outputs": [],
   "metadata": {
    "collapsed": false,
    "pycharm": {
     "name": "#%%\n"
    }
   }
  },
  {
   "cell_type": "code",
   "execution_count": 2,
   "source": [
    "class Content:\r\n",
    "\t\"\"\" Storage the information of the posts in a webpage \"\"\"\r\n",
    "\r\n",
    "\tdef __init__(self, url, links, titles, names, views, replies, datetime):\r\n",
    "\t\tself.url = url\r\n",
    "\t\tself.links = links\r\n",
    "\t\tself.titles = titles\r\n",
    "\t\tself.names = names\r\n",
    "\t\tself.views = views\r\n",
    "\t\tself.replies = replies\r\n",
    "\t\tself.datetime = datetime"
   ],
   "outputs": [],
   "metadata": {
    "collapsed": false,
    "pycharm": {
     "name": "#%%\n"
    }
   }
  },
  {
   "cell_type": "code",
   "execution_count": 3,
   "source": [
    "class Crawler:\r\n",
    "\t\"\"\" Crawl the information of blogs in a website \"\"\"\r\n",
    "\r\n",
    "\t@staticmethod\r\n",
    "\tdef get_page(url):\r\n",
    "\t\t\"\"\" Get the url pages object \"\"\"\r\n",
    "\t\ttry:\r\n",
    "\t\t\tr = requests.get(url, proxies=proxies, headers=headers)\r\n",
    "\t\texcept RequestException as e:\r\n",
    "\t\t\tprint(e)\r\n",
    "\t\t\treturn None\r\n",
    "\t\telse:\r\n",
    "\t\t\treturn BeautifulSoup(r.text, 'lxml')\r\n",
    "\r\n",
    "\t@staticmethod\r\n",
    "\tdef find_links_titles(page):\r\n",
    "\t\t\"\"\" Get all the blogs on a webpage \"\"\"\r\n",
    "\t\tlinks = page.findAll('h3', {'class', 'contentRow-title'})\r\n",
    "\t\tif links is None:\r\n",
    "\t\t\treturn None\r\n",
    "\t\tresults1 = []\r\n",
    "\t\tresults2 = []\r\n",
    "\t\tfor i in range(len(links)):\r\n",
    "\t\t\tresults1.append(f\"{scheme}://{netloc}{links[i].find('a')['href']}\")\r\n",
    "\t\t\tresults2.append(links[i].find('a').text)\r\n",
    "\t\treturn results1, results2\r\n",
    "\r\n",
    "\t@staticmethod\r\n",
    "\tdef find_names(page):\r\n",
    "\t\t\"\"\" Get the blog author's id \"\"\"\r\n",
    "\t\tnames = page.findAll('a', {'class': 'username'})\r\n",
    "\t\tif names is None:\r\n",
    "\t\t\treturn None\r\n",
    "\t\tresults = []\r\n",
    "\t\tfor i in range(len(names)):\r\n",
    "\t\t\tresults.append(names[i].text)\r\n",
    "\t\treturn results\r\n",
    "\r\n",
    "\t@staticmethod\r\n",
    "\tdef find_views_replies(page):\r\n",
    "\t\t\"\"\" Get the view number \"\"\"\r\n",
    "\t\tviews = page.findAll('i', {'class', 'eye-icon'})\r\n",
    "\t\treplies = page.findAll('i', {'class', 'message-icon'})\r\n",
    "\t\tif views is None:\r\n",
    "\t\t\treturn None\r\n",
    "\t\tresults1 = []\r\n",
    "\t\tresults2 = []\r\n",
    "\t\tfor i in range(len(views)):\r\n",
    "\t\t\tresults1.append(views[i].parent.text)\r\n",
    "\t\t\tresults2.append(replies[i].parent.text)\r\n",
    "\t\treturn results1, results2\r\n",
    "\r\n",
    "\t@staticmethod\r\n",
    "\tdef find_datetime(page):\r\n",
    "\t\t\"\"\" Get the post's time \"\"\"\r\n",
    "\t\ttimes = page.findAll('time')\r\n",
    "\t\tif times is None:\r\n",
    "\t\t\treturn None\r\n",
    "\t\tresults = []\r\n",
    "\t\tfor i in range(len(times)):\r\n",
    "\t\t\tresults.append(times[i].attrs['datetime'])\r\n",
    "\t\treturn results\r\n",
    "\r\n",
    "\tdef parse(self, url):\r\n",
    "\t\t\"\"\" Parse the URL and story it in the 'Content' class \"\"\"\r\n",
    "\t\tsoup = self.get_page(url)\r\n",
    "\t\tif soup is not None:\r\n",
    "\t\t\tlinks, titles = self.find_links_titles(soup)\r\n",
    "\t\t\tnames = self.find_names(soup)\r\n",
    "\t\t\tviews, replies = self.find_views_replies(soup)\r\n",
    "\t\t\tdatetime = self.find_datetime(soup)\r\n",
    "\t\t\tif links is not None:\r\n",
    "\t\t\t\tcontent = Content(url, links, titles, names,\r\n",
    "\t\t\t\t\t\t\t\t  views, replies, datetime)\r\n",
    "\t\t\t\treturn content"
   ],
   "outputs": [],
   "metadata": {
    "collapsed": false,
    "pycharm": {
     "name": "#%%\n"
    }
   }
  },
  {
   "cell_type": "markdown",
   "source": [
    "## def function return the last page of the post"
   ],
   "metadata": {
    "collapsed": false,
    "pycharm": {
     "name": "#%% md\n"
    }
   }
  },
  {
   "cell_type": "code",
   "execution_count": 4,
   "source": [
    "def get_last_page(url):\r\n",
    "\t\"\"\"return the website last search page\"\"\"\r\n",
    "\tr = requests.get(url, proxies=proxies, headers=headers)\r\n",
    "\tsoup = BeautifulSoup(r.text, 'lxml')\r\n",
    "\treturn int(soup.findAll('li', {'class', 'pageNav-page'})[-1].text)"
   ],
   "outputs": [],
   "metadata": {
    "collapsed": false,
    "pycharm": {
     "name": "#%%\n"
    }
   }
  },
  {
   "cell_type": "code",
   "execution_count": 15,
   "source": [
    "# create the car list\r\n",
    "cars = ['fiat 500', 'SEAT Mii', 'Mini Cooper',\r\n",
    "\t\t'Honda E', 'Renault Zoe', 'Smart EQ']\r\n",
    "\r\n",
    "# create pages url list\r\n",
    "cars_webs = [\r\n",
    "\t'https://www.speakev.com/search/601568/?q=fiat+500&o=relevance',\r\n",
    "\t'https://www.speakev.com/search/601570/?q=SEAT+Mii&o=relevance',\r\n",
    "\t'https://www.speakev.com/search/601573/?q=Mini+Cooper&o=relevance',\r\n",
    "\t'https://www.speakev.com/search/601574/?q=Honda+E&o=relevance',\r\n",
    "\t'https://www.speakev.com/search/601575/?q=Renault+Zoe&o=relevance',\r\n",
    "\t'https://www.speakev.com/search/601576/?q=Smart+EQ&o=relevance'\r\n",
    "]\r\n",
    "\r\n",
    "# re split the website\r\n",
    "pattern = re.compile(\"(.*?[0-9]+[/?]+)(.*)\")\r\n",
    "for i in range(len(cars_webs)):\r\n",
    "\tcars_webs[i] = re.findall(pattern, cars_webs[i])[0]\r\n",
    "\r\n",
    "cars_webs"
   ],
   "outputs": [
    {
     "output_type": "execute_result",
     "data": {
      "text/plain": [
       "[('https://www.speakev.com/search/601568/?', 'q=fiat+500&o=relevance'),\n",
       " ('https://www.speakev.com/search/601570/?', 'q=SEAT+Mii&o=relevance'),\n",
       " ('https://www.speakev.com/search/601573/?', 'q=Mini+Cooper&o=relevance'),\n",
       " ('https://www.speakev.com/search/601574/?', 'q=Honda+E&o=relevance'),\n",
       " ('https://www.speakev.com/search/601575/?', 'q=Renault+Zoe&o=relevance'),\n",
       " ('https://www.speakev.com/search/601576/?', 'q=Smart+EQ&o=relevance')]"
      ]
     },
     "metadata": {},
     "execution_count": 15
    }
   ],
   "metadata": {
    "collapsed": false,
    "pycharm": {
     "name": "#%%\n"
    }
   }
  },
  {
   "cell_type": "code",
   "execution_count": 16,
   "source": [
    "def get_page_links(url_tupel):\r\n",
    "\t\"\"\" return the posts page url links \"\"\"\r\n",
    "\turls = []\r\n",
    "\r\n",
    "\tfor i in range(1, get_last_page(url_tupel[0]+url_tupel[1])+1):\r\n",
    "\t\turls.append(url_tupel[0] + f'page={i}&' + url_tupel[1])\r\n",
    "\r\n",
    "\treturn urls"
   ],
   "outputs": [],
   "metadata": {
    "collapsed": false,
    "pycharm": {
     "name": "#%%\n"
    }
   }
  },
  {
   "cell_type": "markdown",
   "source": [
    "## Check the  cars website pages"
   ],
   "metadata": {
    "collapsed": false,
    "pycharm": {
     "name": "#%% md\n"
    }
   }
  },
  {
   "cell_type": "code",
   "execution_count": 17,
   "source": [
    "# create the dictionary store the cars webpages\r\n",
    "cars_webs_dict = {}\r\n",
    "for i in range(len(cars)):\r\n",
    "\tcars_webs_dict[cars[i]] = get_page_links(cars_webs[i])"
   ],
   "outputs": [],
   "metadata": {
    "collapsed": false,
    "pycharm": {
     "name": "#%%\n"
    }
   }
  },
  {
   "cell_type": "markdown",
   "source": [
    "## Save fiat500 links as csv file"
   ],
   "metadata": {
    "collapsed": false,
    "pycharm": {
     "name": "#%% md\n"
    }
   }
  },
  {
   "cell_type": "code",
   "execution_count": 19,
   "source": [
    "# create an instances list include all posts of fiat 500\r\n",
    "def get_post_objects(webpages):\r\n",
    "\t\"\"\"\r\n",
    "\tinput the list of the cars website pages\r\n",
    "\treturn the crawled posts url from car webpages\r\n",
    "\t\"\"\"\r\n",
    "\tpost_objects = []\r\n",
    "\tfor url in webpages:\r\n",
    "\t\tcraw = Crawler()\r\n",
    "\t\tcraw.parse(url)\r\n",
    "\t\tpost_objects.append(craw.parse(url))\r\n",
    "\r\n",
    "\treturn post_objects\r\n",
    "\r\n",
    "def create_posts_df(post_objects):\r\n",
    "\t\"\"\" return the dataframe of the posts information \"\"\"\r\n",
    "\r\n",
    "\tcol_names = ['links', 'titles', 'names', 'views', 'replies', 'datetime']\r\n",
    "\r\n",
    "\tlinks, titles, names, views, replies, datetime = [], [], [], [], [], []\r\n",
    "\r\n",
    "\tfor i in range(len(post_objects)):\r\n",
    "\t\tlinks.extend(post_objects[i].links)\r\n",
    "\t\ttitles.extend(post_objects[i].titles)\r\n",
    "\t\tnames.extend(post_objects[i].names)\r\n",
    "\t\tviews.extend(post_objects[i].views)\r\n",
    "\t\treplies.extend(post_objects[i].replies)\r\n",
    "\t\tdatetime.extend(post_objects[i].datetime)\r\n",
    "\r\n",
    "\tdf = pd.DataFrame(zip(links, titles, names, views, replies, datetime),\r\n",
    "\t\t\t\t\t  columns=col_names)\r\n",
    "\r\n",
    "\t# modify the urls, remove the \"/posts12345...\" parameter\r\n",
    "\tpattern = re.compile('post-[0-9]*')\r\n",
    "\tdf['links'] = df['links'].apply(lambda x: re.sub(pattern, '', x))\r\n",
    "\r\n",
    "\t# convert the 'K' to numerical thousand\r\n",
    "\tdf['replies'] = df['replies'].apply(\r\n",
    "\t\tlambda x: int(x[:-1])*1000 if 'K' in list(x) else int(x)\r\n",
    "\t)\r\n",
    "\tdf['views'] = df['views'].apply(\r\n",
    "\t\tlambda x: int(x[:-1])*1000 if 'K' in list(x) else int(x)\r\n",
    "\t)\r\n",
    "\r\n",
    "\t# remove duplicate title links\r\n",
    "\tdf.drop_duplicates('titles', inplace=True, ignore_index=True)\r\n",
    "\r\n",
    "\t# remove abnormal replies\r\n",
    "\tdf = df[df.loc[:,'replies'] < 1000]\r\n",
    "\tdf.reset_index(drop=True, inplace=True)\r\n",
    "\r\n",
    "\treturn df"
   ],
   "outputs": [],
   "metadata": {
    "collapsed": false,
    "pycharm": {
     "name": "#%%\n"
    }
   }
  },
  {
   "cell_type": "code",
   "execution_count": null,
   "source": [
    "df_seat = create_posts_df(get_post_objects(cars_webs_dict['SEAT Mii']))\r\n",
    "df_mini = create_posts_df(get_post_objects(cars_webs_dict['Mini Cooper']))\r\n",
    "df_honda = create_posts_df(get_post_objects(cars_webs_dict['Honda E']))\r\n",
    "df_renault = create_posts_df(get_post_objects(cars_webs_dict['Renault Zoe']))\r\n",
    "df_smart = create_posts_df(get_post_objects(cars_webs_dict['Smart EQ']))"
   ],
   "outputs": [],
   "metadata": {
    "collapsed": false,
    "pycharm": {
     "name": "#%%\n"
    }
   }
  },
  {
   "cell_type": "code",
   "execution_count": 21,
   "source": [
    "df_fiat"
   ],
   "outputs": [
    {
     "output_type": "execute_result",
     "data": {
      "text/plain": [
       "                                                 links  \\\n",
       "0    https://www.speakev.com/threads/fiat-500e-conv...   \n",
       "1    https://www.speakev.com/threads/how-the-other-...   \n",
       "2    https://www.speakev.com/threads/fiat-500e-2020...   \n",
       "3    https://www.speakev.com/threads/new-fiat-500-e...   \n",
       "4    https://www.speakev.com/threads/fiat-500e-any-...   \n",
       "..                                                 ...   \n",
       "310  https://www.speakev.com/threads/making-some-pr...   \n",
       "311  https://www.speakev.com/threads/selling-a-leaf...   \n",
       "312  https://www.speakev.com/threads/red-or-wrap-ca...   \n",
       "313  https://www.speakev.com/threads/it-seems-only-...   \n",
       "314  https://www.speakev.com/threads/new-outlander-...   \n",
       "\n",
       "                                                titles            names  \\\n",
       "0     Fiat 500e Convertible La Prima Test Drive/Review           MarkyM   \n",
       "1    How the other half live (Fiat 500 $83 per mont...             Russ   \n",
       "2                   Fiat 500e (2020) - Youtube Reviews       Kronospace   \n",
       "3                                New Fiat 500 Electric           cah197   \n",
       "4                                 Fiat 500e, any info?       Lee Fraser   \n",
       "..                                                 ...              ...   \n",
       "310  Making some progress with the Nottingham council!      EVPotential   \n",
       "311                Selling a Leaf 24 to We Buy Any Car           Aleras   \n",
       "312                                   Red or wrap car?           Durzel   \n",
       "313                            It Seems Only Yesterday  Hogthelimelight   \n",
       "314                                New outlander owner      Lynda Gauld   \n",
       "\n",
       "     views  replies                  datetime  \n",
       "0     1000       17  2021-04-24T16:44:37-0400  \n",
       "1     1000        5  2015-03-18T17:00:11-0400  \n",
       "2     1000        1  2020-11-15T15:08:01-0500  \n",
       "3      495        2  2020-04-24T05:49:43-0400  \n",
       "4     1000        7  2015-08-06T18:58:20-0400  \n",
       "..     ...      ...                       ...  \n",
       "310   2000       39  2015-03-18T15:23:26-0400  \n",
       "311   3000       82  2021-04-21T04:00:17-0400  \n",
       "312   2000       21  2019-06-17T07:42:19-0400  \n",
       "313   7000        2  2017-06-24T15:13:54-0400  \n",
       "314   1000       15  2016-07-25T05:15:29-0400  \n",
       "\n",
       "[315 rows x 6 columns]"
      ],
      "text/html": [
       "<div>\n",
       "<style scoped>\n",
       "    .dataframe tbody tr th:only-of-type {\n",
       "        vertical-align: middle;\n",
       "    }\n",
       "\n",
       "    .dataframe tbody tr th {\n",
       "        vertical-align: top;\n",
       "    }\n",
       "\n",
       "    .dataframe thead th {\n",
       "        text-align: right;\n",
       "    }\n",
       "</style>\n",
       "<table border=\"1\" class=\"dataframe\">\n",
       "  <thead>\n",
       "    <tr style=\"text-align: right;\">\n",
       "      <th></th>\n",
       "      <th>links</th>\n",
       "      <th>titles</th>\n",
       "      <th>names</th>\n",
       "      <th>views</th>\n",
       "      <th>replies</th>\n",
       "      <th>datetime</th>\n",
       "    </tr>\n",
       "  </thead>\n",
       "  <tbody>\n",
       "    <tr>\n",
       "      <th>0</th>\n",
       "      <td>https://www.speakev.com/threads/fiat-500e-conv...</td>\n",
       "      <td>Fiat 500e Convertible La Prima Test Drive/Review</td>\n",
       "      <td>MarkyM</td>\n",
       "      <td>1000</td>\n",
       "      <td>17</td>\n",
       "      <td>2021-04-24T16:44:37-0400</td>\n",
       "    </tr>\n",
       "    <tr>\n",
       "      <th>1</th>\n",
       "      <td>https://www.speakev.com/threads/how-the-other-...</td>\n",
       "      <td>How the other half live (Fiat 500 $83 per mont...</td>\n",
       "      <td>Russ</td>\n",
       "      <td>1000</td>\n",
       "      <td>5</td>\n",
       "      <td>2015-03-18T17:00:11-0400</td>\n",
       "    </tr>\n",
       "    <tr>\n",
       "      <th>2</th>\n",
       "      <td>https://www.speakev.com/threads/fiat-500e-2020...</td>\n",
       "      <td>Fiat 500e (2020) - Youtube Reviews</td>\n",
       "      <td>Kronospace</td>\n",
       "      <td>1000</td>\n",
       "      <td>1</td>\n",
       "      <td>2020-11-15T15:08:01-0500</td>\n",
       "    </tr>\n",
       "    <tr>\n",
       "      <th>3</th>\n",
       "      <td>https://www.speakev.com/threads/new-fiat-500-e...</td>\n",
       "      <td>New Fiat 500 Electric</td>\n",
       "      <td>cah197</td>\n",
       "      <td>495</td>\n",
       "      <td>2</td>\n",
       "      <td>2020-04-24T05:49:43-0400</td>\n",
       "    </tr>\n",
       "    <tr>\n",
       "      <th>4</th>\n",
       "      <td>https://www.speakev.com/threads/fiat-500e-any-...</td>\n",
       "      <td>Fiat 500e, any info?</td>\n",
       "      <td>Lee Fraser</td>\n",
       "      <td>1000</td>\n",
       "      <td>7</td>\n",
       "      <td>2015-08-06T18:58:20-0400</td>\n",
       "    </tr>\n",
       "    <tr>\n",
       "      <th>...</th>\n",
       "      <td>...</td>\n",
       "      <td>...</td>\n",
       "      <td>...</td>\n",
       "      <td>...</td>\n",
       "      <td>...</td>\n",
       "      <td>...</td>\n",
       "    </tr>\n",
       "    <tr>\n",
       "      <th>310</th>\n",
       "      <td>https://www.speakev.com/threads/making-some-pr...</td>\n",
       "      <td>Making some progress with the Nottingham council!</td>\n",
       "      <td>EVPotential</td>\n",
       "      <td>2000</td>\n",
       "      <td>39</td>\n",
       "      <td>2015-03-18T15:23:26-0400</td>\n",
       "    </tr>\n",
       "    <tr>\n",
       "      <th>311</th>\n",
       "      <td>https://www.speakev.com/threads/selling-a-leaf...</td>\n",
       "      <td>Selling a Leaf 24 to We Buy Any Car</td>\n",
       "      <td>Aleras</td>\n",
       "      <td>3000</td>\n",
       "      <td>82</td>\n",
       "      <td>2021-04-21T04:00:17-0400</td>\n",
       "    </tr>\n",
       "    <tr>\n",
       "      <th>312</th>\n",
       "      <td>https://www.speakev.com/threads/red-or-wrap-ca...</td>\n",
       "      <td>Red or wrap car?</td>\n",
       "      <td>Durzel</td>\n",
       "      <td>2000</td>\n",
       "      <td>21</td>\n",
       "      <td>2019-06-17T07:42:19-0400</td>\n",
       "    </tr>\n",
       "    <tr>\n",
       "      <th>313</th>\n",
       "      <td>https://www.speakev.com/threads/it-seems-only-...</td>\n",
       "      <td>It Seems Only Yesterday</td>\n",
       "      <td>Hogthelimelight</td>\n",
       "      <td>7000</td>\n",
       "      <td>2</td>\n",
       "      <td>2017-06-24T15:13:54-0400</td>\n",
       "    </tr>\n",
       "    <tr>\n",
       "      <th>314</th>\n",
       "      <td>https://www.speakev.com/threads/new-outlander-...</td>\n",
       "      <td>New outlander owner</td>\n",
       "      <td>Lynda Gauld</td>\n",
       "      <td>1000</td>\n",
       "      <td>15</td>\n",
       "      <td>2016-07-25T05:15:29-0400</td>\n",
       "    </tr>\n",
       "  </tbody>\n",
       "</table>\n",
       "<p>315 rows × 6 columns</p>\n",
       "</div>"
      ]
     },
     "metadata": {},
     "execution_count": 21
    }
   ],
   "metadata": {
    "collapsed": false,
    "pycharm": {
     "name": "#%%\n"
    }
   }
  },
  {
   "cell_type": "code",
   "execution_count": 22,
   "source": [
    "# save as csv\r\n",
    "# df_fiat.to_csv('df_fiat.csv', index=False)\r\n",
    "# df_mini.to_csv('df_mini.csv', index=False)\r\n",
    "# df_seat.to_csv('df_seat.csv', index=False)\r\n",
    "# df_honda.to_csv('df_honda.csv', index=False)\r\n",
    "# df_smart.to_csv('df_smart.csv', index=False)\r\n",
    "# df_renault.to_csv('df_renault.csv', index=False)"
   ],
   "outputs": [],
   "metadata": {
    "collapsed": false,
    "pycharm": {
     "name": "#%%\n"
    }
   }
  },
  {
   "cell_type": "markdown",
   "source": [
    "## Get the text of the posts"
   ],
   "metadata": {
    "collapsed": false,
    "pycharm": {
     "name": "#%% md\n"
    }
   }
  },
  {
   "cell_type": "code",
   "execution_count": 290,
   "source": [
    "class TextContent:\r\n",
    "\t\"\"\" Storage the replies text data \"\"\"\r\n",
    "\r\n",
    "\tdef __init__(self, title, comments, names):\r\n",
    "\t\tself.title = title\r\n",
    "\t\tself.comments = comments\r\n",
    "\t\tself.names = names\r\n",
    "\r\n",
    "\r\n",
    "class GetText:\r\n",
    "\t\"\"\" crawl the replies text data in the links \"\"\"\r\n",
    "\t@staticmethod\r\n",
    "\tdef get_page(url):\r\n",
    "\t\tr = requests.get(url, proxies=proxies, headers=headers)\r\n",
    "\t\treturn BeautifulSoup(r.text, 'lxml')\r\n",
    "\r\n",
    "\t@staticmethod\r\n",
    "\tdef get_title(page):\r\n",
    "\t\trep_length = len(page.findAll('article', {'class': 'message'}))\r\n",
    "\t\treturn [page.find('h1').text] * rep_length\r\n",
    "\r\n",
    "\t@staticmethod\r\n",
    "\tdef get_comments(page):\r\n",
    "\t\tcomments = page.findAll('div', {'class': 'message-userContent'})\r\n",
    "\t\tresults = []\r\n",
    "\t\tfor i in comments:\r\n",
    "\t\t\tresults.append(i.text)\r\n",
    "\t\treturn results\r\n",
    "\r\n",
    "\t@staticmethod\r\n",
    "\tdef get_names(page):\r\n",
    "\t\tnames = page.findAll('article', {'class': 'message'})\r\n",
    "\t\tresults = []\r\n",
    "\t\tfor i in names:\r\n",
    "\t\t\tresults.append(i.attrs['data-author'])\r\n",
    "\t\treturn results\r\n",
    "\r\n",
    "\tdef parse(self, url):\r\n",
    "\t\tsoup = self.get_page(url)\r\n",
    "\t\ttitle = self.get_title(soup)\r\n",
    "\t\tcomments = self.get_comments(soup)\r\n",
    "\t\tnames = self.get_names(soup)\r\n",
    "\t\tcontent = TextContent(title, comments, names)\r\n",
    "\t\treturn content"
   ],
   "outputs": [],
   "metadata": {
    "collapsed": false,
    "pycharm": {
     "name": "#%%\n"
    }
   }
  },
  {
   "cell_type": "markdown",
   "source": [
    "## Get the posts text content from the post links"
   ],
   "metadata": {
    "collapsed": false,
    "pycharm": {
     "name": "#%% md\n"
    }
   }
  },
  {
   "cell_type": "code",
   "execution_count": 304,
   "source": [
    "def comments_pages_links(df):\r\n",
    "\t\"\"\"\r\n",
    "\treturn the subpages of the posts comments\r\n",
    "\tfor each webpages\r\n",
    "\t\"\"\"\r\n",
    "\turl_list = []\r\n",
    "\tfor index in df.index:\r\n",
    "\t\tlink = df.at[index, 'links']\r\n",
    "\t\turls = [link]\r\n",
    "\t\treplies = df.at[index, 'replies']\r\n",
    "\t\t# each page contain most 20 comments\r\n",
    "\t\tif replies > 20:\r\n",
    "\t\t\tfor i in range(replies//20):\r\n",
    "\t\t\t\turls.append(link + f'page-{i+2}')\r\n",
    "\t\turl_list.append(urls)\r\n",
    "\r\n",
    "\treturn url_list\r\n",
    "\r\n",
    "col_names = ['title', 'comments', 'names']\r\n",
    "\r\n",
    "def get_post_text(url_list):\r\n",
    "\t\"\"\" return the post text dataframe \"\"\"\r\n",
    "\ttitle, comments, names = [], [], []\r\n",
    "\r\n",
    "\tfor urls in url_list:\r\n",
    "\t\tfor link in urls:\r\n",
    "\t\t\tcrawlText = GetText()\r\n",
    "\t\t\tcontent = crawlText.parse(link)\r\n",
    "\t\t\ttitle.extend(content.title)\r\n",
    "\t\t\tcomments.extend(content.comments)\r\n",
    "\t\t\tnames.extend(content.names)\r\n",
    "\r\n",
    "\tdf = pd.DataFrame(zip(title, comments, names),\r\n",
    "\t\t\t\t\t\t   columns=col_names)\r\n",
    "\r\n",
    "\t# remove the repeated text\r\n",
    "\tpattern = re.compile('.*?\\n\\nClick to expand...\\n\\n', re.S)\r\n",
    "\tdf['comments'] = df['comments'].apply(\r\n",
    "\t\tlambda x: re.sub(pattern, '', x))\r\n",
    "\r\n",
    "\treturn df"
   ],
   "outputs": [],
   "metadata": {
    "collapsed": false,
    "pycharm": {
     "name": "#%%\n"
    }
   }
  },
  {
   "cell_type": "code",
   "execution_count": 307,
   "source": [
    "df_fiat_text = get_post_text(comments_pages_links(df_fiat))"
   ],
   "outputs": [],
   "metadata": {
    "collapsed": false,
    "pycharm": {
     "name": "#%%\n"
    }
   }
  },
  {
   "cell_type": "code",
   "execution_count": 312,
   "source": [
    "df_fiat_text.head(3)"
   ],
   "outputs": [
    {
     "output_type": "execute_result",
     "data": {
      "text/plain": [
       "                                                  title  \\\n",
       "0      Fiat 500e Convertible La Prima Test Drive/Review   \n",
       "1      Fiat 500e Convertible La Prima Test Drive/Review   \n",
       "2      Fiat 500e Convertible La Prima Test Drive/Review   \n",
       "3      Fiat 500e Convertible La Prima Test Drive/Review   \n",
       "4      Fiat 500e Convertible La Prima Test Drive/Review   \n",
       "...                                                 ...   \n",
       "23164      Cheap 2015 Blizzak LM-500 Winter Tyres (19\")   \n",
       "23165      Cheap 2015 Blizzak LM-500 Winter Tyres (19\")   \n",
       "23166      Cheap 2015 Blizzak LM-500 Winter Tyres (19\")   \n",
       "23167      Cheap 2015 Blizzak LM-500 Winter Tyres (19\")   \n",
       "23168      Cheap 2015 Blizzak LM-500 Winter Tyres (19\")   \n",
       "\n",
       "                                                                                                  comments  \\\n",
       "0      \\n\\nHow to make this review short. Fiat have a Winner on their hands!\\nI am in the process of lo...   \n",
       "1      \\n\\nNice review, I am having a test drive on Tuesday, can I ask what sort of discounts were offe...   \n",
       "2                         \\n\\nI saw Jonny Smith’s early review of this and thought it looked great.\\n \\n\\n   \n",
       "3      \\n\\nI work in the NHS and with their finance package -Affinity? Would give a £2k discount Straig...   \n",
       "4      \\n\\nI noticed this site seems to have some really good prices - £23.5k for the La Prima hatch. N...   \n",
       "...                                                                                                    ...   \n",
       "23164  \\n\\nSo the second pair of tyres has shown up, after couriers lost them, a cancellation and reboo...   \n",
       "23165                                                                                          Bump\\n \\n\\n   \n",
       "23166  \\n\\nI shouldn't have dithered on this perhaps as they've upped the price to £71.29! Still a pret...   \n",
       "23167                                            \\n\\nMy 3 are still available if anyone wants them.\\n \\n\\n   \n",
       "23168  \\n\\nThe 'winters or not' debate is pretty overheated and has been rehashed here a few times. Eac...   \n",
       "\n",
       "             names  \n",
       "0           MarkyM  \n",
       "1         WillWord  \n",
       "2         idiotzoo  \n",
       "3           MarkyM  \n",
       "4        tophatron  \n",
       "...            ...  \n",
       "23164      POB_FBR  \n",
       "23165      POB_FBR  \n",
       "23166  charliestyr  \n",
       "23167          i3S  \n",
       "23168      POB_FBR  \n",
       "\n",
       "[23169 rows x 3 columns]"
      ],
      "text/html": [
       "<div>\n",
       "<style scoped>\n",
       "    .dataframe tbody tr th:only-of-type {\n",
       "        vertical-align: middle;\n",
       "    }\n",
       "\n",
       "    .dataframe tbody tr th {\n",
       "        vertical-align: top;\n",
       "    }\n",
       "\n",
       "    .dataframe thead th {\n",
       "        text-align: right;\n",
       "    }\n",
       "</style>\n",
       "<table border=\"1\" class=\"dataframe\">\n",
       "  <thead>\n",
       "    <tr style=\"text-align: right;\">\n",
       "      <th></th>\n",
       "      <th>title</th>\n",
       "      <th>comments</th>\n",
       "      <th>names</th>\n",
       "    </tr>\n",
       "  </thead>\n",
       "  <tbody>\n",
       "    <tr>\n",
       "      <th>0</th>\n",
       "      <td>Fiat 500e Convertible La Prima Test Drive/Review</td>\n",
       "      <td>\\n\\nHow to make this review short. Fiat have a Winner on their hands!\\nI am in the process of lo...</td>\n",
       "      <td>MarkyM</td>\n",
       "    </tr>\n",
       "    <tr>\n",
       "      <th>1</th>\n",
       "      <td>Fiat 500e Convertible La Prima Test Drive/Review</td>\n",
       "      <td>\\n\\nNice review, I am having a test drive on Tuesday, can I ask what sort of discounts were offe...</td>\n",
       "      <td>WillWord</td>\n",
       "    </tr>\n",
       "    <tr>\n",
       "      <th>2</th>\n",
       "      <td>Fiat 500e Convertible La Prima Test Drive/Review</td>\n",
       "      <td>\\n\\nI saw Jonny Smith’s early review of this and thought it looked great.\\n \\n\\n</td>\n",
       "      <td>idiotzoo</td>\n",
       "    </tr>\n",
       "    <tr>\n",
       "      <th>3</th>\n",
       "      <td>Fiat 500e Convertible La Prima Test Drive/Review</td>\n",
       "      <td>\\n\\nI work in the NHS and with their finance package -Affinity? Would give a £2k discount Straig...</td>\n",
       "      <td>MarkyM</td>\n",
       "    </tr>\n",
       "    <tr>\n",
       "      <th>4</th>\n",
       "      <td>Fiat 500e Convertible La Prima Test Drive/Review</td>\n",
       "      <td>\\n\\nI noticed this site seems to have some really good prices - £23.5k for the La Prima hatch. N...</td>\n",
       "      <td>tophatron</td>\n",
       "    </tr>\n",
       "    <tr>\n",
       "      <th>...</th>\n",
       "      <td>...</td>\n",
       "      <td>...</td>\n",
       "      <td>...</td>\n",
       "    </tr>\n",
       "    <tr>\n",
       "      <th>23164</th>\n",
       "      <td>Cheap 2015 Blizzak LM-500 Winter Tyres (19\")</td>\n",
       "      <td>\\n\\nSo the second pair of tyres has shown up, after couriers lost them, a cancellation and reboo...</td>\n",
       "      <td>POB_FBR</td>\n",
       "    </tr>\n",
       "    <tr>\n",
       "      <th>23165</th>\n",
       "      <td>Cheap 2015 Blizzak LM-500 Winter Tyres (19\")</td>\n",
       "      <td>Bump\\n \\n\\n</td>\n",
       "      <td>POB_FBR</td>\n",
       "    </tr>\n",
       "    <tr>\n",
       "      <th>23166</th>\n",
       "      <td>Cheap 2015 Blizzak LM-500 Winter Tyres (19\")</td>\n",
       "      <td>\\n\\nI shouldn't have dithered on this perhaps as they've upped the price to £71.29! Still a pret...</td>\n",
       "      <td>charliestyr</td>\n",
       "    </tr>\n",
       "    <tr>\n",
       "      <th>23167</th>\n",
       "      <td>Cheap 2015 Blizzak LM-500 Winter Tyres (19\")</td>\n",
       "      <td>\\n\\nMy 3 are still available if anyone wants them.\\n \\n\\n</td>\n",
       "      <td>i3S</td>\n",
       "    </tr>\n",
       "    <tr>\n",
       "      <th>23168</th>\n",
       "      <td>Cheap 2015 Blizzak LM-500 Winter Tyres (19\")</td>\n",
       "      <td>\\n\\nThe 'winters or not' debate is pretty overheated and has been rehashed here a few times. Eac...</td>\n",
       "      <td>POB_FBR</td>\n",
       "    </tr>\n",
       "  </tbody>\n",
       "</table>\n",
       "<p>23169 rows × 3 columns</p>\n",
       "</div>"
      ]
     },
     "metadata": {},
     "execution_count": 312
    }
   ],
   "metadata": {
    "collapsed": false,
    "pycharm": {
     "name": "#%%\n"
    }
   }
  },
  {
   "cell_type": "code",
   "execution_count": 311,
   "source": [
    "df_fiat_text.to_csv('df_fiat_text.csv', index=False)"
   ],
   "outputs": [],
   "metadata": {
    "collapsed": false,
    "pycharm": {
     "name": "#%%\n"
    }
   }
  },
  {
   "cell_type": "code",
   "execution_count": 1,
   "source": [
    "df_mini_text = get_post_text(comments_pages_links(df_mini))"
   ],
   "outputs": [],
   "metadata": {
    "collapsed": false,
    "pycharm": {
     "name": "#%%\n"
    }
   }
  },
  {
   "cell_type": "code",
   "execution_count": null,
   "source": [
    "df_mini_text.to_csv('df_mini_text.csv', index=False)"
   ],
   "outputs": [],
   "metadata": {}
  },
  {
   "cell_type": "code",
   "execution_count": null,
   "source": [
    "df_honda_text = get_post_text(comments_pages_links(df_honda))"
   ],
   "outputs": [],
   "metadata": {
    "collapsed": false,
    "pycharm": {
     "name": "#%%\n"
    }
   }
  },
  {
   "cell_type": "code",
   "execution_count": null,
   "source": [
    "df_honda_text.to_csv('df_honda_text.csv', index=False)"
   ],
   "outputs": [],
   "metadata": {}
  },
  {
   "cell_type": "code",
   "execution_count": null,
   "source": [
    "df_seat_text = get_post_text(comments_pages_links(df_seat))"
   ],
   "outputs": [],
   "metadata": {
    "collapsed": false,
    "pycharm": {
     "name": "#%%\n"
    }
   }
  },
  {
   "cell_type": "code",
   "execution_count": null,
   "source": [
    "df_seat_text.to_csv('df_seat_text.csv', index=False)"
   ],
   "outputs": [],
   "metadata": {}
  },
  {
   "cell_type": "code",
   "execution_count": null,
   "source": [
    "df_smart_text = get_post_text(comments_pages_links(df_smart))"
   ],
   "outputs": [],
   "metadata": {
    "collapsed": false,
    "pycharm": {
     "name": "#%%\n"
    }
   }
  },
  {
   "cell_type": "code",
   "execution_count": null,
   "source": [
    "df_smart_text.to_csv('df_smart_text.csv', index=False)"
   ],
   "outputs": [],
   "metadata": {}
  },
  {
   "cell_type": "code",
   "execution_count": null,
   "source": [
    "df_renault_text = get_post_text(comments_pages_links(df_renault))"
   ],
   "outputs": [],
   "metadata": {
    "collapsed": false,
    "pycharm": {
     "name": "#%%\n"
    }
   }
  },
  {
   "cell_type": "code",
   "execution_count": null,
   "source": [
    "df_renault_text.to_csv('df_renault_text.csv', index=False)"
   ],
   "outputs": [],
   "metadata": {}
  },
  {
   "cell_type": "code",
   "execution_count": 2,
   "source": [
    "df_fiat_text = pd.read_csv('df_fiat_text.csv')"
   ],
   "outputs": [],
   "metadata": {
    "collapsed": false,
    "pycharm": {
     "name": "#%%\n"
    }
   }
  },
  {
   "cell_type": "code",
   "execution_count": 4,
   "source": [
    "df_fiat_text['comments'][0]"
   ],
   "outputs": [
    {
     "output_type": "execute_result",
     "data": {
      "text/plain": [
       "'\\n\\nHow to make this review short. Fiat have a Winner on their hands!\\nI am in the process of looking for a replacement EV for my BMW i3 94Ah (33kW) Rex which has just gone 4 years old and now on 57,000 miles. I have been looking at and testing ideally long range EVs the past few days, as there are now a few about (Kona, Tesla M3, ID3 etc) but this car has caught my eye! I love a small car and the 500 shape has been around for a few years now. Invited to drive this and luckily for me the dealership here in South Wales had both coupe and convertible La Prima editions but only the convertible was ready for a test drive, which would not be my first choice,as the coupe has a lovely panoramic but non opening sunroof anyway. But also lucky as it was a stunningly beautiful sunny day today.\\nThe design of this car is already a classic based as it is on the tiny original. Modernised and now even more smoothed off as an EV. Proportions almost perfect. What really has surprised me and my wife today was the solidity and cabin quality, style and use and mix of cabin materials though. In a Fiat small car at that. I am familiar with the Abarth 500 but this e version is a big step up quality wise. Really clear and colourful drivers display with plenty of available information and the central display large, clear and colourful in a horizontal format. But also highly responsive as a touch screen. Not laggy like a lot of touch screens. Another surprise. Wireless Apple Car Play (and Android Auto as far as I know) standard on this model. Not sure about other models in the range.\\nLovely light coloured leather seat. Could be even more bolstered but still comfortable. Lovely to hold leather 2 spoke 2 tone steering wheel. Physical buttons on wheel to control menus on drives display. Rear mounted steering wheel push buttons to control entertainment volume and source etc. \\nNice and clearly marked push button dashboard mounted drive buttons for P,R,N,D. Proper physical ventilation buttons/switches above that! Praise be! Wireless charging mat for phones in between the 2 sections. Accommodated my iPhone 12 Pro Max no problem.USB socket on dash and in central storage cubby. Also deep storage under central armrest. Marketed as a 2+2 of course but very tight in the back seats. A 2+0!? For storage or for small children or short distance emergency passenger lifts only. The coupe seats fold flat 50:50 but did not check the convertible but boot very very small and no major under boot storage- just puncture repair and 3 pin charge cable space really. No frunk.\\n\\nNow for the driving. Even more impressed. Again that feeling of solidity. Super smooth ride on dual carriageway. Can be firmish over broken tarmac but mainly due to the short wheelbase. Has a firmish edge to it but controlled/very well damped. Dealt with numeorus speed bumps with no crashing or thumping at all. Another surprise. Took them with ease smoothly and softly.\\nThis car is FUN to drive. Really holds the road well. Fast, direct and responsive steering. Not much feel but par for the course nowadays. It has that thing called \"character!\". If it was a dog it would be a terrier! Have no idea how powerful it is but is fast enough. Not i3 fast but fun and fast enough. Accelerates with ease, and passes other traffic easily. Typical of an EV.\\n\\nAnd then there is the roof on the convertible. Certainly aware of more wind noise above your head when closed (Would like to compare with the coupe at some point). Individual ceiling mounted buttons to open - in 2 stages. Seems to open and close at any speed. We did at 40+mph. Not sure if there is a speed limit on its function. 1st press opens to a very large sunroof. 2nd press of same button folds canvas roof to back of car. Obscures rear vision mostly in that position. With windows open it does give the full convertible feel even though roof rails/structure still up and in place. Would have been nice to have some sort on inner sun mesh screen but I guess this would have been impossible design wise, as sun was blinding and harsh feeling on top of our heads at 2pm this afternoon. It is the only new convertible EV available as far as I know, so worth it! (excluding original and forthcoming Tesla roadster)\\n3 drive modes activated by a lever type switch between the seats. Normal, Range and Sherpa. Range does give you some re-gen effect which is very welcome but not 1 pedal driving as far as I could tell. Was having too much fun to test that.\\nDid not drive economically. Could you tell? Re-set dash trip meter at beginning and set to efficiency page. Covered 15 miles which included a mountain. Started on 83%. Back to dealership with 72%. 40 min drive but at least 10 mins fiddling with info screens and setting seats and mirrors etc. Average consumption 15.0kWh/100km. Not familiar with that combination of units but google seems to suggest 4.14mi/kWh. Warm day-16-18 degC/dry. Impressed with that as had it on Normal mode for most of drive. I think this has a 45kWh battery but as is often the way I am not sure if that is gross or net. Either way this is an impressive car. If we say it has a 40kWh battery then 150-160 mile real world range. I think Fiat have quoted a WLTP range of up to 199 miles? Driven more sedately nearer 200 miles should be possible but this is a type of car that does not necessarily encourage that!\\nWill hopefully get to try the coupe at some point. I gather they charge at 85kW. Once the charging infrastructure improves (I have been saying the same thing every year!), then it will be a no brainer to buy and run one of these. (Perceived) High quality little car. Small battery but big enough for urban trips and fast enough charging to do a longish trip. With the convertible roof it makes any trip an event. Especially on a sunny day. Would be good to try it in heavy rain. Noise? Insulation from the elements? Leaks? Perhaps present 500 convertible owners can advise.\\nAnyway this is a very welcome addition to the EV market, which is expanding almost daily at present. Fiat has definitely got its mojo back. Or hit the EV target with this one. \\nAnd they were offering discounts and good finance deals back at the dealership. APR was 5.?% \\n\\nAs I have ended another review of a car I tested this week, on another part of the forum: this is my opinion of the car I test drove. Your opinion may differ. This is to inform people who may be interested in this car but unable to sample one for themselves at this time. Look forward to other reviews from you all at some point!\\n\\xa0\\n\\n'"
      ]
     },
     "metadata": {},
     "execution_count": 4
    }
   ],
   "metadata": {
    "collapsed": false,
    "pycharm": {
     "name": "#%%\n"
    }
   }
  },
  {
   "cell_type": "code",
   "execution_count": 7,
   "source": [],
   "outputs": [
    {
     "output_type": "error",
     "ename": "NameError",
     "evalue": "name 'cadk' is not defined",
     "traceback": [
      "\u001b[1;31m---------------------------------------------------------------------------\u001b[0m",
      "\u001b[1;31mNameError\u001b[0m                                 Traceback (most recent call last)",
      "\u001b[1;32m<ipython-input-7-2dfa302e0817>\u001b[0m in \u001b[0;36m<module>\u001b[1;34m\u001b[0m\n\u001b[1;32m----> 1\u001b[1;33m \u001b[0mcadk\u001b[0m\u001b[1;33m\u001b[0m\u001b[1;33m\u001b[0m\u001b[0m\n\u001b[0m",
      "\u001b[1;31mNameError\u001b[0m: name 'cadk' is not defined"
     ]
    }
   ],
   "metadata": {}
  }
 ],
 "metadata": {
  "interpreter": {
   "hash": "306ce64926ecc3e3813fda3add0d0e66d014f4371afeb7c400228d0a27f055c9"
  },
  "kernelspec": {
   "name": "python3",
   "display_name": "Python 3.8.7 64-bit ('.venv': venv)"
  },
  "language_info": {
   "name": "python",
   "version": "3.8.7",
   "mimetype": "text/x-python",
   "codemirror_mode": {
    "name": "ipython",
    "version": 3
   },
   "pygments_lexer": "ipython3",
   "nbconvert_exporter": "python",
   "file_extension": ".py"
  }
 },
 "nbformat": 4,
 "nbformat_minor": 2
}