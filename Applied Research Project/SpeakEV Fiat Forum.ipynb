{
 "cells": [
  {
   "cell_type": "markdown",
   "metadata": {},
   "source": [
    "# Setup"
   ]
  },
  {
   "cell_type": "markdown",
   "metadata": {},
   "source": [
    "## Libraries"
   ]
  },
  {
   "cell_type": "code",
   "execution_count": 1,
   "metadata": {
    "ExecuteTime": {
     "end_time": "2021-05-18T18:58:26.560866Z",
     "start_time": "2021-05-18T18:58:26.125542Z"
    }
   },
   "outputs": [],
   "source": [
    "import re\n",
    "import requests\n",
    "from bs4 import BeautifulSoup\n",
    "import pandas as pd"
   ]
  },
  {
   "cell_type": "code",
   "execution_count": 2,
   "metadata": {
    "ExecuteTime": {
     "end_time": "2021-05-18T18:58:26.576829Z",
     "start_time": "2021-05-18T18:58:26.564867Z"
    }
   },
   "outputs": [],
   "source": [
    "headers = {'User-Agent':'Mozilla/5.0 (Windows NT 10.0; Win64; x64) AppleWebKit/537.36 (KHTML, like Gecko) Chrome/90.0.4430.212 Safari/537.36'}"
   ]
  },
  {
   "cell_type": "markdown",
   "metadata": {},
   "source": [
    "# Web Scrape"
   ]
  },
  {
   "cell_type": "markdown",
   "metadata": {},
   "source": [
    "## Creating a function that extracts the posts' creation date, comment, and user detail"
   ]
  },
  {
   "cell_type": "code",
   "execution_count": 3,
   "metadata": {
    "ExecuteTime": {
     "end_time": "2021-05-18T18:58:26.607840Z",
     "start_time": "2021-05-18T18:58:26.579820Z"
    }
   },
   "outputs": [],
   "source": [
    "# Function\n",
    "def get_comment_and_date(tag, page):\n",
    "    \n",
    "    url = f'https://www.speakev.com/threads/{tag}/page-{page}'\n",
    "    r = requests.get(url, headers=headers)\n",
    "    soup = BeautifulSoup(r.text, 'html.parser')\n",
    "    \n",
    "    ######################\n",
    "    ## Discussion title ##\n",
    "    ######################\n",
    "    \n",
    "    title = soup.title.text\n",
    "    dis_title.append(title)\n",
    "    \n",
    "    ##############################\n",
    "    ## Extract date and comment ##\n",
    "    ##############################\n",
    "    message_cell = soup.find_all('div', {'class':'js-quickEditTarget message-cell-content-wrapper'})\n",
    "    for item in message_cell:\n",
    "        \n",
    "        info1 = {\n",
    "        'comment date' : item.find('time', {'class':'u-dt'})['datetime'],\n",
    "        'comment' : item.find('div', {'class':'bbWrapper'}).text, \n",
    "        }\n",
    "        \n",
    "        list1.append(info1)\n",
    "    \n",
    "    #########################\n",
    "    ## Extract user detail ##\n",
    "    #########################\n",
    "    \n",
    "    message_userDetails = soup.find_all('div', {'class':'message-userDetails'})\n",
    "    \n",
    "    for item in message_userDetails:\n",
    "    \n",
    "        # User link\n",
    "        link = 'https://www.speakev.com' + item.find('a', {'class': 'username'})['href']  \n",
    "\n",
    "        # User profile url\n",
    "        url_user = link\n",
    "        r_user = requests.get(url_user, headers=headers)\n",
    "        soup_user = BeautifulSoup(r_user.text, 'html.parser')\n",
    "        \n",
    "        # Number with tags (replies, discussion created, points)\n",
    "        num_tag = soup_user.find_all('a', {'class':'fauxBlockLink-linkRow u-concealed'})\n",
    "        result1 = re.findall(r'\\n(.*?)\\n</a>', str(num_tag))\n",
    "        \n",
    "        # Reaction score\n",
    "        r_score = soup_user.find_all('dl', {'class': 'pairs pairs--rows'})\n",
    "        result2 = re.findall(r'\\n(.*?)\\n</dd>\\n</dl>', str(r_score))\n",
    "        \n",
    "        # User name\n",
    "        name = soup_user.find_all('span', {'class': 'username'})\n",
    "        result3 = re.findall(r'\\>(.*?)</span>', str(name))\n",
    "        \n",
    "        info2 = {\n",
    "        'date joined' : item.find('time', {'class': 'u-dt'})['datetime'],\n",
    "        'replies' : result1[0],\n",
    "        'discussion' : result1[1],\n",
    "        'points' : result1[2],\n",
    "        'reaction score' : result2[0], \n",
    "        'username' : result3[0],    \n",
    "        }\n",
    "        \n",
    "        list2.append(info2)\n",
    "    \n",
    "    return"
   ]
  },
  {
   "cell_type": "markdown",
   "metadata": {},
   "source": [
    "# Fiat discussion 1"
   ]
  },
  {
   "cell_type": "code",
   "execution_count": 4,
   "metadata": {
    "ExecuteTime": {
     "end_time": "2021-05-18T18:58:43.966619Z",
     "start_time": "2021-05-18T18:58:26.609838Z"
    }
   },
   "outputs": [],
   "source": [
    "# Extract relevant data using the function for fiat dicussion 1\n",
    "tag = 'la-prima-first-edition-of-2021-500e.155648'\n",
    "\n",
    "# Info list\n",
    "list1 = []\n",
    "list2 = []\n",
    "dis_title = []\n",
    "\n",
    "for x in range(1,3):\n",
    "    get_comment_and_date(tag, x)"
   ]
  },
  {
   "cell_type": "code",
   "execution_count": 5,
   "metadata": {
    "ExecuteTime": {
     "end_time": "2021-05-18T18:58:43.982583Z",
     "start_time": "2021-05-18T18:58:43.968645Z"
    }
   },
   "outputs": [
    {
     "data": {
      "text/plain": [
       "\"'La Prima' first edition of 2021 500e | Speak EV - Electric Car Forums\""
      ]
     },
     "execution_count": 5,
     "metadata": {},
     "output_type": "execute_result"
    }
   ],
   "source": [
    "title = dis_title[0]\n",
    "title"
   ]
  },
  {
   "cell_type": "markdown",
   "metadata": {},
   "source": [
    "## User detail"
   ]
  },
  {
   "cell_type": "code",
   "execution_count": 8,
   "metadata": {
    "ExecuteTime": {
     "end_time": "2021-05-18T19:00:31.936183Z",
     "start_time": "2021-05-18T19:00:31.922221Z"
    }
   },
   "outputs": [],
   "source": [
    "df1_userinfo = pd.DataFrame(list2)"
   ]
  },
  {
   "cell_type": "markdown",
   "metadata": {},
   "source": [
    "## Date created and comment"
   ]
  },
  {
   "cell_type": "code",
   "execution_count": 9,
   "metadata": {
    "ExecuteTime": {
     "end_time": "2021-05-18T19:00:36.378811Z",
     "start_time": "2021-05-18T19:00:36.365871Z"
    },
    "scrolled": true
   },
   "outputs": [],
   "source": [
    "df1_post = pd.DataFrame(list1)\n",
    "\n",
    "# Create a column identifying the author of each comment\n",
    "df1_post['author'] = df1_userinfo['username']"
   ]
  },
  {
   "cell_type": "markdown",
   "metadata": {},
   "source": [
    "## Likes"
   ]
  },
  {
   "cell_type": "code",
   "execution_count": null,
   "metadata": {
    "ExecuteTime": {
     "end_time": "2021-05-18T17:28:12.674616Z",
     "start_time": "2021-05-18T17:28:12.635152Z"
    }
   },
   "outputs": [],
   "source": [
    "# Class location\n",
    "message_cell = soup.find_all('div', {'class':'js-quickEditTarget message-cell-content-wrapper'})\n",
    "# Likes\n",
    "likes = []\n",
    "\n",
    "for item in message_cell:\n",
    "   \n",
    "    # likes\n",
    "    for reaction in item('a', class_='reactionsBar-link', href=True):\n",
    "        url_reaction = reaction['href']\n",
    "        link = 'https://www.speakev.com' + url_reaction\n",
    "        \n",
    "        print(link)"
   ]
  },
  {
   "cell_type": "code",
   "execution_count": null,
   "metadata": {},
   "outputs": [],
   "source": []
  }
 ],
 "metadata": {
  "kernelspec": {
   "display_name": "Python 3",
   "language": "python",
   "name": "python3"
  },
  "language_info": {
   "codemirror_mode": {
    "name": "ipython",
    "version": 3
   },
   "file_extension": ".py",
   "mimetype": "text/x-python",
   "name": "python",
   "nbconvert_exporter": "python",
   "pygments_lexer": "ipython3",
   "version": "3.7.6"
  },
  "toc": {
   "base_numbering": 1,
   "nav_menu": {},
   "number_sections": true,
   "sideBar": true,
   "skip_h1_title": false,
   "title_cell": "Table of Contents",
   "title_sidebar": "Contents",
   "toc_cell": false,
   "toc_position": {},
   "toc_section_display": true,
   "toc_window_display": false
  },
  "varInspector": {
   "cols": {
    "lenName": 16,
    "lenType": 16,
    "lenVar": 40
   },
   "kernels_config": {
    "python": {
     "delete_cmd_postfix": "",
     "delete_cmd_prefix": "del ",
     "library": "var_list.py",
     "varRefreshCmd": "print(var_dic_list())"
    },
    "r": {
     "delete_cmd_postfix": ") ",
     "delete_cmd_prefix": "rm(",
     "library": "var_list.r",
     "varRefreshCmd": "cat(var_dic_list()) "
    }
   },
   "types_to_exclude": [
    "module",
    "function",
    "builtin_function_or_method",
    "instance",
    "_Feature"
   ],
   "window_display": false
  }
 },
 "nbformat": 4,
 "nbformat_minor": 4
}
